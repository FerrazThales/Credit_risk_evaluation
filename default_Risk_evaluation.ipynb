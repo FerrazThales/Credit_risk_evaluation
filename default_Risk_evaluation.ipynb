{
  "nbformat": 4,
  "nbformat_minor": 0,
  "metadata": {
    "colab": {
      "name": "default_Risk_evaluation.ipynb",
      "provenance": [],
      "collapsed_sections": [],
      "include_colab_link": true
    },
    "kernelspec": {
      "name": "python3",
      "display_name": "Python 3"
    }
  },
  "cells": [
    {
      "cell_type": "markdown",
      "metadata": {
        "id": "view-in-github",
        "colab_type": "text"
      },
      "source": [
        "<a href=\"https://colab.research.google.com/github/FerrazThales/default_risk_evaluation/blob/main/default_Risk_evaluation.ipynb\" target=\"_parent\"><img src=\"https://colab.research.google.com/assets/colab-badge.svg\" alt=\"Open In Colab\"/></a>"
      ]
    },
    {
      "cell_type": "markdown",
      "metadata": {
        "id": "X2k0C9ObFWpR"
      },
      "source": [
        "<h1 align=\"center\"><b>Encontre eu e meus projetos nas redes sociais!</b></h1>\n",
        "<table>\n",
        "  <tr>\n",
        "  <td><a href=\"https://thalesferraz.medium.com/\">\n",
        "  <img src=\"https://github.com/FerrazThales/FerrazThales/blob/main/logo_gif.gif?raw=true\" width=\"900\" title=\"Olá, Meu nome é Thales e sou cientista de Dados!\"/>\n",
        "  </a>\n",
        "  </td>\n",
        "  <td><a href=\"https://github.com/FerrazThales\">\n",
        "  <img hspace=30 vspace=110 src=\"https://image.flaticon.com/icons/png/512/1051/1051326.png\" width=\"60%\" title=\"Entre em meu Github e veja mais projetos!\" /> \n",
        "  </a>\n",
        "  </td>\n",
        "  <td>\n",
        "  <a href=\"\">\n",
        "  <img vspace=110 src=\"https://download.logo.wine/logo/Medium_(website)/Medium_(website)-Logo.wine.png\" width=\"800\" title=\"Veja este meu projeto no Medium!\"/>\n",
        "  </a>\n",
        "  </td>\n",
        "  <td><a href=\"https://www.linkedin.com/in/thalesdefreitasferraz/\"><img vspace=150 src=\"https://image.flaticon.com/icons/png/512/889/889122.png\" width=\"40%\" title=\"Vamos trocar uma idéia sobre Data Science no LinkedIn?\" />\n",
        "  </a>\n",
        "  </td>\n",
        "  </tr>\n",
        "</table>"
      ]
    },
    {
      "cell_type": "markdown",
      "source": [
        "# O que você vai aprender neste projeto:\n",
        "\n",
        "* As **Fintechs** e suas perspectivas.\n",
        "* x\n",
        "* x\n",
        "\n",
        "[n2](https://medium.com/data-hackers/machine-learning-para-avalia%C3%A7%C3%A3o-de-risco-de-cr%C3%A9dito-49578b03b4b8)\n"
      ],
      "metadata": {
        "id": "opYrW1XaWKAV"
      }
    },
    {
      "cell_type": "markdown",
      "metadata": {
        "id": "ZNvmL_lMsAqU"
      },
      "source": [
        "# As crises e as Oportunidades\n",
        "\n",
        "No Brasil, as **fintechs** estão regulamentadas desde abril de **2018** pelo *Conselho Monetário Nacional* (CMN). Estas empresas buscam **facilitar** serviços financeiros por meio da **tecnologia**. Há diferentes **categorias** de *fintechs* que atuam em nosso país, as **principais** são de crédito, pagamento, empréstimo ou negociação de dívidas.\n",
        "\n",
        "No mundo, as *fintechs* surgiram em **resposta** à [crise financeira de 2008](https://www.politize.com.br/crise-financeira-de-2008/). Nesta época, as instituições **tradicionais** perderam grande parte de sua **credibilidade** e ainda o [governo americano](https://economia.uol.com.br/noticias/redacao/2018/09/15/crise-financeira-de-2008-10-anos-resgate-revolta-populacao.htm) teve que **arcar** com alguns custos para **salvar** o sistema financeiro. Por conta disso, surgiram inúmeras **penalidades** e **regulamentações** para evitar novas crises, o que **burocratizou** e encareceu os processos.\n",
        "\n",
        "Foi nesta **brecha** que as empresas que utilizaram **tecnologia** para oferecer produtos mais **baratos** e **flexíveis** ganharam mercado. Além disso, elas puderam se **aproveitar** da [mão-de-obra](https://fintech.com.br/blog/fintech/crescimento-das-fintechs/) com grande expertise que havia sido **demitida** dos bancos tradicionais durante a crise.\n",
        "\n",
        "Mas nem tudo é um mar de rosas. [A quebra da fintech inglesa de crédito Greensill](https://www.nytimes.com/2021/03/28/business/greensill-capital-collapse.html) trouxe novas **reflexões** sobre os **riscos** de algumas operações financeiras e da atuação **intensiva** da tecnologia neste segmento de **mercado**.\n",
        "\n",
        "<center><img src=\"https://image.freepik.com/free-vector/hand-drawn-bankruptcy-concept_52683-36194.jpg\" width=\"50%\"></center>\n",
        "\n",
        "Uma das área que causa mais **problemas** para bancos, financiadoras e empresários é a taxa de **inadimplência** por parte da sua carteira de clientes.\n",
        "\n",
        "Avaliar se uma pessoa irá **deixar** de cumprir com suas **obrigações** *financeiras* é de extrema **importância** e pode causar um grande impacto no **balanço** da instituição. Por conta disso, cada vez mais estão surgindo soluções que visam **minimizar** o risco de *default*. \n",
        "\n",
        "*Default* é um termo utilizado para indicar o **não** cumprimento das obrigações ou condições de um **empréstimo** (como financiamentos ou dívidas de cartão de crédito). Geralmente, o **principal** motivo para o **descumprimento** das condições de pagamento é **incapacidade** financeira do cliente. \n",
        "\n",
        "O maior [default privado da história](https://www.suno.com.br/artigos/default/) é o do banco *Lehman Brothers*. Motivado pela **falência** da instituição durante a crise financeira de 2008, o banco **deixou** de pagar 600 bilhões de **dólares** para seus credores e investidores.\n",
        "\n",
        "<center><img src=\"https://image.freepik.com/fotos-gratis/feminino-contribuinte-esqueceu-de-enviar-declaracao-de-imposto_1163-3865.jpg\" width=\"50%\"></center>\n",
        "\n",
        "Por causa disso, bancos tradicionais e Fintechs têm **apostado** cada vez mais em modelos de *Machine Learning* para prevenir a **inadimplência** de alguns clientes.\n",
        "\n",
        "*Default prediction* é o nome dado para técnicas que utilizam **inteligência artificial** para tentar mitigar os riscos de **calote** se baseando em **dados** cadastrais e movimentações financeiras dos clientes.\n",
        "\n",
        "# Avaliação de Risco de Inadimplência\n",
        "\n",
        "<p align='center'>\n",
        "<img src=\"http://sigmoidal.ai/wp-content/uploads/2019/10/Nubank_logo.png\" width=\"40%\"></p>\n",
        "\n",
        "Dentre as **principais** instituições financeira que utilizam estas técnicas, o [Nubank](https://nubank.com.br/sobre-nos) é uma das que mais tem se **destacado** com seus times de *Data Science*.\n",
        "\n",
        "Neste problema, o objetivo é prever qual a **probabilidade** de um cliente da Startup Nubank **não** cumprir com suas obrigações financeiras e **deixar** de pagar a sua fatura do Cartão de Crédito. Ou seja, prever com alto índice de acerto a **inadimplência** na operação de crédito.\n",
        "  \n",
        "Vale ressaltar que se considerou que **avaliação** deve ser realizada no **momento** em que o cliente **solicita** o cartão - frequentemente é o **primeiro** contato com a instituição.\n",
        "\n",
        "Espera-se que o modelo seja capaz de **minimizar** as perdas financeiras do empresa. Além disso, que também consiga **diminuir** a incidência de **falsos** positivos. Uma vez que este tipo de erro traz grandes **transtornos** aos clientes.\n",
        "\n"
      ]
    },
    {
      "cell_type": "code",
      "source": [
        "#módulo para remover os warnings\n",
        "import warnings\n",
        "warnings.filterwarnings('ignore')\n",
        "\n",
        "#importando as bibliotecas necessárias\n",
        "import pandas as pd\n",
        "import numpy as np\n",
        "import matplotlib.pyplot as plt\n",
        "import matplotlib.animation as animation\n",
        "import matplotlib\n",
        "%matplotlib inline\n",
        "import seaborn as sns"
      ],
      "metadata": {
        "id": "L93RUIh_XdGM"
      },
      "execution_count": 85,
      "outputs": []
    },
    {
      "cell_type": "markdown",
      "source": [
        "Neste projeto abusaremos de visualizações **gráficas**. Para evitar a fadiga gerada por **reescrever** cada código, já deixaremos uma função de ajuste dos gráficos pronta para fazer este **serviço**."
      ],
      "metadata": {
        "id": "dk3STh_Xccyh"
      }
    },
    {
      "cell_type": "code",
      "source": [
        "#defindo uma função de ajuste para o layout dos gráficos\n",
        "def ajuste_layout(ax,titulo=None,location='left',xlabel=None,rotacao=0,\n",
        "                  ylabel=None,addlabels=False,\n",
        "                  y=None,distancia=0,dinheiro=False,\n",
        "                  grid=False,grid_lw=0.25,grid_style='--',\n",
        "                  y_milhares=False,x_milhares=False,\n",
        "                  xlabels = False,lista_para_o_x=None):\n",
        "\n",
        "  ax.set_frame_on(False)\n",
        "  ax.tick_params(axis='both',rotation=rotacao,colors='grey',length=0,labelsize=12)\n",
        "  ax.set_xlabel(xlabel,labelpad=20,fontdict={'fontsize':12},color='#4c4c4c')\n",
        "  ax.set_ylabel(ylabel,labelpad=20,fontdict={'fontsize':12},color='#4c4c4c')\n",
        "  ax.set_title(titulo,loc=location,pad=30,fontdict={'fontsize':20},color='#474747')\n",
        "\n",
        "  if addlabels:\n",
        "\n",
        "    ax.get_yaxis().set_visible(False)\n",
        "    if dinheiro:\n",
        "      for i in range(len(y)):\n",
        "        ax.text(i,y[i] + distancia,'${:,}'.format(int(y[i])).replace(',','.'),ha='center',fontsize=16,color='grey')\n",
        "    else:\n",
        "      for i in range(len(y)):\n",
        "        ax.text(i,y[i] + distancia,'{:,}'.format(int(y[i])).replace(',','.'),ha='center',fontsize=16,color='grey')\n",
        "  \n",
        "  if grid:\n",
        "    ax.grid(linestyle=grid_style,lw=grid_lw,aa=True)\n",
        "\n",
        "  if y_milhares:\n",
        "    ax.get_yaxis().set_major_formatter(matplotlib.ticker.FuncFormatter(lambda x, p: format(int(x), ',').replace(',','.')))\n",
        "  \n",
        "  if x_milhares:\n",
        "    ax.get_xaxis().set_major_formatter(matplotlib.ticker.FuncFormatter(lambda x, p: format(int(x), ',').replace(',','.')))\n",
        "  \n",
        "  if xlabels:\n",
        "    ax.set_xticklabels(lista_para_o_x,fontdict={'fontsize':12},color='#6a6a6f',rotation=0)"
      ],
      "metadata": {
        "id": "Qzl9mxTe3-zb"
      },
      "execution_count": 2,
      "outputs": []
    },
    {
      "cell_type": "markdown",
      "metadata": {
        "id": "5PCK4RxLpqd8"
      },
      "source": [
        "# Preparação dos Dados e Análise Exploratória\n",
        "\n",
        "O conjunto de **dados** empregado neste projeto parte de uma **competição** realizada pela Startup [Nubank](https://nubank.com.br/sobre-nos) a fim de revelar talentos e potenciais contratações desta *fintech*.\n",
        "\n",
        "As informações que serão utilizadas na análise estão **disponíveis** [neste link](http://dl.dropboxusercontent.com/s/xn2a4kzf0zer0xu/acquisition_train.csv?dl=0). Este *link*, contém basicamente um arquivo `csv` com 45.000 **registros** e 43 **variáveis** que pertenceram a clientes [anonimizados](https://www.serpro.gov.br/lgpd/menu/protecao-de-dados/dados-anonimizados-lgpd) da empresa.\n",
        "\n",
        "Neste *dataset* cada linha representa uma **aplicação** para crédito, com diversas variáveis contendo os dados da aplicação e uma variável **alvo**, a `target_default`. Que informa se houve ou não **inadimplência** na operação.\n",
        "\n",
        "\n",
        "## Dicionário das Variáveis\n",
        "\n",
        "* `ids`: número **identificador** do cliente.\n",
        "* `target_default`: se a aplicação de crédito resultou no **descumprimento** das obrigações legais e condições do empréstimo.\n",
        "* `score_1` & `score_2`: são **codificações** alfa-numéricas internas da empresa.\n",
        "* `score_3` & `score_4` & `score_5` & `score_6`:\n",
        "* `risk_rate`:\n",
        "* `last_amount_borrowed`:\n",
        "* `last_borrowed_in_months`:\n",
        "* `credit_limit`: **limite** de crédito do cartão.\n",
        "* `income`: **renda** do cliente.\n",
        "* `facebook_profile`:\n",
        "* `reason` & `state` & `zip` & `channel`&`job_name`& `real_state`: são variáveis com **codificações** internas utilizadas apenas na empresa.\n",
        "* `ok_since`: *não foi encontrado **nenhum** significado relevante para esta variável. Além disso, metade dela está nula.*\n",
        "* `n_bankruptcies`: número que vezes que o cliente declarou **falência**.\n",
        "* `n_defaulted_loans`: número de vezes em que não cumpriu corretamente as condições de um **empréstimo**.\n",
        "* `n_accounts`:\n",
        "* `n_issues`:\n",
        "* `application_time_applied`: **horário** em que a aplicação foi realizada.\n",
        "* `application_time_in_funnel`:\n",
        "* `email`: serviço de **e-mail** utilizado.\n",
        "* `external_data_provider_credit_checks_last_2_year`:\n",
        "* `external_data_provider_credit_checks_last_month`:\n",
        "* `external_data_provider_credit_checks_last_year`:\n",
        "* `external_data_provider_email_seen_before`:\n",
        "* `external_data_provider_first_name`:\n",
        "* `external_data_provider_fraud_score`:\n",
        "* `lat_lon`: latitude-longitude **onde** a aplicação de crédito foi realizada.\n",
        "* `marketing_channel`: canal de **marketing** que proporcionou o cadastro do cliente.\n",
        "* `profile_phone_number`: número de **telefone** pessoal.\n",
        "* `reported_income`: **Renda** declarada.\n",
        "* `shipping_state`: **estado** para onde o cartão foi enviado.\n",
        "* `shipping_zip_code`: código **postal** para onde o cartão foi enviado.\n",
        "* `user_agent`: **software** que o usuário estava utilizando no cadastro.\n",
        "* `profile_tags`:\n",
        "* `target_fraud`: se o cliente, amigos do cliente ou familiares sofreram algum tipo de **fraude**.\n",
        "\n"
      ]
    },
    {
      "cell_type": "code",
      "metadata": {
        "id": "PqMaG41qo1Y4",
        "colab": {
          "base_uri": "https://localhost:8080/",
          "height": 668
        },
        "outputId": "56055920-5229-4cea-f295-9d7f14128afe"
      },
      "source": [
        "#endereco dos dados\n",
        "path = 'http://dl.dropboxusercontent.com/s/xn2a4kzf0zer0xu/acquisition_train.csv?dl=0'\n",
        "\n",
        "#importando os dados\n",
        "df = pd.read_csv(path)\n",
        "\n",
        "#exibindo as 5 primeiras entradas\n",
        "df.head()"
      ],
      "execution_count": 3,
      "outputs": [
        {
          "output_type": "execute_result",
          "data": {
            "text/html": [
              "\n",
              "  <div id=\"df-acb9c7da-6f82-4364-aca9-6a04056f58a9\">\n",
              "    <div class=\"colab-df-container\">\n",
              "      <div>\n",
              "<style scoped>\n",
              "    .dataframe tbody tr th:only-of-type {\n",
              "        vertical-align: middle;\n",
              "    }\n",
              "\n",
              "    .dataframe tbody tr th {\n",
              "        vertical-align: top;\n",
              "    }\n",
              "\n",
              "    .dataframe thead th {\n",
              "        text-align: right;\n",
              "    }\n",
              "</style>\n",
              "<table border=\"1\" class=\"dataframe\">\n",
              "  <thead>\n",
              "    <tr style=\"text-align: right;\">\n",
              "      <th></th>\n",
              "      <th>ids</th>\n",
              "      <th>target_default</th>\n",
              "      <th>score_1</th>\n",
              "      <th>score_2</th>\n",
              "      <th>score_3</th>\n",
              "      <th>score_4</th>\n",
              "      <th>score_5</th>\n",
              "      <th>score_6</th>\n",
              "      <th>risk_rate</th>\n",
              "      <th>last_amount_borrowed</th>\n",
              "      <th>last_borrowed_in_months</th>\n",
              "      <th>credit_limit</th>\n",
              "      <th>reason</th>\n",
              "      <th>income</th>\n",
              "      <th>facebook_profile</th>\n",
              "      <th>state</th>\n",
              "      <th>zip</th>\n",
              "      <th>channel</th>\n",
              "      <th>job_name</th>\n",
              "      <th>real_state</th>\n",
              "      <th>ok_since</th>\n",
              "      <th>n_bankruptcies</th>\n",
              "      <th>n_defaulted_loans</th>\n",
              "      <th>n_accounts</th>\n",
              "      <th>n_issues</th>\n",
              "      <th>application_time_applied</th>\n",
              "      <th>application_time_in_funnel</th>\n",
              "      <th>email</th>\n",
              "      <th>external_data_provider_credit_checks_last_2_year</th>\n",
              "      <th>external_data_provider_credit_checks_last_month</th>\n",
              "      <th>external_data_provider_credit_checks_last_year</th>\n",
              "      <th>external_data_provider_email_seen_before</th>\n",
              "      <th>external_data_provider_first_name</th>\n",
              "      <th>external_data_provider_fraud_score</th>\n",
              "      <th>lat_lon</th>\n",
              "      <th>marketing_channel</th>\n",
              "      <th>profile_phone_number</th>\n",
              "      <th>reported_income</th>\n",
              "      <th>shipping_state</th>\n",
              "      <th>shipping_zip_code</th>\n",
              "      <th>profile_tags</th>\n",
              "      <th>user_agent</th>\n",
              "      <th>target_fraud</th>\n",
              "    </tr>\n",
              "  </thead>\n",
              "  <tbody>\n",
              "    <tr>\n",
              "      <th>0</th>\n",
              "      <td>343b7e7b-2cf8-e508-b8fd-0a0285af30aa</td>\n",
              "      <td>False</td>\n",
              "      <td>1Rk8w4Ucd5yR3KcqZzLdow==</td>\n",
              "      <td>IOVu8au3ISbo6+zmfnYwMg==</td>\n",
              "      <td>350.0</td>\n",
              "      <td>101.800832</td>\n",
              "      <td>0.259555</td>\n",
              "      <td>108.427273</td>\n",
              "      <td>0.40</td>\n",
              "      <td>25033.92</td>\n",
              "      <td>36.0</td>\n",
              "      <td>0.0</td>\n",
              "      <td>mLVIVxoGY7TUDJ1FyFoSIZi1SFcaBmO01AydRchaEiGYtU...</td>\n",
              "      <td>65014.12</td>\n",
              "      <td>True</td>\n",
              "      <td>sjJbkqJS7cXalHLBFA+EOQ==</td>\n",
              "      <td>Ernn+uVXCMq/6ARrBCcd+A==</td>\n",
              "      <td>NCqL3QBx0pscDnx3ixKwXg==</td>\n",
              "      <td>mLVIVxoGY7TUDJ1FyFoSIZi1SFcaBmO01AydRchaEiGYtU...</td>\n",
              "      <td>N5/CE7lSkAfB04hVFFwllw==</td>\n",
              "      <td>NaN</td>\n",
              "      <td>0.0</td>\n",
              "      <td>0.0</td>\n",
              "      <td>18.0</td>\n",
              "      <td>18.0</td>\n",
              "      <td>07:52:34</td>\n",
              "      <td>444</td>\n",
              "      <td>outlook.com</td>\n",
              "      <td>NaN</td>\n",
              "      <td>2</td>\n",
              "      <td>0.0</td>\n",
              "      <td>51.0</td>\n",
              "      <td>leidelaura</td>\n",
              "      <td>645</td>\n",
              "      <td>(-29.151545708122246, -51.1386461804385)</td>\n",
              "      <td>Invite-email</td>\n",
              "      <td>514-9840782</td>\n",
              "      <td>57849.0</td>\n",
              "      <td>BR-MT</td>\n",
              "      <td>17528</td>\n",
              "      <td>{'tags': ['n19', 'n8']}</td>\n",
              "      <td>Mozilla/5.0 (Linux; Android 6.0.1; SGP771 Buil...</td>\n",
              "      <td>NaN</td>\n",
              "    </tr>\n",
              "    <tr>\n",
              "      <th>1</th>\n",
              "      <td>bc2c7502-bbad-0f8c-39c3-94e881967124</td>\n",
              "      <td>False</td>\n",
              "      <td>DGCQep2AE5QRkNCshIAlFQ==</td>\n",
              "      <td>SaamrHMo23l/3TwXOWgVzw==</td>\n",
              "      <td>370.0</td>\n",
              "      <td>97.062615</td>\n",
              "      <td>0.942655</td>\n",
              "      <td>92.002546</td>\n",
              "      <td>0.24</td>\n",
              "      <td>NaN</td>\n",
              "      <td>NaN</td>\n",
              "      <td>39726.0</td>\n",
              "      <td>mLVIVxoGY7TUDJ1FyFoSIZi1SFcaBmO01AydRchaEiGYtU...</td>\n",
              "      <td>100018.91</td>\n",
              "      <td>False</td>\n",
              "      <td>xsd3ZdsI3356I3xMxZeiqQ==</td>\n",
              "      <td>rlWIXTBO+VOa34+SpGyhlQ==</td>\n",
              "      <td>NCqL3QBx0pscDnx3ixKwXg==</td>\n",
              "      <td>mLVIVxoGY7TUDJ1FyFoSIZi1SFcaBmO01AydRchaEiGYtU...</td>\n",
              "      <td>N5/CE7lSkAfB04hVFFwllw==</td>\n",
              "      <td>50.0</td>\n",
              "      <td>0.0</td>\n",
              "      <td>0.0</td>\n",
              "      <td>14.0</td>\n",
              "      <td>14.0</td>\n",
              "      <td>02:34:29</td>\n",
              "      <td>346</td>\n",
              "      <td>gmail.com</td>\n",
              "      <td>0.0</td>\n",
              "      <td>1</td>\n",
              "      <td>0.0</td>\n",
              "      <td>17.0</td>\n",
              "      <td>diocezio</td>\n",
              "      <td>243</td>\n",
              "      <td>(-19.687710705798963, -47.94151536525154)</td>\n",
              "      <td>Radio-commercial</td>\n",
              "      <td>251-3659293</td>\n",
              "      <td>4902.0</td>\n",
              "      <td>BR-RS</td>\n",
              "      <td>40933</td>\n",
              "      <td>{'tags': ['n6', 'n7', 'nim']}</td>\n",
              "      <td>Mozilla/5.0 (Linux; Android 5.0.2; SAMSUNG SM-...</td>\n",
              "      <td>NaN</td>\n",
              "    </tr>\n",
              "    <tr>\n",
              "      <th>2</th>\n",
              "      <td>669630dd-2e6a-0396-84bf-455e5009c922</td>\n",
              "      <td>True</td>\n",
              "      <td>DGCQep2AE5QRkNCshIAlFQ==</td>\n",
              "      <td>Fv28Bz0YRTVAT5kl1bAV6g==</td>\n",
              "      <td>360.0</td>\n",
              "      <td>100.027073</td>\n",
              "      <td>0.351918</td>\n",
              "      <td>112.892453</td>\n",
              "      <td>0.29</td>\n",
              "      <td>7207.92</td>\n",
              "      <td>36.0</td>\n",
              "      <td>NaN</td>\n",
              "      <td>mLVIVxoGY7TUDJ1FyFoSIZi1SFcaBmO01AydRchaEiGYtU...</td>\n",
              "      <td>65023.65</td>\n",
              "      <td>NaN</td>\n",
              "      <td>Ygq6MsM98oC8yceExr69Ig==</td>\n",
              "      <td>PjTIDfJsK0DKL9fO7vuW2g==</td>\n",
              "      <td>NCqL3QBx0pscDnx3ixKwXg==</td>\n",
              "      <td>mLVIVxoGY7TUDJ1FyFoSIZi1SFcaBmO01AydRchaEiGYtU...</td>\n",
              "      <td>n+xK9CfX0bCn77lClTWviw==</td>\n",
              "      <td>NaN</td>\n",
              "      <td>0.0</td>\n",
              "      <td>0.0</td>\n",
              "      <td>10.0</td>\n",
              "      <td>NaN</td>\n",
              "      <td>00:60:02</td>\n",
              "      <td>6</td>\n",
              "      <td>gmail.com</td>\n",
              "      <td>NaN</td>\n",
              "      <td>2</td>\n",
              "      <td>NaN</td>\n",
              "      <td>9.0</td>\n",
              "      <td>veralucia</td>\n",
              "      <td>65</td>\n",
              "      <td>(-28.748023890412284, -51.867279334353995)</td>\n",
              "      <td>Waiting-list</td>\n",
              "      <td>230-6097993</td>\n",
              "      <td>163679.0</td>\n",
              "      <td>BR-RR</td>\n",
              "      <td>50985</td>\n",
              "      <td>{'tags': ['n0', 'n17', 'nim', 'da']}</td>\n",
              "      <td>Mozilla/5.0 (Linux; Android 6.0.1; SGP771 Buil...</td>\n",
              "      <td>NaN</td>\n",
              "    </tr>\n",
              "    <tr>\n",
              "      <th>3</th>\n",
              "      <td>d235609e-b6cb-0ccc-a329-d4f12e7ebdc1</td>\n",
              "      <td>False</td>\n",
              "      <td>1Rk8w4Ucd5yR3KcqZzLdow==</td>\n",
              "      <td>dCm9hFKfdRm7ej3jW+gyxw==</td>\n",
              "      <td>510.0</td>\n",
              "      <td>101.599485</td>\n",
              "      <td>0.987673</td>\n",
              "      <td>94.902491</td>\n",
              "      <td>0.32</td>\n",
              "      <td>NaN</td>\n",
              "      <td>NaN</td>\n",
              "      <td>54591.0</td>\n",
              "      <td>mLVIVxoGY7TUDJ1FyFoSIZi1SFcaBmO01AydRchaEiGYtU...</td>\n",
              "      <td>68830.01</td>\n",
              "      <td>False</td>\n",
              "      <td>KET/Pmr6rHp1RJ/P9ymztw==</td>\n",
              "      <td>Cc/kWDLQH3dpHv5HU+pLVA==</td>\n",
              "      <td>NCqL3QBx0pscDnx3ixKwXg==</td>\n",
              "      <td>mLVIVxoGY7TUDJ1FyFoSIZi1SFcaBmO01AydRchaEiE56f...</td>\n",
              "      <td>n+xK9CfX0bCn77lClTWviw==</td>\n",
              "      <td>NaN</td>\n",
              "      <td>1.0</td>\n",
              "      <td>0.0</td>\n",
              "      <td>19.0</td>\n",
              "      <td>19.0</td>\n",
              "      <td>11:20:49</td>\n",
              "      <td>406</td>\n",
              "      <td>spgov.com</td>\n",
              "      <td>NaN</td>\n",
              "      <td>3</td>\n",
              "      <td>NaN</td>\n",
              "      <td>38.0</td>\n",
              "      <td>venice</td>\n",
              "      <td>815</td>\n",
              "      <td>(-17.520650158450454, -39.75801139933186)</td>\n",
              "      <td>Waiting-list</td>\n",
              "      <td>261-3543751</td>\n",
              "      <td>1086.0</td>\n",
              "      <td>BR-RN</td>\n",
              "      <td>37825</td>\n",
              "      <td>{'tags': ['n4']}</td>\n",
              "      <td>Mozilla/5.0 (Linux; Android 6.0; HTC One X10 B...</td>\n",
              "      <td>NaN</td>\n",
              "    </tr>\n",
              "    <tr>\n",
              "      <th>4</th>\n",
              "      <td>9e0eb880-e8f4-3faa-67d8-f5cdd2b3932b</td>\n",
              "      <td>False</td>\n",
              "      <td>8k8UDR4Yx0qasAjkGrUZLw==</td>\n",
              "      <td>+CxEO4w7jv3QPI/BQbyqAA==</td>\n",
              "      <td>500.0</td>\n",
              "      <td>98.474289</td>\n",
              "      <td>0.532539</td>\n",
              "      <td>118.126207</td>\n",
              "      <td>0.18</td>\n",
              "      <td>NaN</td>\n",
              "      <td>NaN</td>\n",
              "      <td>NaN</td>\n",
              "      <td>mLVIVxoGY7TUDJ1FyFoSIZi1SFcaBmO01AydRchaEiGYtU...</td>\n",
              "      <td>60011.29</td>\n",
              "      <td>True</td>\n",
              "      <td>xsd3ZdsI3356I3xMxZeiqQ==</td>\n",
              "      <td>i036nmJ7rfxo+3EvCD7Jnw==</td>\n",
              "      <td>NCqL3QBx0pscDnx3ixKwXg==</td>\n",
              "      <td>mLVIVxoGY7TUDJ1FyFoSIZi1SFcaBmO01AydRchaEiGYtU...</td>\n",
              "      <td>n+xK9CfX0bCn77lClTWviw==</td>\n",
              "      <td>NaN</td>\n",
              "      <td>0.0</td>\n",
              "      <td>0.0</td>\n",
              "      <td>11.0</td>\n",
              "      <td>NaN</td>\n",
              "      <td>13:39:03</td>\n",
              "      <td>240</td>\n",
              "      <td>gmail.com</td>\n",
              "      <td>0.0</td>\n",
              "      <td>2</td>\n",
              "      <td>1.0</td>\n",
              "      <td>46.0</td>\n",
              "      <td>darzisa</td>\n",
              "      <td>320</td>\n",
              "      <td>(-16.574259446978008, -39.90990074785962)</td>\n",
              "      <td>Invite-email</td>\n",
              "      <td>102-3660162</td>\n",
              "      <td>198618.0</td>\n",
              "      <td>BR-MT</td>\n",
              "      <td>52827</td>\n",
              "      <td>{'tags': ['pro+aty', 'n19', 'da', 'b19']}</td>\n",
              "      <td>Mozilla/5.0 (Linux; Android 7.0; Pixel C Build...</td>\n",
              "      <td>NaN</td>\n",
              "    </tr>\n",
              "  </tbody>\n",
              "</table>\n",
              "</div>\n",
              "      <button class=\"colab-df-convert\" onclick=\"convertToInteractive('df-acb9c7da-6f82-4364-aca9-6a04056f58a9')\"\n",
              "              title=\"Convert this dataframe to an interactive table.\"\n",
              "              style=\"display:none;\">\n",
              "        \n",
              "  <svg xmlns=\"http://www.w3.org/2000/svg\" height=\"24px\"viewBox=\"0 0 24 24\"\n",
              "       width=\"24px\">\n",
              "    <path d=\"M0 0h24v24H0V0z\" fill=\"none\"/>\n",
              "    <path d=\"M18.56 5.44l.94 2.06.94-2.06 2.06-.94-2.06-.94-.94-2.06-.94 2.06-2.06.94zm-11 1L8.5 8.5l.94-2.06 2.06-.94-2.06-.94L8.5 2.5l-.94 2.06-2.06.94zm10 10l.94 2.06.94-2.06 2.06-.94-2.06-.94-.94-2.06-.94 2.06-2.06.94z\"/><path d=\"M17.41 7.96l-1.37-1.37c-.4-.4-.92-.59-1.43-.59-.52 0-1.04.2-1.43.59L10.3 9.45l-7.72 7.72c-.78.78-.78 2.05 0 2.83L4 21.41c.39.39.9.59 1.41.59.51 0 1.02-.2 1.41-.59l7.78-7.78 2.81-2.81c.8-.78.8-2.07 0-2.86zM5.41 20L4 18.59l7.72-7.72 1.47 1.35L5.41 20z\"/>\n",
              "  </svg>\n",
              "      </button>\n",
              "      \n",
              "  <style>\n",
              "    .colab-df-container {\n",
              "      display:flex;\n",
              "      flex-wrap:wrap;\n",
              "      gap: 12px;\n",
              "    }\n",
              "\n",
              "    .colab-df-convert {\n",
              "      background-color: #E8F0FE;\n",
              "      border: none;\n",
              "      border-radius: 50%;\n",
              "      cursor: pointer;\n",
              "      display: none;\n",
              "      fill: #1967D2;\n",
              "      height: 32px;\n",
              "      padding: 0 0 0 0;\n",
              "      width: 32px;\n",
              "    }\n",
              "\n",
              "    .colab-df-convert:hover {\n",
              "      background-color: #E2EBFA;\n",
              "      box-shadow: 0px 1px 2px rgba(60, 64, 67, 0.3), 0px 1px 3px 1px rgba(60, 64, 67, 0.15);\n",
              "      fill: #174EA6;\n",
              "    }\n",
              "\n",
              "    [theme=dark] .colab-df-convert {\n",
              "      background-color: #3B4455;\n",
              "      fill: #D2E3FC;\n",
              "    }\n",
              "\n",
              "    [theme=dark] .colab-df-convert:hover {\n",
              "      background-color: #434B5C;\n",
              "      box-shadow: 0px 1px 3px 1px rgba(0, 0, 0, 0.15);\n",
              "      filter: drop-shadow(0px 1px 2px rgba(0, 0, 0, 0.3));\n",
              "      fill: #FFFFFF;\n",
              "    }\n",
              "  </style>\n",
              "\n",
              "      <script>\n",
              "        const buttonEl =\n",
              "          document.querySelector('#df-acb9c7da-6f82-4364-aca9-6a04056f58a9 button.colab-df-convert');\n",
              "        buttonEl.style.display =\n",
              "          google.colab.kernel.accessAllowed ? 'block' : 'none';\n",
              "\n",
              "        async function convertToInteractive(key) {\n",
              "          const element = document.querySelector('#df-acb9c7da-6f82-4364-aca9-6a04056f58a9');\n",
              "          const dataTable =\n",
              "            await google.colab.kernel.invokeFunction('convertToInteractive',\n",
              "                                                     [key], {});\n",
              "          if (!dataTable) return;\n",
              "\n",
              "          const docLinkHtml = 'Like what you see? Visit the ' +\n",
              "            '<a target=\"_blank\" href=https://colab.research.google.com/notebooks/data_table.ipynb>data table notebook</a>'\n",
              "            + ' to learn more about interactive tables.';\n",
              "          element.innerHTML = '';\n",
              "          dataTable['output_type'] = 'display_data';\n",
              "          await google.colab.output.renderOutput(dataTable, element);\n",
              "          const docLink = document.createElement('div');\n",
              "          docLink.innerHTML = docLinkHtml;\n",
              "          element.appendChild(docLink);\n",
              "        }\n",
              "      </script>\n",
              "    </div>\n",
              "  </div>\n",
              "  "
            ],
            "text/plain": [
              "                                    ids  ... target_fraud\n",
              "0  343b7e7b-2cf8-e508-b8fd-0a0285af30aa  ...          NaN\n",
              "1  bc2c7502-bbad-0f8c-39c3-94e881967124  ...          NaN\n",
              "2  669630dd-2e6a-0396-84bf-455e5009c922  ...          NaN\n",
              "3  d235609e-b6cb-0ccc-a329-d4f12e7ebdc1  ...          NaN\n",
              "4  9e0eb880-e8f4-3faa-67d8-f5cdd2b3932b  ...          NaN\n",
              "\n",
              "[5 rows x 43 columns]"
            ]
          },
          "metadata": {},
          "execution_count": 3
        }
      ]
    },
    {
      "cell_type": "code",
      "source": [
        "#quantidade de registros e variáveis\n",
        "print('Este dataset contém')\n",
        "print('{:,} registros.'.format(df.shape[0]).replace(',','.'))\n",
        "print('{} variáveis.'.format(df.shape[1]))"
      ],
      "metadata": {
        "colab": {
          "base_uri": "https://localhost:8080/"
        },
        "id": "Iaq85Lo6b1zn",
        "outputId": "3d175f43-6ee9-4382-b941-4febf39cf768"
      },
      "execution_count": 4,
      "outputs": [
        {
          "output_type": "stream",
          "name": "stdout",
          "text": [
            "Este dataset contém\n",
            "45.000 registros.\n",
            "43 variáveis.\n"
          ]
        }
      ]
    },
    {
      "cell_type": "markdown",
      "source": [
        "texto sobre as colunas"
      ],
      "metadata": {
        "id": "hSYmEF7e7Yms"
      }
    },
    {
      "cell_type": "code",
      "source": [
        "#avaliar os nomes de cada variável\n",
        "df.columns"
      ],
      "metadata": {
        "colab": {
          "base_uri": "https://localhost:8080/"
        },
        "id": "mH4fOseKchr1",
        "outputId": "c6bf4f82-1221-4d99-b431-a96de5f45a6e"
      },
      "execution_count": 5,
      "outputs": [
        {
          "output_type": "execute_result",
          "data": {
            "text/plain": [
              "Index(['ids', 'target_default', 'score_1', 'score_2', 'score_3', 'score_4',\n",
              "       'score_5', 'score_6', 'risk_rate', 'last_amount_borrowed',\n",
              "       'last_borrowed_in_months', 'credit_limit', 'reason', 'income',\n",
              "       'facebook_profile', 'state', 'zip', 'channel', 'job_name', 'real_state',\n",
              "       'ok_since', 'n_bankruptcies', 'n_defaulted_loans', 'n_accounts',\n",
              "       'n_issues', 'application_time_applied', 'application_time_in_funnel',\n",
              "       'email', 'external_data_provider_credit_checks_last_2_year',\n",
              "       'external_data_provider_credit_checks_last_month',\n",
              "       'external_data_provider_credit_checks_last_year',\n",
              "       'external_data_provider_email_seen_before',\n",
              "       'external_data_provider_first_name',\n",
              "       'external_data_provider_fraud_score', 'lat_lon', 'marketing_channel',\n",
              "       'profile_phone_number', 'reported_income', 'shipping_state',\n",
              "       'shipping_zip_code', 'profile_tags', 'user_agent', 'target_fraud'],\n",
              "      dtype='object')"
            ]
          },
          "metadata": {},
          "execution_count": 5
        }
      ]
    },
    {
      "cell_type": "markdown",
      "source": [
        "'reason','state','zip','channel','job_name','real_state']\n",
        "* score_1 mudar para A B C D E F\n",
        "* score_2 mudar para letras e colocar no mesmo formato\n",
        "* reason excluir\n",
        "* state excluir\n",
        "* zip excluir\n",
        "* channel são todos iguais, excluir\n",
        "* job_name excluir, precisaria de uma classificação mais apurada em setores\n",
        "* real_state mantém"
      ],
      "metadata": {
        "id": "_8lDptfNHi-D"
      }
    },
    {
      "cell_type": "code",
      "source": [
        "#verificando a quantidade de valres únicos\n",
        "df.nunique().sort_values(ascending=False)"
      ],
      "metadata": {
        "colab": {
          "base_uri": "https://localhost:8080/"
        },
        "id": "PACBh8RLG-lL",
        "outputId": "6b9802b4-27bd-417b-b0c0-ee51f0124e61"
      },
      "execution_count": 6,
      "outputs": [
        {
          "output_type": "execute_result",
          "data": {
            "text/plain": [
              "ids                                                 45000\n",
              "profile_phone_number                                45000\n",
              "score_6                                             45000\n",
              "score_5                                             45000\n",
              "score_4                                             45000\n",
              "income                                              41211\n",
              "reported_income                                     40025\n",
              "application_time_applied                            35543\n",
              "external_data_provider_first_name                   32886\n",
              "job_name                                            32265\n",
              "shipping_zip_code                                   28263\n",
              "profile_tags                                        26131\n",
              "lat_lon                                             22412\n",
              "credit_limit                                        20928\n",
              "reason                                              14874\n",
              "last_amount_borrowed                                14325\n",
              "external_data_provider_fraud_score                   1001\n",
              "zip                                                   823\n",
              "application_time_in_funnel                            501\n",
              "user_agent                                            297\n",
              "ok_since                                              100\n",
              "score_3                                                88\n",
              "risk_rate                                              82\n",
              "external_data_provider_email_seen_before               62\n",
              "state                                                  50\n",
              "n_accounts                                             44\n",
              "n_issues                                               44\n",
              "score_2                                                35\n",
              "shipping_state                                         25\n",
              "marketing_channel                                       9\n",
              "score_1                                                 7\n",
              "n_bankruptcies                                          6\n",
              "email                                                   6\n",
              "real_state                                              5\n",
              "n_defaulted_loans                                       5\n",
              "external_data_provider_credit_checks_last_month         4\n",
              "last_borrowed_in_months                                 2\n",
              "facebook_profile                                        2\n",
              "external_data_provider_credit_checks_last_year          2\n",
              "target_default                                          2\n",
              "target_fraud                                            2\n",
              "channel                                                 1\n",
              "external_data_provider_credit_checks_last_2_year        1\n",
              "dtype: int64"
            ]
          },
          "metadata": {},
          "execution_count": 6
        }
      ]
    },
    {
      "cell_type": "markdown",
      "source": [
        "explicar que serão retiradas da análise"
      ],
      "metadata": {
        "id": "QY9NkdHkBoW1"
      }
    },
    {
      "cell_type": "code",
      "source": [
        "#lista das variáveis que serão retiradas\n",
        "lista_retirados = ['reason','state','zip','channel','job_name']\n",
        "\n",
        "#dropando as variáveis do dataset\n",
        "df.drop(columns=lista_retirados,inplace=True)"
      ],
      "metadata": {
        "id": "nUUy7MUFBqwi"
      },
      "execution_count": 7,
      "outputs": []
    },
    {
      "cell_type": "markdown",
      "source": [
        "texto sobre o formato dos dados"
      ],
      "metadata": {
        "id": "95PoN7V37ZrQ"
      }
    },
    {
      "cell_type": "code",
      "source": [
        "#formato dos dados do dataset\n",
        "df.info()"
      ],
      "metadata": {
        "colab": {
          "base_uri": "https://localhost:8080/"
        },
        "id": "1Ws3LJq7fdW1",
        "outputId": "0f9523f1-cb74-4b66-e2f2-93a3bb86b57b"
      },
      "execution_count": 8,
      "outputs": [
        {
          "output_type": "stream",
          "name": "stdout",
          "text": [
            "<class 'pandas.core.frame.DataFrame'>\n",
            "RangeIndex: 45000 entries, 0 to 44999\n",
            "Data columns (total 38 columns):\n",
            " #   Column                                            Non-Null Count  Dtype  \n",
            "---  ------                                            --------------  -----  \n",
            " 0   ids                                               45000 non-null  object \n",
            " 1   target_default                                    41741 non-null  object \n",
            " 2   score_1                                           44438 non-null  object \n",
            " 3   score_2                                           44438 non-null  object \n",
            " 4   score_3                                           44438 non-null  float64\n",
            " 5   score_4                                           45000 non-null  float64\n",
            " 6   score_5                                           45000 non-null  float64\n",
            " 7   score_6                                           45000 non-null  float64\n",
            " 8   risk_rate                                         44438 non-null  float64\n",
            " 9   last_amount_borrowed                              15044 non-null  float64\n",
            " 10  last_borrowed_in_months                           15044 non-null  float64\n",
            " 11  credit_limit                                      31200 non-null  float64\n",
            " 12  income                                            44438 non-null  float64\n",
            " 13  facebook_profile                                  40542 non-null  object \n",
            " 14  real_state                                        44438 non-null  object \n",
            " 15  ok_since                                          18455 non-null  float64\n",
            " 16  n_bankruptcies                                    44303 non-null  float64\n",
            " 17  n_defaulted_loans                                 44426 non-null  float64\n",
            " 18  n_accounts                                        44438 non-null  float64\n",
            " 19  n_issues                                          33456 non-null  float64\n",
            " 20  application_time_applied                          45000 non-null  object \n",
            " 21  application_time_in_funnel                        45000 non-null  int64  \n",
            " 22  email                                             45000 non-null  object \n",
            " 23  external_data_provider_credit_checks_last_2_year  22372 non-null  float64\n",
            " 24  external_data_provider_credit_checks_last_month   45000 non-null  int64  \n",
            " 25  external_data_provider_credit_checks_last_year    29876 non-null  float64\n",
            " 26  external_data_provider_email_seen_before          42767 non-null  float64\n",
            " 27  external_data_provider_first_name                 45000 non-null  object \n",
            " 28  external_data_provider_fraud_score                45000 non-null  int64  \n",
            " 29  lat_lon                                           43637 non-null  object \n",
            " 30  marketing_channel                                 41422 non-null  object \n",
            " 31  profile_phone_number                              45000 non-null  object \n",
            " 32  reported_income                                   45000 non-null  float64\n",
            " 33  shipping_state                                    45000 non-null  object \n",
            " 34  shipping_zip_code                                 45000 non-null  int64  \n",
            " 35  profile_tags                                      45000 non-null  object \n",
            " 36  user_agent                                        44278 non-null  object \n",
            " 37  target_fraud                                      1522 non-null   object \n",
            "dtypes: float64(18), int64(4), object(16)\n",
            "memory usage: 13.0+ MB\n"
          ]
        }
      ]
    },
    {
      "cell_type": "markdown",
      "source": [
        "falar dos valores ausentes\n",
        "\n",
        "* target_fraud, onde está não será considerado que não houve nenhum tipo de fraude\n",
        "* last_amount_borrowed será considerado que não houve empréstimo\n",
        "* last_borrowed_in_months será considerado que não houve empréstimo\n",
        "* external_data_provider_credit_checks_last_2_year é ausente ou zero\n",
        "* credit_limit ver com os outliers\n",
        "* targert_default 7% com valores ausentes, eliminar"
      ],
      "metadata": {
        "id": "_R8RiS-L7WfT"
      }
    },
    {
      "cell_type": "code",
      "source": [
        "#quantidade de valores ausentes\n",
        "(df.isnull().sum() / df.shape[0]).sort_values(ascending=False).round(2)"
      ],
      "metadata": {
        "colab": {
          "base_uri": "https://localhost:8080/"
        },
        "id": "YjV_fsuygBGs",
        "outputId": "4f5d0cb9-0d55-4fc8-ea4c-fd1305842616"
      },
      "execution_count": 9,
      "outputs": [
        {
          "output_type": "execute_result",
          "data": {
            "text/plain": [
              "target_fraud                                        0.97\n",
              "last_amount_borrowed                                0.67\n",
              "last_borrowed_in_months                             0.67\n",
              "ok_since                                            0.59\n",
              "external_data_provider_credit_checks_last_2_year    0.50\n",
              "external_data_provider_credit_checks_last_year      0.34\n",
              "credit_limit                                        0.31\n",
              "n_issues                                            0.26\n",
              "facebook_profile                                    0.10\n",
              "marketing_channel                                   0.08\n",
              "target_default                                      0.07\n",
              "external_data_provider_email_seen_before            0.05\n",
              "lat_lon                                             0.03\n",
              "user_agent                                          0.02\n",
              "n_bankruptcies                                      0.02\n",
              "n_defaulted_loans                                   0.01\n",
              "risk_rate                                           0.01\n",
              "score_3                                             0.01\n",
              "income                                              0.01\n",
              "score_2                                             0.01\n",
              "real_state                                          0.01\n",
              "score_1                                             0.01\n",
              "n_accounts                                          0.01\n",
              "application_time_applied                            0.00\n",
              "application_time_in_funnel                          0.00\n",
              "email                                               0.00\n",
              "external_data_provider_credit_checks_last_month     0.00\n",
              "external_data_provider_first_name                   0.00\n",
              "external_data_provider_fraud_score                  0.00\n",
              "profile_phone_number                                0.00\n",
              "score_6                                             0.00\n",
              "score_5                                             0.00\n",
              "score_4                                             0.00\n",
              "reported_income                                     0.00\n",
              "shipping_state                                      0.00\n",
              "shipping_zip_code                                   0.00\n",
              "profile_tags                                        0.00\n",
              "ids                                                 0.00\n",
              "dtype: float64"
            ]
          },
          "metadata": {},
          "execution_count": 9
        }
      ]
    },
    {
      "cell_type": "code",
      "source": [
        "#lista das variáveis que possuem mais da metades dos valores ausentes e não tem significado relevante\n",
        "lista_com_muitos_valores_ausentes_sem_sentido = ['ok_since',\n",
        "                                                 'external_data_provider_credit_checks_last_2_year',\n",
        "                                                 'external_data_provider_credit_checks_last_year']\n",
        "\n",
        "#dropando estas colunas do dataset\n",
        "df.drop(columns=lista_com_muitos_valores_ausentes_sem_sentido,inplace=True)\n",
        "\n",
        "#dropando os registros da variável alvo ausentes\n",
        "df.dropna(axis=0,subset=['target_default'],inplace=True)"
      ],
      "metadata": {
        "id": "RGuMiAi8Bq0s"
      },
      "execution_count": 10,
      "outputs": []
    },
    {
      "cell_type": "markdown",
      "source": [
        "mudanças da target fraud etc"
      ],
      "metadata": {
        "id": "o_2TvYClEpm9"
      }
    },
    {
      "cell_type": "code",
      "source": [
        "#substituindo os valores ausentes\n",
        "values = {'target_fraud':'Nenhuma',\n",
        "          'last_amount_borrowed':0.0,\n",
        "          'last_borrowed_in_months':0.0}\n",
        "df.fillna(value=values,inplace=True)\n",
        "\n",
        "#visualizando duas entradas após as mudanças\n",
        "df.head(2)"
      ],
      "metadata": {
        "colab": {
          "base_uri": "https://localhost:8080/",
          "height": 350
        },
        "id": "TaTVOdpqA2ph",
        "outputId": "a73a2e94-1ab4-4c21-ef65-ac82a2bd2a02"
      },
      "execution_count": 11,
      "outputs": [
        {
          "output_type": "execute_result",
          "data": {
            "text/html": [
              "\n",
              "  <div id=\"df-88d4b0d0-1eca-4472-963b-5f07b6f4180c\">\n",
              "    <div class=\"colab-df-container\">\n",
              "      <div>\n",
              "<style scoped>\n",
              "    .dataframe tbody tr th:only-of-type {\n",
              "        vertical-align: middle;\n",
              "    }\n",
              "\n",
              "    .dataframe tbody tr th {\n",
              "        vertical-align: top;\n",
              "    }\n",
              "\n",
              "    .dataframe thead th {\n",
              "        text-align: right;\n",
              "    }\n",
              "</style>\n",
              "<table border=\"1\" class=\"dataframe\">\n",
              "  <thead>\n",
              "    <tr style=\"text-align: right;\">\n",
              "      <th></th>\n",
              "      <th>ids</th>\n",
              "      <th>target_default</th>\n",
              "      <th>score_1</th>\n",
              "      <th>score_2</th>\n",
              "      <th>score_3</th>\n",
              "      <th>score_4</th>\n",
              "      <th>score_5</th>\n",
              "      <th>score_6</th>\n",
              "      <th>risk_rate</th>\n",
              "      <th>last_amount_borrowed</th>\n",
              "      <th>last_borrowed_in_months</th>\n",
              "      <th>credit_limit</th>\n",
              "      <th>income</th>\n",
              "      <th>facebook_profile</th>\n",
              "      <th>real_state</th>\n",
              "      <th>n_bankruptcies</th>\n",
              "      <th>n_defaulted_loans</th>\n",
              "      <th>n_accounts</th>\n",
              "      <th>n_issues</th>\n",
              "      <th>application_time_applied</th>\n",
              "      <th>application_time_in_funnel</th>\n",
              "      <th>email</th>\n",
              "      <th>external_data_provider_credit_checks_last_month</th>\n",
              "      <th>external_data_provider_email_seen_before</th>\n",
              "      <th>external_data_provider_first_name</th>\n",
              "      <th>external_data_provider_fraud_score</th>\n",
              "      <th>lat_lon</th>\n",
              "      <th>marketing_channel</th>\n",
              "      <th>profile_phone_number</th>\n",
              "      <th>reported_income</th>\n",
              "      <th>shipping_state</th>\n",
              "      <th>shipping_zip_code</th>\n",
              "      <th>profile_tags</th>\n",
              "      <th>user_agent</th>\n",
              "      <th>target_fraud</th>\n",
              "    </tr>\n",
              "  </thead>\n",
              "  <tbody>\n",
              "    <tr>\n",
              "      <th>0</th>\n",
              "      <td>343b7e7b-2cf8-e508-b8fd-0a0285af30aa</td>\n",
              "      <td>False</td>\n",
              "      <td>1Rk8w4Ucd5yR3KcqZzLdow==</td>\n",
              "      <td>IOVu8au3ISbo6+zmfnYwMg==</td>\n",
              "      <td>350.0</td>\n",
              "      <td>101.800832</td>\n",
              "      <td>0.259555</td>\n",
              "      <td>108.427273</td>\n",
              "      <td>0.40</td>\n",
              "      <td>25033.92</td>\n",
              "      <td>36.0</td>\n",
              "      <td>0.0</td>\n",
              "      <td>65014.12</td>\n",
              "      <td>True</td>\n",
              "      <td>N5/CE7lSkAfB04hVFFwllw==</td>\n",
              "      <td>0.0</td>\n",
              "      <td>0.0</td>\n",
              "      <td>18.0</td>\n",
              "      <td>18.0</td>\n",
              "      <td>07:52:34</td>\n",
              "      <td>444</td>\n",
              "      <td>outlook.com</td>\n",
              "      <td>2</td>\n",
              "      <td>51.0</td>\n",
              "      <td>leidelaura</td>\n",
              "      <td>645</td>\n",
              "      <td>(-29.151545708122246, -51.1386461804385)</td>\n",
              "      <td>Invite-email</td>\n",
              "      <td>514-9840782</td>\n",
              "      <td>57849.0</td>\n",
              "      <td>BR-MT</td>\n",
              "      <td>17528</td>\n",
              "      <td>{'tags': ['n19', 'n8']}</td>\n",
              "      <td>Mozilla/5.0 (Linux; Android 6.0.1; SGP771 Buil...</td>\n",
              "      <td>Nenhuma</td>\n",
              "    </tr>\n",
              "    <tr>\n",
              "      <th>1</th>\n",
              "      <td>bc2c7502-bbad-0f8c-39c3-94e881967124</td>\n",
              "      <td>False</td>\n",
              "      <td>DGCQep2AE5QRkNCshIAlFQ==</td>\n",
              "      <td>SaamrHMo23l/3TwXOWgVzw==</td>\n",
              "      <td>370.0</td>\n",
              "      <td>97.062615</td>\n",
              "      <td>0.942655</td>\n",
              "      <td>92.002546</td>\n",
              "      <td>0.24</td>\n",
              "      <td>0.00</td>\n",
              "      <td>0.0</td>\n",
              "      <td>39726.0</td>\n",
              "      <td>100018.91</td>\n",
              "      <td>False</td>\n",
              "      <td>N5/CE7lSkAfB04hVFFwllw==</td>\n",
              "      <td>0.0</td>\n",
              "      <td>0.0</td>\n",
              "      <td>14.0</td>\n",
              "      <td>14.0</td>\n",
              "      <td>02:34:29</td>\n",
              "      <td>346</td>\n",
              "      <td>gmail.com</td>\n",
              "      <td>1</td>\n",
              "      <td>17.0</td>\n",
              "      <td>diocezio</td>\n",
              "      <td>243</td>\n",
              "      <td>(-19.687710705798963, -47.94151536525154)</td>\n",
              "      <td>Radio-commercial</td>\n",
              "      <td>251-3659293</td>\n",
              "      <td>4902.0</td>\n",
              "      <td>BR-RS</td>\n",
              "      <td>40933</td>\n",
              "      <td>{'tags': ['n6', 'n7', 'nim']}</td>\n",
              "      <td>Mozilla/5.0 (Linux; Android 5.0.2; SAMSUNG SM-...</td>\n",
              "      <td>Nenhuma</td>\n",
              "    </tr>\n",
              "  </tbody>\n",
              "</table>\n",
              "</div>\n",
              "      <button class=\"colab-df-convert\" onclick=\"convertToInteractive('df-88d4b0d0-1eca-4472-963b-5f07b6f4180c')\"\n",
              "              title=\"Convert this dataframe to an interactive table.\"\n",
              "              style=\"display:none;\">\n",
              "        \n",
              "  <svg xmlns=\"http://www.w3.org/2000/svg\" height=\"24px\"viewBox=\"0 0 24 24\"\n",
              "       width=\"24px\">\n",
              "    <path d=\"M0 0h24v24H0V0z\" fill=\"none\"/>\n",
              "    <path d=\"M18.56 5.44l.94 2.06.94-2.06 2.06-.94-2.06-.94-.94-2.06-.94 2.06-2.06.94zm-11 1L8.5 8.5l.94-2.06 2.06-.94-2.06-.94L8.5 2.5l-.94 2.06-2.06.94zm10 10l.94 2.06.94-2.06 2.06-.94-2.06-.94-.94-2.06-.94 2.06-2.06.94z\"/><path d=\"M17.41 7.96l-1.37-1.37c-.4-.4-.92-.59-1.43-.59-.52 0-1.04.2-1.43.59L10.3 9.45l-7.72 7.72c-.78.78-.78 2.05 0 2.83L4 21.41c.39.39.9.59 1.41.59.51 0 1.02-.2 1.41-.59l7.78-7.78 2.81-2.81c.8-.78.8-2.07 0-2.86zM5.41 20L4 18.59l7.72-7.72 1.47 1.35L5.41 20z\"/>\n",
              "  </svg>\n",
              "      </button>\n",
              "      \n",
              "  <style>\n",
              "    .colab-df-container {\n",
              "      display:flex;\n",
              "      flex-wrap:wrap;\n",
              "      gap: 12px;\n",
              "    }\n",
              "\n",
              "    .colab-df-convert {\n",
              "      background-color: #E8F0FE;\n",
              "      border: none;\n",
              "      border-radius: 50%;\n",
              "      cursor: pointer;\n",
              "      display: none;\n",
              "      fill: #1967D2;\n",
              "      height: 32px;\n",
              "      padding: 0 0 0 0;\n",
              "      width: 32px;\n",
              "    }\n",
              "\n",
              "    .colab-df-convert:hover {\n",
              "      background-color: #E2EBFA;\n",
              "      box-shadow: 0px 1px 2px rgba(60, 64, 67, 0.3), 0px 1px 3px 1px rgba(60, 64, 67, 0.15);\n",
              "      fill: #174EA6;\n",
              "    }\n",
              "\n",
              "    [theme=dark] .colab-df-convert {\n",
              "      background-color: #3B4455;\n",
              "      fill: #D2E3FC;\n",
              "    }\n",
              "\n",
              "    [theme=dark] .colab-df-convert:hover {\n",
              "      background-color: #434B5C;\n",
              "      box-shadow: 0px 1px 3px 1px rgba(0, 0, 0, 0.15);\n",
              "      filter: drop-shadow(0px 1px 2px rgba(0, 0, 0, 0.3));\n",
              "      fill: #FFFFFF;\n",
              "    }\n",
              "  </style>\n",
              "\n",
              "      <script>\n",
              "        const buttonEl =\n",
              "          document.querySelector('#df-88d4b0d0-1eca-4472-963b-5f07b6f4180c button.colab-df-convert');\n",
              "        buttonEl.style.display =\n",
              "          google.colab.kernel.accessAllowed ? 'block' : 'none';\n",
              "\n",
              "        async function convertToInteractive(key) {\n",
              "          const element = document.querySelector('#df-88d4b0d0-1eca-4472-963b-5f07b6f4180c');\n",
              "          const dataTable =\n",
              "            await google.colab.kernel.invokeFunction('convertToInteractive',\n",
              "                                                     [key], {});\n",
              "          if (!dataTable) return;\n",
              "\n",
              "          const docLinkHtml = 'Like what you see? Visit the ' +\n",
              "            '<a target=\"_blank\" href=https://colab.research.google.com/notebooks/data_table.ipynb>data table notebook</a>'\n",
              "            + ' to learn more about interactive tables.';\n",
              "          element.innerHTML = '';\n",
              "          dataTable['output_type'] = 'display_data';\n",
              "          await google.colab.output.renderOutput(dataTable, element);\n",
              "          const docLink = document.createElement('div');\n",
              "          docLink.innerHTML = docLinkHtml;\n",
              "          element.appendChild(docLink);\n",
              "        }\n",
              "      </script>\n",
              "    </div>\n",
              "  </div>\n",
              "  "
            ],
            "text/plain": [
              "                                    ids  ... target_fraud\n",
              "0  343b7e7b-2cf8-e508-b8fd-0a0285af30aa  ...      Nenhuma\n",
              "1  bc2c7502-bbad-0f8c-39c3-94e881967124  ...      Nenhuma\n",
              "\n",
              "[2 rows x 35 columns]"
            ]
          },
          "metadata": {},
          "execution_count": 11
        }
      ]
    },
    {
      "cell_type": "markdown",
      "source": [
        "##Avaliando a distribuição através de Histogramas\n",
        "\n",
        "texto texto texto\n",
        "\n",
        "explicar os 3 histogrmaas abaixo\n",
        "\n",
        "\n",
        "\n",
        "> Primeira Linha\n",
        "\n",
        "> Seguda Linha\n",
        "\n",
        "> Terceira Linha\n",
        "\n",
        "* atenção income\n",
        "* credit_limit\n",
        "\n",
        "> Quarta Linha\n",
        "\n",
        "> Quinta Linha\n"
      ],
      "metadata": {
        "id": "zHMBqX3hLbF2"
      }
    },
    {
      "cell_type": "code",
      "source": [
        "#lista  de 3 variáveis a serem analisadas\n",
        "lista_primeira_linha = ['score_3','score_4','score_5']\n",
        "lista_segunda_linha = ['score_6','risk_rate','last_amount_borrowed']\n",
        "lista_terceira_linha = ['last_borrowed_in_months','credit_limit','income']\n",
        "lista_quarta_linha = ['n_bankruptcies','n_defaulted_loans','n_accounts']\n",
        "lista_quinta_linha = ['n_issues','application_time_applied','application_time_in_funnel']\n",
        "\n",
        "#criando o ax e o fig no matplotlib\n",
        "fig, ax = plt.subplots(figsize=(18,14),ncols=3,nrows=5)\n",
        "\n",
        "#criando os histogramas da primeira linha\n",
        "for i,variavel in enumerate(lista_primeira_linha):\n",
        "  df[variavel].hist(ax=ax[0][i],rwidth=0.9)\n",
        "  ajuste_layout(ax=ax[0][i],grid=True,titulo=variavel,location='center',y_milhares=True)\n",
        "\n",
        "#criando os histogramas da segunda linha\n",
        "for i,variavel in enumerate(lista_segunda_linha):\n",
        "  df[variavel].hist(ax=ax[1][i],rwidth=0.9,color='#0A1172')\n",
        "  ajuste_layout(ax=ax[1][i],grid=True,titulo=variavel,location='center',y_milhares=True)\n",
        "\n",
        "#criando os histogramas da terceira linha\n",
        "for i,variavel in enumerate(lista_terceira_linha):\n",
        "  df[variavel].hist(ax=ax[2][i],rwidth=0.9,color='#281e5d')\n",
        "  ajuste_layout(ax=ax[2][i],grid=True,titulo=variavel,location='center',y_milhares=True)\n",
        "\n",
        "#criando os histogramas da quarta linha\n",
        "for i,variavel in enumerate(lista_quarta_linha):\n",
        "  df[variavel].hist(ax=ax[3][i],rwidth=0.9,color='#151e3d')\n",
        "  ajuste_layout(ax=ax[3][i],grid=True,titulo=variavel,location='center',y_milhares=True)\n",
        "\n",
        "#criando os histogramas da quinta linha\n",
        "for i,variavel in enumerate(lista_quarta_linha):\n",
        "  df[variavel].hist(ax=ax[4][i],rwidth=0.9,color='#051094')\n",
        "  ajuste_layout(ax=ax[4][i],grid=True,titulo=variavel,location='center',y_milhares=True)\n",
        "\n",
        "#plotando os gráficos\n",
        "plt.tight_layout(pad=2);"
      ],
      "metadata": {
        "colab": {
          "base_uri": "https://localhost:8080/",
          "height": 998
        },
        "id": "Ce3bCa4oN48H",
        "outputId": "77015761-fd90-43d8-81d2-391001b29a3a"
      },
      "execution_count": 12,
      "outputs": [
        {
          "output_type": "display_data",
          "data": {
            "image/png": "[encoded data removed]",
            "text/plain": [
              "<Figure size 1296x1008 with 15 Axes>"
            ]
          },
          "metadata": {
            "needs_background": "dark"
          }
        }
      ]
    },
    {
      "cell_type": "markdown",
      "source": [
        "## Avaliando os Outliers\n",
        "\n",
        "texto texto texto\n",
        "\n",
        "procurar por dbscan\n",
        "\n",
        "* credit_limit não tem distribuição normal"
      ],
      "metadata": {
        "id": "_aIop3tYLEvB"
      }
    },
    {
      "cell_type": "code",
      "source": [
        "#ver as estatísticas descritivas dos dados\n",
        "df.describe().round(2)"
      ],
      "metadata": {
        "colab": {
          "base_uri": "https://localhost:8080/",
          "height": 364
        },
        "id": "RkuqUTy5A2wP",
        "outputId": "7e8a5911-e4f9-4d51-b4fd-86914c482927"
      },
      "execution_count": 13,
      "outputs": [
        {
          "output_type": "execute_result",
          "data": {
            "text/html": [
              "\n",
              "  <div id=\"df-777b8f41-c6a4-4fa7-8019-90350b261fbf\">\n",
              "    <div class=\"colab-df-container\">\n",
              "      <div>\n",
              "<style scoped>\n",
              "    .dataframe tbody tr th:only-of-type {\n",
              "        vertical-align: middle;\n",
              "    }\n",
              "\n",
              "    .dataframe tbody tr th {\n",
              "        vertical-align: top;\n",
              "    }\n",
              "\n",
              "    .dataframe thead th {\n",
              "        text-align: right;\n",
              "    }\n",
              "</style>\n",
              "<table border=\"1\" class=\"dataframe\">\n",
              "  <thead>\n",
              "    <tr style=\"text-align: right;\">\n",
              "      <th></th>\n",
              "      <th>score_3</th>\n",
              "      <th>score_4</th>\n",
              "      <th>score_5</th>\n",
              "      <th>score_6</th>\n",
              "      <th>risk_rate</th>\n",
              "      <th>last_amount_borrowed</th>\n",
              "      <th>last_borrowed_in_months</th>\n",
              "      <th>credit_limit</th>\n",
              "      <th>income</th>\n",
              "      <th>n_bankruptcies</th>\n",
              "      <th>n_defaulted_loans</th>\n",
              "      <th>n_accounts</th>\n",
              "      <th>n_issues</th>\n",
              "      <th>application_time_in_funnel</th>\n",
              "      <th>external_data_provider_credit_checks_last_month</th>\n",
              "      <th>external_data_provider_email_seen_before</th>\n",
              "      <th>external_data_provider_fraud_score</th>\n",
              "      <th>reported_income</th>\n",
              "      <th>shipping_zip_code</th>\n",
              "    </tr>\n",
              "  </thead>\n",
              "  <tbody>\n",
              "    <tr>\n",
              "      <th>count</th>\n",
              "      <td>41741.00</td>\n",
              "      <td>41741.00</td>\n",
              "      <td>41741.00</td>\n",
              "      <td>41741.00</td>\n",
              "      <td>41741.00</td>\n",
              "      <td>41741.00</td>\n",
              "      <td>41741.00</td>\n",
              "      <td>28632.00</td>\n",
              "      <td>41741.00</td>\n",
              "      <td>41606.00</td>\n",
              "      <td>41729.00</td>\n",
              "      <td>41741.00</td>\n",
              "      <td>30818.00</td>\n",
              "      <td>41741.00</td>\n",
              "      <td>41741.00</td>\n",
              "      <td>39656.00</td>\n",
              "      <td>41741.00</td>\n",
              "      <td>41741.0</td>\n",
              "      <td>41741.00</td>\n",
              "    </tr>\n",
              "    <tr>\n",
              "      <th>mean</th>\n",
              "      <td>346.46</td>\n",
              "      <td>100.01</td>\n",
              "      <td>0.50</td>\n",
              "      <td>99.92</td>\n",
              "      <td>0.29</td>\n",
              "      <td>4512.74</td>\n",
              "      <td>13.74</td>\n",
              "      <td>33877.22</td>\n",
              "      <td>71080.12</td>\n",
              "      <td>0.08</td>\n",
              "      <td>0.00</td>\n",
              "      <td>10.64</td>\n",
              "      <td>11.02</td>\n",
              "      <td>247.75</td>\n",
              "      <td>1.50</td>\n",
              "      <td>12.73</td>\n",
              "      <td>500.49</td>\n",
              "      <td>inf</td>\n",
              "      <td>33910.86</td>\n",
              "    </tr>\n",
              "    <tr>\n",
              "      <th>std</th>\n",
              "      <td>110.10</td>\n",
              "      <td>3.18</td>\n",
              "      <td>0.29</td>\n",
              "      <td>10.02</td>\n",
              "      <td>0.10</td>\n",
              "      <td>7811.07</td>\n",
              "      <td>19.98</td>\n",
              "      <td>36141.99</td>\n",
              "      <td>52259.78</td>\n",
              "      <td>0.27</td>\n",
              "      <td>0.08</td>\n",
              "      <td>4.59</td>\n",
              "      <td>4.60</td>\n",
              "      <td>146.33</td>\n",
              "      <td>1.11</td>\n",
              "      <td>125.71</td>\n",
              "      <td>287.99</td>\n",
              "      <td>NaN</td>\n",
              "      <td>12696.43</td>\n",
              "    </tr>\n",
              "    <tr>\n",
              "      <th>min</th>\n",
              "      <td>0.00</td>\n",
              "      <td>86.19</td>\n",
              "      <td>0.00</td>\n",
              "      <td>60.66</td>\n",
              "      <td>0.00</td>\n",
              "      <td>0.00</td>\n",
              "      <td>0.00</td>\n",
              "      <td>0.00</td>\n",
              "      <td>4821.18</td>\n",
              "      <td>0.00</td>\n",
              "      <td>0.00</td>\n",
              "      <td>0.00</td>\n",
              "      <td>0.00</td>\n",
              "      <td>0.00</td>\n",
              "      <td>0.00</td>\n",
              "      <td>-999.00</td>\n",
              "      <td>0.00</td>\n",
              "      <td>403.0</td>\n",
              "      <td>12001.00</td>\n",
              "    </tr>\n",
              "    <tr>\n",
              "      <th>25%</th>\n",
              "      <td>270.00</td>\n",
              "      <td>97.86</td>\n",
              "      <td>0.25</td>\n",
              "      <td>93.18</td>\n",
              "      <td>0.22</td>\n",
              "      <td>0.00</td>\n",
              "      <td>0.00</td>\n",
              "      <td>9975.00</td>\n",
              "      <td>44019.58</td>\n",
              "      <td>0.00</td>\n",
              "      <td>0.00</td>\n",
              "      <td>7.00</td>\n",
              "      <td>8.00</td>\n",
              "      <td>120.00</td>\n",
              "      <td>1.00</td>\n",
              "      <td>11.00</td>\n",
              "      <td>252.00</td>\n",
              "      <td>50910.0</td>\n",
              "      <td>22914.00</td>\n",
              "    </tr>\n",
              "    <tr>\n",
              "      <th>50%</th>\n",
              "      <td>340.00</td>\n",
              "      <td>100.02</td>\n",
              "      <td>0.50</td>\n",
              "      <td>99.98</td>\n",
              "      <td>0.29</td>\n",
              "      <td>0.00</td>\n",
              "      <td>0.00</td>\n",
              "      <td>25213.00</td>\n",
              "      <td>60044.09</td>\n",
              "      <td>0.00</td>\n",
              "      <td>0.00</td>\n",
              "      <td>10.00</td>\n",
              "      <td>10.00</td>\n",
              "      <td>248.00</td>\n",
              "      <td>2.00</td>\n",
              "      <td>27.00</td>\n",
              "      <td>502.00</td>\n",
              "      <td>101623.0</td>\n",
              "      <td>33877.00</td>\n",
              "    </tr>\n",
              "    <tr>\n",
              "      <th>75%</th>\n",
              "      <td>420.00</td>\n",
              "      <td>102.14</td>\n",
              "      <td>0.75</td>\n",
              "      <td>106.63</td>\n",
              "      <td>0.36</td>\n",
              "      <td>7510.60</td>\n",
              "      <td>36.00</td>\n",
              "      <td>46492.50</td>\n",
              "      <td>85032.89</td>\n",
              "      <td>0.00</td>\n",
              "      <td>0.00</td>\n",
              "      <td>13.00</td>\n",
              "      <td>14.00</td>\n",
              "      <td>375.00</td>\n",
              "      <td>2.00</td>\n",
              "      <td>43.00</td>\n",
              "      <td>747.00</td>\n",
              "      <td>151248.0</td>\n",
              "      <td>44923.00</td>\n",
              "    </tr>\n",
              "    <tr>\n",
              "      <th>max</th>\n",
              "      <td>990.00</td>\n",
              "      <td>113.98</td>\n",
              "      <td>1.00</td>\n",
              "      <td>142.19</td>\n",
              "      <td>0.90</td>\n",
              "      <td>35059.60</td>\n",
              "      <td>60.00</td>\n",
              "      <td>448269.00</td>\n",
              "      <td>5000027.83</td>\n",
              "      <td>5.00</td>\n",
              "      <td>5.00</td>\n",
              "      <td>49.00</td>\n",
              "      <td>49.00</td>\n",
              "      <td>500.00</td>\n",
              "      <td>3.00</td>\n",
              "      <td>59.00</td>\n",
              "      <td>1000.00</td>\n",
              "      <td>inf</td>\n",
              "      <td>56000.00</td>\n",
              "    </tr>\n",
              "  </tbody>\n",
              "</table>\n",
              "</div>\n",
              "      <button class=\"colab-df-convert\" onclick=\"convertToInteractive('df-777b8f41-c6a4-4fa7-8019-90350b261fbf')\"\n",
              "              title=\"Convert this dataframe to an interactive table.\"\n",
              "              style=\"display:none;\">\n",
              "        \n",
              "  <svg xmlns=\"http://www.w3.org/2000/svg\" height=\"24px\"viewBox=\"0 0 24 24\"\n",
              "       width=\"24px\">\n",
              "    <path d=\"M0 0h24v24H0V0z\" fill=\"none\"/>\n",
              "    <path d=\"M18.56 5.44l.94 2.06.94-2.06 2.06-.94-2.06-.94-.94-2.06-.94 2.06-2.06.94zm-11 1L8.5 8.5l.94-2.06 2.06-.94-2.06-.94L8.5 2.5l-.94 2.06-2.06.94zm10 10l.94 2.06.94-2.06 2.06-.94-2.06-.94-.94-2.06-.94 2.06-2.06.94z\"/><path d=\"M17.41 7.96l-1.37-1.37c-.4-.4-.92-.59-1.43-.59-.52 0-1.04.2-1.43.59L10.3 9.45l-7.72 7.72c-.78.78-.78 2.05 0 2.83L4 21.41c.39.39.9.59 1.41.59.51 0 1.02-.2 1.41-.59l7.78-7.78 2.81-2.81c.8-.78.8-2.07 0-2.86zM5.41 20L4 18.59l7.72-7.72 1.47 1.35L5.41 20z\"/>\n",
              "  </svg>\n",
              "      </button>\n",
              "      \n",
              "  <style>\n",
              "    .colab-df-container {\n",
              "      display:flex;\n",
              "      flex-wrap:wrap;\n",
              "      gap: 12px;\n",
              "    }\n",
              "\n",
              "    .colab-df-convert {\n",
              "      background-color: #E8F0FE;\n",
              "      border: none;\n",
              "      border-radius: 50%;\n",
              "      cursor: pointer;\n",
              "      display: none;\n",
              "      fill: #1967D2;\n",
              "      height: 32px;\n",
              "      padding: 0 0 0 0;\n",
              "      width: 32px;\n",
              "    }\n",
              "\n",
              "    .colab-df-convert:hover {\n",
              "      background-color: #E2EBFA;\n",
              "      box-shadow: 0px 1px 2px rgba(60, 64, 67, 0.3), 0px 1px 3px 1px rgba(60, 64, 67, 0.15);\n",
              "      fill: #174EA6;\n",
              "    }\n",
              "\n",
              "    [theme=dark] .colab-df-convert {\n",
              "      background-color: #3B4455;\n",
              "      fill: #D2E3FC;\n",
              "    }\n",
              "\n",
              "    [theme=dark] .colab-df-convert:hover {\n",
              "      background-color: #434B5C;\n",
              "      box-shadow: 0px 1px 3px 1px rgba(0, 0, 0, 0.15);\n",
              "      filter: drop-shadow(0px 1px 2px rgba(0, 0, 0, 0.3));\n",
              "      fill: #FFFFFF;\n",
              "    }\n",
              "  </style>\n",
              "\n",
              "      <script>\n",
              "        const buttonEl =\n",
              "          document.querySelector('#df-777b8f41-c6a4-4fa7-8019-90350b261fbf button.colab-df-convert');\n",
              "        buttonEl.style.display =\n",
              "          google.colab.kernel.accessAllowed ? 'block' : 'none';\n",
              "\n",
              "        async function convertToInteractive(key) {\n",
              "          const element = document.querySelector('#df-777b8f41-c6a4-4fa7-8019-90350b261fbf');\n",
              "          const dataTable =\n",
              "            await google.colab.kernel.invokeFunction('convertToInteractive',\n",
              "                                                     [key], {});\n",
              "          if (!dataTable) return;\n",
              "\n",
              "          const docLinkHtml = 'Like what you see? Visit the ' +\n",
              "            '<a target=\"_blank\" href=https://colab.research.google.com/notebooks/data_table.ipynb>data table notebook</a>'\n",
              "            + ' to learn more about interactive tables.';\n",
              "          element.innerHTML = '';\n",
              "          dataTable['output_type'] = 'display_data';\n",
              "          await google.colab.output.renderOutput(dataTable, element);\n",
              "          const docLink = document.createElement('div');\n",
              "          docLink.innerHTML = docLinkHtml;\n",
              "          element.appendChild(docLink);\n",
              "        }\n",
              "      </script>\n",
              "    </div>\n",
              "  </div>\n",
              "  "
            ],
            "text/plain": [
              "        score_3   score_4  ...  reported_income  shipping_zip_code\n",
              "count  41741.00  41741.00  ...          41741.0           41741.00\n",
              "mean     346.46    100.01  ...              inf           33910.86\n",
              "std      110.10      3.18  ...              NaN           12696.43\n",
              "min        0.00     86.19  ...            403.0           12001.00\n",
              "25%      270.00     97.86  ...          50910.0           22914.00\n",
              "50%      340.00    100.02  ...         101623.0           33877.00\n",
              "75%      420.00    102.14  ...         151248.0           44923.00\n",
              "max      990.00    113.98  ...              inf           56000.00\n",
              "\n",
              "[8 rows x 19 columns]"
            ]
          },
          "metadata": {},
          "execution_count": 13
        }
      ]
    },
    {
      "cell_type": "code",
      "source": [
        ""
      ],
      "metadata": {
        "id": "a_Ga27HHA2yZ"
      },
      "execution_count": 13,
      "outputs": []
    },
    {
      "cell_type": "code",
      "source": [
        ""
      ],
      "metadata": {
        "id": "oLLZK01binWc"
      },
      "execution_count": 13,
      "outputs": []
    },
    {
      "cell_type": "code",
      "source": [
        ""
      ],
      "metadata": {
        "id": "BbUhUm0Ciue7"
      },
      "execution_count": 13,
      "outputs": []
    },
    {
      "cell_type": "code",
      "source": [
        ""
      ],
      "metadata": {
        "id": "PmpQT5eciug_"
      },
      "execution_count": 13,
      "outputs": []
    },
    {
      "cell_type": "code",
      "source": [
        ""
      ],
      "metadata": {
        "id": "JiwOUMwCinYV"
      },
      "execution_count": 13,
      "outputs": []
    },
    {
      "cell_type": "markdown",
      "source": [
        "## Corelação dos Dados e algumas visualizações interessantes\n",
        "texto texto"
      ],
      "metadata": {
        "id": "TH2ZiI2uihOq"
      }
    },
    {
      "cell_type": "code",
      "source": [
        ""
      ],
      "metadata": {
        "id": "tVDWNGAtLfp_"
      },
      "execution_count": 13,
      "outputs": []
    },
    {
      "cell_type": "code",
      "source": [
        ""
      ],
      "metadata": {
        "id": "7ZY3AAUNLfr0"
      },
      "execution_count": 13,
      "outputs": []
    },
    {
      "cell_type": "code",
      "source": [
        ""
      ],
      "metadata": {
        "id": "mYAiSlU6Mk1i"
      },
      "execution_count": 13,
      "outputs": []
    },
    {
      "cell_type": "markdown",
      "source": [
        "## Avaliando o balanceamento dos dados na Variável Alvo\n",
        "\n",
        "texto texto texto"
      ],
      "metadata": {
        "id": "6OVgFRYSL9-V"
      }
    },
    {
      "cell_type": "code",
      "source": [
        "#criação do fig e ax no matplotlib\n",
        "fig,ax = plt.subplots(figsize=(8,6))\n",
        "\n",
        "#criação do gráfico\n",
        "df.target_default.value_counts().plot(kind='bar',ax=ax)\n",
        "ajuste_layout(ax=ax,titulo='Avaliando o Balanceamento dos Dados',\n",
        "              addlabels=True,y=list(df.target_default.value_counts()),distancia = 10**3,\n",
        "              xlabels=True,lista_para_o_x=['paga em dia','inadimplente'])\n",
        "\n",
        "\n",
        "porcentagem = df.target_default.sum() / df.shape[0]\n",
        "ax.annotate('{:.2%}'.format(porcentagem),\n",
        "            xy=(1, 10000), xycoords='data',\n",
        "            xytext=(0.78, 0.42), textcoords='axes fraction',\n",
        "            arrowprops=dict(facecolor='grey',arrowstyle=\"->\"),\n",
        "            horizontalalignment='right', verticalalignment='top')\n",
        "\n",
        "\n",
        "#plotando o gráfico\n",
        "plt.show();"
      ],
      "metadata": {
        "id": "_HdkEAmTPA0M",
        "colab": {
          "base_uri": "https://localhost:8080/",
          "height": 418
        },
        "outputId": "5034f6cb-1f9d-41ce-d8d4-c58c40579e84"
      },
      "execution_count": 93,
      "outputs": [
        {
          "output_type": "display_data",
          "data": {
            "image/png": "[encoded data removed]",
            "text/plain": [
              "<Figure size 576x432 with 1 Axes>"
            ]
          },
          "metadata": {}
        }
      ]
    },
    {
      "cell_type": "code",
      "source": [
        "ax.annotate('{:.2%}'.format(porcentagem),\n",
        "            xy=(1, 10000), xycoords='data',\n",
        "            xytext=(0.78, 0.42), textcoords='axes fraction',\n",
        "            arrowprops=dict(facecolor='grey', shrink=0.01),\n",
        "            horizontalalignment='right', verticalalignment='top')"
      ],
      "metadata": {
        "id": "HGBhITFBn94B"
      },
      "execution_count": null,
      "outputs": []
    },
    {
      "cell_type": "markdown",
      "source": [
        "#Definindo as principais Features\n",
        "\n",
        "* fazer pipelines e normalizar\n",
        "* balancear dados\n",
        "* trocar True e False por 0 e 1"
      ],
      "metadata": {
        "id": "ImcHO9Nwi5Ox"
      }
    },
    {
      "cell_type": "code",
      "source": [
        ""
      ],
      "metadata": {
        "id": "Tllar4sBi7Zi"
      },
      "execution_count": 14,
      "outputs": []
    },
    {
      "cell_type": "code",
      "source": [
        ""
      ],
      "metadata": {
        "id": "QLhpMbo8MEuK"
      },
      "execution_count": 14,
      "outputs": []
    },
    {
      "cell_type": "code",
      "source": [
        ""
      ],
      "metadata": {
        "id": "QPA7HPQNMEwV"
      },
      "execution_count": 14,
      "outputs": []
    },
    {
      "cell_type": "markdown",
      "source": [
        "## Separando para treino e teste"
      ],
      "metadata": {
        "id": "FchqYf23Mnop"
      }
    },
    {
      "cell_type": "code",
      "source": [
        ""
      ],
      "metadata": {
        "id": "38Hp4o6xMp12"
      },
      "execution_count": 14,
      "outputs": []
    },
    {
      "cell_type": "code",
      "source": [
        ""
      ],
      "metadata": {
        "id": "egg4oEMNMp3v"
      },
      "execution_count": 14,
      "outputs": []
    },
    {
      "cell_type": "code",
      "source": [
        ""
      ],
      "metadata": {
        "id": "DKxi8zo2Mp59"
      },
      "execution_count": 14,
      "outputs": []
    },
    {
      "cell_type": "markdown",
      "source": [
        "#Preparando os modelos\n",
        "usar random forest classifer, xgboost e alguma rede neural de classificação.\n",
        "\n",
        "[usar gtb](https://papers.ssrn.com/sol3/papers.cfm?abstract_id=3435104)\n",
        "\n",
        "métricas: Our application is clearly one in which there are very few observations of the class that\n",
        "we are aiming to predict (in this case defaults), compared to the other class (non-defaults).\n",
        "In some models, this could lead the algorithm towards ignoring one class altogether. In other\n",
        "words, the model may not have sufficient data to learn what actual defaults look like. In such\n",
        "a situation it might treat the defaulting loans as outliers or totally random events.5\n",
        "In such a\n",
        "situation, it might be useful to have an additional metric that focusses on how good the classifier\n",
        "is at making sure that most of the mortgages identified as defaulting actually defaulted. The\n",
        "ratio between true positives and all positively-classified observations (true and false positives)\n",
        "is defined as ‘precision’. The precision-recall curve identifies the trade-offs in datasets with rare\n",
        "events"
      ],
      "metadata": {
        "id": "J9sBsYPwi7yd"
      }
    },
    {
      "cell_type": "code",
      "source": [
        ""
      ],
      "metadata": {
        "id": "OQy0QkCFi85z"
      },
      "execution_count": 14,
      "outputs": []
    },
    {
      "cell_type": "markdown",
      "source": [
        "#Tuning dos Modelos"
      ],
      "metadata": {
        "id": "4DNUABT1i_Q4"
      }
    },
    {
      "cell_type": "code",
      "source": [
        ""
      ],
      "metadata": {
        "id": "mdN9QU_NjAra"
      },
      "execution_count": 14,
      "outputs": []
    },
    {
      "cell_type": "code",
      "source": [
        ""
      ],
      "metadata": {
        "id": "FyOtLX_yNrpy"
      },
      "execution_count": 14,
      "outputs": []
    },
    {
      "cell_type": "code",
      "source": [
        ""
      ],
      "metadata": {
        "id": "DjjHzqUNNrrv"
      },
      "execution_count": 14,
      "outputs": []
    },
    {
      "cell_type": "markdown",
      "source": [
        "#Considerações finais\n",
        "\n",
        "* x\n",
        "* x\n",
        "* x\n",
        "* x\n",
        "* Seu madruga é um caloteiro"
      ],
      "metadata": {
        "id": "hytAkgX6jBFt"
      }
    }
  ]
}