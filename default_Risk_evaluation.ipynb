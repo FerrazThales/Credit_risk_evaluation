{
  "nbformat": 4,
  "nbformat_minor": 0,
  "metadata": {
    "colab": {
      "name": "default_Risk_evaluation.ipynb",
      "provenance": [],
      "collapsed_sections": [],
      "include_colab_link": true
    },
    "kernelspec": {
      "name": "python3",
      "display_name": "Python 3"
    }
  },
  "cells": [
    {
      "cell_type": "markdown",
      "metadata": {
        "id": "view-in-github",
        "colab_type": "text"
      },
      "source": [
        "<a href=\"https://colab.research.google.com/github/FerrazThales/default_risk_evaluation/blob/main/default_Risk_evaluation.ipynb\" target=\"_parent\"><img src=\"https://colab.research.google.com/assets/colab-badge.svg\" alt=\"Open In Colab\"/></a>"
      ]
    },
    {
      "cell_type": "markdown",
      "metadata": {
        "id": "X2k0C9ObFWpR"
      },
      "source": [
        "<h1 align=\"center\"><b>Encontre eu e meus projetos nas redes sociais!</b></h1>\n",
        "<table>\n",
        "  <tr>\n",
        "  <td><a href=\"https://thalesferraz.medium.com/\">\n",
        "  <img src=\"https://github.com/FerrazThales/FerrazThales/blob/main/logo_gif.gif?raw=true\" width=\"900\" title=\"Olá, Meu nome é Thales e sou cientista de Dados!\"/>\n",
        "  </a>\n",
        "  </td>\n",
        "  <td><a href=\"https://github.com/FerrazThales\">\n",
        "  <img hspace=30 vspace=110 src=\"https://image.flaticon.com/icons/png/512/1051/1051326.png\" width=\"60%\" title=\"Entre em meu Github e veja mais projetos!\" /> \n",
        "  </a>\n",
        "  </td>\n",
        "  <td>\n",
        "  <a href=\"google.com\">\n",
        "  <img vspace=110 src=\"https://download.logo.wine/logo/Medium_(website)/Medium_(website)-Logo.wine.png\" width=\"800\" title=\"Veja este meu projeto no Medium!\"/>\n",
        "  </a>\n",
        "  </td>\n",
        "  <td><a href=\"https://www.linkedin.com/in/thalesdefreitasferraz/\"><img vspace=150 src=\"https://image.flaticon.com/icons/png/512/889/889122.png\" width=\"40%\" title=\"Vamos trocar uma idéia sobre Data Science no LinkedIn?\" />\n",
        "  </a>\n",
        "  </td>\n",
        "  </tr>\n",
        "</table>"
      ]
    },
    {
      "cell_type": "markdown",
      "source": [
        "# O que você vai aprender neste projeto:\n",
        "\n",
        "* As **Fintechs** e suas perspectivas.\n",
        "* Tratamento de Outliers\n",
        "* x\n",
        "\n",
        "[n2](https://github.com/otavio-s-s/data_science/blob/master/An%C3%A1lise%20de%20Risco%20de%20Cr%C3%A9dito%20com%20Machine%20Learning.ipynb)\n"
      ],
      "metadata": {
        "id": "opYrW1XaWKAV"
      }
    },
    {
      "cell_type": "markdown",
      "metadata": {
        "id": "ZNvmL_lMsAqU"
      },
      "source": [
        "# As crises e as Oportunidades\n",
        "\n",
        "No Brasil, as **fintechs** estão regulamentadas desde abril de **2018** pelo *Conselho Monetário Nacional* (CMN). Estas empresas buscam **facilitar** serviços financeiros por meio da **tecnologia**. Há diferentes **categorias** de *fintechs* que atuam em nosso país, as **principais** são de crédito, pagamento, empréstimo ou negociação de dívidas.\n",
        "\n",
        "No mundo, as *fintechs* surgiram em **resposta** à [crise financeira de 2008](https://www.politize.com.br/crise-financeira-de-2008/). Nesta época, as instituições **tradicionais** perderam grande parte de sua **credibilidade** e ainda o [governo americano](https://economia.uol.com.br/noticias/redacao/2018/09/15/crise-financeira-de-2008-10-anos-resgate-revolta-populacao.htm) teve que **arcar** com alguns custos para **salvar** o sistema financeiro. Por conta disso, surgiram inúmeras **penalidades** e **regulamentações** para evitar novas crises, o que **burocratizou** e encareceu os processos.\n",
        "\n",
        "Foi nesta **brecha** que as empresas que utilizaram **tecnologia** para oferecer produtos mais **baratos** e **flexíveis** ganharam mercado. Além disso, elas puderam se **aproveitar** da [mão-de-obra](https://fintech.com.br/blog/fintech/crescimento-das-fintechs/) com grande expertise que havia sido **demitida** dos bancos tradicionais durante a crise.\n",
        "\n",
        "Mas nem tudo é um mar de rosas. [A quebra da fintech inglesa de crédito Greensill](https://www.nytimes.com/2021/03/28/business/greensill-capital-collapse.html) trouxe novas **reflexões** sobre os **riscos** de algumas operações financeiras e da atuação **intensiva** da tecnologia neste segmento de **mercado**.\n",
        "\n",
        "<center><img src=\"https://image.freepik.com/free-vector/hand-drawn-bankruptcy-concept_52683-36194.jpg\" width=\"50%\"></center>\n",
        "\n",
        "Uma das área que causa mais **problemas** para bancos, financiadoras e empresários é a taxa de **inadimplência** por parte da sua carteira de clientes.\n",
        "\n",
        "Avaliar se uma pessoa irá **deixar** de cumprir com suas **obrigações** *financeiras* é de extrema **importância** e pode causar um grande impacto no **balanço** da instituição. Por conta disso, cada vez mais estão surgindo soluções que visam **minimizar** o risco de *default*. \n",
        "\n",
        "*Default* é um termo utilizado para indicar o **não** cumprimento das obrigações ou condições de um **empréstimo** (como financiamentos ou dívidas de cartão de crédito). Geralmente, o **principal** motivo para o **descumprimento** das condições de pagamento é **incapacidade** financeira do cliente. \n",
        "\n",
        "O maior [default privado da história](https://www.suno.com.br/artigos/default/) é o do banco *Lehman Brothers*. Motivado pela **falência** da instituição durante a crise financeira de 2008, o banco **deixou** de pagar 600 bilhões de **dólares** para seus credores e investidores.\n",
        "\n",
        "<center><img src=\"https://image.freepik.com/fotos-gratis/feminino-contribuinte-esqueceu-de-enviar-declaracao-de-imposto_1163-3865.jpg\" width=\"50%\"></center>\n",
        "\n",
        "Por causa disso, bancos tradicionais e Fintechs têm **apostado** cada vez mais em modelos de *Machine Learning* para prevenir a **inadimplência** de alguns clientes.\n",
        "\n",
        "*Default prediction* é o nome dado para técnicas que utilizam **inteligência artificial** para tentar mitigar os riscos de **calote** se baseando em **dados** cadastrais e movimentações financeiras dos clientes.\n",
        "\n",
        "# Avaliação de Risco de Inadimplência\n",
        "\n",
        "<p align='center'>\n",
        "<img src=\"https://www.datocms-assets.com/39397/1614171395-open-graph-logo-large-br.png\" width=\"40%\"></p>\n",
        "\n",
        "Dentre as **principais** instituições financeira que utilizam estas técnicas, o [Nubank](https://nubank.com.br/sobre-nos) é uma das que mais tem se **destacado** com seus times de *Data Science*.\n",
        "\n",
        "Neste problema, o objetivo é prever qual a **probabilidade** de um cliente da Startup Nubank **não** cumprir com suas obrigações financeiras e **deixar** de pagar a sua fatura do Cartão de Crédito. Ou seja, prever com alto índice de acerto a **inadimplência** na operação de crédito.\n",
        "  \n",
        "Vale ressaltar que se considerou que **avaliação** deve ser realizada no **momento** em que o cliente **solicita** o cartão - frequentemente é o **primeiro** contato com a instituição.\n",
        "\n",
        "Espera-se que o modelo seja capaz de **minimizar** as perdas financeiras do empresa. Além disso, que também consiga **diminuir** a incidência de **falsos** positivos. Uma vez que este tipo de erro traz grandes **transtornos** aos clientes.\n",
        "\n"
      ]
    },
    {
      "cell_type": "code",
      "source": [
        "#módulo para remover os warnings\n",
        "import warnings\n",
        "warnings.filterwarnings('ignore')\n",
        "\n",
        "#importando as bibliotecas necessárias\n",
        "import pandas as pd\n",
        "import numpy as np\n",
        "import matplotlib.pyplot as plt\n",
        "import matplotlib\n",
        "%matplotlib inline\n",
        "import seaborn as sns\n",
        "\n",
        "#módulos de pré-processamento\n",
        "from sklearn.preprocessing import MultiLabelBinarizer, OneHotEncoder, StandardScaler\n",
        "\n",
        "#separar em treino e teste\n",
        "from sklearn.model_selection import train_test_split\n",
        "\n",
        "#algoritmo para under sampling (balanceamento dos dados)\n",
        "from imblearn.under_sampling import RandomUnderSampler\n",
        "\n",
        "#imputar a média em valores que são ausentes\n",
        "from sklearn.impute import SimpleImputer\n",
        "\n",
        "#modelo baseline e detectar anomalias\n",
        "from sklearn.ensemble import RandomForestClassifier,IsolationForest\n",
        "\n",
        "#Classificador XGBoost\n",
        "from xgboost import XGBClassifier\n",
        "\n",
        "#matriz de confusao\n",
        "from sklearn.metrics import confusion_matrix,ConfusionMatrixDisplay\n",
        "\n",
        "#matrizes esparsas\n",
        "from scipy.sparse import hstack"
      ],
      "metadata": {
        "id": "L93RUIh_XdGM"
      },
      "execution_count": 1,
      "outputs": []
    },
    {
      "cell_type": "markdown",
      "source": [
        "Neste projeto abusaremos de visualizações **gráficas**. Para evitar a fadiga gerada por **reescrever** cada código, já deixaremos uma função de ajuste dos gráficos pronta para fazer este **serviço**."
      ],
      "metadata": {
        "id": "dk3STh_Xccyh"
      }
    },
    {
      "cell_type": "code",
      "source": [
        "#defindo uma função de ajuste para o layout dos gráficos\n",
        "def ajuste_layout(ax,titulo=None,location='left',xlabel=None,rotacao=0,\n",
        "                  ylabel=None,addlabels=False,\n",
        "                  y=None,distancia=0,dinheiro=False,\n",
        "                  grid=False,grid_lw=0.25,grid_style='--',\n",
        "                  y_milhares=False,x_milhares=False,\n",
        "                  xlabels = False,lista_para_o_x=None):\n",
        "\n",
        "  ax.set_frame_on(False)\n",
        "  ax.tick_params(axis='both',rotation=rotacao,colors='grey',length=0,labelsize=12)\n",
        "  ax.set_xlabel(xlabel,labelpad=20,fontdict={'fontsize':12},color='#4c4c4c')\n",
        "  ax.set_ylabel(ylabel,labelpad=20,fontdict={'fontsize':12},color='#4c4c4c')\n",
        "  ax.set_title(titulo,loc=location,pad=30,fontdict={'fontsize':20},color='#474747')\n",
        "\n",
        "  if addlabels:\n",
        "\n",
        "    ax.get_yaxis().set_visible(False)\n",
        "    if dinheiro:\n",
        "      for i in range(len(y)):\n",
        "        ax.text(i,y[i] + distancia,'${:,}'.format(int(y[i])).replace(',','.'),ha='center',fontsize=16,color='grey')\n",
        "    else:\n",
        "      for i in range(len(y)):\n",
        "        ax.text(i,y[i] + distancia,'{:,}'.format(int(y[i])).replace(',','.'),ha='center',fontsize=16,color='grey')\n",
        "  \n",
        "  if grid:\n",
        "    ax.grid(linestyle=grid_style,lw=grid_lw,aa=True)\n",
        "\n",
        "  if y_milhares:\n",
        "    ax.get_yaxis().set_major_formatter(matplotlib.ticker.FuncFormatter(lambda x, p: format(int(x), ',').replace(',','.')))\n",
        "  \n",
        "  if x_milhares:\n",
        "    ax.get_xaxis().set_major_formatter(matplotlib.ticker.FuncFormatter(lambda x, p: format(int(x), ',').replace(',','.')))\n",
        "  \n",
        "  if xlabels:\n",
        "    ax.set_xticklabels(lista_para_o_x,fontdict={'fontsize':12},color='#6a6a6f',rotation=0)"
      ],
      "metadata": {
        "id": "Qzl9mxTe3-zb"
      },
      "execution_count": 2,
      "outputs": []
    },
    {
      "cell_type": "markdown",
      "metadata": {
        "id": "5PCK4RxLpqd8"
      },
      "source": [
        "# Preparação dos Dados e Análise Exploratória\n",
        "\n",
        "O conjunto de **dados** empregado neste projeto parte de uma **competição** realizada pela Startup [Nubank](https://nubank.com.br/sobre-nos) a fim de revelar talentos e potenciais contratações desta *fintech*.\n",
        "\n",
        "As informações que serão utilizadas na análise estão **disponíveis** [neste link](http://dl.dropboxusercontent.com/s/xn2a4kzf0zer0xu/acquisition_train.csv?dl=0). Este *link*, contém basicamente um arquivo `csv` com 45.000 **registros** e 43 **variáveis** que pertenceram a clientes [anonimizados](https://www.serpro.gov.br/lgpd/menu/protecao-de-dados/dados-anonimizados-lgpd) da empresa.\n",
        "\n",
        "Neste *dataset* cada linha representa uma **aplicação** para crédito, com diversas variáveis contendo os dados da aplicação e uma variável **alvo**, a `target_default`. Que informa se houve ou não **inadimplência** na operação.\n",
        "\n",
        "\n",
        "## Dicionário das Variáveis\n",
        "\n",
        "* `ids`: número **identificador** do cliente.\n",
        "* `target_default`: se a aplicação de crédito resultou no **descumprimento** das obrigações legais e condições do empréstimo.\n",
        "* `score_1` & `score_2`: são **codificações** alfa-numéricas internas da empresa.\n",
        "* `score_3` & `score_4` & `score_5` & `score_6`:\n",
        "* `risk_rate`:\n",
        "* `last_amount_borrowed`:\n",
        "* `last_borrowed_in_months`:\n",
        "* `credit_limit`: **limite** de crédito do cartão.\n",
        "* `income`: **renda** do cliente.\n",
        "* `facebook_profile`:\n",
        "* `reason` & `state` & `zip` & `channel`&`job_name`& `real_state`: são variáveis com **codificações** internas utilizadas apenas na empresa.\n",
        "* `ok_since`: *não foi encontrado **nenhum** significado relevante para esta variável. Além disso, metade dela está nula.*\n",
        "* `n_bankruptcies`: número que vezes que o cliente declarou **falência**.\n",
        "* `n_defaulted_loans`: número de vezes em que não cumpriu corretamente as condições de um **empréstimo**.\n",
        "* `n_accounts`:\n",
        "* `n_issues`:\n",
        "* `application_time_applied`: **horário** em que a aplicação foi realizada.\n",
        "* `application_time_in_funnel`:\n",
        "* `email`: serviço de **e-mail** utilizado.\n",
        "* `external_data_provider_credit_checks_last_2_year`:\n",
        "* `external_data_provider_credit_checks_last_month`:\n",
        "* `external_data_provider_credit_checks_last_year`:\n",
        "* `external_data_provider_email_seen_before`:\n",
        "* `external_data_provider_first_name`:\n",
        "* `external_data_provider_fraud_score`:\n",
        "* `lat_lon`: latitude-longitude **onde** a aplicação de crédito foi realizada.\n",
        "* `marketing_channel`: canal de **marketing** que proporcionou o cadastro do cliente.\n",
        "* `profile_phone_number`: número de **telefone** pessoal.\n",
        "* `reported_income`: **Renda** declarada.\n",
        "* `shipping_state`: **estado** para onde o cartão foi enviado.\n",
        "* `shipping_zip_code`: código **postal** para onde o cartão foi enviado.\n",
        "* `user_agent`: **software** que o usuário estava utilizando no cadastro.\n",
        "* `profile_tags`:\n",
        "* `target_fraud`: se o cliente, amigos do cliente ou familiares sofreram algum tipo de **fraude**.\n",
        "\n"
      ]
    },
    {
      "cell_type": "code",
      "metadata": {
        "id": "PqMaG41qo1Y4",
        "colab": {
          "base_uri": "https://localhost:8080/",
          "height": 381
        },
        "outputId": "5337b03b-1761-435c-92d5-1694d249de36"
      },
      "source": [
        "#endereco dos dados\n",
        "path = 'http://dl.dropboxusercontent.com/s/xn2a4kzf0zer0xu/acquisition_train.csv?dl=0'\n",
        "\n",
        "#importando os dados\n",
        "df = pd.read_csv(path,index_col='ids')\n",
        "\n",
        "#exibindo as 2 primeiras entradas\n",
        "df.head(2)"
      ],
      "execution_count": 214,
      "outputs": [
        {
          "output_type": "execute_result",
          "data": {
            "text/html": [
              "\n",
              "  <div id=\"df-ee6780c1-6f9d-4e71-903d-6a644b205b1f\">\n",
              "    <div class=\"colab-df-container\">\n",
              "      <div>\n",
              "<style scoped>\n",
              "    .dataframe tbody tr th:only-of-type {\n",
              "        vertical-align: middle;\n",
              "    }\n",
              "\n",
              "    .dataframe tbody tr th {\n",
              "        vertical-align: top;\n",
              "    }\n",
              "\n",
              "    .dataframe thead th {\n",
              "        text-align: right;\n",
              "    }\n",
              "</style>\n",
              "<table border=\"1\" class=\"dataframe\">\n",
              "  <thead>\n",
              "    <tr style=\"text-align: right;\">\n",
              "      <th></th>\n",
              "      <th>target_default</th>\n",
              "      <th>score_1</th>\n",
              "      <th>score_2</th>\n",
              "      <th>score_3</th>\n",
              "      <th>score_4</th>\n",
              "      <th>score_5</th>\n",
              "      <th>score_6</th>\n",
              "      <th>risk_rate</th>\n",
              "      <th>last_amount_borrowed</th>\n",
              "      <th>last_borrowed_in_months</th>\n",
              "      <th>credit_limit</th>\n",
              "      <th>reason</th>\n",
              "      <th>income</th>\n",
              "      <th>facebook_profile</th>\n",
              "      <th>state</th>\n",
              "      <th>zip</th>\n",
              "      <th>channel</th>\n",
              "      <th>job_name</th>\n",
              "      <th>real_state</th>\n",
              "      <th>ok_since</th>\n",
              "      <th>n_bankruptcies</th>\n",
              "      <th>n_defaulted_loans</th>\n",
              "      <th>n_accounts</th>\n",
              "      <th>n_issues</th>\n",
              "      <th>application_time_applied</th>\n",
              "      <th>application_time_in_funnel</th>\n",
              "      <th>email</th>\n",
              "      <th>external_data_provider_credit_checks_last_2_year</th>\n",
              "      <th>external_data_provider_credit_checks_last_month</th>\n",
              "      <th>external_data_provider_credit_checks_last_year</th>\n",
              "      <th>external_data_provider_email_seen_before</th>\n",
              "      <th>external_data_provider_first_name</th>\n",
              "      <th>external_data_provider_fraud_score</th>\n",
              "      <th>lat_lon</th>\n",
              "      <th>marketing_channel</th>\n",
              "      <th>profile_phone_number</th>\n",
              "      <th>reported_income</th>\n",
              "      <th>shipping_state</th>\n",
              "      <th>shipping_zip_code</th>\n",
              "      <th>profile_tags</th>\n",
              "      <th>user_agent</th>\n",
              "      <th>target_fraud</th>\n",
              "    </tr>\n",
              "    <tr>\n",
              "      <th>ids</th>\n",
              "      <th></th>\n",
              "      <th></th>\n",
              "      <th></th>\n",
              "      <th></th>\n",
              "      <th></th>\n",
              "      <th></th>\n",
              "      <th></th>\n",
              "      <th></th>\n",
              "      <th></th>\n",
              "      <th></th>\n",
              "      <th></th>\n",
              "      <th></th>\n",
              "      <th></th>\n",
              "      <th></th>\n",
              "      <th></th>\n",
              "      <th></th>\n",
              "      <th></th>\n",
              "      <th></th>\n",
              "      <th></th>\n",
              "      <th></th>\n",
              "      <th></th>\n",
              "      <th></th>\n",
              "      <th></th>\n",
              "      <th></th>\n",
              "      <th></th>\n",
              "      <th></th>\n",
              "      <th></th>\n",
              "      <th></th>\n",
              "      <th></th>\n",
              "      <th></th>\n",
              "      <th></th>\n",
              "      <th></th>\n",
              "      <th></th>\n",
              "      <th></th>\n",
              "      <th></th>\n",
              "      <th></th>\n",
              "      <th></th>\n",
              "      <th></th>\n",
              "      <th></th>\n",
              "      <th></th>\n",
              "      <th></th>\n",
              "      <th></th>\n",
              "    </tr>\n",
              "  </thead>\n",
              "  <tbody>\n",
              "    <tr>\n",
              "      <th>343b7e7b-2cf8-e508-b8fd-0a0285af30aa</th>\n",
              "      <td>False</td>\n",
              "      <td>1Rk8w4Ucd5yR3KcqZzLdow==</td>\n",
              "      <td>IOVu8au3ISbo6+zmfnYwMg==</td>\n",
              "      <td>350.0</td>\n",
              "      <td>101.800832</td>\n",
              "      <td>0.259555</td>\n",
              "      <td>108.427273</td>\n",
              "      <td>0.40</td>\n",
              "      <td>25033.92</td>\n",
              "      <td>36.0</td>\n",
              "      <td>0.0</td>\n",
              "      <td>mLVIVxoGY7TUDJ1FyFoSIZi1SFcaBmO01AydRchaEiGYtU...</td>\n",
              "      <td>65014.12</td>\n",
              "      <td>True</td>\n",
              "      <td>sjJbkqJS7cXalHLBFA+EOQ==</td>\n",
              "      <td>Ernn+uVXCMq/6ARrBCcd+A==</td>\n",
              "      <td>NCqL3QBx0pscDnx3ixKwXg==</td>\n",
              "      <td>mLVIVxoGY7TUDJ1FyFoSIZi1SFcaBmO01AydRchaEiGYtU...</td>\n",
              "      <td>N5/CE7lSkAfB04hVFFwllw==</td>\n",
              "      <td>NaN</td>\n",
              "      <td>0.0</td>\n",
              "      <td>0.0</td>\n",
              "      <td>18.0</td>\n",
              "      <td>18.0</td>\n",
              "      <td>07:52:34</td>\n",
              "      <td>444</td>\n",
              "      <td>outlook.com</td>\n",
              "      <td>NaN</td>\n",
              "      <td>2</td>\n",
              "      <td>0.0</td>\n",
              "      <td>51.0</td>\n",
              "      <td>leidelaura</td>\n",
              "      <td>645</td>\n",
              "      <td>(-29.151545708122246, -51.1386461804385)</td>\n",
              "      <td>Invite-email</td>\n",
              "      <td>514-9840782</td>\n",
              "      <td>57849.0</td>\n",
              "      <td>BR-MT</td>\n",
              "      <td>17528</td>\n",
              "      <td>{'tags': ['n19', 'n8']}</td>\n",
              "      <td>Mozilla/5.0 (Linux; Android 6.0.1; SGP771 Buil...</td>\n",
              "      <td>NaN</td>\n",
              "    </tr>\n",
              "    <tr>\n",
              "      <th>bc2c7502-bbad-0f8c-39c3-94e881967124</th>\n",
              "      <td>False</td>\n",
              "      <td>DGCQep2AE5QRkNCshIAlFQ==</td>\n",
              "      <td>SaamrHMo23l/3TwXOWgVzw==</td>\n",
              "      <td>370.0</td>\n",
              "      <td>97.062615</td>\n",
              "      <td>0.942655</td>\n",
              "      <td>92.002546</td>\n",
              "      <td>0.24</td>\n",
              "      <td>NaN</td>\n",
              "      <td>NaN</td>\n",
              "      <td>39726.0</td>\n",
              "      <td>mLVIVxoGY7TUDJ1FyFoSIZi1SFcaBmO01AydRchaEiGYtU...</td>\n",
              "      <td>100018.91</td>\n",
              "      <td>False</td>\n",
              "      <td>xsd3ZdsI3356I3xMxZeiqQ==</td>\n",
              "      <td>rlWIXTBO+VOa34+SpGyhlQ==</td>\n",
              "      <td>NCqL3QBx0pscDnx3ixKwXg==</td>\n",
              "      <td>mLVIVxoGY7TUDJ1FyFoSIZi1SFcaBmO01AydRchaEiGYtU...</td>\n",
              "      <td>N5/CE7lSkAfB04hVFFwllw==</td>\n",
              "      <td>50.0</td>\n",
              "      <td>0.0</td>\n",
              "      <td>0.0</td>\n",
              "      <td>14.0</td>\n",
              "      <td>14.0</td>\n",
              "      <td>02:34:29</td>\n",
              "      <td>346</td>\n",
              "      <td>gmail.com</td>\n",
              "      <td>0.0</td>\n",
              "      <td>1</td>\n",
              "      <td>0.0</td>\n",
              "      <td>17.0</td>\n",
              "      <td>diocezio</td>\n",
              "      <td>243</td>\n",
              "      <td>(-19.687710705798963, -47.94151536525154)</td>\n",
              "      <td>Radio-commercial</td>\n",
              "      <td>251-3659293</td>\n",
              "      <td>4902.0</td>\n",
              "      <td>BR-RS</td>\n",
              "      <td>40933</td>\n",
              "      <td>{'tags': ['n6', 'n7', 'nim']}</td>\n",
              "      <td>Mozilla/5.0 (Linux; Android 5.0.2; SAMSUNG SM-...</td>\n",
              "      <td>NaN</td>\n",
              "    </tr>\n",
              "  </tbody>\n",
              "</table>\n",
              "</div>\n",
              "      <button class=\"colab-df-convert\" onclick=\"convertToInteractive('df-ee6780c1-6f9d-4e71-903d-6a644b205b1f')\"\n",
              "              title=\"Convert this dataframe to an interactive table.\"\n",
              "              style=\"display:none;\">\n",
              "        \n",
              "  <svg xmlns=\"http://www.w3.org/2000/svg\" height=\"24px\"viewBox=\"0 0 24 24\"\n",
              "       width=\"24px\">\n",
              "    <path d=\"M0 0h24v24H0V0z\" fill=\"none\"/>\n",
              "    <path d=\"M18.56 5.44l.94 2.06.94-2.06 2.06-.94-2.06-.94-.94-2.06-.94 2.06-2.06.94zm-11 1L8.5 8.5l.94-2.06 2.06-.94-2.06-.94L8.5 2.5l-.94 2.06-2.06.94zm10 10l.94 2.06.94-2.06 2.06-.94-2.06-.94-.94-2.06-.94 2.06-2.06.94z\"/><path d=\"M17.41 7.96l-1.37-1.37c-.4-.4-.92-.59-1.43-.59-.52 0-1.04.2-1.43.59L10.3 9.45l-7.72 7.72c-.78.78-.78 2.05 0 2.83L4 21.41c.39.39.9.59 1.41.59.51 0 1.02-.2 1.41-.59l7.78-7.78 2.81-2.81c.8-.78.8-2.07 0-2.86zM5.41 20L4 18.59l7.72-7.72 1.47 1.35L5.41 20z\"/>\n",
              "  </svg>\n",
              "      </button>\n",
              "      \n",
              "  <style>\n",
              "    .colab-df-container {\n",
              "      display:flex;\n",
              "      flex-wrap:wrap;\n",
              "      gap: 12px;\n",
              "    }\n",
              "\n",
              "    .colab-df-convert {\n",
              "      background-color: #E8F0FE;\n",
              "      border: none;\n",
              "      border-radius: 50%;\n",
              "      cursor: pointer;\n",
              "      display: none;\n",
              "      fill: #1967D2;\n",
              "      height: 32px;\n",
              "      padding: 0 0 0 0;\n",
              "      width: 32px;\n",
              "    }\n",
              "\n",
              "    .colab-df-convert:hover {\n",
              "      background-color: #E2EBFA;\n",
              "      box-shadow: 0px 1px 2px rgba(60, 64, 67, 0.3), 0px 1px 3px 1px rgba(60, 64, 67, 0.15);\n",
              "      fill: #174EA6;\n",
              "    }\n",
              "\n",
              "    [theme=dark] .colab-df-convert {\n",
              "      background-color: #3B4455;\n",
              "      fill: #D2E3FC;\n",
              "    }\n",
              "\n",
              "    [theme=dark] .colab-df-convert:hover {\n",
              "      background-color: #434B5C;\n",
              "      box-shadow: 0px 1px 3px 1px rgba(0, 0, 0, 0.15);\n",
              "      filter: drop-shadow(0px 1px 2px rgba(0, 0, 0, 0.3));\n",
              "      fill: #FFFFFF;\n",
              "    }\n",
              "  </style>\n",
              "\n",
              "      <script>\n",
              "        const buttonEl =\n",
              "          document.querySelector('#df-ee6780c1-6f9d-4e71-903d-6a644b205b1f button.colab-df-convert');\n",
              "        buttonEl.style.display =\n",
              "          google.colab.kernel.accessAllowed ? 'block' : 'none';\n",
              "\n",
              "        async function convertToInteractive(key) {\n",
              "          const element = document.querySelector('#df-ee6780c1-6f9d-4e71-903d-6a644b205b1f');\n",
              "          const dataTable =\n",
              "            await google.colab.kernel.invokeFunction('convertToInteractive',\n",
              "                                                     [key], {});\n",
              "          if (!dataTable) return;\n",
              "\n",
              "          const docLinkHtml = 'Like what you see? Visit the ' +\n",
              "            '<a target=\"_blank\" href=https://colab.research.google.com/notebooks/data_table.ipynb>data table notebook</a>'\n",
              "            + ' to learn more about interactive tables.';\n",
              "          element.innerHTML = '';\n",
              "          dataTable['output_type'] = 'display_data';\n",
              "          await google.colab.output.renderOutput(dataTable, element);\n",
              "          const docLink = document.createElement('div');\n",
              "          docLink.innerHTML = docLinkHtml;\n",
              "          element.appendChild(docLink);\n",
              "        }\n",
              "      </script>\n",
              "    </div>\n",
              "  </div>\n",
              "  "
            ],
            "text/plain": [
              "                                     target_default  ... target_fraud\n",
              "ids                                                  ...             \n",
              "343b7e7b-2cf8-e508-b8fd-0a0285af30aa          False  ...          NaN\n",
              "bc2c7502-bbad-0f8c-39c3-94e881967124          False  ...          NaN\n",
              "\n",
              "[2 rows x 42 columns]"
            ]
          },
          "metadata": {},
          "execution_count": 214
        }
      ]
    },
    {
      "cell_type": "code",
      "source": [
        "#quantidade de registros e variáveis\n",
        "print('Este dataset contém')\n",
        "print('{:,} registros.'.format(df.shape[0]).replace(',','.'))\n",
        "print('{} variáveis.'.format(df.shape[1]))"
      ],
      "metadata": {
        "colab": {
          "base_uri": "https://localhost:8080/"
        },
        "id": "Iaq85Lo6b1zn",
        "outputId": "7bedb6dd-82e1-4a7e-dfda-068b82504058"
      },
      "execution_count": 215,
      "outputs": [
        {
          "output_type": "stream",
          "name": "stdout",
          "text": [
            "Este dataset contém\n",
            "45.000 registros.\n",
            "42 variáveis.\n"
          ]
        }
      ]
    },
    {
      "cell_type": "markdown",
      "source": [
        "texto sobre as colunas"
      ],
      "metadata": {
        "id": "hSYmEF7e7Yms"
      }
    },
    {
      "cell_type": "code",
      "source": [
        "#avaliar os nomes de cada variável\n",
        "df.columns"
      ],
      "metadata": {
        "colab": {
          "base_uri": "https://localhost:8080/"
        },
        "id": "mH4fOseKchr1",
        "outputId": "441c251c-3d68-474f-82e6-b7cf9e5b07e9"
      },
      "execution_count": 216,
      "outputs": [
        {
          "output_type": "execute_result",
          "data": {
            "text/plain": [
              "Index(['target_default', 'score_1', 'score_2', 'score_3', 'score_4', 'score_5',\n",
              "       'score_6', 'risk_rate', 'last_amount_borrowed',\n",
              "       'last_borrowed_in_months', 'credit_limit', 'reason', 'income',\n",
              "       'facebook_profile', 'state', 'zip', 'channel', 'job_name', 'real_state',\n",
              "       'ok_since', 'n_bankruptcies', 'n_defaulted_loans', 'n_accounts',\n",
              "       'n_issues', 'application_time_applied', 'application_time_in_funnel',\n",
              "       'email', 'external_data_provider_credit_checks_last_2_year',\n",
              "       'external_data_provider_credit_checks_last_month',\n",
              "       'external_data_provider_credit_checks_last_year',\n",
              "       'external_data_provider_email_seen_before',\n",
              "       'external_data_provider_first_name',\n",
              "       'external_data_provider_fraud_score', 'lat_lon', 'marketing_channel',\n",
              "       'profile_phone_number', 'reported_income', 'shipping_state',\n",
              "       'shipping_zip_code', 'profile_tags', 'user_agent', 'target_fraud'],\n",
              "      dtype='object')"
            ]
          },
          "metadata": {},
          "execution_count": 216
        }
      ]
    },
    {
      "cell_type": "markdown",
      "source": [
        "tem muito e tem pouco"
      ],
      "metadata": {
        "id": "_8lDptfNHi-D"
      }
    },
    {
      "cell_type": "code",
      "source": [
        "#verificando a quantidade de valres únicos\n",
        "df.nunique().sort_values(ascending=True)"
      ],
      "metadata": {
        "colab": {
          "base_uri": "https://localhost:8080/"
        },
        "id": "PACBh8RLG-lL",
        "outputId": "f6f5cc84-2d25-47eb-b001-ec3a419abf31"
      },
      "execution_count": 217,
      "outputs": [
        {
          "output_type": "execute_result",
          "data": {
            "text/plain": [
              "external_data_provider_credit_checks_last_2_year        1\n",
              "channel                                                 1\n",
              "target_default                                          2\n",
              "external_data_provider_credit_checks_last_year          2\n",
              "facebook_profile                                        2\n",
              "last_borrowed_in_months                                 2\n",
              "target_fraud                                            2\n",
              "external_data_provider_credit_checks_last_month         4\n",
              "real_state                                              5\n",
              "n_defaulted_loans                                       5\n",
              "n_bankruptcies                                          6\n",
              "email                                                   6\n",
              "score_1                                                 7\n",
              "marketing_channel                                       9\n",
              "shipping_state                                         25\n",
              "score_2                                                35\n",
              "n_issues                                               44\n",
              "n_accounts                                             44\n",
              "state                                                  50\n",
              "external_data_provider_email_seen_before               62\n",
              "risk_rate                                              82\n",
              "score_3                                                88\n",
              "ok_since                                              100\n",
              "user_agent                                            297\n",
              "application_time_in_funnel                            501\n",
              "zip                                                   823\n",
              "external_data_provider_fraud_score                   1001\n",
              "last_amount_borrowed                                14325\n",
              "reason                                              14874\n",
              "credit_limit                                        20928\n",
              "lat_lon                                             22412\n",
              "profile_tags                                        26131\n",
              "shipping_zip_code                                   28263\n",
              "job_name                                            32265\n",
              "external_data_provider_first_name                   32886\n",
              "application_time_applied                            35543\n",
              "reported_income                                     40025\n",
              "income                                              41211\n",
              "profile_phone_number                                45000\n",
              "score_4                                             45000\n",
              "score_6                                             45000\n",
              "score_5                                             45000\n",
              "dtype: int64"
            ]
          },
          "metadata": {},
          "execution_count": 217
        }
      ]
    },
    {
      "cell_type": "markdown",
      "source": [
        "external_data_provider_credit_checks_last_2_year        1\n",
        "\n",
        "\n",
        "channel                                                 1"
      ],
      "metadata": {
        "id": "2RbEbLI2eXMQ"
      }
    },
    {
      "cell_type": "code",
      "source": [
        "#imprimindo os valores únicos das variáveis sem repetição\n",
        "print('Valores Únicos da variável external_data_provider_credit_checks_last_2_year:',df.external_data_provider_credit_checks_last_2_year.unique())\n",
        "print('Valores Únicos da variável channel:',df.channel.unique())"
      ],
      "metadata": {
        "colab": {
          "base_uri": "https://localhost:8080/"
        },
        "id": "fT1z3P6SeYSd",
        "outputId": "f1fb0865-c6a6-4694-de24-3d87aea498ec"
      },
      "execution_count": 218,
      "outputs": [
        {
          "output_type": "stream",
          "name": "stdout",
          "text": [
            "Valores Únicos da variável external_data_provider_credit_checks_last_2_year: [nan  0.]\n",
            "Valores Únicos da variável channel: ['NCqL3QBx0pscDnx3ixKwXg==' nan]\n"
          ]
        }
      ]
    },
    {
      "cell_type": "code",
      "source": [
        "#criando uma lista com as variáveis para dropar\n",
        "dropar = ['external_data_provider_credit_checks_last_2_year','channel']\n",
        "\n",
        "#dropando estas variáveis do dataset\n",
        "df.drop(labels=dropar,axis=1,inplace=True)"
      ],
      "metadata": {
        "id": "kkeAzWBefHIo"
      },
      "execution_count": 219,
      "outputs": []
    },
    {
      "cell_type": "markdown",
      "source": [
        "profile_phone_number                                45000 <- valor aleatório\n",
        "\n",
        "score_4                                             45000\n",
        "\n",
        "score_6                                             45000\n",
        "\n",
        "score_5                                             45000"
      ],
      "metadata": {
        "id": "033l7wgpftrl"
      }
    },
    {
      "cell_type": "code",
      "source": [
        "#visualizando os valores da profile_phone_number\n",
        "df.profile_phone_number[:5]"
      ],
      "metadata": {
        "colab": {
          "base_uri": "https://localhost:8080/"
        },
        "id": "KNCeRP-lfvdj",
        "outputId": "82271974-8c9a-4e6d-cdc3-29c83f07c5cf"
      },
      "execution_count": 220,
      "outputs": [
        {
          "output_type": "execute_result",
          "data": {
            "text/plain": [
              "ids\n",
              "343b7e7b-2cf8-e508-b8fd-0a0285af30aa    514-9840782\n",
              "bc2c7502-bbad-0f8c-39c3-94e881967124    251-3659293\n",
              "669630dd-2e6a-0396-84bf-455e5009c922    230-6097993\n",
              "d235609e-b6cb-0ccc-a329-d4f12e7ebdc1    261-3543751\n",
              "9e0eb880-e8f4-3faa-67d8-f5cdd2b3932b    102-3660162\n",
              "Name: profile_phone_number, dtype: object"
            ]
          },
          "metadata": {},
          "execution_count": 220
        }
      ]
    },
    {
      "cell_type": "code",
      "source": [
        "#dropando esta variável\n",
        "df.drop(labels='profile_phone_number',axis=1,inplace=True)"
      ],
      "metadata": {
        "id": "A11DRrjAf4_e"
      },
      "execution_count": 221,
      "outputs": []
    },
    {
      "cell_type": "markdown",
      "source": [
        "visualizar o dataset"
      ],
      "metadata": {
        "id": "92kqOxqygT3u"
      }
    },
    {
      "cell_type": "code",
      "source": [
        "#visualizando 2 entradas do dataset\n",
        "df.head(2)"
      ],
      "metadata": {
        "colab": {
          "base_uri": "https://localhost:8080/",
          "height": 381
        },
        "id": "QO-9BXqAgVaa",
        "outputId": "60cd400c-7b69-445d-c4d2-ef1c1b385873"
      },
      "execution_count": 222,
      "outputs": [
        {
          "output_type": "execute_result",
          "data": {
            "text/html": [
              "\n",
              "  <div id=\"df-28d9b16b-95ca-43d0-8a60-008babb7be8f\">\n",
              "    <div class=\"colab-df-container\">\n",
              "      <div>\n",
              "<style scoped>\n",
              "    .dataframe tbody tr th:only-of-type {\n",
              "        vertical-align: middle;\n",
              "    }\n",
              "\n",
              "    .dataframe tbody tr th {\n",
              "        vertical-align: top;\n",
              "    }\n",
              "\n",
              "    .dataframe thead th {\n",
              "        text-align: right;\n",
              "    }\n",
              "</style>\n",
              "<table border=\"1\" class=\"dataframe\">\n",
              "  <thead>\n",
              "    <tr style=\"text-align: right;\">\n",
              "      <th></th>\n",
              "      <th>target_default</th>\n",
              "      <th>score_1</th>\n",
              "      <th>score_2</th>\n",
              "      <th>score_3</th>\n",
              "      <th>score_4</th>\n",
              "      <th>score_5</th>\n",
              "      <th>score_6</th>\n",
              "      <th>risk_rate</th>\n",
              "      <th>last_amount_borrowed</th>\n",
              "      <th>last_borrowed_in_months</th>\n",
              "      <th>credit_limit</th>\n",
              "      <th>reason</th>\n",
              "      <th>income</th>\n",
              "      <th>facebook_profile</th>\n",
              "      <th>state</th>\n",
              "      <th>zip</th>\n",
              "      <th>job_name</th>\n",
              "      <th>real_state</th>\n",
              "      <th>ok_since</th>\n",
              "      <th>n_bankruptcies</th>\n",
              "      <th>n_defaulted_loans</th>\n",
              "      <th>n_accounts</th>\n",
              "      <th>n_issues</th>\n",
              "      <th>application_time_applied</th>\n",
              "      <th>application_time_in_funnel</th>\n",
              "      <th>email</th>\n",
              "      <th>external_data_provider_credit_checks_last_month</th>\n",
              "      <th>external_data_provider_credit_checks_last_year</th>\n",
              "      <th>external_data_provider_email_seen_before</th>\n",
              "      <th>external_data_provider_first_name</th>\n",
              "      <th>external_data_provider_fraud_score</th>\n",
              "      <th>lat_lon</th>\n",
              "      <th>marketing_channel</th>\n",
              "      <th>reported_income</th>\n",
              "      <th>shipping_state</th>\n",
              "      <th>shipping_zip_code</th>\n",
              "      <th>profile_tags</th>\n",
              "      <th>user_agent</th>\n",
              "      <th>target_fraud</th>\n",
              "    </tr>\n",
              "    <tr>\n",
              "      <th>ids</th>\n",
              "      <th></th>\n",
              "      <th></th>\n",
              "      <th></th>\n",
              "      <th></th>\n",
              "      <th></th>\n",
              "      <th></th>\n",
              "      <th></th>\n",
              "      <th></th>\n",
              "      <th></th>\n",
              "      <th></th>\n",
              "      <th></th>\n",
              "      <th></th>\n",
              "      <th></th>\n",
              "      <th></th>\n",
              "      <th></th>\n",
              "      <th></th>\n",
              "      <th></th>\n",
              "      <th></th>\n",
              "      <th></th>\n",
              "      <th></th>\n",
              "      <th></th>\n",
              "      <th></th>\n",
              "      <th></th>\n",
              "      <th></th>\n",
              "      <th></th>\n",
              "      <th></th>\n",
              "      <th></th>\n",
              "      <th></th>\n",
              "      <th></th>\n",
              "      <th></th>\n",
              "      <th></th>\n",
              "      <th></th>\n",
              "      <th></th>\n",
              "      <th></th>\n",
              "      <th></th>\n",
              "      <th></th>\n",
              "      <th></th>\n",
              "      <th></th>\n",
              "      <th></th>\n",
              "    </tr>\n",
              "  </thead>\n",
              "  <tbody>\n",
              "    <tr>\n",
              "      <th>343b7e7b-2cf8-e508-b8fd-0a0285af30aa</th>\n",
              "      <td>False</td>\n",
              "      <td>1Rk8w4Ucd5yR3KcqZzLdow==</td>\n",
              "      <td>IOVu8au3ISbo6+zmfnYwMg==</td>\n",
              "      <td>350.0</td>\n",
              "      <td>101.800832</td>\n",
              "      <td>0.259555</td>\n",
              "      <td>108.427273</td>\n",
              "      <td>0.40</td>\n",
              "      <td>25033.92</td>\n",
              "      <td>36.0</td>\n",
              "      <td>0.0</td>\n",
              "      <td>mLVIVxoGY7TUDJ1FyFoSIZi1SFcaBmO01AydRchaEiGYtU...</td>\n",
              "      <td>65014.12</td>\n",
              "      <td>True</td>\n",
              "      <td>sjJbkqJS7cXalHLBFA+EOQ==</td>\n",
              "      <td>Ernn+uVXCMq/6ARrBCcd+A==</td>\n",
              "      <td>mLVIVxoGY7TUDJ1FyFoSIZi1SFcaBmO01AydRchaEiGYtU...</td>\n",
              "      <td>N5/CE7lSkAfB04hVFFwllw==</td>\n",
              "      <td>NaN</td>\n",
              "      <td>0.0</td>\n",
              "      <td>0.0</td>\n",
              "      <td>18.0</td>\n",
              "      <td>18.0</td>\n",
              "      <td>07:52:34</td>\n",
              "      <td>444</td>\n",
              "      <td>outlook.com</td>\n",
              "      <td>2</td>\n",
              "      <td>0.0</td>\n",
              "      <td>51.0</td>\n",
              "      <td>leidelaura</td>\n",
              "      <td>645</td>\n",
              "      <td>(-29.151545708122246, -51.1386461804385)</td>\n",
              "      <td>Invite-email</td>\n",
              "      <td>57849.0</td>\n",
              "      <td>BR-MT</td>\n",
              "      <td>17528</td>\n",
              "      <td>{'tags': ['n19', 'n8']}</td>\n",
              "      <td>Mozilla/5.0 (Linux; Android 6.0.1; SGP771 Buil...</td>\n",
              "      <td>NaN</td>\n",
              "    </tr>\n",
              "    <tr>\n",
              "      <th>bc2c7502-bbad-0f8c-39c3-94e881967124</th>\n",
              "      <td>False</td>\n",
              "      <td>DGCQep2AE5QRkNCshIAlFQ==</td>\n",
              "      <td>SaamrHMo23l/3TwXOWgVzw==</td>\n",
              "      <td>370.0</td>\n",
              "      <td>97.062615</td>\n",
              "      <td>0.942655</td>\n",
              "      <td>92.002546</td>\n",
              "      <td>0.24</td>\n",
              "      <td>NaN</td>\n",
              "      <td>NaN</td>\n",
              "      <td>39726.0</td>\n",
              "      <td>mLVIVxoGY7TUDJ1FyFoSIZi1SFcaBmO01AydRchaEiGYtU...</td>\n",
              "      <td>100018.91</td>\n",
              "      <td>False</td>\n",
              "      <td>xsd3ZdsI3356I3xMxZeiqQ==</td>\n",
              "      <td>rlWIXTBO+VOa34+SpGyhlQ==</td>\n",
              "      <td>mLVIVxoGY7TUDJ1FyFoSIZi1SFcaBmO01AydRchaEiGYtU...</td>\n",
              "      <td>N5/CE7lSkAfB04hVFFwllw==</td>\n",
              "      <td>50.0</td>\n",
              "      <td>0.0</td>\n",
              "      <td>0.0</td>\n",
              "      <td>14.0</td>\n",
              "      <td>14.0</td>\n",
              "      <td>02:34:29</td>\n",
              "      <td>346</td>\n",
              "      <td>gmail.com</td>\n",
              "      <td>1</td>\n",
              "      <td>0.0</td>\n",
              "      <td>17.0</td>\n",
              "      <td>diocezio</td>\n",
              "      <td>243</td>\n",
              "      <td>(-19.687710705798963, -47.94151536525154)</td>\n",
              "      <td>Radio-commercial</td>\n",
              "      <td>4902.0</td>\n",
              "      <td>BR-RS</td>\n",
              "      <td>40933</td>\n",
              "      <td>{'tags': ['n6', 'n7', 'nim']}</td>\n",
              "      <td>Mozilla/5.0 (Linux; Android 5.0.2; SAMSUNG SM-...</td>\n",
              "      <td>NaN</td>\n",
              "    </tr>\n",
              "  </tbody>\n",
              "</table>\n",
              "</div>\n",
              "      <button class=\"colab-df-convert\" onclick=\"convertToInteractive('df-28d9b16b-95ca-43d0-8a60-008babb7be8f')\"\n",
              "              title=\"Convert this dataframe to an interactive table.\"\n",
              "              style=\"display:none;\">\n",
              "        \n",
              "  <svg xmlns=\"http://www.w3.org/2000/svg\" height=\"24px\"viewBox=\"0 0 24 24\"\n",
              "       width=\"24px\">\n",
              "    <path d=\"M0 0h24v24H0V0z\" fill=\"none\"/>\n",
              "    <path d=\"M18.56 5.44l.94 2.06.94-2.06 2.06-.94-2.06-.94-.94-2.06-.94 2.06-2.06.94zm-11 1L8.5 8.5l.94-2.06 2.06-.94-2.06-.94L8.5 2.5l-.94 2.06-2.06.94zm10 10l.94 2.06.94-2.06 2.06-.94-2.06-.94-.94-2.06-.94 2.06-2.06.94z\"/><path d=\"M17.41 7.96l-1.37-1.37c-.4-.4-.92-.59-1.43-.59-.52 0-1.04.2-1.43.59L10.3 9.45l-7.72 7.72c-.78.78-.78 2.05 0 2.83L4 21.41c.39.39.9.59 1.41.59.51 0 1.02-.2 1.41-.59l7.78-7.78 2.81-2.81c.8-.78.8-2.07 0-2.86zM5.41 20L4 18.59l7.72-7.72 1.47 1.35L5.41 20z\"/>\n",
              "  </svg>\n",
              "      </button>\n",
              "      \n",
              "  <style>\n",
              "    .colab-df-container {\n",
              "      display:flex;\n",
              "      flex-wrap:wrap;\n",
              "      gap: 12px;\n",
              "    }\n",
              "\n",
              "    .colab-df-convert {\n",
              "      background-color: #E8F0FE;\n",
              "      border: none;\n",
              "      border-radius: 50%;\n",
              "      cursor: pointer;\n",
              "      display: none;\n",
              "      fill: #1967D2;\n",
              "      height: 32px;\n",
              "      padding: 0 0 0 0;\n",
              "      width: 32px;\n",
              "    }\n",
              "\n",
              "    .colab-df-convert:hover {\n",
              "      background-color: #E2EBFA;\n",
              "      box-shadow: 0px 1px 2px rgba(60, 64, 67, 0.3), 0px 1px 3px 1px rgba(60, 64, 67, 0.15);\n",
              "      fill: #174EA6;\n",
              "    }\n",
              "\n",
              "    [theme=dark] .colab-df-convert {\n",
              "      background-color: #3B4455;\n",
              "      fill: #D2E3FC;\n",
              "    }\n",
              "\n",
              "    [theme=dark] .colab-df-convert:hover {\n",
              "      background-color: #434B5C;\n",
              "      box-shadow: 0px 1px 3px 1px rgba(0, 0, 0, 0.15);\n",
              "      filter: drop-shadow(0px 1px 2px rgba(0, 0, 0, 0.3));\n",
              "      fill: #FFFFFF;\n",
              "    }\n",
              "  </style>\n",
              "\n",
              "      <script>\n",
              "        const buttonEl =\n",
              "          document.querySelector('#df-28d9b16b-95ca-43d0-8a60-008babb7be8f button.colab-df-convert');\n",
              "        buttonEl.style.display =\n",
              "          google.colab.kernel.accessAllowed ? 'block' : 'none';\n",
              "\n",
              "        async function convertToInteractive(key) {\n",
              "          const element = document.querySelector('#df-28d9b16b-95ca-43d0-8a60-008babb7be8f');\n",
              "          const dataTable =\n",
              "            await google.colab.kernel.invokeFunction('convertToInteractive',\n",
              "                                                     [key], {});\n",
              "          if (!dataTable) return;\n",
              "\n",
              "          const docLinkHtml = 'Like what you see? Visit the ' +\n",
              "            '<a target=\"_blank\" href=https://colab.research.google.com/notebooks/data_table.ipynb>data table notebook</a>'\n",
              "            + ' to learn more about interactive tables.';\n",
              "          element.innerHTML = '';\n",
              "          dataTable['output_type'] = 'display_data';\n",
              "          await google.colab.output.renderOutput(dataTable, element);\n",
              "          const docLink = document.createElement('div');\n",
              "          docLink.innerHTML = docLinkHtml;\n",
              "          element.appendChild(docLink);\n",
              "        }\n",
              "      </script>\n",
              "    </div>\n",
              "  </div>\n",
              "  "
            ],
            "text/plain": [
              "                                     target_default  ... target_fraud\n",
              "ids                                                  ...             \n",
              "343b7e7b-2cf8-e508-b8fd-0a0285af30aa          False  ...          NaN\n",
              "bc2c7502-bbad-0f8c-39c3-94e881967124          False  ...          NaN\n",
              "\n",
              "[2 rows x 39 columns]"
            ]
          },
          "metadata": {},
          "execution_count": 222
        }
      ]
    },
    {
      "cell_type": "code",
      "source": [
        "#verificando valores únicos de variáveis que chamaram a atenção\n",
        "print('Valores únicos da variável reason:',df.reason.nunique())\n",
        "print('Valores únicos da variável state:',df.state.nunique())\n",
        "print('Valores únicos da variável zip:',df.zip.nunique())\n",
        "print('Valores únicos da variável job_name:',df.job_name.nunique())\n",
        "print('Valores únicos da variável real_state:',df.real_state.nunique())"
      ],
      "metadata": {
        "colab": {
          "base_uri": "https://localhost:8080/"
        },
        "id": "LaotAu4nggCu",
        "outputId": "84af6ebf-fc6e-4601-dd4d-22f64360971c"
      },
      "execution_count": 223,
      "outputs": [
        {
          "output_type": "stream",
          "name": "stdout",
          "text": [
            "Valores únicos da variável reason: 14874\n",
            "Valores únicos da variável state: 50\n",
            "Valores únicos da variável zip: 823\n",
            "Valores únicos da variável job_name: 32265\n",
            "Valores únicos da variável real_state: 5\n"
          ]
        }
      ]
    },
    {
      "cell_type": "markdown",
      "source": [
        "job name / reason / zip\n",
        "\n",
        "são variáveis boas, mas que precisam de um melhor tratamento"
      ],
      "metadata": {
        "id": "l42t3M0VhXsi"
      }
    },
    {
      "cell_type": "code",
      "source": [
        "#lista de variáveis que serão dropadas\n",
        "drop_apos_unique = ['reason','zip','job_name','state']\n",
        "\n",
        "#dropando estas variáveis do dataset\n",
        "df.drop(labels=drop_apos_unique,axis=1,inplace=True)"
      ],
      "metadata": {
        "id": "_UHNpIl4hcxr"
      },
      "execution_count": 224,
      "outputs": []
    },
    {
      "cell_type": "code",
      "source": [
        "#verificando tamanho do dataset\n",
        "df.shape"
      ],
      "metadata": {
        "colab": {
          "base_uri": "https://localhost:8080/"
        },
        "id": "ct0ZyOPShzjQ",
        "outputId": "6cc3a0cb-74cc-4694-c93c-41d4e59fd35b"
      },
      "execution_count": 225,
      "outputs": [
        {
          "output_type": "execute_result",
          "data": {
            "text/plain": [
              "(45000, 35)"
            ]
          },
          "metadata": {},
          "execution_count": 225
        }
      ]
    },
    {
      "cell_type": "markdown",
      "source": [
        "texto sobre o formato dos dados"
      ],
      "metadata": {
        "id": "95PoN7V37ZrQ"
      }
    },
    {
      "cell_type": "code",
      "source": [
        "#formato dos dados do dataset\n",
        "df.info()"
      ],
      "metadata": {
        "colab": {
          "base_uri": "https://localhost:8080/"
        },
        "id": "1Ws3LJq7fdW1",
        "outputId": "68ba9f3f-e1b6-4023-c714-24539d151c11"
      },
      "execution_count": 226,
      "outputs": [
        {
          "output_type": "stream",
          "name": "stdout",
          "text": [
            "<class 'pandas.core.frame.DataFrame'>\n",
            "Index: 45000 entries, 343b7e7b-2cf8-e508-b8fd-0a0285af30aa to a7504e93-123a-f965-70c6-ab01a0d475f7\n",
            "Data columns (total 35 columns):\n",
            " #   Column                                           Non-Null Count  Dtype  \n",
            "---  ------                                           --------------  -----  \n",
            " 0   target_default                                   41741 non-null  object \n",
            " 1   score_1                                          44438 non-null  object \n",
            " 2   score_2                                          44438 non-null  object \n",
            " 3   score_3                                          44438 non-null  float64\n",
            " 4   score_4                                          45000 non-null  float64\n",
            " 5   score_5                                          45000 non-null  float64\n",
            " 6   score_6                                          45000 non-null  float64\n",
            " 7   risk_rate                                        44438 non-null  float64\n",
            " 8   last_amount_borrowed                             15044 non-null  float64\n",
            " 9   last_borrowed_in_months                          15044 non-null  float64\n",
            " 10  credit_limit                                     31200 non-null  float64\n",
            " 11  income                                           44438 non-null  float64\n",
            " 12  facebook_profile                                 40542 non-null  object \n",
            " 13  real_state                                       44438 non-null  object \n",
            " 14  ok_since                                         18455 non-null  float64\n",
            " 15  n_bankruptcies                                   44303 non-null  float64\n",
            " 16  n_defaulted_loans                                44426 non-null  float64\n",
            " 17  n_accounts                                       44438 non-null  float64\n",
            " 18  n_issues                                         33456 non-null  float64\n",
            " 19  application_time_applied                         45000 non-null  object \n",
            " 20  application_time_in_funnel                       45000 non-null  int64  \n",
            " 21  email                                            45000 non-null  object \n",
            " 22  external_data_provider_credit_checks_last_month  45000 non-null  int64  \n",
            " 23  external_data_provider_credit_checks_last_year   29876 non-null  float64\n",
            " 24  external_data_provider_email_seen_before         42767 non-null  float64\n",
            " 25  external_data_provider_first_name                45000 non-null  object \n",
            " 26  external_data_provider_fraud_score               45000 non-null  int64  \n",
            " 27  lat_lon                                          43637 non-null  object \n",
            " 28  marketing_channel                                41422 non-null  object \n",
            " 29  reported_income                                  45000 non-null  float64\n",
            " 30  shipping_state                                   45000 non-null  object \n",
            " 31  shipping_zip_code                                45000 non-null  int64  \n",
            " 32  profile_tags                                     45000 non-null  object \n",
            " 33  user_agent                                       44278 non-null  object \n",
            " 34  target_fraud                                     1522 non-null   object \n",
            "dtypes: float64(17), int64(4), object(14)\n",
            "memory usage: 12.4+ MB\n"
          ]
        }
      ]
    },
    {
      "cell_type": "markdown",
      "source": [
        "falar dos valores ausentes\n",
        "\n",
        "* target_fraud, onde está não será considerado que não houve nenhum tipo de fraude\n",
        "* last_amount_borrowed será considerado que não houve empréstimo\n",
        "* last_borrowed_in_months será considerado que não houve empréstimo\n",
        "* external_data_provider_credit_checks_last_2_year é ausente ou zero\n",
        "* credit_limit ver com os outliers\n",
        "* targert_default 7% com valores ausentes, eliminar"
      ],
      "metadata": {
        "id": "_R8RiS-L7WfT"
      }
    },
    {
      "cell_type": "code",
      "source": [
        "#quantidade de valores ausentes\n",
        "(df.isnull().sum() / df.shape[0]).sort_values(ascending=False).round(2)"
      ],
      "metadata": {
        "colab": {
          "base_uri": "https://localhost:8080/"
        },
        "id": "YjV_fsuygBGs",
        "outputId": "c1a437c8-5d37-41a0-f1cc-e8fe7d1ad84b"
      },
      "execution_count": 227,
      "outputs": [
        {
          "output_type": "execute_result",
          "data": {
            "text/plain": [
              "target_fraud                                       0.97\n",
              "last_amount_borrowed                               0.67\n",
              "last_borrowed_in_months                            0.67\n",
              "ok_since                                           0.59\n",
              "external_data_provider_credit_checks_last_year     0.34\n",
              "credit_limit                                       0.31\n",
              "n_issues                                           0.26\n",
              "facebook_profile                                   0.10\n",
              "marketing_channel                                  0.08\n",
              "target_default                                     0.07\n",
              "external_data_provider_email_seen_before           0.05\n",
              "lat_lon                                            0.03\n",
              "user_agent                                         0.02\n",
              "n_bankruptcies                                     0.02\n",
              "n_defaulted_loans                                  0.01\n",
              "real_state                                         0.01\n",
              "score_1                                            0.01\n",
              "score_2                                            0.01\n",
              "score_3                                            0.01\n",
              "risk_rate                                          0.01\n",
              "income                                             0.01\n",
              "n_accounts                                         0.01\n",
              "external_data_provider_first_name                  0.00\n",
              "external_data_provider_fraud_score                 0.00\n",
              "shipping_state                                     0.00\n",
              "shipping_zip_code                                  0.00\n",
              "profile_tags                                       0.00\n",
              "application_time_applied                           0.00\n",
              "score_6                                            0.00\n",
              "score_5                                            0.00\n",
              "score_4                                            0.00\n",
              "application_time_in_funnel                         0.00\n",
              "email                                              0.00\n",
              "external_data_provider_credit_checks_last_month    0.00\n",
              "reported_income                                    0.00\n",
              "dtype: float64"
            ]
          },
          "metadata": {},
          "execution_count": 227
        }
      ]
    },
    {
      "cell_type": "markdown",
      "source": [
        "criar tabela em thml\n",
        "\n",
        "target_fraud                                       0.97\n",
        "\n",
        "last_amount_borrowed                               0.67\n",
        "\n",
        "last_borrowed_in_months                            0.67\n",
        "\n",
        "ok_since                                           0.59\n",
        "\n",
        "external_data_provider_credit_checks_last_year     0.34\n",
        "\n",
        "credit_limit                                       0.31\n",
        "\n",
        "n_issues                                           0.26"
      ],
      "metadata": {
        "id": "g6VtvA9Si4j2"
      }
    },
    {
      "cell_type": "code",
      "source": [
        "#verificando valores únicos da target_fraud\n",
        "print('Valores único da target_fraud:',df.target_fraud.unique())\n",
        "\n",
        "#considerando que não houve fraude\n",
        "df.target_fraud.fillna(value='Nenhuma',inplace=True)"
      ],
      "metadata": {
        "colab": {
          "base_uri": "https://localhost:8080/"
        },
        "id": "UAXgAKHIjCj-",
        "outputId": "2c52c388-b7a7-4cc9-e3a2-2a97861db069"
      },
      "execution_count": 228,
      "outputs": [
        {
          "output_type": "stream",
          "name": "stdout",
          "text": [
            "Valores único da target_fraud: [nan 'fraud_friends_family' 'fraud_id']\n"
          ]
        }
      ]
    },
    {
      "cell_type": "markdown",
      "source": [
        "last_amount_borrowed 0.67\n",
        "\n",
        "last_borrowed_in_months 0.67\n"
      ],
      "metadata": {
        "id": "8sM73QeZjlAZ"
      }
    },
    {
      "cell_type": "code",
      "source": [
        "#lista de variáveis com muitos valores ausentes\n",
        "lista_verificar = ['last_amount_borrowed','last_borrowed_in_months']\n",
        "\n",
        "#avaliando as variáveis\n",
        "df[lista_verificar].sort_values(by='last_amount_borrowed',ascending=True)"
      ],
      "metadata": {
        "colab": {
          "base_uri": "https://localhost:8080/",
          "height": 454
        },
        "id": "4yyDFjEMjqe-",
        "outputId": "838b9ee1-51c9-46fb-a9d4-675f734c11f4"
      },
      "execution_count": 229,
      "outputs": [
        {
          "output_type": "execute_result",
          "data": {
            "text/html": [
              "\n",
              "  <div id=\"df-6a6ef747-00ae-474e-9099-013efbb30516\">\n",
              "    <div class=\"colab-df-container\">\n",
              "      <div>\n",
              "<style scoped>\n",
              "    .dataframe tbody tr th:only-of-type {\n",
              "        vertical-align: middle;\n",
              "    }\n",
              "\n",
              "    .dataframe tbody tr th {\n",
              "        vertical-align: top;\n",
              "    }\n",
              "\n",
              "    .dataframe thead th {\n",
              "        text-align: right;\n",
              "    }\n",
              "</style>\n",
              "<table border=\"1\" class=\"dataframe\">\n",
              "  <thead>\n",
              "    <tr style=\"text-align: right;\">\n",
              "      <th></th>\n",
              "      <th>last_amount_borrowed</th>\n",
              "      <th>last_borrowed_in_months</th>\n",
              "    </tr>\n",
              "    <tr>\n",
              "      <th>ids</th>\n",
              "      <th></th>\n",
              "      <th></th>\n",
              "    </tr>\n",
              "  </thead>\n",
              "  <tbody>\n",
              "    <tr>\n",
              "      <th>a6d2afc2-9383-2486-7c07-086ad11710bf</th>\n",
              "      <td>1005.18</td>\n",
              "      <td>36.0</td>\n",
              "    </tr>\n",
              "    <tr>\n",
              "      <th>9946a70a-a1f9-dae0-885e-91255e6044b1</th>\n",
              "      <td>1005.92</td>\n",
              "      <td>36.0</td>\n",
              "    </tr>\n",
              "    <tr>\n",
              "      <th>bba309ef-47dc-7cba-7d9b-272a6255f37b</th>\n",
              "      <td>1007.08</td>\n",
              "      <td>36.0</td>\n",
              "    </tr>\n",
              "    <tr>\n",
              "      <th>789ad211-50f3-1cfb-cbaf-a5c74cbf66b1</th>\n",
              "      <td>1011.13</td>\n",
              "      <td>36.0</td>\n",
              "    </tr>\n",
              "    <tr>\n",
              "      <th>aa7da6f1-dcb6-5ef7-8656-461af4fc86ec</th>\n",
              "      <td>1011.22</td>\n",
              "      <td>36.0</td>\n",
              "    </tr>\n",
              "    <tr>\n",
              "      <th>...</th>\n",
              "      <td>...</td>\n",
              "      <td>...</td>\n",
              "    </tr>\n",
              "    <tr>\n",
              "      <th>bdf18d6f-02a4-7d46-0e50-dfa6b9a8cd89</th>\n",
              "      <td>NaN</td>\n",
              "      <td>NaN</td>\n",
              "    </tr>\n",
              "    <tr>\n",
              "      <th>6c45042a-bbfe-b7c6-782c-7999ed505fd4</th>\n",
              "      <td>NaN</td>\n",
              "      <td>NaN</td>\n",
              "    </tr>\n",
              "    <tr>\n",
              "      <th>92cd9b1a-9a8e-43ad-5d96-8e999128b472</th>\n",
              "      <td>NaN</td>\n",
              "      <td>NaN</td>\n",
              "    </tr>\n",
              "    <tr>\n",
              "      <th>febdd174-cf18-0be1-feb8-38399dd67d9e</th>\n",
              "      <td>NaN</td>\n",
              "      <td>NaN</td>\n",
              "    </tr>\n",
              "    <tr>\n",
              "      <th>a0a5a872-6165-b939-b711-37d045a0b5a8</th>\n",
              "      <td>NaN</td>\n",
              "      <td>NaN</td>\n",
              "    </tr>\n",
              "  </tbody>\n",
              "</table>\n",
              "<p>45000 rows × 2 columns</p>\n",
              "</div>\n",
              "      <button class=\"colab-df-convert\" onclick=\"convertToInteractive('df-6a6ef747-00ae-474e-9099-013efbb30516')\"\n",
              "              title=\"Convert this dataframe to an interactive table.\"\n",
              "              style=\"display:none;\">\n",
              "        \n",
              "  <svg xmlns=\"http://www.w3.org/2000/svg\" height=\"24px\"viewBox=\"0 0 24 24\"\n",
              "       width=\"24px\">\n",
              "    <path d=\"M0 0h24v24H0V0z\" fill=\"none\"/>\n",
              "    <path d=\"M18.56 5.44l.94 2.06.94-2.06 2.06-.94-2.06-.94-.94-2.06-.94 2.06-2.06.94zm-11 1L8.5 8.5l.94-2.06 2.06-.94-2.06-.94L8.5 2.5l-.94 2.06-2.06.94zm10 10l.94 2.06.94-2.06 2.06-.94-2.06-.94-.94-2.06-.94 2.06-2.06.94z\"/><path d=\"M17.41 7.96l-1.37-1.37c-.4-.4-.92-.59-1.43-.59-.52 0-1.04.2-1.43.59L10.3 9.45l-7.72 7.72c-.78.78-.78 2.05 0 2.83L4 21.41c.39.39.9.59 1.41.59.51 0 1.02-.2 1.41-.59l7.78-7.78 2.81-2.81c.8-.78.8-2.07 0-2.86zM5.41 20L4 18.59l7.72-7.72 1.47 1.35L5.41 20z\"/>\n",
              "  </svg>\n",
              "      </button>\n",
              "      \n",
              "  <style>\n",
              "    .colab-df-container {\n",
              "      display:flex;\n",
              "      flex-wrap:wrap;\n",
              "      gap: 12px;\n",
              "    }\n",
              "\n",
              "    .colab-df-convert {\n",
              "      background-color: #E8F0FE;\n",
              "      border: none;\n",
              "      border-radius: 50%;\n",
              "      cursor: pointer;\n",
              "      display: none;\n",
              "      fill: #1967D2;\n",
              "      height: 32px;\n",
              "      padding: 0 0 0 0;\n",
              "      width: 32px;\n",
              "    }\n",
              "\n",
              "    .colab-df-convert:hover {\n",
              "      background-color: #E2EBFA;\n",
              "      box-shadow: 0px 1px 2px rgba(60, 64, 67, 0.3), 0px 1px 3px 1px rgba(60, 64, 67, 0.15);\n",
              "      fill: #174EA6;\n",
              "    }\n",
              "\n",
              "    [theme=dark] .colab-df-convert {\n",
              "      background-color: #3B4455;\n",
              "      fill: #D2E3FC;\n",
              "    }\n",
              "\n",
              "    [theme=dark] .colab-df-convert:hover {\n",
              "      background-color: #434B5C;\n",
              "      box-shadow: 0px 1px 3px 1px rgba(0, 0, 0, 0.15);\n",
              "      filter: drop-shadow(0px 1px 2px rgba(0, 0, 0, 0.3));\n",
              "      fill: #FFFFFF;\n",
              "    }\n",
              "  </style>\n",
              "\n",
              "      <script>\n",
              "        const buttonEl =\n",
              "          document.querySelector('#df-6a6ef747-00ae-474e-9099-013efbb30516 button.colab-df-convert');\n",
              "        buttonEl.style.display =\n",
              "          google.colab.kernel.accessAllowed ? 'block' : 'none';\n",
              "\n",
              "        async function convertToInteractive(key) {\n",
              "          const element = document.querySelector('#df-6a6ef747-00ae-474e-9099-013efbb30516');\n",
              "          const dataTable =\n",
              "            await google.colab.kernel.invokeFunction('convertToInteractive',\n",
              "                                                     [key], {});\n",
              "          if (!dataTable) return;\n",
              "\n",
              "          const docLinkHtml = 'Like what you see? Visit the ' +\n",
              "            '<a target=\"_blank\" href=https://colab.research.google.com/notebooks/data_table.ipynb>data table notebook</a>'\n",
              "            + ' to learn more about interactive tables.';\n",
              "          element.innerHTML = '';\n",
              "          dataTable['output_type'] = 'display_data';\n",
              "          await google.colab.output.renderOutput(dataTable, element);\n",
              "          const docLink = document.createElement('div');\n",
              "          docLink.innerHTML = docLinkHtml;\n",
              "          element.appendChild(docLink);\n",
              "        }\n",
              "      </script>\n",
              "    </div>\n",
              "  </div>\n",
              "  "
            ],
            "text/plain": [
              "                                      last_amount_borrowed  last_borrowed_in_months\n",
              "ids                                                                                \n",
              "a6d2afc2-9383-2486-7c07-086ad11710bf               1005.18                     36.0\n",
              "9946a70a-a1f9-dae0-885e-91255e6044b1               1005.92                     36.0\n",
              "bba309ef-47dc-7cba-7d9b-272a6255f37b               1007.08                     36.0\n",
              "789ad211-50f3-1cfb-cbaf-a5c74cbf66b1               1011.13                     36.0\n",
              "aa7da6f1-dcb6-5ef7-8656-461af4fc86ec               1011.22                     36.0\n",
              "...                                                    ...                      ...\n",
              "bdf18d6f-02a4-7d46-0e50-dfa6b9a8cd89                   NaN                      NaN\n",
              "6c45042a-bbfe-b7c6-782c-7999ed505fd4                   NaN                      NaN\n",
              "92cd9b1a-9a8e-43ad-5d96-8e999128b472                   NaN                      NaN\n",
              "febdd174-cf18-0be1-feb8-38399dd67d9e                   NaN                      NaN\n",
              "a0a5a872-6165-b939-b711-37d045a0b5a8                   NaN                      NaN\n",
              "\n",
              "[45000 rows x 2 columns]"
            ]
          },
          "metadata": {},
          "execution_count": 229
        }
      ]
    },
    {
      "cell_type": "code",
      "source": [
        "#SUPOSIÇÃO: QUANDO NÃO HOUVE EMPRÉSTIMO VOLTA COMO AUSENTE\n",
        "values = {'last_amount_borrowed':0.0, 'last_borrowed_in_months':0.0}\n",
        "df.fillna(value=values,inplace=True,axis=0)"
      ],
      "metadata": {
        "id": "EKEVoIZZlLbS"
      },
      "execution_count": 235,
      "outputs": []
    },
    {
      "cell_type": "markdown",
      "source": [
        "ok_since 0.59"
      ],
      "metadata": {
        "id": "Tgw3r57Dlv4h"
      }
    },
    {
      "cell_type": "code",
      "source": [
        "#verificando a variável ok_since\n",
        "df.ok_since.unique()"
      ],
      "metadata": {
        "colab": {
          "base_uri": "https://localhost:8080/"
        },
        "id": "miM6pVqjlLho",
        "outputId": "6d6fcba8-7f6a-4e1f-abe2-b411bda16845"
      },
      "execution_count": 237,
      "outputs": [
        {
          "output_type": "execute_result",
          "data": {
            "text/plain": [
              "array([ nan,  50.,  41.,  11.,  35.,  16.,  19.,  23.,  43.,  17.,  29.,\n",
              "        18.,   8.,  56.,  38.,  93.,  27.,  44.,  13.,  66.,  33.,  68.,\n",
              "        12.,  30.,  24.,  21.,   7.,  63.,  51.,  31.,  73.,  49.,   4.,\n",
              "        75.,  48.,  14.,  76.,  36.,   5.,  46.,  34.,  59.,  61.,  55.,\n",
              "        84.,  28.,   6.,  67.,  39.,  52.,  72.,  10.,  45.,  32.,  62.,\n",
              "         0.,  58.,  15.,  78.,  70.,   9.,  22.,  80.,  20.,  37.,   3.,\n",
              "        53.,  60.,  74.,  26.,  47.,   1.,  42.,  57.,  40.,  54.,  65.,\n",
              "        81.,  69.,  25.,  77.,  71.,  64.,  86.,  79.,  82.,   2.,  83.,\n",
              "        85., 103., 135.,  97., 101.,  90., 130., 141., 108.,  88.,  95.,\n",
              "       122.,  87.])"
            ]
          },
          "metadata": {},
          "execution_count": 237
        }
      ]
    },
    {
      "cell_type": "code",
      "source": [
        "#verificando a variável external_data_provider_credit_checks_last_year\n",
        "df.external_data_provider_credit_checks_last_year.unique()"
      ],
      "metadata": {
        "colab": {
          "base_uri": "https://localhost:8080/"
        },
        "id": "rSWOqL8insem",
        "outputId": "b87e145b-d97a-4835-d256-0a826e512f03"
      },
      "execution_count": 238,
      "outputs": [
        {
          "output_type": "execute_result",
          "data": {
            "text/plain": [
              "array([ 0., nan,  1.])"
            ]
          },
          "metadata": {},
          "execution_count": 238
        }
      ]
    },
    {
      "cell_type": "code",
      "source": [
        "#dropando a variável\n",
        "df.drop(labels=['ok_since','external_data_provider_credit_checks_last_year'],axis=1,inplace=True)"
      ],
      "metadata": {
        "id": "GBwHsAFblLju"
      },
      "execution_count": 239,
      "outputs": []
    },
    {
      "cell_type": "markdown",
      "source": [
        "credit_limit 0.31"
      ],
      "metadata": {
        "id": "Ex2chSr-mk6F"
      }
    },
    {
      "cell_type": "code",
      "source": [
        "#verificando alguns valores da variável credit_limit\n",
        "df.credit_limit.unique()"
      ],
      "metadata": {
        "colab": {
          "base_uri": "https://localhost:8080/"
        },
        "id": "LU5R3iQPlLlu",
        "outputId": "f748a95a-80e5-40af-e4f1-8e34a17a771e"
      },
      "execution_count": 240,
      "outputs": [
        {
          "output_type": "execute_result",
          "data": {
            "text/plain": [
              "array([    0., 39726.,    nan, ..., 10431., 36262., 17942.])"
            ]
          },
          "metadata": {},
          "execution_count": 240
        }
      ]
    },
    {
      "cell_type": "code",
      "source": [
        "#preenchendo com a mediana\n",
        "df.credit_limit.fillna(value=df.credit_limit.median(),inplace=True)"
      ],
      "metadata": {
        "id": "nqaf5SNBlLn8"
      },
      "execution_count": 241,
      "outputs": []
    },
    {
      "cell_type": "markdown",
      "source": [
        "n_issues 0.26"
      ],
      "metadata": {
        "id": "kcj18GnQnTi1"
      }
    },
    {
      "cell_type": "code",
      "source": [
        "#verificando alguns valores da variável n_issues\n",
        "df.n_issues.unique()"
      ],
      "metadata": {
        "colab": {
          "base_uri": "https://localhost:8080/"
        },
        "id": "-KX5N56cmwdB",
        "outputId": "e0d0508b-91af-4b95-d907-32335083eedf"
      },
      "execution_count": 242,
      "outputs": [
        {
          "output_type": "execute_result",
          "data": {
            "text/plain": [
              "array([18., 14., nan, 19.,  9.,  7.,  8., 16., 20.,  5., 13., 12., 23.,\n",
              "        6., 22., 11., 15., 17., 21.,  4., 10.,  3., 24., 25., 30.,  2.,\n",
              "       27., 37., 26.,  1., 29., 28., 40., 34., 49., 31., 32., 39., 42.,\n",
              "       33., 36., 35.,  0., 41., 38.])"
            ]
          },
          "metadata": {},
          "execution_count": 242
        }
      ]
    },
    {
      "cell_type": "code",
      "source": [
        "#preenchendo com a mediana\n",
        "df.n_issues.fillna(value=df.n_issues.median(),inplace=True)"
      ],
      "metadata": {
        "id": "HVLw-_CZmwfS"
      },
      "execution_count": 243,
      "outputs": []
    },
    {
      "cell_type": "code",
      "source": [
        "df.shape"
      ],
      "metadata": {
        "colab": {
          "base_uri": "https://localhost:8080/"
        },
        "id": "Y6PsnMIhqaO2",
        "outputId": "29bed4a1-7ac2-48d7-ed63-1647d7fbbd9e"
      },
      "execution_count": 244,
      "outputs": [
        {
          "output_type": "execute_result",
          "data": {
            "text/plain": [
              "(45000, 33)"
            ]
          },
          "metadata": {},
          "execution_count": 244
        }
      ]
    },
    {
      "cell_type": "markdown",
      "source": [
        "os demais\n",
        "\n",
        "pensar melhor"
      ],
      "metadata": {
        "id": "DKT-qQzmoOc3"
      }
    },
    {
      "cell_type": "code",
      "source": [
        "#quantidade de valores ausentes\n",
        "(df.isnull().sum() / df.shape[0]).sort_values(ascending=False).round(2)"
      ],
      "metadata": {
        "colab": {
          "base_uri": "https://localhost:8080/"
        },
        "id": "0qVDYW76qqUT",
        "outputId": "8c944269-7c56-4852-e6dd-0089654e8864"
      },
      "execution_count": 247,
      "outputs": [
        {
          "output_type": "execute_result",
          "data": {
            "text/plain": [
              "target_fraud                                       0.0\n",
              "n_defaulted_loans                                  0.0\n",
              "score_1                                            0.0\n",
              "score_2                                            0.0\n",
              "score_3                                            0.0\n",
              "score_4                                            0.0\n",
              "score_5                                            0.0\n",
              "score_6                                            0.0\n",
              "risk_rate                                          0.0\n",
              "last_amount_borrowed                               0.0\n",
              "last_borrowed_in_months                            0.0\n",
              "credit_limit                                       0.0\n",
              "income                                             0.0\n",
              "facebook_profile                                   0.0\n",
              "real_state                                         0.0\n",
              "n_bankruptcies                                     0.0\n",
              "n_accounts                                         0.0\n",
              "user_agent                                         0.0\n",
              "n_issues                                           0.0\n",
              "application_time_applied                           0.0\n",
              "application_time_in_funnel                         0.0\n",
              "email                                              0.0\n",
              "external_data_provider_credit_checks_last_month    0.0\n",
              "external_data_provider_email_seen_before           0.0\n",
              "external_data_provider_first_name                  0.0\n",
              "external_data_provider_fraud_score                 0.0\n",
              "lat_lon                                            0.0\n",
              "marketing_channel                                  0.0\n",
              "reported_income                                    0.0\n",
              "shipping_state                                     0.0\n",
              "shipping_zip_code                                  0.0\n",
              "profile_tags                                       0.0\n",
              "target_default                                     0.0\n",
              "dtype: float64"
            ]
          },
          "metadata": {},
          "execution_count": 247
        }
      ]
    },
    {
      "cell_type": "code",
      "source": [
        ""
      ],
      "metadata": {
        "id": "Dt6I7B_Kqtnu"
      },
      "execution_count": null,
      "outputs": []
    },
    {
      "cell_type": "code",
      "source": [
        ""
      ],
      "metadata": {
        "id": "O1ajyfs6sO4O"
      },
      "execution_count": null,
      "outputs": []
    },
    {
      "cell_type": "code",
      "source": [
        ""
      ],
      "metadata": {
        "id": "XAumzeVVsO6W"
      },
      "execution_count": null,
      "outputs": []
    },
    {
      "cell_type": "code",
      "source": [
        ""
      ],
      "metadata": {
        "id": "bCTR7yK6sO8V"
      },
      "execution_count": null,
      "outputs": []
    },
    {
      "cell_type": "code",
      "source": [
        ""
      ],
      "metadata": {
        "id": "0QpS-DmVsO-x"
      },
      "execution_count": null,
      "outputs": []
    },
    {
      "cell_type": "code",
      "source": [
        ""
      ],
      "metadata": {
        "id": "IsVIiqrSqtqI"
      },
      "execution_count": null,
      "outputs": []
    },
    {
      "cell_type": "code",
      "source": [
        ""
      ],
      "metadata": {
        "id": "gtQnMpbxqtsT"
      },
      "execution_count": null,
      "outputs": []
    },
    {
      "cell_type": "code",
      "source": [
        ""
      ],
      "metadata": {
        "id": "xhQqJ5elqqWm"
      },
      "execution_count": null,
      "outputs": []
    },
    {
      "cell_type": "markdown",
      "source": [
        "## Avaliando os Outliers\n",
        "\n",
        "texto texto texto\n",
        "\n",
        "[link](https://machinelearningmastery.com/model-based-outlier-detection-and-removal-in-python/)\n",
        "\n",
        "* credit_limit não tem distribuição normal"
      ],
      "metadata": {
        "id": "_aIop3tYLEvB"
      }
    },
    {
      "cell_type": "code",
      "source": [
        "#visualizando as estatísticas descritivas\n",
        "df.describe().round(2)"
      ],
      "metadata": {
        "colab": {
          "base_uri": "https://localhost:8080/",
          "height": 364
        },
        "id": "R8yxkzGXWlJW",
        "outputId": "51f0774b-c4d6-4aeb-d104-e591f847e7fd"
      },
      "execution_count": 185,
      "outputs": [
        {
          "output_type": "execute_result",
          "data": {
            "text/html": [
              "\n",
              "  <div id=\"df-6f7c5e3a-3320-464e-b64c-5548930e8b94\">\n",
              "    <div class=\"colab-df-container\">\n",
              "      <div>\n",
              "<style scoped>\n",
              "    .dataframe tbody tr th:only-of-type {\n",
              "        vertical-align: middle;\n",
              "    }\n",
              "\n",
              "    .dataframe tbody tr th {\n",
              "        vertical-align: top;\n",
              "    }\n",
              "\n",
              "    .dataframe thead th {\n",
              "        text-align: right;\n",
              "    }\n",
              "</style>\n",
              "<table border=\"1\" class=\"dataframe\">\n",
              "  <thead>\n",
              "    <tr style=\"text-align: right;\">\n",
              "      <th></th>\n",
              "      <th>score_3</th>\n",
              "      <th>score_4</th>\n",
              "      <th>score_5</th>\n",
              "      <th>score_6</th>\n",
              "      <th>risk_rate</th>\n",
              "      <th>last_amount_borrowed</th>\n",
              "      <th>last_borrowed_in_months</th>\n",
              "      <th>credit_limit</th>\n",
              "      <th>income</th>\n",
              "      <th>n_bankruptcies</th>\n",
              "      <th>n_defaulted_loans</th>\n",
              "      <th>n_accounts</th>\n",
              "      <th>n_issues</th>\n",
              "      <th>application_time_in_funnel</th>\n",
              "      <th>external_data_provider_credit_checks_last_month</th>\n",
              "      <th>external_data_provider_email_seen_before</th>\n",
              "      <th>external_data_provider_fraud_score</th>\n",
              "      <th>reported_income</th>\n",
              "      <th>shipping_zip_code</th>\n",
              "    </tr>\n",
              "  </thead>\n",
              "  <tbody>\n",
              "    <tr>\n",
              "      <th>count</th>\n",
              "      <td>37588.00</td>\n",
              "      <td>37588.00</td>\n",
              "      <td>37588.00</td>\n",
              "      <td>37588.00</td>\n",
              "      <td>37588.00</td>\n",
              "      <td>37588.00</td>\n",
              "      <td>37588.00</td>\n",
              "      <td>37588.00</td>\n",
              "      <td>37588.00</td>\n",
              "      <td>37588.00</td>\n",
              "      <td>37588.00</td>\n",
              "      <td>37588.00</td>\n",
              "      <td>37588.00</td>\n",
              "      <td>37588.00</td>\n",
              "      <td>37588.00</td>\n",
              "      <td>37588.00</td>\n",
              "      <td>37588.00</td>\n",
              "      <td>37588.00</td>\n",
              "      <td>37588.00</td>\n",
              "    </tr>\n",
              "    <tr>\n",
              "      <th>mean</th>\n",
              "      <td>346.40</td>\n",
              "      <td>100.02</td>\n",
              "      <td>0.50</td>\n",
              "      <td>99.86</td>\n",
              "      <td>0.29</td>\n",
              "      <td>4509.11</td>\n",
              "      <td>13.73</td>\n",
              "      <td>31079.57</td>\n",
              "      <td>70889.72</td>\n",
              "      <td>0.08</td>\n",
              "      <td>0.00</td>\n",
              "      <td>10.64</td>\n",
              "      <td>8.14</td>\n",
              "      <td>248.14</td>\n",
              "      <td>1.51</td>\n",
              "      <td>13.41</td>\n",
              "      <td>500.35</td>\n",
              "      <td>inf</td>\n",
              "      <td>33890.48</td>\n",
              "    </tr>\n",
              "    <tr>\n",
              "      <th>std</th>\n",
              "      <td>109.99</td>\n",
              "      <td>3.18</td>\n",
              "      <td>0.29</td>\n",
              "      <td>10.01</td>\n",
              "      <td>0.10</td>\n",
              "      <td>7816.64</td>\n",
              "      <td>19.98</td>\n",
              "      <td>30046.17</td>\n",
              "      <td>52807.05</td>\n",
              "      <td>0.28</td>\n",
              "      <td>0.08</td>\n",
              "      <td>4.58</td>\n",
              "      <td>6.24</td>\n",
              "      <td>146.15</td>\n",
              "      <td>1.11</td>\n",
              "      <td>122.77</td>\n",
              "      <td>288.18</td>\n",
              "      <td>NaN</td>\n",
              "      <td>12685.03</td>\n",
              "    </tr>\n",
              "    <tr>\n",
              "      <th>min</th>\n",
              "      <td>0.00</td>\n",
              "      <td>86.19</td>\n",
              "      <td>0.00</td>\n",
              "      <td>60.66</td>\n",
              "      <td>0.00</td>\n",
              "      <td>0.00</td>\n",
              "      <td>0.00</td>\n",
              "      <td>0.00</td>\n",
              "      <td>4821.18</td>\n",
              "      <td>0.00</td>\n",
              "      <td>0.00</td>\n",
              "      <td>0.00</td>\n",
              "      <td>0.00</td>\n",
              "      <td>0.00</td>\n",
              "      <td>0.00</td>\n",
              "      <td>-999.00</td>\n",
              "      <td>0.00</td>\n",
              "      <td>403.00</td>\n",
              "      <td>12001.00</td>\n",
              "    </tr>\n",
              "    <tr>\n",
              "      <th>25%</th>\n",
              "      <td>270.00</td>\n",
              "      <td>97.87</td>\n",
              "      <td>0.25</td>\n",
              "      <td>93.16</td>\n",
              "      <td>0.22</td>\n",
              "      <td>0.00</td>\n",
              "      <td>0.00</td>\n",
              "      <td>17324.75</td>\n",
              "      <td>44014.68</td>\n",
              "      <td>0.00</td>\n",
              "      <td>0.00</td>\n",
              "      <td>7.00</td>\n",
              "      <td>0.00</td>\n",
              "      <td>121.00</td>\n",
              "      <td>1.00</td>\n",
              "      <td>12.00</td>\n",
              "      <td>252.00</td>\n",
              "      <td>50943.50</td>\n",
              "      <td>22890.00</td>\n",
              "    </tr>\n",
              "    <tr>\n",
              "      <th>50%</th>\n",
              "      <td>340.00</td>\n",
              "      <td>100.03</td>\n",
              "      <td>0.50</td>\n",
              "      <td>99.91</td>\n",
              "      <td>0.29</td>\n",
              "      <td>0.00</td>\n",
              "      <td>0.00</td>\n",
              "      <td>25212.50</td>\n",
              "      <td>60036.36</td>\n",
              "      <td>0.00</td>\n",
              "      <td>0.00</td>\n",
              "      <td>10.00</td>\n",
              "      <td>9.00</td>\n",
              "      <td>249.00</td>\n",
              "      <td>2.00</td>\n",
              "      <td>27.00</td>\n",
              "      <td>502.00</td>\n",
              "      <td>101779.00</td>\n",
              "      <td>33877.00</td>\n",
              "    </tr>\n",
              "    <tr>\n",
              "      <th>75%</th>\n",
              "      <td>420.00</td>\n",
              "      <td>102.15</td>\n",
              "      <td>0.75</td>\n",
              "      <td>106.56</td>\n",
              "      <td>0.36</td>\n",
              "      <td>7406.32</td>\n",
              "      <td>36.00</td>\n",
              "      <td>34924.00</td>\n",
              "      <td>85028.10</td>\n",
              "      <td>0.00</td>\n",
              "      <td>0.00</td>\n",
              "      <td>13.00</td>\n",
              "      <td>12.00</td>\n",
              "      <td>375.00</td>\n",
              "      <td>2.00</td>\n",
              "      <td>43.00</td>\n",
              "      <td>747.00</td>\n",
              "      <td>151395.75</td>\n",
              "      <td>44883.25</td>\n",
              "    </tr>\n",
              "    <tr>\n",
              "      <th>max</th>\n",
              "      <td>990.00</td>\n",
              "      <td>113.07</td>\n",
              "      <td>1.00</td>\n",
              "      <td>142.19</td>\n",
              "      <td>0.81</td>\n",
              "      <td>35059.60</td>\n",
              "      <td>60.00</td>\n",
              "      <td>448269.00</td>\n",
              "      <td>5000027.83</td>\n",
              "      <td>5.00</td>\n",
              "      <td>5.00</td>\n",
              "      <td>49.00</td>\n",
              "      <td>49.00</td>\n",
              "      <td>500.00</td>\n",
              "      <td>3.00</td>\n",
              "      <td>59.00</td>\n",
              "      <td>1000.00</td>\n",
              "      <td>inf</td>\n",
              "      <td>55998.00</td>\n",
              "    </tr>\n",
              "  </tbody>\n",
              "</table>\n",
              "</div>\n",
              "      <button class=\"colab-df-convert\" onclick=\"convertToInteractive('df-6f7c5e3a-3320-464e-b64c-5548930e8b94')\"\n",
              "              title=\"Convert this dataframe to an interactive table.\"\n",
              "              style=\"display:none;\">\n",
              "        \n",
              "  <svg xmlns=\"http://www.w3.org/2000/svg\" height=\"24px\"viewBox=\"0 0 24 24\"\n",
              "       width=\"24px\">\n",
              "    <path d=\"M0 0h24v24H0V0z\" fill=\"none\"/>\n",
              "    <path d=\"M18.56 5.44l.94 2.06.94-2.06 2.06-.94-2.06-.94-.94-2.06-.94 2.06-2.06.94zm-11 1L8.5 8.5l.94-2.06 2.06-.94-2.06-.94L8.5 2.5l-.94 2.06-2.06.94zm10 10l.94 2.06.94-2.06 2.06-.94-2.06-.94-.94-2.06-.94 2.06-2.06.94z\"/><path d=\"M17.41 7.96l-1.37-1.37c-.4-.4-.92-.59-1.43-.59-.52 0-1.04.2-1.43.59L10.3 9.45l-7.72 7.72c-.78.78-.78 2.05 0 2.83L4 21.41c.39.39.9.59 1.41.59.51 0 1.02-.2 1.41-.59l7.78-7.78 2.81-2.81c.8-.78.8-2.07 0-2.86zM5.41 20L4 18.59l7.72-7.72 1.47 1.35L5.41 20z\"/>\n",
              "  </svg>\n",
              "      </button>\n",
              "      \n",
              "  <style>\n",
              "    .colab-df-container {\n",
              "      display:flex;\n",
              "      flex-wrap:wrap;\n",
              "      gap: 12px;\n",
              "    }\n",
              "\n",
              "    .colab-df-convert {\n",
              "      background-color: #E8F0FE;\n",
              "      border: none;\n",
              "      border-radius: 50%;\n",
              "      cursor: pointer;\n",
              "      display: none;\n",
              "      fill: #1967D2;\n",
              "      height: 32px;\n",
              "      padding: 0 0 0 0;\n",
              "      width: 32px;\n",
              "    }\n",
              "\n",
              "    .colab-df-convert:hover {\n",
              "      background-color: #E2EBFA;\n",
              "      box-shadow: 0px 1px 2px rgba(60, 64, 67, 0.3), 0px 1px 3px 1px rgba(60, 64, 67, 0.15);\n",
              "      fill: #174EA6;\n",
              "    }\n",
              "\n",
              "    [theme=dark] .colab-df-convert {\n",
              "      background-color: #3B4455;\n",
              "      fill: #D2E3FC;\n",
              "    }\n",
              "\n",
              "    [theme=dark] .colab-df-convert:hover {\n",
              "      background-color: #434B5C;\n",
              "      box-shadow: 0px 1px 3px 1px rgba(0, 0, 0, 0.15);\n",
              "      filter: drop-shadow(0px 1px 2px rgba(0, 0, 0, 0.3));\n",
              "      fill: #FFFFFF;\n",
              "    }\n",
              "  </style>\n",
              "\n",
              "      <script>\n",
              "        const buttonEl =\n",
              "          document.querySelector('#df-6f7c5e3a-3320-464e-b64c-5548930e8b94 button.colab-df-convert');\n",
              "        buttonEl.style.display =\n",
              "          google.colab.kernel.accessAllowed ? 'block' : 'none';\n",
              "\n",
              "        async function convertToInteractive(key) {\n",
              "          const element = document.querySelector('#df-6f7c5e3a-3320-464e-b64c-5548930e8b94');\n",
              "          const dataTable =\n",
              "            await google.colab.kernel.invokeFunction('convertToInteractive',\n",
              "                                                     [key], {});\n",
              "          if (!dataTable) return;\n",
              "\n",
              "          const docLinkHtml = 'Like what you see? Visit the ' +\n",
              "            '<a target=\"_blank\" href=https://colab.research.google.com/notebooks/data_table.ipynb>data table notebook</a>'\n",
              "            + ' to learn more about interactive tables.';\n",
              "          element.innerHTML = '';\n",
              "          dataTable['output_type'] = 'display_data';\n",
              "          await google.colab.output.renderOutput(dataTable, element);\n",
              "          const docLink = document.createElement('div');\n",
              "          docLink.innerHTML = docLinkHtml;\n",
              "          element.appendChild(docLink);\n",
              "        }\n",
              "      </script>\n",
              "    </div>\n",
              "  </div>\n",
              "  "
            ],
            "text/plain": [
              "        score_3   score_4  ...  reported_income  shipping_zip_code\n",
              "count  37588.00  37588.00  ...         37588.00           37588.00\n",
              "mean     346.40    100.02  ...              inf           33890.48\n",
              "std      109.99      3.18  ...              NaN           12685.03\n",
              "min        0.00     86.19  ...           403.00           12001.00\n",
              "25%      270.00     97.87  ...         50943.50           22890.00\n",
              "50%      340.00    100.03  ...        101779.00           33877.00\n",
              "75%      420.00    102.15  ...        151395.75           44883.25\n",
              "max      990.00    113.07  ...              inf           55998.00\n",
              "\n",
              "[8 rows x 19 columns]"
            ]
          },
          "metadata": {},
          "execution_count": 185
        }
      ]
    },
    {
      "cell_type": "markdown",
      "source": [
        "falar dos infinitos"
      ],
      "metadata": {
        "id": "Ud8oG4Nmk0Zb"
      }
    },
    {
      "cell_type": "code",
      "source": [
        "#selecionando os infinitos\n",
        "infinitos = np.isinf(df.reported_income)\n",
        "\n",
        "#quantidade de valores infinitos\n",
        "print('A variável reported_income possui {} valores infinitos.'.format(infinitos.sum()))\n",
        "\n",
        "#retirando os infinitos do dataset\n",
        "df = df[~infinitos]"
      ],
      "metadata": {
        "colab": {
          "base_uri": "https://localhost:8080/"
        },
        "id": "mWOL2VTihKCo",
        "outputId": "8ab0bfe7-9968-4b8a-c52e-ef62e1b40689"
      },
      "execution_count": 186,
      "outputs": [
        {
          "output_type": "stream",
          "name": "stdout",
          "text": [
            "A variável reported_income possui 64 valores infinitos.\n"
          ]
        }
      ]
    },
    {
      "cell_type": "code",
      "source": [
        "df.shape"
      ],
      "metadata": {
        "colab": {
          "base_uri": "https://localhost:8080/"
        },
        "id": "KvEjmAcXJ70z",
        "outputId": "50d024b1-60c4-4964-b7eb-bf9ec1a1aa22"
      },
      "execution_count": 187,
      "outputs": [
        {
          "output_type": "execute_result",
          "data": {
            "text/plain": [
              "(37524, 34)"
            ]
          },
          "metadata": {},
          "execution_count": 187
        }
      ]
    },
    {
      "cell_type": "markdown",
      "source": [
        "falar de algumas variáveis que estão estranhas"
      ],
      "metadata": {
        "id": "NiWCHCkhk4Y4"
      }
    },
    {
      "cell_type": "code",
      "source": [
        "#lista  de 3 variáveis a serem analisadas\n",
        "lista_primeira_linha = ['score_3','score_4','score_5']\n",
        "lista_segunda_linha = ['score_6','risk_rate','last_amount_borrowed']\n",
        "lista_terceira_linha = ['last_borrowed_in_months','credit_limit','income']\n",
        "lista_quarta_linha = ['n_bankruptcies','n_defaulted_loans','n_accounts']\n",
        "lista_quinta_linha = ['n_issues','reported_income','application_time_in_funnel']\n",
        "\n",
        "#criando o ax e o fig no matplotlib\n",
        "fig, ax = plt.subplots(figsize=(18,15),ncols=3,nrows=5)\n",
        "\n",
        "#criando os histogramas da primeira linha\n",
        "for i,variavel in enumerate(lista_primeira_linha):\n",
        "  sns.boxplot(data=df,x=variavel,linewidth=0.35,ax=ax[0][i])\n",
        "  ajuste_layout(ax=ax[0][i],grid=True,titulo=variavel,location='center',x_milhares=True)\n",
        "\n",
        "#criando os histogramas da segunda linha\n",
        "for i,variavel in enumerate(lista_segunda_linha):\n",
        "  sns.boxplot(data=df,x=variavel,linewidth=0.35,ax=ax[1][i],color='#0A1172')\n",
        "  ajuste_layout(ax=ax[1][i],grid=True,titulo=variavel,location='center',x_milhares=True)\n",
        "\n",
        "#criando os histogramas da terceira linha\n",
        "for i,variavel in enumerate(lista_terceira_linha):\n",
        "  sns.boxplot(data=df,x=variavel,linewidth=0.35,ax=ax[2][i],color='#281e5d')\n",
        "  ajuste_layout(ax=ax[2][i],grid=True,titulo=variavel,location='center',x_milhares=True)\n",
        "\n",
        "#criando os histogramas da quarta linha\n",
        "for i,variavel in enumerate(lista_quarta_linha):\n",
        "  sns.boxplot(data=df,x=variavel,linewidth=0.35,ax=ax[3][i],color='#151e3d')\n",
        "  ajuste_layout(ax=ax[3][i],grid=True,titulo=variavel,location='center',x_milhares=True)\n",
        "\n",
        "#criando os histogramas da quinta linha\n",
        "for i,variavel in enumerate(lista_quinta_linha):\n",
        "  sns.boxplot(data=df,x=variavel,linewidth=0.35,ax=ax[4][i],color='#051094')\n",
        "  ajuste_layout(ax=ax[4][i],grid=True,titulo=variavel,location='center',x_milhares=True)\n",
        "\n",
        "#plotando os gráficos\n",
        "plt.tight_layout(pad=2.0);"
      ],
      "metadata": {
        "colab": {
          "base_uri": "https://localhost:8080/",
          "height": 1000
        },
        "id": "ky_KyvDNWlLn",
        "outputId": "6f71c290-4cd8-4b71-8e70-911652ef59ec"
      },
      "execution_count": 188,
      "outputs": [
        {
          "output_type": "display_data",
          "data": {
            "image/png": "[encoded data removed]",
            "text/plain": [
              "<Figure size 1296x1080 with 15 Axes>"
            ]
          },
          "metadata": {
            "needs_background": "dark"
          }
        }
      ]
    },
    {
      "cell_type": "markdown",
      "source": [
        "tratamento do outlier\n",
        "\n",
        "falar do isolation forest, retorna menos 1 qndo é outcome, tratamento de anomalias"
      ],
      "metadata": {
        "id": "LITEO7Ugj6wJ"
      }
    },
    {
      "cell_type": "code",
      "source": [
        "df.shape"
      ],
      "metadata": {
        "colab": {
          "base_uri": "https://localhost:8080/"
        },
        "id": "fF43TQmyJ_AZ",
        "outputId": "15fac29b-dfbd-4f7d-e416-0fec7f9bd7e3"
      },
      "execution_count": 181,
      "outputs": [
        {
          "output_type": "execute_result",
          "data": {
            "text/plain": [
              "(37588, 34)"
            ]
          },
          "metadata": {},
          "execution_count": 181
        }
      ]
    },
    {
      "cell_type": "code",
      "source": [
        "#instanciando o Isolation Forest\n",
        "iso = IsolationForest(n_estimators=5000,random_state=42,contamination=0.03)\n",
        "\n",
        "#variáveis que serão verificadas as anomalias\n",
        "anomalias = df.describe().columns\n",
        "\n",
        "#aplicar os valores no modelo\n",
        "yhat = iso.fit_predict(df[anomalias])\n",
        "\n",
        "#valores que retornam -1 são anomalias\n",
        "mask = yhat != -1\n",
        "\n",
        "#quantidade de anomalias encontradas\n",
        "anomalias = df[~mask]\n",
        "print('Número de registros com anomalias encontradas {:,}'.format(anomalias.shape[0]).replace(',','.'))\n",
        "\n",
        "#excluindo os outliers\n",
        "df = df[mask]\n",
        "print('Sobraram {:,} registros para análise.'.format(df.shape[0]).replace(',','.'))"
      ],
      "metadata": {
        "colab": {
          "base_uri": "https://localhost:8080/"
        },
        "id": "8HyGcVgMj--K",
        "outputId": "31a032e2-2405-460b-b20d-af930c2ebc16"
      },
      "execution_count": 193,
      "outputs": [
        {
          "output_type": "stream",
          "name": "stdout",
          "text": [
            "Número de registros com anomalias encontradas 1.092\n",
            "Sobraram 35.306 registros para análise.\n"
          ]
        }
      ]
    },
    {
      "cell_type": "code",
      "source": [
        "df.shape"
      ],
      "metadata": {
        "colab": {
          "base_uri": "https://localhost:8080/"
        },
        "id": "YgL0-hcGHpuz",
        "outputId": "d14b1f16-4adc-4329-d091-ea6a1103d04b"
      },
      "execution_count": 194,
      "outputs": [
        {
          "output_type": "execute_result",
          "data": {
            "text/plain": [
              "(35306, 34)"
            ]
          },
          "metadata": {},
          "execution_count": 194
        }
      ]
    },
    {
      "cell_type": "code",
      "source": [
        "df.describe().round(2)"
      ],
      "metadata": {
        "colab": {
          "base_uri": "https://localhost:8080/",
          "height": 364
        },
        "id": "o_sFF_vrZD30",
        "outputId": "e58095bf-4a48-4807-c7b5-473e448d3f54"
      },
      "execution_count": 195,
      "outputs": [
        {
          "output_type": "execute_result",
          "data": {
            "text/html": [
              "\n",
              "  <div id=\"df-b5689710-97c4-48f0-9c6b-ede921de1a58\">\n",
              "    <div class=\"colab-df-container\">\n",
              "      <div>\n",
              "<style scoped>\n",
              "    .dataframe tbody tr th:only-of-type {\n",
              "        vertical-align: middle;\n",
              "    }\n",
              "\n",
              "    .dataframe tbody tr th {\n",
              "        vertical-align: top;\n",
              "    }\n",
              "\n",
              "    .dataframe thead th {\n",
              "        text-align: right;\n",
              "    }\n",
              "</style>\n",
              "<table border=\"1\" class=\"dataframe\">\n",
              "  <thead>\n",
              "    <tr style=\"text-align: right;\">\n",
              "      <th></th>\n",
              "      <th>score_3</th>\n",
              "      <th>score_4</th>\n",
              "      <th>score_5</th>\n",
              "      <th>score_6</th>\n",
              "      <th>risk_rate</th>\n",
              "      <th>last_amount_borrowed</th>\n",
              "      <th>last_borrowed_in_months</th>\n",
              "      <th>credit_limit</th>\n",
              "      <th>income</th>\n",
              "      <th>n_bankruptcies</th>\n",
              "      <th>n_defaulted_loans</th>\n",
              "      <th>n_accounts</th>\n",
              "      <th>n_issues</th>\n",
              "      <th>application_time_in_funnel</th>\n",
              "      <th>external_data_provider_credit_checks_last_month</th>\n",
              "      <th>external_data_provider_email_seen_before</th>\n",
              "      <th>external_data_provider_fraud_score</th>\n",
              "      <th>reported_income</th>\n",
              "      <th>shipping_zip_code</th>\n",
              "    </tr>\n",
              "  </thead>\n",
              "  <tbody>\n",
              "    <tr>\n",
              "      <th>count</th>\n",
              "      <td>35306.00</td>\n",
              "      <td>35306.00</td>\n",
              "      <td>35306.00</td>\n",
              "      <td>35306.00</td>\n",
              "      <td>35306.00</td>\n",
              "      <td>35306.00</td>\n",
              "      <td>35306.00</td>\n",
              "      <td>35306.00</td>\n",
              "      <td>35306.00</td>\n",
              "      <td>35306.00</td>\n",
              "      <td>35306.00</td>\n",
              "      <td>35306.00</td>\n",
              "      <td>35306.00</td>\n",
              "      <td>35306.00</td>\n",
              "      <td>35306.00</td>\n",
              "      <td>35306.00</td>\n",
              "      <td>35306.00</td>\n",
              "      <td>3.530600e+04</td>\n",
              "      <td>35306.00</td>\n",
              "    </tr>\n",
              "    <tr>\n",
              "      <th>mean</th>\n",
              "      <td>345.79</td>\n",
              "      <td>100.01</td>\n",
              "      <td>0.50</td>\n",
              "      <td>99.83</td>\n",
              "      <td>0.29</td>\n",
              "      <td>3793.64</td>\n",
              "      <td>12.51</td>\n",
              "      <td>28237.19</td>\n",
              "      <td>66862.91</td>\n",
              "      <td>0.07</td>\n",
              "      <td>0.00</td>\n",
              "      <td>10.40</td>\n",
              "      <td>7.83</td>\n",
              "      <td>248.28</td>\n",
              "      <td>1.51</td>\n",
              "      <td>18.53</td>\n",
              "      <td>499.93</td>\n",
              "      <td>3.231266e+06</td>\n",
              "      <td>33907.82</td>\n",
              "    </tr>\n",
              "    <tr>\n",
              "      <th>std</th>\n",
              "      <td>109.24</td>\n",
              "      <td>3.16</td>\n",
              "      <td>0.29</td>\n",
              "      <td>9.94</td>\n",
              "      <td>0.10</td>\n",
              "      <td>6780.97</td>\n",
              "      <td>19.12</td>\n",
              "      <td>22672.36</td>\n",
              "      <td>34491.22</td>\n",
              "      <td>0.26</td>\n",
              "      <td>0.07</td>\n",
              "      <td>4.33</td>\n",
              "      <td>6.01</td>\n",
              "      <td>145.59</td>\n",
              "      <td>1.11</td>\n",
              "      <td>99.76</td>\n",
              "      <td>287.14</td>\n",
              "      <td>1.394381e+08</td>\n",
              "      <td>12650.53</td>\n",
              "    </tr>\n",
              "    <tr>\n",
              "      <th>min</th>\n",
              "      <td>0.00</td>\n",
              "      <td>86.19</td>\n",
              "      <td>0.00</td>\n",
              "      <td>60.66</td>\n",
              "      <td>0.00</td>\n",
              "      <td>0.00</td>\n",
              "      <td>0.00</td>\n",
              "      <td>0.00</td>\n",
              "      <td>4821.18</td>\n",
              "      <td>0.00</td>\n",
              "      <td>0.00</td>\n",
              "      <td>0.00</td>\n",
              "      <td>0.00</td>\n",
              "      <td>0.00</td>\n",
              "      <td>0.00</td>\n",
              "      <td>-999.00</td>\n",
              "      <td>0.00</td>\n",
              "      <td>4.030000e+02</td>\n",
              "      <td>12001.00</td>\n",
              "    </tr>\n",
              "    <tr>\n",
              "      <th>25%</th>\n",
              "      <td>270.00</td>\n",
              "      <td>97.88</td>\n",
              "      <td>0.25</td>\n",
              "      <td>93.18</td>\n",
              "      <td>0.22</td>\n",
              "      <td>0.00</td>\n",
              "      <td>0.00</td>\n",
              "      <td>16786.75</td>\n",
              "      <td>43012.71</td>\n",
              "      <td>0.00</td>\n",
              "      <td>0.00</td>\n",
              "      <td>7.00</td>\n",
              "      <td>0.00</td>\n",
              "      <td>122.00</td>\n",
              "      <td>1.00</td>\n",
              "      <td>12.00</td>\n",
              "      <td>254.00</td>\n",
              "      <td>5.096000e+04</td>\n",
              "      <td>22938.25</td>\n",
              "    </tr>\n",
              "    <tr>\n",
              "      <th>50%</th>\n",
              "      <td>340.00</td>\n",
              "      <td>100.02</td>\n",
              "      <td>0.50</td>\n",
              "      <td>99.88</td>\n",
              "      <td>0.29</td>\n",
              "      <td>0.00</td>\n",
              "      <td>0.00</td>\n",
              "      <td>25212.50</td>\n",
              "      <td>60020.30</td>\n",
              "      <td>0.00</td>\n",
              "      <td>0.00</td>\n",
              "      <td>10.00</td>\n",
              "      <td>8.00</td>\n",
              "      <td>249.00</td>\n",
              "      <td>2.00</td>\n",
              "      <td>27.00</td>\n",
              "      <td>501.00</td>\n",
              "      <td>1.012755e+05</td>\n",
              "      <td>33900.00</td>\n",
              "    </tr>\n",
              "    <tr>\n",
              "      <th>75%</th>\n",
              "      <td>420.00</td>\n",
              "      <td>102.13</td>\n",
              "      <td>0.75</td>\n",
              "      <td>106.49</td>\n",
              "      <td>0.36</td>\n",
              "      <td>6020.59</td>\n",
              "      <td>36.00</td>\n",
              "      <td>32280.75</td>\n",
              "      <td>82492.83</td>\n",
              "      <td>0.00</td>\n",
              "      <td>0.00</td>\n",
              "      <td>13.00</td>\n",
              "      <td>12.00</td>\n",
              "      <td>375.00</td>\n",
              "      <td>2.00</td>\n",
              "      <td>43.00</td>\n",
              "      <td>745.00</td>\n",
              "      <td>1.504760e+05</td>\n",
              "      <td>44867.25</td>\n",
              "    </tr>\n",
              "    <tr>\n",
              "      <th>max</th>\n",
              "      <td>990.00</td>\n",
              "      <td>113.07</td>\n",
              "      <td>1.00</td>\n",
              "      <td>142.19</td>\n",
              "      <td>0.81</td>\n",
              "      <td>35045.04</td>\n",
              "      <td>60.00</td>\n",
              "      <td>192186.00</td>\n",
              "      <td>357015.64</td>\n",
              "      <td>5.00</td>\n",
              "      <td>5.00</td>\n",
              "      <td>42.00</td>\n",
              "      <td>42.00</td>\n",
              "      <td>500.00</td>\n",
              "      <td>3.00</td>\n",
              "      <td>59.00</td>\n",
              "      <td>1000.00</td>\n",
              "      <td>6.355500e+09</td>\n",
              "      <td>55998.00</td>\n",
              "    </tr>\n",
              "  </tbody>\n",
              "</table>\n",
              "</div>\n",
              "      <button class=\"colab-df-convert\" onclick=\"convertToInteractive('df-b5689710-97c4-48f0-9c6b-ede921de1a58')\"\n",
              "              title=\"Convert this dataframe to an interactive table.\"\n",
              "              style=\"display:none;\">\n",
              "        \n",
              "  <svg xmlns=\"http://www.w3.org/2000/svg\" height=\"24px\"viewBox=\"0 0 24 24\"\n",
              "       width=\"24px\">\n",
              "    <path d=\"M0 0h24v24H0V0z\" fill=\"none\"/>\n",
              "    <path d=\"M18.56 5.44l.94 2.06.94-2.06 2.06-.94-2.06-.94-.94-2.06-.94 2.06-2.06.94zm-11 1L8.5 8.5l.94-2.06 2.06-.94-2.06-.94L8.5 2.5l-.94 2.06-2.06.94zm10 10l.94 2.06.94-2.06 2.06-.94-2.06-.94-.94-2.06-.94 2.06-2.06.94z\"/><path d=\"M17.41 7.96l-1.37-1.37c-.4-.4-.92-.59-1.43-.59-.52 0-1.04.2-1.43.59L10.3 9.45l-7.72 7.72c-.78.78-.78 2.05 0 2.83L4 21.41c.39.39.9.59 1.41.59.51 0 1.02-.2 1.41-.59l7.78-7.78 2.81-2.81c.8-.78.8-2.07 0-2.86zM5.41 20L4 18.59l7.72-7.72 1.47 1.35L5.41 20z\"/>\n",
              "  </svg>\n",
              "      </button>\n",
              "      \n",
              "  <style>\n",
              "    .colab-df-container {\n",
              "      display:flex;\n",
              "      flex-wrap:wrap;\n",
              "      gap: 12px;\n",
              "    }\n",
              "\n",
              "    .colab-df-convert {\n",
              "      background-color: #E8F0FE;\n",
              "      border: none;\n",
              "      border-radius: 50%;\n",
              "      cursor: pointer;\n",
              "      display: none;\n",
              "      fill: #1967D2;\n",
              "      height: 32px;\n",
              "      padding: 0 0 0 0;\n",
              "      width: 32px;\n",
              "    }\n",
              "\n",
              "    .colab-df-convert:hover {\n",
              "      background-color: #E2EBFA;\n",
              "      box-shadow: 0px 1px 2px rgba(60, 64, 67, 0.3), 0px 1px 3px 1px rgba(60, 64, 67, 0.15);\n",
              "      fill: #174EA6;\n",
              "    }\n",
              "\n",
              "    [theme=dark] .colab-df-convert {\n",
              "      background-color: #3B4455;\n",
              "      fill: #D2E3FC;\n",
              "    }\n",
              "\n",
              "    [theme=dark] .colab-df-convert:hover {\n",
              "      background-color: #434B5C;\n",
              "      box-shadow: 0px 1px 3px 1px rgba(0, 0, 0, 0.15);\n",
              "      filter: drop-shadow(0px 1px 2px rgba(0, 0, 0, 0.3));\n",
              "      fill: #FFFFFF;\n",
              "    }\n",
              "  </style>\n",
              "\n",
              "      <script>\n",
              "        const buttonEl =\n",
              "          document.querySelector('#df-b5689710-97c4-48f0-9c6b-ede921de1a58 button.colab-df-convert');\n",
              "        buttonEl.style.display =\n",
              "          google.colab.kernel.accessAllowed ? 'block' : 'none';\n",
              "\n",
              "        async function convertToInteractive(key) {\n",
              "          const element = document.querySelector('#df-b5689710-97c4-48f0-9c6b-ede921de1a58');\n",
              "          const dataTable =\n",
              "            await google.colab.kernel.invokeFunction('convertToInteractive',\n",
              "                                                     [key], {});\n",
              "          if (!dataTable) return;\n",
              "\n",
              "          const docLinkHtml = 'Like what you see? Visit the ' +\n",
              "            '<a target=\"_blank\" href=https://colab.research.google.com/notebooks/data_table.ipynb>data table notebook</a>'\n",
              "            + ' to learn more about interactive tables.';\n",
              "          element.innerHTML = '';\n",
              "          dataTable['output_type'] = 'display_data';\n",
              "          await google.colab.output.renderOutput(dataTable, element);\n",
              "          const docLink = document.createElement('div');\n",
              "          docLink.innerHTML = docLinkHtml;\n",
              "          element.appendChild(docLink);\n",
              "        }\n",
              "      </script>\n",
              "    </div>\n",
              "  </div>\n",
              "  "
            ],
            "text/plain": [
              "        score_3   score_4  ...  reported_income  shipping_zip_code\n",
              "count  35306.00  35306.00  ...     3.530600e+04           35306.00\n",
              "mean     345.79    100.01  ...     3.231266e+06           33907.82\n",
              "std      109.24      3.16  ...     1.394381e+08           12650.53\n",
              "min        0.00     86.19  ...     4.030000e+02           12001.00\n",
              "25%      270.00     97.88  ...     5.096000e+04           22938.25\n",
              "50%      340.00    100.02  ...     1.012755e+05           33900.00\n",
              "75%      420.00    102.13  ...     1.504760e+05           44867.25\n",
              "max      990.00    113.07  ...     6.355500e+09           55998.00\n",
              "\n",
              "[8 rows x 19 columns]"
            ]
          },
          "metadata": {},
          "execution_count": 195
        }
      ]
    },
    {
      "cell_type": "code",
      "source": [
        ""
      ],
      "metadata": {
        "id": "yFYLxTvdZGKU"
      },
      "execution_count": null,
      "outputs": []
    },
    {
      "cell_type": "code",
      "source": [
        ""
      ],
      "metadata": {
        "id": "dJ2zSFxWZGMZ"
      },
      "execution_count": null,
      "outputs": []
    },
    {
      "cell_type": "code",
      "source": [
        ""
      ],
      "metadata": {
        "id": "HRo9s5h2ZGOh"
      },
      "execution_count": null,
      "outputs": []
    },
    {
      "cell_type": "code",
      "source": [
        ""
      ],
      "metadata": {
        "id": "5y10qo-LZGQm"
      },
      "execution_count": null,
      "outputs": []
    },
    {
      "cell_type": "code",
      "source": [
        ""
      ],
      "metadata": {
        "id": "_xNetig6ZGSp"
      },
      "execution_count": null,
      "outputs": []
    },
    {
      "cell_type": "markdown",
      "source": [
        "## Correlação dos Dados e algumas visualizações interessantes\n",
        "texto texto"
      ],
      "metadata": {
        "id": "TH2ZiI2uihOq"
      }
    },
    {
      "cell_type": "code",
      "source": [
        "df['horario'] = df['application_time_applied'].str[:2].astype('int32')"
      ],
      "metadata": {
        "id": "tBIRUeATSq6i"
      },
      "execution_count": 73,
      "outputs": []
    },
    {
      "cell_type": "code",
      "source": [
        "df['manha_noite'] = df.horario <= 12"
      ],
      "metadata": {
        "id": "_bAoZz2LSq8w"
      },
      "execution_count": 76,
      "outputs": []
    },
    {
      "cell_type": "code",
      "source": [
        ""
      ],
      "metadata": {
        "id": "ZrRlFoe-SrCX"
      },
      "execution_count": null,
      "outputs": []
    },
    {
      "cell_type": "code",
      "source": [
        "inadimplentes = df[df.target_default == True]"
      ],
      "metadata": {
        "id": "1s6KVjsuS9FJ"
      },
      "execution_count": 30,
      "outputs": []
    },
    {
      "cell_type": "code",
      "source": [
        "inadimplentes['horario'] = inadimplentes['application_time_applied'].str[:2].astype('int32')"
      ],
      "metadata": {
        "id": "Bk8PC2hWS9HW"
      },
      "execution_count": 31,
      "outputs": []
    },
    {
      "cell_type": "code",
      "source": [
        "inadimplentes.groupby('horario').count().target_fraud.plot(kind='bar')"
      ],
      "metadata": {
        "id": "NiHhBXTCS9Ml",
        "colab": {
          "base_uri": "https://localhost:8080/",
          "height": 300
        },
        "outputId": "dc34d499-8fe3-40fa-ba87-fe228f95b609"
      },
      "execution_count": 72,
      "outputs": [
        {
          "output_type": "execute_result",
          "data": {
            "text/plain": [
              "<matplotlib.axes._subplots.AxesSubplot at 0x7f70f80aa310>"
            ]
          },
          "metadata": {},
          "execution_count": 72
        },
        {
          "output_type": "display_data",
          "data": {
            "image/png": "[encoded data removed]",
            "text/plain": [
              "<Figure size 432x288 with 1 Axes>"
            ]
          },
          "metadata": {
            "needs_background": "light"
          }
        }
      ]
    },
    {
      "cell_type": "code",
      "source": [
        ""
      ],
      "metadata": {
        "id": "Suhh12fUSbnz"
      },
      "execution_count": null,
      "outputs": []
    },
    {
      "cell_type": "code",
      "source": [
        ""
      ],
      "metadata": {
        "id": "Kp-xbLd8SbqV"
      },
      "execution_count": null,
      "outputs": []
    },
    {
      "cell_type": "code",
      "source": [
        ""
      ],
      "metadata": {
        "id": "GP51h8zuSbsS"
      },
      "execution_count": null,
      "outputs": []
    },
    {
      "cell_type": "code",
      "source": [
        ""
      ],
      "metadata": {
        "id": "Wmq9pnjjSbwO"
      },
      "execution_count": null,
      "outputs": []
    },
    {
      "cell_type": "code",
      "source": [
        ""
      ],
      "metadata": {
        "id": "hbEnz2ElSb5Y"
      },
      "execution_count": null,
      "outputs": []
    },
    {
      "cell_type": "markdown",
      "source": [
        "##Avaliando a distribuição através de Histogramas\n",
        "\n",
        "texto texto texto\n",
        "\n",
        "\n",
        "> Primeira Linha\n",
        "\n",
        "> Seguda Linha\n",
        "\n",
        "> Terceira Linha\n",
        "\n",
        "* atenção income\n",
        "* credit_limit\n",
        "\n",
        "> Quarta Linha\n",
        "\n",
        "> Quinta Linha\n"
      ],
      "metadata": {
        "id": "zHMBqX3hLbF2"
      }
    },
    {
      "cell_type": "code",
      "source": [
        "#lista  de 3 variáveis a serem analisadas\n",
        "lista_primeira_linha = ['score_3','score_4','score_5']\n",
        "lista_segunda_linha = ['score_6','risk_rate','last_amount_borrowed']\n",
        "lista_terceira_linha = ['last_borrowed_in_months','credit_limit','income']\n",
        "lista_quarta_linha = ['n_bankruptcies','n_defaulted_loans','n_accounts']\n",
        "lista_quinta_linha = ['n_issues','reported_income','application_time_in_funnel']\n",
        "\n",
        "#criando o ax e o fig no matplotlib\n",
        "fig, ax = plt.subplots(figsize=(20,15),ncols=3,nrows=5)\n",
        "\n",
        "#criando os histogramas da primeira linha\n",
        "for i,variavel in enumerate(lista_primeira_linha):\n",
        "  df[variavel].hist(ax=ax[0][i],rwidth=0.9)\n",
        "  ajuste_layout(ax=ax[0][i],grid=True,titulo=variavel,location='center',y_milhares=True)\n",
        "\n",
        "#criando os histogramas da segunda linha\n",
        "for i,variavel in enumerate(lista_segunda_linha):\n",
        "  df[variavel].hist(ax=ax[1][i],rwidth=0.9,color='#0A1172')\n",
        "  ajuste_layout(ax=ax[1][i],grid=True,titulo=variavel,location='center',y_milhares=True)\n",
        "\n",
        "#criando os histogramas da terceira linha\n",
        "for i,variavel in enumerate(lista_terceira_linha):\n",
        "  df[variavel].hist(ax=ax[2][i],rwidth=0.9,color='#281e5d')\n",
        "  ajuste_layout(ax=ax[2][i],grid=True,titulo=variavel,location='center',y_milhares=True)\n",
        "\n",
        "#criando os histogramas da quarta linha\n",
        "for i,variavel in enumerate(lista_quarta_linha):\n",
        "  df[variavel].hist(ax=ax[3][i],rwidth=0.9,color='#151e3d')\n",
        "  ajuste_layout(ax=ax[3][i],grid=True,titulo=variavel,location='center',y_milhares=True)\n",
        "\n",
        "#criando os histogramas da quinta linha\n",
        "for i,variavel in enumerate(lista_quinta_linha):\n",
        "  df[variavel].hist(ax=ax[4][i],rwidth=0.9,color='#051094')\n",
        "  ajuste_layout(ax=ax[4][i],grid=True,titulo=variavel,location='center',y_milhares=True)\n",
        "\n",
        "#plotando os gráficos\n",
        "plt.tight_layout(pad=2);"
      ],
      "metadata": {
        "colab": {
          "base_uri": "https://localhost:8080/",
          "height": 1000
        },
        "id": "Ce3bCa4oN48H",
        "outputId": "68f222ff-9ebc-4c25-ff4a-b222fc6eaead"
      },
      "execution_count": 196,
      "outputs": [
        {
          "output_type": "display_data",
          "data": {
            "image/png": "[encoded data removed]",
            "text/plain": [
              "<Figure size 1440x1080 with 15 Axes>"
            ]
          },
          "metadata": {
            "needs_background": "dark"
          }
        }
      ]
    },
    {
      "cell_type": "markdown",
      "source": [
        "# Modelo Baseline\n",
        "\n",
        "- arrumar profile_tags,arrumar shipping state, arrumar target_default,normalizar\n",
        "- definir uma métrica -> recall\n",
        "- treino e teste\n",
        "- fitar modelo"
      ],
      "metadata": {
        "id": "_1xIzuvFTIO-"
      }
    },
    {
      "cell_type": "code",
      "source": [
        "df.nunique().sort_values()"
      ],
      "metadata": {
        "colab": {
          "base_uri": "https://localhost:8080/"
        },
        "id": "_jJfIPBLDRVf",
        "outputId": "a3e46748-5203-4736-e4ba-17de1f259f7f"
      },
      "execution_count": 258,
      "outputs": [
        {
          "output_type": "execute_result",
          "data": {
            "text/plain": [
              "target_default                                         2\n",
              "facebook_profile                                       2\n",
              "last_borrowed_in_months                                3\n",
              "target_fraud                                           3\n",
              "external_data_provider_credit_checks_last_month        4\n",
              "n_defaulted_loans                                      5\n",
              "real_state                                             5\n",
              "email                                                  6\n",
              "n_bankruptcies                                         6\n",
              "score_1                                                7\n",
              "marketing_channel                                      9\n",
              "shipping_state                                        25\n",
              "score_2                                               35\n",
              "n_issues                                              40\n",
              "n_accounts                                            42\n",
              "external_data_provider_email_seen_before              62\n",
              "risk_rate                                             80\n",
              "score_3                                               84\n",
              "user_agent                                           297\n",
              "application_time_in_funnel                           501\n",
              "external_data_provider_fraud_score                  1001\n",
              "last_amount_borrowed                                9220\n",
              "credit_limit                                       14877\n",
              "lat_lon                                            19158\n",
              "profile_tags                                       19906\n",
              "shipping_zip_code                                  23306\n",
              "external_data_provider_first_name                  26213\n",
              "application_time_applied                           27861\n",
              "reported_income                                    30543\n",
              "income                                             31172\n",
              "score_6                                            33209\n",
              "score_5                                            33209\n",
              "profile_phone_number                               33209\n",
              "score_4                                            33209\n",
              "dtype: int64"
            ]
          },
          "metadata": {},
          "execution_count": 258
        }
      ]
    },
    {
      "cell_type": "code",
      "source": [
        "df.real_state.isnull().sum()"
      ],
      "metadata": {
        "colab": {
          "base_uri": "https://localhost:8080/"
        },
        "id": "DQKCUCnPDeZn",
        "outputId": "8cf51a14-cf76-4b2a-9e72-333298e4cc36"
      },
      "execution_count": 152,
      "outputs": [
        {
          "output_type": "execute_result",
          "data": {
            "text/plain": [
              "0"
            ]
          },
          "metadata": {},
          "execution_count": 152
        }
      ]
    },
    {
      "cell_type": "code",
      "source": [
        "df.head(2)"
      ],
      "metadata": {
        "colab": {
          "base_uri": "https://localhost:8080/",
          "height": 381
        },
        "id": "gUg3YiIpDea_",
        "outputId": "14eb1adf-80f4-4752-ce04-a12a14d508f4"
      },
      "execution_count": 99,
      "outputs": [
        {
          "output_type": "execute_result",
          "data": {
            "text/html": [
              "\n",
              "  <div id=\"df-a7e8e398-4b5b-47ad-87ee-51c8e43f700b\">\n",
              "    <div class=\"colab-df-container\">\n",
              "      <div>\n",
              "<style scoped>\n",
              "    .dataframe tbody tr th:only-of-type {\n",
              "        vertical-align: middle;\n",
              "    }\n",
              "\n",
              "    .dataframe tbody tr th {\n",
              "        vertical-align: top;\n",
              "    }\n",
              "\n",
              "    .dataframe thead th {\n",
              "        text-align: right;\n",
              "    }\n",
              "</style>\n",
              "<table border=\"1\" class=\"dataframe\">\n",
              "  <thead>\n",
              "    <tr style=\"text-align: right;\">\n",
              "      <th></th>\n",
              "      <th>target_default</th>\n",
              "      <th>score_1</th>\n",
              "      <th>score_2</th>\n",
              "      <th>score_3</th>\n",
              "      <th>score_4</th>\n",
              "      <th>score_5</th>\n",
              "      <th>score_6</th>\n",
              "      <th>risk_rate</th>\n",
              "      <th>last_amount_borrowed</th>\n",
              "      <th>last_borrowed_in_months</th>\n",
              "      <th>credit_limit</th>\n",
              "      <th>income</th>\n",
              "      <th>facebook_profile</th>\n",
              "      <th>real_state</th>\n",
              "      <th>n_bankruptcies</th>\n",
              "      <th>n_defaulted_loans</th>\n",
              "      <th>n_accounts</th>\n",
              "      <th>n_issues</th>\n",
              "      <th>application_time_applied</th>\n",
              "      <th>application_time_in_funnel</th>\n",
              "      <th>email</th>\n",
              "      <th>external_data_provider_credit_checks_last_month</th>\n",
              "      <th>external_data_provider_email_seen_before</th>\n",
              "      <th>external_data_provider_first_name</th>\n",
              "      <th>external_data_provider_fraud_score</th>\n",
              "      <th>lat_lon</th>\n",
              "      <th>marketing_channel</th>\n",
              "      <th>profile_phone_number</th>\n",
              "      <th>reported_income</th>\n",
              "      <th>shipping_state</th>\n",
              "      <th>shipping_zip_code</th>\n",
              "      <th>profile_tags</th>\n",
              "      <th>user_agent</th>\n",
              "      <th>target_fraud</th>\n",
              "    </tr>\n",
              "    <tr>\n",
              "      <th>ids</th>\n",
              "      <th></th>\n",
              "      <th></th>\n",
              "      <th></th>\n",
              "      <th></th>\n",
              "      <th></th>\n",
              "      <th></th>\n",
              "      <th></th>\n",
              "      <th></th>\n",
              "      <th></th>\n",
              "      <th></th>\n",
              "      <th></th>\n",
              "      <th></th>\n",
              "      <th></th>\n",
              "      <th></th>\n",
              "      <th></th>\n",
              "      <th></th>\n",
              "      <th></th>\n",
              "      <th></th>\n",
              "      <th></th>\n",
              "      <th></th>\n",
              "      <th></th>\n",
              "      <th></th>\n",
              "      <th></th>\n",
              "      <th></th>\n",
              "      <th></th>\n",
              "      <th></th>\n",
              "      <th></th>\n",
              "      <th></th>\n",
              "      <th></th>\n",
              "      <th></th>\n",
              "      <th></th>\n",
              "      <th></th>\n",
              "      <th></th>\n",
              "      <th></th>\n",
              "    </tr>\n",
              "  </thead>\n",
              "  <tbody>\n",
              "    <tr>\n",
              "      <th>343b7e7b-2cf8-e508-b8fd-0a0285af30aa</th>\n",
              "      <td>False</td>\n",
              "      <td>1Rk8w4Ucd5yR3KcqZzLdow==</td>\n",
              "      <td>IOVu8au3ISbo6+zmfnYwMg==</td>\n",
              "      <td>350.0</td>\n",
              "      <td>101.800832</td>\n",
              "      <td>0.259555</td>\n",
              "      <td>108.427273</td>\n",
              "      <td>0.40</td>\n",
              "      <td>25033.92</td>\n",
              "      <td>36.0</td>\n",
              "      <td>0.0</td>\n",
              "      <td>65014.12</td>\n",
              "      <td>True</td>\n",
              "      <td>N5/CE7lSkAfB04hVFFwllw==</td>\n",
              "      <td>0.0</td>\n",
              "      <td>0.0</td>\n",
              "      <td>18.0</td>\n",
              "      <td>18.0</td>\n",
              "      <td>07:52:34</td>\n",
              "      <td>444</td>\n",
              "      <td>outlook.com</td>\n",
              "      <td>2</td>\n",
              "      <td>51.0</td>\n",
              "      <td>leidelaura</td>\n",
              "      <td>645</td>\n",
              "      <td>(-29.151545708122246, -51.1386461804385)</td>\n",
              "      <td>Invite-email</td>\n",
              "      <td>514-9840782</td>\n",
              "      <td>57849.0</td>\n",
              "      <td>BR-MT</td>\n",
              "      <td>17528</td>\n",
              "      <td>{'tags': ['n19', 'n8']}</td>\n",
              "      <td>Mozilla/5.0 (Linux; Android 6.0.1; SGP771 Buil...</td>\n",
              "      <td>Nenhuma</td>\n",
              "    </tr>\n",
              "    <tr>\n",
              "      <th>bc2c7502-bbad-0f8c-39c3-94e881967124</th>\n",
              "      <td>False</td>\n",
              "      <td>DGCQep2AE5QRkNCshIAlFQ==</td>\n",
              "      <td>SaamrHMo23l/3TwXOWgVzw==</td>\n",
              "      <td>370.0</td>\n",
              "      <td>97.062615</td>\n",
              "      <td>0.942655</td>\n",
              "      <td>92.002546</td>\n",
              "      <td>0.24</td>\n",
              "      <td>0.00</td>\n",
              "      <td>0.0</td>\n",
              "      <td>39726.0</td>\n",
              "      <td>100018.91</td>\n",
              "      <td>False</td>\n",
              "      <td>N5/CE7lSkAfB04hVFFwllw==</td>\n",
              "      <td>0.0</td>\n",
              "      <td>0.0</td>\n",
              "      <td>14.0</td>\n",
              "      <td>14.0</td>\n",
              "      <td>02:34:29</td>\n",
              "      <td>346</td>\n",
              "      <td>gmail.com</td>\n",
              "      <td>1</td>\n",
              "      <td>17.0</td>\n",
              "      <td>diocezio</td>\n",
              "      <td>243</td>\n",
              "      <td>(-19.687710705798963, -47.94151536525154)</td>\n",
              "      <td>Radio-commercial</td>\n",
              "      <td>251-3659293</td>\n",
              "      <td>4902.0</td>\n",
              "      <td>BR-RS</td>\n",
              "      <td>40933</td>\n",
              "      <td>{'tags': ['n6', 'n7', 'nim']}</td>\n",
              "      <td>Mozilla/5.0 (Linux; Android 5.0.2; SAMSUNG SM-...</td>\n",
              "      <td>Nenhuma</td>\n",
              "    </tr>\n",
              "  </tbody>\n",
              "</table>\n",
              "</div>\n",
              "      <button class=\"colab-df-convert\" onclick=\"convertToInteractive('df-a7e8e398-4b5b-47ad-87ee-51c8e43f700b')\"\n",
              "              title=\"Convert this dataframe to an interactive table.\"\n",
              "              style=\"display:none;\">\n",
              "        \n",
              "  <svg xmlns=\"http://www.w3.org/2000/svg\" height=\"24px\"viewBox=\"0 0 24 24\"\n",
              "       width=\"24px\">\n",
              "    <path d=\"M0 0h24v24H0V0z\" fill=\"none\"/>\n",
              "    <path d=\"M18.56 5.44l.94 2.06.94-2.06 2.06-.94-2.06-.94-.94-2.06-.94 2.06-2.06.94zm-11 1L8.5 8.5l.94-2.06 2.06-.94-2.06-.94L8.5 2.5l-.94 2.06-2.06.94zm10 10l.94 2.06.94-2.06 2.06-.94-2.06-.94-.94-2.06-.94 2.06-2.06.94z\"/><path d=\"M17.41 7.96l-1.37-1.37c-.4-.4-.92-.59-1.43-.59-.52 0-1.04.2-1.43.59L10.3 9.45l-7.72 7.72c-.78.78-.78 2.05 0 2.83L4 21.41c.39.39.9.59 1.41.59.51 0 1.02-.2 1.41-.59l7.78-7.78 2.81-2.81c.8-.78.8-2.07 0-2.86zM5.41 20L4 18.59l7.72-7.72 1.47 1.35L5.41 20z\"/>\n",
              "  </svg>\n",
              "      </button>\n",
              "      \n",
              "  <style>\n",
              "    .colab-df-container {\n",
              "      display:flex;\n",
              "      flex-wrap:wrap;\n",
              "      gap: 12px;\n",
              "    }\n",
              "\n",
              "    .colab-df-convert {\n",
              "      background-color: #E8F0FE;\n",
              "      border: none;\n",
              "      border-radius: 50%;\n",
              "      cursor: pointer;\n",
              "      display: none;\n",
              "      fill: #1967D2;\n",
              "      height: 32px;\n",
              "      padding: 0 0 0 0;\n",
              "      width: 32px;\n",
              "    }\n",
              "\n",
              "    .colab-df-convert:hover {\n",
              "      background-color: #E2EBFA;\n",
              "      box-shadow: 0px 1px 2px rgba(60, 64, 67, 0.3), 0px 1px 3px 1px rgba(60, 64, 67, 0.15);\n",
              "      fill: #174EA6;\n",
              "    }\n",
              "\n",
              "    [theme=dark] .colab-df-convert {\n",
              "      background-color: #3B4455;\n",
              "      fill: #D2E3FC;\n",
              "    }\n",
              "\n",
              "    [theme=dark] .colab-df-convert:hover {\n",
              "      background-color: #434B5C;\n",
              "      box-shadow: 0px 1px 3px 1px rgba(0, 0, 0, 0.15);\n",
              "      filter: drop-shadow(0px 1px 2px rgba(0, 0, 0, 0.3));\n",
              "      fill: #FFFFFF;\n",
              "    }\n",
              "  </style>\n",
              "\n",
              "      <script>\n",
              "        const buttonEl =\n",
              "          document.querySelector('#df-a7e8e398-4b5b-47ad-87ee-51c8e43f700b button.colab-df-convert');\n",
              "        buttonEl.style.display =\n",
              "          google.colab.kernel.accessAllowed ? 'block' : 'none';\n",
              "\n",
              "        async function convertToInteractive(key) {\n",
              "          const element = document.querySelector('#df-a7e8e398-4b5b-47ad-87ee-51c8e43f700b');\n",
              "          const dataTable =\n",
              "            await google.colab.kernel.invokeFunction('convertToInteractive',\n",
              "                                                     [key], {});\n",
              "          if (!dataTable) return;\n",
              "\n",
              "          const docLinkHtml = 'Like what you see? Visit the ' +\n",
              "            '<a target=\"_blank\" href=https://colab.research.google.com/notebooks/data_table.ipynb>data table notebook</a>'\n",
              "            + ' to learn more about interactive tables.';\n",
              "          element.innerHTML = '';\n",
              "          dataTable['output_type'] = 'display_data';\n",
              "          await google.colab.output.renderOutput(dataTable, element);\n",
              "          const docLink = document.createElement('div');\n",
              "          docLink.innerHTML = docLinkHtml;\n",
              "          element.appendChild(docLink);\n",
              "        }\n",
              "      </script>\n",
              "    </div>\n",
              "  </div>\n",
              "  "
            ],
            "text/plain": [
              "                                     target_default  ... target_fraud\n",
              "ids                                                  ...             \n",
              "343b7e7b-2cf8-e508-b8fd-0a0285af30aa          False  ...      Nenhuma\n",
              "bc2c7502-bbad-0f8c-39c3-94e881967124          False  ...      Nenhuma\n",
              "\n",
              "[2 rows x 34 columns]"
            ]
          },
          "metadata": {},
          "execution_count": 99
        }
      ]
    },
    {
      "cell_type": "markdown",
      "source": [
        "features que serão utilizadas"
      ],
      "metadata": {
        "id": "r0uUPjXlOvND"
      }
    },
    {
      "cell_type": "code",
      "source": [
        "#definir as features utilizadas\n",
        "mask = ['target_default','target_fraud','score_1','score_2','score_3','score_4','score_5','score_6','risk_rate',\n",
        "        'last_amount_borrowed','last_borrowed_in_months','credit_limit','income',\n",
        "        'n_bankruptcies','n_defaulted_loans','n_accounts','n_issues','external_data_provider_credit_checks_last_month',\n",
        "        'external_data_provider_email_seen_before','external_data_provider_fraud_score','reported_income',\n",
        "        'shipping_state','profile_tags','facebook_profile','target_fraud','email','real_state','manha_noite','marketing_channel']\n",
        "\n",
        "#aplicando a mascára no dataset\n",
        "df_model = df[mask]\n",
        "\n",
        "#definindo um dataset limpo\n",
        "df_limpo = pd.DataFrame(index=df_model.index)\n",
        "\n",
        "#visualizando as duas primeiras entradas\n",
        "df_model.head(2)"
      ],
      "metadata": {
        "colab": {
          "base_uri": "https://localhost:8080/",
          "height": 311
        },
        "id": "wZUXD6fvVJ8z",
        "outputId": "137a45dc-c3d7-4d45-83f9-c64821b2421a"
      },
      "execution_count": 127,
      "outputs": [
        {
          "output_type": "execute_result",
          "data": {
            "text/html": [
              "\n",
              "  <div id=\"df-ad519a2c-4e34-40de-977e-4e8133f2ff84\">\n",
              "    <div class=\"colab-df-container\">\n",
              "      <div>\n",
              "<style scoped>\n",
              "    .dataframe tbody tr th:only-of-type {\n",
              "        vertical-align: middle;\n",
              "    }\n",
              "\n",
              "    .dataframe tbody tr th {\n",
              "        vertical-align: top;\n",
              "    }\n",
              "\n",
              "    .dataframe thead th {\n",
              "        text-align: right;\n",
              "    }\n",
              "</style>\n",
              "<table border=\"1\" class=\"dataframe\">\n",
              "  <thead>\n",
              "    <tr style=\"text-align: right;\">\n",
              "      <th></th>\n",
              "      <th>target_default</th>\n",
              "      <th>target_fraud</th>\n",
              "      <th>score_1</th>\n",
              "      <th>score_2</th>\n",
              "      <th>score_3</th>\n",
              "      <th>score_4</th>\n",
              "      <th>score_5</th>\n",
              "      <th>score_6</th>\n",
              "      <th>risk_rate</th>\n",
              "      <th>last_amount_borrowed</th>\n",
              "      <th>last_borrowed_in_months</th>\n",
              "      <th>credit_limit</th>\n",
              "      <th>income</th>\n",
              "      <th>n_bankruptcies</th>\n",
              "      <th>n_defaulted_loans</th>\n",
              "      <th>n_accounts</th>\n",
              "      <th>n_issues</th>\n",
              "      <th>external_data_provider_credit_checks_last_month</th>\n",
              "      <th>external_data_provider_email_seen_before</th>\n",
              "      <th>external_data_provider_fraud_score</th>\n",
              "      <th>reported_income</th>\n",
              "      <th>shipping_state</th>\n",
              "      <th>profile_tags</th>\n",
              "      <th>facebook_profile</th>\n",
              "      <th>target_fraud</th>\n",
              "      <th>email</th>\n",
              "      <th>real_state</th>\n",
              "      <th>manha_noite</th>\n",
              "      <th>marketing_channel</th>\n",
              "    </tr>\n",
              "    <tr>\n",
              "      <th>ids</th>\n",
              "      <th></th>\n",
              "      <th></th>\n",
              "      <th></th>\n",
              "      <th></th>\n",
              "      <th></th>\n",
              "      <th></th>\n",
              "      <th></th>\n",
              "      <th></th>\n",
              "      <th></th>\n",
              "      <th></th>\n",
              "      <th></th>\n",
              "      <th></th>\n",
              "      <th></th>\n",
              "      <th></th>\n",
              "      <th></th>\n",
              "      <th></th>\n",
              "      <th></th>\n",
              "      <th></th>\n",
              "      <th></th>\n",
              "      <th></th>\n",
              "      <th></th>\n",
              "      <th></th>\n",
              "      <th></th>\n",
              "      <th></th>\n",
              "      <th></th>\n",
              "      <th></th>\n",
              "      <th></th>\n",
              "      <th></th>\n",
              "      <th></th>\n",
              "    </tr>\n",
              "  </thead>\n",
              "  <tbody>\n",
              "    <tr>\n",
              "      <th>343b7e7b-2cf8-e508-b8fd-0a0285af30aa</th>\n",
              "      <td>False</td>\n",
              "      <td>Nenhuma</td>\n",
              "      <td>1Rk8w4Ucd5yR3KcqZzLdow==</td>\n",
              "      <td>IOVu8au3ISbo6+zmfnYwMg==</td>\n",
              "      <td>350.0</td>\n",
              "      <td>101.800832</td>\n",
              "      <td>0.259555</td>\n",
              "      <td>108.427273</td>\n",
              "      <td>0.40</td>\n",
              "      <td>25033.92</td>\n",
              "      <td>36.0</td>\n",
              "      <td>0.0</td>\n",
              "      <td>65014.12</td>\n",
              "      <td>0.0</td>\n",
              "      <td>0.0</td>\n",
              "      <td>18.0</td>\n",
              "      <td>18.0</td>\n",
              "      <td>2</td>\n",
              "      <td>51.0</td>\n",
              "      <td>645</td>\n",
              "      <td>57849.0</td>\n",
              "      <td>BR-MT</td>\n",
              "      <td>{'tags': ['n19', 'n8']}</td>\n",
              "      <td>True</td>\n",
              "      <td>Nenhuma</td>\n",
              "      <td>outlook.com</td>\n",
              "      <td>N5/CE7lSkAfB04hVFFwllw==</td>\n",
              "      <td>True</td>\n",
              "      <td>Invite-email</td>\n",
              "    </tr>\n",
              "    <tr>\n",
              "      <th>bc2c7502-bbad-0f8c-39c3-94e881967124</th>\n",
              "      <td>False</td>\n",
              "      <td>Nenhuma</td>\n",
              "      <td>DGCQep2AE5QRkNCshIAlFQ==</td>\n",
              "      <td>SaamrHMo23l/3TwXOWgVzw==</td>\n",
              "      <td>370.0</td>\n",
              "      <td>97.062615</td>\n",
              "      <td>0.942655</td>\n",
              "      <td>92.002546</td>\n",
              "      <td>0.24</td>\n",
              "      <td>0.00</td>\n",
              "      <td>0.0</td>\n",
              "      <td>39726.0</td>\n",
              "      <td>100018.91</td>\n",
              "      <td>0.0</td>\n",
              "      <td>0.0</td>\n",
              "      <td>14.0</td>\n",
              "      <td>14.0</td>\n",
              "      <td>1</td>\n",
              "      <td>17.0</td>\n",
              "      <td>243</td>\n",
              "      <td>4902.0</td>\n",
              "      <td>BR-RS</td>\n",
              "      <td>{'tags': ['n6', 'n7', 'nim']}</td>\n",
              "      <td>False</td>\n",
              "      <td>Nenhuma</td>\n",
              "      <td>gmail.com</td>\n",
              "      <td>N5/CE7lSkAfB04hVFFwllw==</td>\n",
              "      <td>True</td>\n",
              "      <td>Radio-commercial</td>\n",
              "    </tr>\n",
              "  </tbody>\n",
              "</table>\n",
              "</div>\n",
              "      <button class=\"colab-df-convert\" onclick=\"convertToInteractive('df-ad519a2c-4e34-40de-977e-4e8133f2ff84')\"\n",
              "              title=\"Convert this dataframe to an interactive table.\"\n",
              "              style=\"display:none;\">\n",
              "        \n",
              "  <svg xmlns=\"http://www.w3.org/2000/svg\" height=\"24px\"viewBox=\"0 0 24 24\"\n",
              "       width=\"24px\">\n",
              "    <path d=\"M0 0h24v24H0V0z\" fill=\"none\"/>\n",
              "    <path d=\"M18.56 5.44l.94 2.06.94-2.06 2.06-.94-2.06-.94-.94-2.06-.94 2.06-2.06.94zm-11 1L8.5 8.5l.94-2.06 2.06-.94-2.06-.94L8.5 2.5l-.94 2.06-2.06.94zm10 10l.94 2.06.94-2.06 2.06-.94-2.06-.94-.94-2.06-.94 2.06-2.06.94z\"/><path d=\"M17.41 7.96l-1.37-1.37c-.4-.4-.92-.59-1.43-.59-.52 0-1.04.2-1.43.59L10.3 9.45l-7.72 7.72c-.78.78-.78 2.05 0 2.83L4 21.41c.39.39.9.59 1.41.59.51 0 1.02-.2 1.41-.59l7.78-7.78 2.81-2.81c.8-.78.8-2.07 0-2.86zM5.41 20L4 18.59l7.72-7.72 1.47 1.35L5.41 20z\"/>\n",
              "  </svg>\n",
              "      </button>\n",
              "      \n",
              "  <style>\n",
              "    .colab-df-container {\n",
              "      display:flex;\n",
              "      flex-wrap:wrap;\n",
              "      gap: 12px;\n",
              "    }\n",
              "\n",
              "    .colab-df-convert {\n",
              "      background-color: #E8F0FE;\n",
              "      border: none;\n",
              "      border-radius: 50%;\n",
              "      cursor: pointer;\n",
              "      display: none;\n",
              "      fill: #1967D2;\n",
              "      height: 32px;\n",
              "      padding: 0 0 0 0;\n",
              "      width: 32px;\n",
              "    }\n",
              "\n",
              "    .colab-df-convert:hover {\n",
              "      background-color: #E2EBFA;\n",
              "      box-shadow: 0px 1px 2px rgba(60, 64, 67, 0.3), 0px 1px 3px 1px rgba(60, 64, 67, 0.15);\n",
              "      fill: #174EA6;\n",
              "    }\n",
              "\n",
              "    [theme=dark] .colab-df-convert {\n",
              "      background-color: #3B4455;\n",
              "      fill: #D2E3FC;\n",
              "    }\n",
              "\n",
              "    [theme=dark] .colab-df-convert:hover {\n",
              "      background-color: #434B5C;\n",
              "      box-shadow: 0px 1px 3px 1px rgba(0, 0, 0, 0.15);\n",
              "      filter: drop-shadow(0px 1px 2px rgba(0, 0, 0, 0.3));\n",
              "      fill: #FFFFFF;\n",
              "    }\n",
              "  </style>\n",
              "\n",
              "      <script>\n",
              "        const buttonEl =\n",
              "          document.querySelector('#df-ad519a2c-4e34-40de-977e-4e8133f2ff84 button.colab-df-convert');\n",
              "        buttonEl.style.display =\n",
              "          google.colab.kernel.accessAllowed ? 'block' : 'none';\n",
              "\n",
              "        async function convertToInteractive(key) {\n",
              "          const element = document.querySelector('#df-ad519a2c-4e34-40de-977e-4e8133f2ff84');\n",
              "          const dataTable =\n",
              "            await google.colab.kernel.invokeFunction('convertToInteractive',\n",
              "                                                     [key], {});\n",
              "          if (!dataTable) return;\n",
              "\n",
              "          const docLinkHtml = 'Like what you see? Visit the ' +\n",
              "            '<a target=\"_blank\" href=https://colab.research.google.com/notebooks/data_table.ipynb>data table notebook</a>'\n",
              "            + ' to learn more about interactive tables.';\n",
              "          element.innerHTML = '';\n",
              "          dataTable['output_type'] = 'display_data';\n",
              "          await google.colab.output.renderOutput(dataTable, element);\n",
              "          const docLink = document.createElement('div');\n",
              "          docLink.innerHTML = docLinkHtml;\n",
              "          element.appendChild(docLink);\n",
              "        }\n",
              "      </script>\n",
              "    </div>\n",
              "  </div>\n",
              "  "
            ],
            "text/plain": [
              "                                     target_default  ... marketing_channel\n",
              "ids                                                  ...                  \n",
              "343b7e7b-2cf8-e508-b8fd-0a0285af30aa          False  ...      Invite-email\n",
              "bc2c7502-bbad-0f8c-39c3-94e881967124          False  ...  Radio-commercial\n",
              "\n",
              "[2 rows x 29 columns]"
            ]
          },
          "metadata": {},
          "execution_count": 127
        }
      ]
    },
    {
      "cell_type": "code",
      "source": [
        "df.target_fraud.unique()"
      ],
      "metadata": {
        "colab": {
          "base_uri": "https://localhost:8080/"
        },
        "id": "tvpILY8JMd4r",
        "outputId": "7acd862d-6bf9-4d49-f3ae-0961373bff9a"
      },
      "execution_count": 78,
      "outputs": [
        {
          "output_type": "execute_result",
          "data": {
            "text/plain": [
              "array(['Nenhuma', 'fraud_friends_family', 'fraud_id'], dtype=object)"
            ]
          },
          "metadata": {},
          "execution_count": 78
        }
      ]
    },
    {
      "cell_type": "markdown",
      "source": [
        "normalizar"
      ],
      "metadata": {
        "id": "AGSReMIMy4Lo"
      }
    },
    {
      "cell_type": "code",
      "source": [
        "#variáveis que serão normalizadas\n",
        "lista_para_normalizar = ['score_3','score_4','score_5','score_6','risk_rate',\n",
        "        'last_amount_borrowed','last_borrowed_in_months','credit_limit','income',\n",
        "        'n_bankruptcies','n_defaulted_loans','n_accounts','n_issues','external_data_provider_credit_checks_last_month',\n",
        "        'external_data_provider_email_seen_before','external_data_provider_fraud_score','reported_income']\n",
        "\n",
        "#instanciando o StandardScaler\n",
        "ss_norm = StandardScaler()\n",
        "\n",
        "#criando um DataFrame\n",
        "df_normalizado = pd.DataFrame(ss_norm.fit_transform(df_model[lista_para_normalizar]),\n",
        "                              columns= lista_para_normalizar,\n",
        "                              index = df_model.index)\n",
        "\n",
        "#adicionando ao DataFrame Limpo\n",
        "df_limpo  = pd.concat([df_limpo,df_normalizado],axis=1)\n",
        "\n",
        "#verificando o tamanho do df_limpo\n",
        "df_limpo.shape"
      ],
      "metadata": {
        "colab": {
          "base_uri": "https://localhost:8080/"
        },
        "id": "bzl59aCywSDf",
        "outputId": "928c3260-6a95-4ed6-fa8d-a1be13cd851d"
      },
      "execution_count": 128,
      "outputs": [
        {
          "output_type": "execute_result",
          "data": {
            "text/plain": [
              "(35647, 17)"
            ]
          },
          "metadata": {},
          "execution_count": 128
        }
      ]
    },
    {
      "cell_type": "markdown",
      "source": [
        "shipping_state,\n",
        "\n",
        "sparsas"
      ],
      "metadata": {
        "id": "XCH71xQny5gI"
      }
    },
    {
      "cell_type": "code",
      "source": [
        "#instanciando o One Hot Enconder\n",
        "ohe = OneHotEncoder()\n",
        "\n",
        "#fitando e transformando\n",
        "ohe_score_state =  ohe.fit_transform(df_model[['score_1','score_2','shipping_state','target_fraud','email','real_state','marketing_channel']])\n",
        "\n",
        "#adicionando ao DataFrame Limpo\n",
        "df_limpo = hstack([df_limpo,ohe_score_state])\n",
        "\n",
        "#verificando o tamanho do df_limpo\n",
        "df_limpo.shape"
      ],
      "metadata": {
        "colab": {
          "base_uri": "https://localhost:8080/"
        },
        "id": "rSXAeDC8wSSt",
        "outputId": "a07bf9cc-a857-4bd0-807b-37a65e62eaef"
      },
      "execution_count": 129,
      "outputs": [
        {
          "output_type": "execute_result",
          "data": {
            "text/plain": [
              "(35647, 111)"
            ]
          },
          "metadata": {},
          "execution_count": 129
        }
      ]
    },
    {
      "cell_type": "markdown",
      "source": [
        "profile_tags,\n",
        "é passado como lista"
      ],
      "metadata": {
        "id": "XVQ2AWkc1C5_"
      }
    },
    {
      "cell_type": "code",
      "source": [
        "#a variável está em string, transformar em lista\n",
        "dicionarizar = [eval(x) for x in df_model.profile_tags]\n",
        "\n",
        "#criar um DataFrame com esta lista e selecionar a coluna tags\n",
        "df_tags  = pd.DataFrame(dicionarizar).tags\n",
        "\n",
        "#instanciar o MultiLabelBinazer\n",
        "mlb = MultiLabelBinarizer(sparse_output=True)\n",
        "\n",
        "#fitando e transformando com o mlb\n",
        "mlb_profile_tags = mlb.fit_transform(df_tags)\n",
        "\n",
        "#adicionando ao DataFrame Limpo\n",
        "df_limpo = hstack([df_limpo,mlb_profile_tags])\n",
        "\n",
        "#verificando o tamanho do df_limpo\n",
        "df_limpo.shape"
      ],
      "metadata": {
        "colab": {
          "base_uri": "https://localhost:8080/"
        },
        "id": "bZx9S_T60_Wm",
        "outputId": "a9e9a2a4-24b2-487b-88f2-77b74c8331fd"
      },
      "execution_count": 130,
      "outputs": [
        {
          "output_type": "execute_result",
          "data": {
            "text/plain": [
              "(35647, 140)"
            ]
          },
          "metadata": {},
          "execution_count": 130
        }
      ]
    },
    {
      "cell_type": "markdown",
      "source": [
        "arrumar target_default"
      ],
      "metadata": {
        "id": "i6HsofnQfaUZ"
      }
    },
    {
      "cell_type": "code",
      "source": [
        "#dicionario para a troca\n",
        "dic = {False:0,True:1}\n",
        "\n",
        "#mudar os valores\n",
        "df_model.target_default = df_model.target_default.replace(dic)\n",
        "df_model.manha_noite = df_model.manha_noite.replace(dic)\n",
        "df_model.facebook_profile = df_model.facebook_profile.replace(dic)\n",
        "\n",
        "#visualizar a primeira entrada\n",
        "df_model.head(1)"
      ],
      "metadata": {
        "id": "oLLZK01binWc",
        "colab": {
          "base_uri": "https://localhost:8080/",
          "height": 227
        },
        "outputId": "c58a0d98-e53b-42fe-f1cb-f4341e9f281b"
      },
      "execution_count": 131,
      "outputs": [
        {
          "output_type": "execute_result",
          "data": {
            "text/html": [
              "\n",
              "  <div id=\"df-affeb253-4ea6-4ef7-866a-fc588f760bcf\">\n",
              "    <div class=\"colab-df-container\">\n",
              "      <div>\n",
              "<style scoped>\n",
              "    .dataframe tbody tr th:only-of-type {\n",
              "        vertical-align: middle;\n",
              "    }\n",
              "\n",
              "    .dataframe tbody tr th {\n",
              "        vertical-align: top;\n",
              "    }\n",
              "\n",
              "    .dataframe thead th {\n",
              "        text-align: right;\n",
              "    }\n",
              "</style>\n",
              "<table border=\"1\" class=\"dataframe\">\n",
              "  <thead>\n",
              "    <tr style=\"text-align: right;\">\n",
              "      <th></th>\n",
              "      <th>target_default</th>\n",
              "      <th>target_fraud</th>\n",
              "      <th>score_1</th>\n",
              "      <th>score_2</th>\n",
              "      <th>score_3</th>\n",
              "      <th>score_4</th>\n",
              "      <th>score_5</th>\n",
              "      <th>score_6</th>\n",
              "      <th>risk_rate</th>\n",
              "      <th>last_amount_borrowed</th>\n",
              "      <th>last_borrowed_in_months</th>\n",
              "      <th>credit_limit</th>\n",
              "      <th>income</th>\n",
              "      <th>n_bankruptcies</th>\n",
              "      <th>n_defaulted_loans</th>\n",
              "      <th>n_accounts</th>\n",
              "      <th>n_issues</th>\n",
              "      <th>external_data_provider_credit_checks_last_month</th>\n",
              "      <th>external_data_provider_email_seen_before</th>\n",
              "      <th>external_data_provider_fraud_score</th>\n",
              "      <th>reported_income</th>\n",
              "      <th>shipping_state</th>\n",
              "      <th>profile_tags</th>\n",
              "      <th>facebook_profile</th>\n",
              "      <th>target_fraud</th>\n",
              "      <th>email</th>\n",
              "      <th>real_state</th>\n",
              "      <th>manha_noite</th>\n",
              "      <th>marketing_channel</th>\n",
              "    </tr>\n",
              "    <tr>\n",
              "      <th>ids</th>\n",
              "      <th></th>\n",
              "      <th></th>\n",
              "      <th></th>\n",
              "      <th></th>\n",
              "      <th></th>\n",
              "      <th></th>\n",
              "      <th></th>\n",
              "      <th></th>\n",
              "      <th></th>\n",
              "      <th></th>\n",
              "      <th></th>\n",
              "      <th></th>\n",
              "      <th></th>\n",
              "      <th></th>\n",
              "      <th></th>\n",
              "      <th></th>\n",
              "      <th></th>\n",
              "      <th></th>\n",
              "      <th></th>\n",
              "      <th></th>\n",
              "      <th></th>\n",
              "      <th></th>\n",
              "      <th></th>\n",
              "      <th></th>\n",
              "      <th></th>\n",
              "      <th></th>\n",
              "      <th></th>\n",
              "      <th></th>\n",
              "      <th></th>\n",
              "    </tr>\n",
              "  </thead>\n",
              "  <tbody>\n",
              "    <tr>\n",
              "      <th>343b7e7b-2cf8-e508-b8fd-0a0285af30aa</th>\n",
              "      <td>0</td>\n",
              "      <td>Nenhuma</td>\n",
              "      <td>1Rk8w4Ucd5yR3KcqZzLdow==</td>\n",
              "      <td>IOVu8au3ISbo6+zmfnYwMg==</td>\n",
              "      <td>350.0</td>\n",
              "      <td>101.800832</td>\n",
              "      <td>0.259555</td>\n",
              "      <td>108.427273</td>\n",
              "      <td>0.4</td>\n",
              "      <td>25033.92</td>\n",
              "      <td>36.0</td>\n",
              "      <td>0.0</td>\n",
              "      <td>65014.12</td>\n",
              "      <td>0.0</td>\n",
              "      <td>0.0</td>\n",
              "      <td>18.0</td>\n",
              "      <td>18.0</td>\n",
              "      <td>2</td>\n",
              "      <td>51.0</td>\n",
              "      <td>645</td>\n",
              "      <td>57849.0</td>\n",
              "      <td>BR-MT</td>\n",
              "      <td>{'tags': ['n19', 'n8']}</td>\n",
              "      <td>1</td>\n",
              "      <td>Nenhuma</td>\n",
              "      <td>outlook.com</td>\n",
              "      <td>N5/CE7lSkAfB04hVFFwllw==</td>\n",
              "      <td>1</td>\n",
              "      <td>Invite-email</td>\n",
              "    </tr>\n",
              "  </tbody>\n",
              "</table>\n",
              "</div>\n",
              "      <button class=\"colab-df-convert\" onclick=\"convertToInteractive('df-affeb253-4ea6-4ef7-866a-fc588f760bcf')\"\n",
              "              title=\"Convert this dataframe to an interactive table.\"\n",
              "              style=\"display:none;\">\n",
              "        \n",
              "  <svg xmlns=\"http://www.w3.org/2000/svg\" height=\"24px\"viewBox=\"0 0 24 24\"\n",
              "       width=\"24px\">\n",
              "    <path d=\"M0 0h24v24H0V0z\" fill=\"none\"/>\n",
              "    <path d=\"M18.56 5.44l.94 2.06.94-2.06 2.06-.94-2.06-.94-.94-2.06-.94 2.06-2.06.94zm-11 1L8.5 8.5l.94-2.06 2.06-.94-2.06-.94L8.5 2.5l-.94 2.06-2.06.94zm10 10l.94 2.06.94-2.06 2.06-.94-2.06-.94-.94-2.06-.94 2.06-2.06.94z\"/><path d=\"M17.41 7.96l-1.37-1.37c-.4-.4-.92-.59-1.43-.59-.52 0-1.04.2-1.43.59L10.3 9.45l-7.72 7.72c-.78.78-.78 2.05 0 2.83L4 21.41c.39.39.9.59 1.41.59.51 0 1.02-.2 1.41-.59l7.78-7.78 2.81-2.81c.8-.78.8-2.07 0-2.86zM5.41 20L4 18.59l7.72-7.72 1.47 1.35L5.41 20z\"/>\n",
              "  </svg>\n",
              "      </button>\n",
              "      \n",
              "  <style>\n",
              "    .colab-df-container {\n",
              "      display:flex;\n",
              "      flex-wrap:wrap;\n",
              "      gap: 12px;\n",
              "    }\n",
              "\n",
              "    .colab-df-convert {\n",
              "      background-color: #E8F0FE;\n",
              "      border: none;\n",
              "      border-radius: 50%;\n",
              "      cursor: pointer;\n",
              "      display: none;\n",
              "      fill: #1967D2;\n",
              "      height: 32px;\n",
              "      padding: 0 0 0 0;\n",
              "      width: 32px;\n",
              "    }\n",
              "\n",
              "    .colab-df-convert:hover {\n",
              "      background-color: #E2EBFA;\n",
              "      box-shadow: 0px 1px 2px rgba(60, 64, 67, 0.3), 0px 1px 3px 1px rgba(60, 64, 67, 0.15);\n",
              "      fill: #174EA6;\n",
              "    }\n",
              "\n",
              "    [theme=dark] .colab-df-convert {\n",
              "      background-color: #3B4455;\n",
              "      fill: #D2E3FC;\n",
              "    }\n",
              "\n",
              "    [theme=dark] .colab-df-convert:hover {\n",
              "      background-color: #434B5C;\n",
              "      box-shadow: 0px 1px 3px 1px rgba(0, 0, 0, 0.15);\n",
              "      filter: drop-shadow(0px 1px 2px rgba(0, 0, 0, 0.3));\n",
              "      fill: #FFFFFF;\n",
              "    }\n",
              "  </style>\n",
              "\n",
              "      <script>\n",
              "        const buttonEl =\n",
              "          document.querySelector('#df-affeb253-4ea6-4ef7-866a-fc588f760bcf button.colab-df-convert');\n",
              "        buttonEl.style.display =\n",
              "          google.colab.kernel.accessAllowed ? 'block' : 'none';\n",
              "\n",
              "        async function convertToInteractive(key) {\n",
              "          const element = document.querySelector('#df-affeb253-4ea6-4ef7-866a-fc588f760bcf');\n",
              "          const dataTable =\n",
              "            await google.colab.kernel.invokeFunction('convertToInteractive',\n",
              "                                                     [key], {});\n",
              "          if (!dataTable) return;\n",
              "\n",
              "          const docLinkHtml = 'Like what you see? Visit the ' +\n",
              "            '<a target=\"_blank\" href=https://colab.research.google.com/notebooks/data_table.ipynb>data table notebook</a>'\n",
              "            + ' to learn more about interactive tables.';\n",
              "          element.innerHTML = '';\n",
              "          dataTable['output_type'] = 'display_data';\n",
              "          await google.colab.output.renderOutput(dataTable, element);\n",
              "          const docLink = document.createElement('div');\n",
              "          docLink.innerHTML = docLinkHtml;\n",
              "          element.appendChild(docLink);\n",
              "        }\n",
              "      </script>\n",
              "    </div>\n",
              "  </div>\n",
              "  "
            ],
            "text/plain": [
              "                                      target_default  ... marketing_channel\n",
              "ids                                                   ...                  \n",
              "343b7e7b-2cf8-e508-b8fd-0a0285af30aa               0  ...      Invite-email\n",
              "\n",
              "[1 rows x 29 columns]"
            ]
          },
          "metadata": {},
          "execution_count": 131
        }
      ]
    },
    {
      "cell_type": "code",
      "source": [
        "np.array(df_model.manha_noite).reshape(-1,1)"
      ],
      "metadata": {
        "colab": {
          "base_uri": "https://localhost:8080/"
        },
        "id": "i94sH1h0TsC7",
        "outputId": "cf3074e1-b433-4041-b7db-5f10bdfa072e"
      },
      "execution_count": 132,
      "outputs": [
        {
          "output_type": "execute_result",
          "data": {
            "text/plain": [
              "array([[1],\n",
              "       [1],\n",
              "       [1],\n",
              "       ...,\n",
              "       [0],\n",
              "       [0],\n",
              "       [1]])"
            ]
          },
          "metadata": {},
          "execution_count": 132
        }
      ]
    },
    {
      "cell_type": "code",
      "source": [
        "df_model.shape"
      ],
      "metadata": {
        "colab": {
          "base_uri": "https://localhost:8080/"
        },
        "id": "nEPNityqTviY",
        "outputId": "d60e7947-0f32-4d15-c7cc-c895f1cb9e7b"
      },
      "execution_count": 133,
      "outputs": [
        {
          "output_type": "execute_result",
          "data": {
            "text/plain": [
              "(35647, 29)"
            ]
          },
          "metadata": {},
          "execution_count": 133
        }
      ]
    },
    {
      "cell_type": "code",
      "source": [
        "df_limpo = hstack([df_limpo,mlb_profile_tags,np.array(df_model.manha_noite).reshape(-1,1),np.array(df_model.facebook_profile).reshape(-1,1)])"
      ],
      "metadata": {
        "id": "WITKFn8RTUiP"
      },
      "execution_count": 134,
      "outputs": []
    },
    {
      "cell_type": "code",
      "source": [
        ""
      ],
      "metadata": {
        "id": "-HTf00cDTUpB"
      },
      "execution_count": 134,
      "outputs": []
    },
    {
      "cell_type": "markdown",
      "source": [
        "separar em treino e teste"
      ],
      "metadata": {
        "id": "CvQuWN76tEHq"
      }
    },
    {
      "cell_type": "code",
      "source": [
        "x = df_limpo\n",
        "y = df_model.target_default"
      ],
      "metadata": {
        "id": "IbI-Smmy358b"
      },
      "execution_count": 135,
      "outputs": []
    },
    {
      "cell_type": "code",
      "source": [
        "x_train, x_test, y_train, y_test =  train_test_split(x,y,stratify  = y, random_state = 42)"
      ],
      "metadata": {
        "id": "0NN27uO435-n"
      },
      "execution_count": 136,
      "outputs": []
    },
    {
      "cell_type": "code",
      "source": [
        "rf_clf =  RandomForestClassifier(random_state = 42,n_estimators = 1000)"
      ],
      "metadata": {
        "id": "dxRYfhoh36Ay"
      },
      "execution_count": 159,
      "outputs": []
    },
    {
      "cell_type": "code",
      "source": [
        "rf_clf.fit(x_train,y_train)"
      ],
      "metadata": {
        "colab": {
          "base_uri": "https://localhost:8080/"
        },
        "id": "4EVeggRq36DI",
        "outputId": "7d173a4f-8a0e-474f-e47a-4d3efad237b2"
      },
      "execution_count": 160,
      "outputs": [
        {
          "output_type": "execute_result",
          "data": {
            "text/plain": [
              "RandomForestClassifier(n_estimators=1000, random_state=42)"
            ]
          },
          "metadata": {},
          "execution_count": 160
        }
      ]
    },
    {
      "cell_type": "code",
      "source": [
        "#fazendo as previsoes\n",
        "y_pred_rfc = rf_clf.predict(x_test)\n",
        "\n",
        "#criando a matriz de confusão\n",
        "cm = confusion_matrix(y_test,y_pred_rfc,normalize='true')\n",
        "\n",
        "#plotando a matriz de confusão\n",
        "ConfusionMatrixDisplay(confusion_matrix=cm).plot();"
      ],
      "metadata": {
        "colab": {
          "base_uri": "https://localhost:8080/",
          "height": 278
        },
        "id": "1vrlbJ-P6gof",
        "outputId": "3972fb48-a155-4f95-a7b9-9b23771e787c"
      },
      "execution_count": 161,
      "outputs": [
        {
          "output_type": "display_data",
          "data": {
            "image/png": "[encoded data removed]",
            "text/plain": [
              "<Figure size 432x288 with 2 Axes>"
            ]
          },
          "metadata": {
            "needs_background": "light"
          }
        }
      ]
    },
    {
      "cell_type": "code",
      "source": [
        "y_train.value_counts()"
      ],
      "metadata": {
        "colab": {
          "base_uri": "https://localhost:8080/"
        },
        "id": "QjWnkl_g4r2m",
        "outputId": "eab5d420-fa31-4edc-d346-5c087b520ee2"
      },
      "execution_count": 162,
      "outputs": [
        {
          "output_type": "execute_result",
          "data": {
            "text/plain": [
              "0    22453\n",
              "1     4282\n",
              "Name: target_default, dtype: int64"
            ]
          },
          "metadata": {},
          "execution_count": 162
        }
      ]
    },
    {
      "cell_type": "code",
      "source": [
        "#instanciando o Random Under Sampler\n",
        "rus = RandomUnderSampler(random_state = 42)"
      ],
      "metadata": {
        "id": "cgIq3ftj4r4o"
      },
      "execution_count": 163,
      "outputs": []
    },
    {
      "cell_type": "code",
      "source": [
        "# aplicando o rus nos dados de teste\n",
        "x_rus, y_rus = rus.fit_resample(x_train,y_train)"
      ],
      "metadata": {
        "id": "baakY6M44r6t"
      },
      "execution_count": 164,
      "outputs": []
    },
    {
      "cell_type": "code",
      "source": [
        "rf_clf.fit(x_rus,y_rus)"
      ],
      "metadata": {
        "colab": {
          "base_uri": "https://localhost:8080/"
        },
        "id": "GLEVxSsu4r88",
        "outputId": "7403bb42-a2ee-4e6e-ac55-e848d34cf446"
      },
      "execution_count": 165,
      "outputs": [
        {
          "output_type": "execute_result",
          "data": {
            "text/plain": [
              "RandomForestClassifier(n_estimators=1000, random_state=42)"
            ]
          },
          "metadata": {},
          "execution_count": 165
        }
      ]
    },
    {
      "cell_type": "code",
      "source": [
        "#fazendo as previsoes\n",
        "y_pred_rfc = rf_clf.predict(x_test)\n",
        "\n",
        "#criando a matriz de confusão\n",
        "cm = confusion_matrix(y_test,y_pred_rfc,normalize='true')\n",
        "\n",
        "#plotando a matriz de confusão\n",
        "ConfusionMatrixDisplay(confusion_matrix=cm).plot();"
      ],
      "metadata": {
        "colab": {
          "base_uri": "https://localhost:8080/",
          "height": 281
        },
        "id": "LGF8y0b364Hb",
        "outputId": "9040b0e4-d89a-41dc-cb63-27a9cac0d41c"
      },
      "execution_count": 166,
      "outputs": [
        {
          "output_type": "display_data",
          "data": {
            "image/png": "[encoded data removed]",
            "text/plain": [
              "<Figure size 432x288 with 2 Axes>"
            ]
          },
          "metadata": {
            "needs_background": "light"
          }
        }
      ]
    },
    {
      "cell_type": "code",
      "source": [
        "xgb_clf = XGBClassifier(random_state = 42)"
      ],
      "metadata": {
        "id": "-PHMHdXS64Jg"
      },
      "execution_count": 167,
      "outputs": []
    },
    {
      "cell_type": "code",
      "source": [
        "xgb_clf.fit(x_rus,y_rus)"
      ],
      "metadata": {
        "colab": {
          "base_uri": "https://localhost:8080/"
        },
        "id": "GWdcmzEc64Ll",
        "outputId": "c5c79b63-2ada-4fde-b68a-a1b5d0a888e6"
      },
      "execution_count": 168,
      "outputs": [
        {
          "output_type": "execute_result",
          "data": {
            "text/plain": [
              "XGBClassifier(random_state=42)"
            ]
          },
          "metadata": {},
          "execution_count": 168
        }
      ]
    },
    {
      "cell_type": "code",
      "source": [
        "#fazendo as previsoes\n",
        "y_pred_rfc = xgb_clf.predict(x_test)\n",
        "\n",
        "#criando a matriz de confusão\n",
        "cm = confusion_matrix(y_test,y_pred_rfc,normalize='true')\n",
        "\n",
        "#plotando a matriz de confusão\n",
        "ConfusionMatrixDisplay(confusion_matrix=cm).plot();"
      ],
      "metadata": {
        "colab": {
          "base_uri": "https://localhost:8080/",
          "height": 281
        },
        "id": "JlUFU8Cc64N4",
        "outputId": "35805438-61b6-41b7-8480-6504bac43c4c"
      },
      "execution_count": 169,
      "outputs": [
        {
          "output_type": "display_data",
          "data": {
            "image/png": "[encoded data removed]",
            "text/plain": [
              "<Figure size 432x288 with 2 Axes>"
            ]
          },
          "metadata": {
            "needs_background": "light"
          }
        }
      ]
    },
    {
      "cell_type": "code",
      "source": [
        ""
      ],
      "metadata": {
        "id": "68vem2Cd64QD"
      },
      "execution_count": null,
      "outputs": []
    },
    {
      "cell_type": "code",
      "source": [
        ""
      ],
      "metadata": {
        "id": "d48ZLmElGbmV"
      },
      "execution_count": null,
      "outputs": []
    },
    {
      "cell_type": "code",
      "source": [
        ""
      ],
      "metadata": {
        "id": "3-xjhDFIGbom"
      },
      "execution_count": null,
      "outputs": []
    },
    {
      "cell_type": "code",
      "source": [
        ""
      ],
      "metadata": {
        "id": "custcjuCGbrL"
      },
      "execution_count": null,
      "outputs": []
    },
    {
      "cell_type": "code",
      "source": [
        ""
      ],
      "metadata": {
        "id": "_TFI4IxsGbtJ"
      },
      "execution_count": null,
      "outputs": []
    },
    {
      "cell_type": "code",
      "source": [
        ""
      ],
      "metadata": {
        "id": "E3NlJfnBGbvc"
      },
      "execution_count": null,
      "outputs": []
    },
    {
      "cell_type": "code",
      "source": [
        ""
      ],
      "metadata": {
        "id": "aBK2U8hcGbxz"
      },
      "execution_count": null,
      "outputs": []
    },
    {
      "cell_type": "code",
      "source": [
        "#separar as variáveis x e y\n",
        "x = df_model.drop('target_default',axis=1)\n",
        "y = df_model.target_default\n",
        "\n",
        "#preencher valores ausentes com a mediana\n",
        "x = pd.DataFrame(SimpleImputer(strategy='median').fit_transform(x),\n",
        "             columns = x.columns,\n",
        "             index  = x.index)\n",
        "\n",
        "#divindo o dataset em dados de treino e teste\n",
        "x_train, x_test, y_train, y_test = train_test_split(x,y,stratify=y,random_state=42)\n",
        "\n",
        "#tamanho dos dataset\n",
        "print(f'Treino: \\n x - {x_train.shape} e y - {y_train.shape}')\n",
        "print(f'\\nTeste: \\n x - {x_test.shape} e y - {y_test.shape}')"
      ],
      "metadata": {
        "colab": {
          "base_uri": "https://localhost:8080/"
        },
        "id": "uo_kwu1htGIh",
        "outputId": "cd424ee8-aaaf-4005-fdbe-3b65b8bed4ce"
      },
      "execution_count": null,
      "outputs": [
        {
          "output_type": "stream",
          "name": "stdout",
          "text": [
            "Treino: \n",
            " x - (27774, 71) e y - (27774,)\n",
            "\n",
            "Teste: \n",
            " x - (9258, 71) e y - (9258,)\n"
          ]
        }
      ]
    },
    {
      "cell_type": "markdown",
      "source": [
        "daddos desbalanceados"
      ],
      "metadata": {
        "id": "OeUgHeY2tmDG"
      }
    },
    {
      "cell_type": "code",
      "source": [
        "#instanciando o Random Under Sampler\n",
        "rus = RandomUnderSampler(random_state = 42)\n",
        "\n",
        "# aplicando o rus nos dados de teste\n",
        "x_rus, y_rus = rus.fit_resample(x_train,y_train)\n",
        "\n",
        "#tamanho dos dataset após desbalanceamento\n",
        "print(f'Treino após desbalanceamento: \\n x - {x_rus.shape} e y - {y_rus.shape}')"
      ],
      "metadata": {
        "colab": {
          "base_uri": "https://localhost:8080/"
        },
        "id": "61GYTex5tGK6",
        "outputId": "abc7a909-d445-4c05-fa82-44ac8f283fde"
      },
      "execution_count": null,
      "outputs": [
        {
          "output_type": "stream",
          "name": "stdout",
          "text": [
            "Treino após desbalanceamento: \n",
            " x - (8850, 71) e y - (8850,)\n"
          ]
        }
      ]
    },
    {
      "cell_type": "markdown",
      "source": [
        "fazer o gráfico e observar que ficou a mesma proporção"
      ],
      "metadata": {
        "id": "ZCwgYZAszBTT"
      }
    },
    {
      "cell_type": "code",
      "source": [
        "#criação do fig e ax no matplotlib\n",
        "fig,ax = plt.subplots(figsize=(16,6),ncols=2)\n",
        "\n",
        "#criação do gráfico antes do balanceamento\n",
        "y_train.value_counts().plot(kind='bar',ax=ax[0])\n",
        "ajuste_layout(ax=ax[0],titulo='Dados de treino antes do balanceamento',\n",
        "              addlabels=True,y=list(y_train.value_counts()),distancia = 10**3,\n",
        "              xlabels=True,lista_para_o_x=['paga em dia','inadimplente'])\n",
        "\n",
        "\n",
        "porcentagem = y_train.sum() / y_train.shape[0]\n",
        "ax[0].annotate('{:.2%}'.format(porcentagem),\n",
        "            xy=(1, 7500), xycoords='data',\n",
        "            xytext=(0.78, 0.42), textcoords='axes fraction',\n",
        "            arrowprops=dict(facecolor='grey',arrowstyle=\"->\"),\n",
        "            horizontalalignment='right', verticalalignment='top')\n",
        "\n",
        "#criação do gráfico\n",
        "y_rus.value_counts().plot(kind='bar',ax=ax[1])\n",
        "ajuste_layout(ax=ax[1],titulo='Dados de treino depois do balanceamento',\n",
        "              addlabels=True,y=list(y_rus.value_counts()),distancia = 10**2,\n",
        "              xlabels=True,lista_para_o_x=['paga em dia','inadimplente'])\n",
        "\n",
        "\n",
        "porcentagem = y_rus.sum() / y_rus.shape[0]\n",
        "ax[1].annotate('{:.2%}'.format(porcentagem),\n",
        "            xy=(1, 4100), xycoords='data',color='white',\n",
        "            xytext=(0.78, 0.75), textcoords='axes fraction',\n",
        "            arrowprops=dict(arrowstyle=\"->\",color='white'),\n",
        "            horizontalalignment='right', verticalalignment='top')\n",
        "\n",
        "\n",
        "#plotando o gráfico\n",
        "plt.tight_layout(pad=2.0);"
      ],
      "metadata": {
        "id": "38Hp4o6xMp12",
        "colab": {
          "base_uri": "https://localhost:8080/",
          "height": 423
        },
        "outputId": "ca894a52-f671-45ce-8e83-730bc845f251"
      },
      "execution_count": null,
      "outputs": [
        {
          "output_type": "display_data",
          "data": {
            "image/png": "[encoded data removed]",
            "text/plain": [
              "<Figure size 1152x432 with 2 Axes>"
            ]
          },
          "metadata": {}
        }
      ]
    },
    {
      "cell_type": "markdown",
      "source": [
        "explicar que desenvolveu de acordo com o processo do seu pensamento"
      ],
      "metadata": {
        "id": "kUfy9nqcx8jr"
      }
    },
    {
      "cell_type": "markdown",
      "source": [
        "#Modelos e suas Métricas de Performance\n",
        "usar random forest classifer, xgboost e alguma rede neural de classificação.\n",
        "\n",
        "[métricas](https://papers.ssrn.com/sol3/papers.cfm?abstract_id=3435104)\n",
        "\n",
        "\n",
        "métricas: Our application is clearly one in which there are very few observations of the class that\n",
        "we are aiming to predict (in this case defaults), compared to the other class (non-defaults).\n",
        "In some models, this could lead the algorithm towards ignoring one class altogether. In other\n",
        "words, the model may not have sufficient data to learn what actual defaults look like. In such\n",
        "a situation it might treat the defaulting loans as outliers or totally random events.5\n",
        "In such a\n",
        "situation, it might be useful to have an additional metric that focusses on how good the classifier\n",
        "is at making sure that most of the mortgages identified as defaulting actually defaulted. The\n",
        "ratio between true positives and all positively-classified observations (true and false positives)\n",
        "is defined as ‘precision’. The precision-recall curve identifies the trade-offs in datasets with rare\n",
        "events"
      ],
      "metadata": {
        "id": "J9sBsYPwi7yd"
      }
    },
    {
      "cell_type": "code",
      "source": [
        "#Instanciando o Random Forest Classifier\n",
        "rfc = RandomForestClassifier(random_state=42,n_estimators=1000)\n",
        "\n",
        "#fitando o modelo rfc\n",
        "rfc.fit(x_train,y_train)\n",
        "\n",
        "#prevendo a probabilidade rfc\n",
        "rfc_prob_inadimplente = rfc.predict_proba(x_test)[:,1]\n",
        "\n",
        "#previsao rfc\n",
        "y_pred_rfc = rfc.predict(x_test)\n",
        "\n",
        "#plotando a matriz de confusão rfc\n",
        "plot_confusion_matrix(rfc,x_test,y_test,normalize='true',cmap=plt.cm.Blues,\n",
        "                      display_labels=['Em Dia','Inadimplente'],colorbar=False);"
      ],
      "metadata": {
        "id": "OQy0QkCFi85z",
        "colab": {
          "base_uri": "https://localhost:8080/",
          "height": 283
        },
        "outputId": "302ffd92-e78b-46a0-85ca-302c0c4974ae"
      },
      "execution_count": null,
      "outputs": [
        {
          "output_type": "display_data",
          "data": {
            "image/png": "[encoded data removed]",
            "text/plain": [
              "<Figure size 432x288 with 2 Axes>"
            ]
          },
          "metadata": {
            "needs_background": "light"
          }
        }
      ]
    },
    {
      "cell_type": "code",
      "source": [
        "(y_pred_rfc == y_test).sum() / y_test.shape[0]"
      ],
      "metadata": {
        "colab": {
          "base_uri": "https://localhost:8080/"
        },
        "id": "8cyn3yfSWW9Z",
        "outputId": "20a9237e-c5e9-474b-e20b-21dd8e7eb0a4"
      },
      "execution_count": null,
      "outputs": [
        {
          "output_type": "execute_result",
          "data": {
            "text/plain": [
              "0.8406783322531864"
            ]
          },
          "metadata": {},
          "execution_count": 37
        }
      ]
    },
    {
      "cell_type": "code",
      "source": [
        "y_test.shape"
      ],
      "metadata": {
        "colab": {
          "base_uri": "https://localhost:8080/"
        },
        "id": "R8i_sLxzWcjj",
        "outputId": "c5307598-680e-4cfd-bf0e-43c9e15d085e"
      },
      "execution_count": null,
      "outputs": [
        {
          "output_type": "execute_result",
          "data": {
            "text/plain": [
              "(9258,)"
            ]
          },
          "metadata": {},
          "execution_count": 35
        }
      ]
    },
    {
      "cell_type": "markdown",
      "source": [
        "xgb"
      ],
      "metadata": {
        "id": "GDp-M6UGSh5Y"
      }
    },
    {
      "cell_type": "code",
      "source": [
        ""
      ],
      "metadata": {
        "id": "1BA9obE1Sth2"
      },
      "execution_count": null,
      "outputs": []
    },
    {
      "cell_type": "code",
      "source": [
        ""
      ],
      "metadata": {
        "id": "Jna-38_UStrv"
      },
      "execution_count": null,
      "outputs": []
    },
    {
      "cell_type": "code",
      "source": [
        ""
      ],
      "metadata": {
        "id": "2S8JmyuAStuG"
      },
      "execution_count": null,
      "outputs": []
    },
    {
      "cell_type": "code",
      "source": [
        ""
      ],
      "metadata": {
        "id": "tECmGVRfRs5z"
      },
      "execution_count": null,
      "outputs": []
    },
    {
      "cell_type": "code",
      "source": [
        ""
      ],
      "metadata": {
        "id": "DJW25Z4yRs79"
      },
      "execution_count": null,
      "outputs": []
    },
    {
      "cell_type": "code",
      "source": [
        ""
      ],
      "metadata": {
        "id": "4OeQEmleRs9y"
      },
      "execution_count": null,
      "outputs": []
    },
    {
      "cell_type": "markdown",
      "source": [
        "#Tuning dos Modelos\n",
        "\n",
        "grid search ou ver o video do mario"
      ],
      "metadata": {
        "id": "4DNUABT1i_Q4"
      }
    },
    {
      "cell_type": "code",
      "source": [
        ""
      ],
      "metadata": {
        "id": "mdN9QU_NjAra"
      },
      "execution_count": null,
      "outputs": []
    },
    {
      "cell_type": "code",
      "source": [
        ""
      ],
      "metadata": {
        "id": "FyOtLX_yNrpy"
      },
      "execution_count": null,
      "outputs": []
    },
    {
      "cell_type": "code",
      "source": [
        ""
      ],
      "metadata": {
        "id": "DjjHzqUNNrrv"
      },
      "execution_count": null,
      "outputs": []
    },
    {
      "cell_type": "markdown",
      "source": [
        "#Considerações finais\n",
        "\n",
        "* x\n",
        "* x\n",
        "* x\n",
        "* x\n",
        "* Seu madruga é um caloteiro"
      ],
      "metadata": {
        "id": "hytAkgX6jBFt"
      }
    }
  ]
}