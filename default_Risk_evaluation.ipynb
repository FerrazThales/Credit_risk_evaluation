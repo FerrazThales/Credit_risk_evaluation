{
  "nbformat": 4,
  "nbformat_minor": 0,
  "metadata": {
    "colab": {
      "name": "default_Risk_evaluation.ipynb",
      "provenance": [],
      "collapsed_sections": [],
      "include_colab_link": true
    },
    "kernelspec": {
      "name": "python3",
      "display_name": "Python 3"
    },
    "accelerator": "GPU"
  },
  "cells": [
    {
      "cell_type": "markdown",
      "metadata": {
        "id": "view-in-github",
        "colab_type": "text"
      },
      "source": [
        "<a href=\"https://colab.research.google.com/github/FerrazThales/default_risk_evaluation/blob/main/default_Risk_evaluation.ipynb\" target=\"_parent\"><img src=\"https://colab.research.google.com/assets/colab-badge.svg\" alt=\"Open In Colab\"/></a>"
      ]
    },
    {
      "cell_type": "markdown",
      "metadata": {
        "id": "X2k0C9ObFWpR"
      },
      "source": [
        "<h1 align=\"center\"><b>Encontre eu e meus projetos nas redes sociais!</b></h1>\n",
        "<table>\n",
        "  <tr>\n",
        "  <td><a href=\"https://thalesferraz.medium.com/\">\n",
        "  <img src=\"https://github.com/FerrazThales/FerrazThales/blob/main/logo_gif.gif?raw=true\" width=\"900\" title=\"Olá, Meu nome é Thales e sou cientista de Dados!\"/>\n",
        "  </a>\n",
        "  </td>\n",
        "  <td><a href=\"https://github.com/FerrazThales\">\n",
        "  <img hspace=30 vspace=110 src=\"https://image.flaticon.com/icons/png/512/1051/1051326.png\" width=\"60%\" title=\"Entre em meu Github e veja mais projetos!\" /> \n",
        "  </a>\n",
        "  </td>\n",
        "  <td>\n",
        "  <a href=\"google.com\">\n",
        "  <img vspace=110 src=\"https://download.logo.wine/logo/Medium_(website)/Medium_(website)-Logo.wine.png\" width=\"800\" title=\"Veja este meu projeto no Medium!\"/>\n",
        "  </a>\n",
        "  </td>\n",
        "  <td><a href=\"https://www.linkedin.com/in/thalesdefreitasferraz/\"><img vspace=150 src=\"https://image.flaticon.com/icons/png/512/889/889122.png\" width=\"40%\" title=\"Vamos trocar uma idéia sobre Data Science no LinkedIn?\" />\n",
        "  </a>\n",
        "  </td>\n",
        "  </tr>\n",
        "</table>"
      ]
    },
    {
      "cell_type": "markdown",
      "source": [
        "# O que você vai aprender neste projeto:\n",
        "\n",
        "* As **Fintechs** e suas perspectivas.\n",
        "* Técnicas para lidar com variáveis **categóricas**.\n",
        "* Modelos de classificação: RandomForest,XGBoost e Lightgbm.\n",
        "* Otimizador Bayesiano para **tunar** os hiperparâmetros.\n",
        "* Trade-off entre a *precision* e o *recall* do modelo.\n",
        "\n"
      ],
      "metadata": {
        "id": "opYrW1XaWKAV"
      }
    },
    {
      "cell_type": "markdown",
      "metadata": {
        "id": "ZNvmL_lMsAqU"
      },
      "source": [
        "# As crises e as Oportunidades\n",
        "\n",
        "No Brasil, as **fintechs** estão regulamentadas desde abril de **2018** pelo *Conselho Monetário Nacional* (CMN). Estas empresas buscam **facilitar** serviços financeiros por meio da **tecnologia**. Há diferentes **categorias** de *fintechs* que atuam em nosso país, as **principais** são de crédito, pagamento, empréstimo ou negociação de dívidas.\n",
        "\n",
        "No mundo, as *fintechs* surgiram em **resposta** à [crise financeira de 2008](https://www.politize.com.br/crise-financeira-de-2008/). Nesta época, as instituições **tradicionais** perderam grande parte de sua **credibilidade** e ainda o [governo americano](https://economia.uol.com.br/noticias/redacao/2018/09/15/crise-financeira-de-2008-10-anos-resgate-revolta-populacao.htm) teve que **arcar** com alguns custos para **salvar** o sistema financeiro. Por conta disso, surgiram inúmeras **penalidades** e **regulamentações** para evitar novas crises, o que **burocratizou** e encareceu os processos.\n",
        "\n",
        "Foi nesta **brecha** que as empresas que utilizaram **tecnologia** para oferecer produtos mais **baratos** e **flexíveis** ganharam mercado. Além disso, elas puderam se **aproveitar** da [mão-de-obra](https://fintech.com.br/blog/fintech/crescimento-das-fintechs/) com grande expertise que havia sido **demitida** dos bancos tradicionais durante a crise.\n",
        "\n",
        "Mas nem tudo é um mar de rosas. [A quebra da fintech inglesa de crédito Greensill](https://www.nytimes.com/2021/03/28/business/greensill-capital-collapse.html) trouxe novas **reflexões** sobre os **riscos** de algumas operações financeiras e da atuação **intensiva** da tecnologia neste segmento de **mercado**.\n",
        "\n",
        "<center><img src=\"https://image.freepik.com/free-vector/hand-drawn-bankruptcy-concept_52683-36194.jpg\" width=\"50%\"></center>\n",
        "\n",
        "Uma das área que causa mais **problemas** para bancos, financiadoras e empresários é a taxa de **inadimplência** por parte da sua carteira de clientes.\n",
        "\n",
        "Avaliar se uma pessoa irá **deixar** de cumprir com suas **obrigações** *financeiras* é de extrema **importância** e pode causar um grande impacto no **balanço** da instituição. Por conta disso, cada vez mais estão surgindo soluções que visam **minimizar** o risco de *default*. \n",
        "\n",
        "*Default* é um termo utilizado para indicar o **não** cumprimento das obrigações ou condições de um **empréstimo** (como financiamentos ou dívidas de cartão de crédito). Geralmente, o **principal** motivo para o **descumprimento** das condições de pagamento é **incapacidade** financeira do cliente. \n",
        "\n",
        "O maior [default privado da história](https://www.suno.com.br/artigos/default/) é o do banco *Lehman Brothers*. Motivado pela **falência** da instituição durante a crise financeira de 2008, o banco **deixou** de pagar 600 bilhões de **dólares** para seus credores e investidores.\n",
        "\n",
        "<center><img src=\"https://image.freepik.com/fotos-gratis/feminino-contribuinte-esqueceu-de-enviar-declaracao-de-imposto_1163-3865.jpg\" width=\"50%\"></center>\n",
        "\n",
        "Por causa disso, bancos tradicionais e Fintechs têm **apostado** cada vez mais em modelos de *Machine Learning* para prevenir a **inadimplência** de alguns clientes.\n",
        "\n",
        "*Default prediction* é o nome dado para técnicas que utilizam **inteligência artificial** para tentar mitigar os riscos de **calote** se baseando em **dados** cadastrais e movimentações financeiras dos clientes.\n",
        "\n",
        "# Avaliação de Risco de Inadimplência\n",
        "\n",
        "<p align='center'>\n",
        "<img src=\"https://www.datocms-assets.com/39397/1614171395-open-graph-logo-large-br.png\" width=\"40%\"></p>\n",
        "\n",
        "Dentre as **principais** instituições financeira que utilizam estas técnicas, o [Nubank](https://nubank.com.br/sobre-nos) é uma das que mais tem se **destacado** com seus times de *Data Science*.\n",
        "\n",
        "Neste problema, o objetivo é prever qual a **probabilidade** de um cliente da Startup Nubank **não** cumprir com suas obrigações financeiras e **deixar** de pagar a sua fatura do Cartão de Crédito. Ou seja, prever com alto índice de acerto a **inadimplência** na operação de crédito.\n",
        "  \n",
        "Vale ressaltar que se considerou que **avaliação** deve ser realizada no **momento** em que o cliente **solicita** o cartão - frequentemente é o **primeiro** contato com a instituição.\n",
        "\n",
        "Espera-se que o modelo seja capaz de **minimizar** as perdas financeiras do empresa. Além disso, que também consiga **diminuir** a incidência de **falsos** positivos. Uma vez que este tipo de erro traz grandes **transtornos** aos clientes.\n",
        "\n"
      ]
    },
    {
      "cell_type": "code",
      "source": [
        "#módulo para remover os warnings\n",
        "import warnings\n",
        "warnings.filterwarnings('ignore')\n",
        "\n",
        "#importando as bibliotecas necessárias\n",
        "import pandas as pd\n",
        "import numpy as np\n",
        "import matplotlib.pyplot as plt\n",
        "import matplotlib\n",
        "%matplotlib inline\n",
        "import seaborn as sns\n",
        "\n",
        "#módulos de pré-processamento\n",
        "from sklearn.preprocessing import MultiLabelBinarizer, OneHotEncoder, StandardScaler\n",
        "\n",
        "#separar em treino e teste\n",
        "from sklearn.model_selection import train_test_split\n",
        "\n",
        "#algoritmo para under sampling (balanceamento dos dados)\n",
        "from imblearn.under_sampling import RandomUnderSampler\n",
        "\n",
        "#modelo classificador Random Forest\n",
        "from sklearn.ensemble import RandomForestClassifier\n",
        "\n",
        "#Classificador XGBoost\n",
        "from xgboost import XGBClassifier\n",
        "\n",
        "#classificador LightGBM\n",
        "from lightgbm import LGBMClassifier\n",
        "\n",
        "#métrica de classificação utilizada\n",
        "from sklearn.metrics import recall_score\n",
        "from sklearn.metrics import precision_score\n",
        "from sklearn.metrics import precision_recall_curve\n",
        "\n",
        "#matriz de confusao\n",
        "from sklearn.metrics import confusion_matrix,ConfusionMatrixDisplay\n",
        "\n",
        "#agrupar matrizes esparsas\n",
        "from scipy.sparse import hstack"
      ],
      "metadata": {
        "id": "L93RUIh_XdGM"
      },
      "execution_count": 69,
      "outputs": []
    },
    {
      "cell_type": "markdown",
      "source": [
        "Neste projeto abusaremos de visualizações **gráficas**. Para evitar a fadiga gerada por **reescrever** cada código, já deixaremos uma função de ajuste dos gráficos pronta para fazer este **serviço**."
      ],
      "metadata": {
        "id": "dk3STh_Xccyh"
      }
    },
    {
      "cell_type": "code",
      "source": [
        "#defindo uma função de ajuste para o layout dos gráficos\n",
        "def ajuste_layout(ax,titulo=None,location='left',xlabel=None,rotacao=0,\n",
        "                  ylabel=None,addlabels=False,\n",
        "                  y=None,distancia=0,dinheiro=False,\n",
        "                  grid=False,grid_lw=0.25,grid_style='--',\n",
        "                  y_milhares=False,x_milhares=False,\n",
        "                  xlabels = False,lista_para_o_x=None,\n",
        "                  ylabels = False,lista_para_o_y=None):\n",
        "\n",
        "  ax.set_frame_on(False)\n",
        "  ax.tick_params(axis='both',rotation=rotacao,colors='grey',length=0,labelsize=12)\n",
        "  ax.set_xlabel(xlabel,labelpad=20,fontdict={'fontsize':12},color='#4c4c4c')\n",
        "  ax.set_ylabel(ylabel,labelpad=20,fontdict={'fontsize':12},color='#4c4c4c')\n",
        "  ax.set_title(titulo,loc=location,pad=30,fontdict={'fontsize':20},color='#474747')\n",
        "\n",
        "  if addlabels:\n",
        "\n",
        "    ax.get_yaxis().set_visible(False)\n",
        "    if dinheiro:\n",
        "      for i in range(len(y)):\n",
        "        ax.text(i,y[i] + distancia,'${:,}'.format(int(y[i])).replace(',','.'),ha='center',fontsize=16,color='grey')\n",
        "    else:\n",
        "      for i in range(len(y)):\n",
        "        ax.text(i,y[i] + distancia,'{:,}'.format(int(y[i])).replace(',','.'),ha='center',fontsize=16,color='grey')\n",
        "  \n",
        "  if grid:\n",
        "    ax.grid(linestyle=grid_style,lw=grid_lw,aa=True)\n",
        "\n",
        "  if y_milhares:\n",
        "    ax.get_yaxis().set_major_formatter(matplotlib.ticker.FuncFormatter(lambda x, p: format(int(x), ',').replace(',','.')))\n",
        "  \n",
        "  if x_milhares:\n",
        "    ax.get_xaxis().set_major_formatter(matplotlib.ticker.FuncFormatter(lambda x, p: format(int(x), ',').replace(',','.')))\n",
        "  \n",
        "  if xlabels:\n",
        "    ax.set_xticklabels(lista_para_o_x,fontdict={'fontsize':12,'horizontalalignment':'center'},color='#6a6a6f',rotation=0)\n",
        "  \n",
        "  if ylabels:\n",
        "    ax.set_yticklabels(lista_para_o_y,fontdict={'fontsize':12,'verticalalignment':'center'},color='#6a6a6f',rotation=90)"
      ],
      "metadata": {
        "id": "Qzl9mxTe3-zb"
      },
      "execution_count": 104,
      "outputs": []
    },
    {
      "cell_type": "markdown",
      "metadata": {
        "id": "5PCK4RxLpqd8"
      },
      "source": [
        "# Preparação dos Dados e Análise Exploratória\n",
        "\n",
        "O conjunto de **dados** empregado neste projeto parte de uma **competição** realizada pela Startup [Nubank](https://nubank.com.br/sobre-nos) a fim de revelar talentos e potenciais contratações desta *fintech*.\n",
        "\n",
        "As informações que serão utilizadas na análise estão **disponíveis** [neste link](http://dl.dropboxusercontent.com/s/xn2a4kzf0zer0xu/acquisition_train.csv?dl=0). Este *link*, contém basicamente um arquivo `csv` com 45.000 **registros** e 43 **variáveis** que pertenceram a clientes [anonimizados](https://www.serpro.gov.br/lgpd/menu/protecao-de-dados/dados-anonimizados-lgpd) da empresa.\n",
        "\n",
        "Neste *dataset* cada linha representa uma **aplicação** para crédito, com diversas variáveis contendo os dados da aplicação e uma variável **alvo**, a `target_default`. Que informa se houve ou não **inadimplência** na operação.\n",
        "\n",
        "\n",
        "## Dicionário das Variáveis\n",
        "\n",
        "* `ids`: número **identificador** do cliente.\n",
        "* `target_default`: se a aplicação de crédito resultou no **descumprimento** das obrigações legais e condições do empréstimo.\n",
        "* `score_1` & `score_2`: são **codificações** alfa-numéricas internas da empresa.\n",
        "* `score_3` & `score_4` & `score_5` & `score_6`: pontuações **numéricas** dadas pela empresa.\n",
        "* `risk_rate`: taxa de risco associada ao cliente.\n",
        "* `last_amount_borrowed`: quantidade de dinheiro conferida no último empréstimo.\n",
        "* `last_borrowed_in_months`: em quantos meses deveria ser pago o último empréstimo.\n",
        "* `credit_limit`: **limite** de crédito do cartão.\n",
        "* `income`: **renda** do cliente.\n",
        "* `facebook_profile`: *analisando apenas o dataset não fica claro o significado desta variável.*\n",
        "* `reason` & `state` & `zip` & `channel`&`job_name`& `real_state`: são variáveis com **codificações** internas utilizadas apenas na empresa.\n",
        "* `ok_since`: *não foi encontrado **nenhum** significado relevante para esta variável. Além disso, metade dela está nula.*\n",
        "* `n_bankruptcies`: número que vezes que o cliente declarou **falência**.\n",
        "* `n_defaulted_loans`: número de vezes em que não cumpriu corretamente as condições de um **empréstimo**.\n",
        "* `n_accounts`: *Analisando apenas o dataset não fica claro o significado desta variável.*\n",
        "* `n_issues`: quantidade de **pendências** que o cliente ainda tem.\n",
        "* `application_time_applied`: **horário** em que a aplicação foi realizada.\n",
        "* `application_time_in_funnel`: *Analisando apenas o dataset não fica claro o significado desta variável.*\n",
        "* `email`: serviço de **e-mail** utilizado.\n",
        "* `external_data_provider_credit_checks_last_2_year` & `external_data_provider_credit_checks_last_month` & `external_data_provider_credit_checks_last_year`&`external_data_provider_email_seen_before` & `external_data_provider_first_name` & `external_data_provider_fraud_score`: informações obtidas por meios externos.\n",
        "* `lat_lon`: latitude-longitude **onde** a aplicação de crédito foi realizada.\n",
        "* `marketing_channel`: canal de **marketing** que proporcionou o cadastro do cliente.\n",
        "* `profile_phone_number`: número de **telefone** pessoal.\n",
        "* `reported_income`: **Renda** declarada.\n",
        "* `shipping_state`: **estado** para onde o cartão foi enviado.\n",
        "* `shipping_zip_code`: código **postal** para onde o cartão foi enviado.\n",
        "* `user_agent`: **software** que o usuário estava utilizando no cadastro.\n",
        "* `profile_tags`:tags atribuídas pela empresa.\n",
        "* `target_fraud`: se o cliente, amigos do cliente ou familiares sofreram algum tipo de **fraude**.\n",
        "\n"
      ]
    },
    {
      "cell_type": "code",
      "metadata": {
        "id": "PqMaG41qo1Y4",
        "colab": {
          "base_uri": "https://localhost:8080/",
          "height": 381
        },
        "outputId": "09f4210a-d7ce-445a-ab1d-5460485bc2d0"
      },
      "source": [
        "#endereco dos dados\n",
        "path = 'http://dl.dropboxusercontent.com/s/xn2a4kzf0zer0xu/acquisition_train.csv?dl=0'\n",
        "\n",
        "#importando os dados\n",
        "df = pd.read_csv(path,index_col='ids')\n",
        "\n",
        "#exibindo as 2 primeiras entradas\n",
        "df.head(2)"
      ],
      "execution_count": 3,
      "outputs": [
        {
          "output_type": "execute_result",
          "data": {
            "text/html": [
              "\n",
              "  <div id=\"df-6e33a5ba-e274-41dc-8e04-7fc48839a261\">\n",
              "    <div class=\"colab-df-container\">\n",
              "      <div>\n",
              "<style scoped>\n",
              "    .dataframe tbody tr th:only-of-type {\n",
              "        vertical-align: middle;\n",
              "    }\n",
              "\n",
              "    .dataframe tbody tr th {\n",
              "        vertical-align: top;\n",
              "    }\n",
              "\n",
              "    .dataframe thead th {\n",
              "        text-align: right;\n",
              "    }\n",
              "</style>\n",
              "<table border=\"1\" class=\"dataframe\">\n",
              "  <thead>\n",
              "    <tr style=\"text-align: right;\">\n",
              "      <th></th>\n",
              "      <th>target_default</th>\n",
              "      <th>score_1</th>\n",
              "      <th>score_2</th>\n",
              "      <th>score_3</th>\n",
              "      <th>score_4</th>\n",
              "      <th>score_5</th>\n",
              "      <th>score_6</th>\n",
              "      <th>risk_rate</th>\n",
              "      <th>last_amount_borrowed</th>\n",
              "      <th>last_borrowed_in_months</th>\n",
              "      <th>credit_limit</th>\n",
              "      <th>reason</th>\n",
              "      <th>income</th>\n",
              "      <th>facebook_profile</th>\n",
              "      <th>state</th>\n",
              "      <th>zip</th>\n",
              "      <th>channel</th>\n",
              "      <th>job_name</th>\n",
              "      <th>real_state</th>\n",
              "      <th>ok_since</th>\n",
              "      <th>n_bankruptcies</th>\n",
              "      <th>n_defaulted_loans</th>\n",
              "      <th>n_accounts</th>\n",
              "      <th>n_issues</th>\n",
              "      <th>application_time_applied</th>\n",
              "      <th>application_time_in_funnel</th>\n",
              "      <th>email</th>\n",
              "      <th>external_data_provider_credit_checks_last_2_year</th>\n",
              "      <th>external_data_provider_credit_checks_last_month</th>\n",
              "      <th>external_data_provider_credit_checks_last_year</th>\n",
              "      <th>external_data_provider_email_seen_before</th>\n",
              "      <th>external_data_provider_first_name</th>\n",
              "      <th>external_data_provider_fraud_score</th>\n",
              "      <th>lat_lon</th>\n",
              "      <th>marketing_channel</th>\n",
              "      <th>profile_phone_number</th>\n",
              "      <th>reported_income</th>\n",
              "      <th>shipping_state</th>\n",
              "      <th>shipping_zip_code</th>\n",
              "      <th>profile_tags</th>\n",
              "      <th>user_agent</th>\n",
              "      <th>target_fraud</th>\n",
              "    </tr>\n",
              "    <tr>\n",
              "      <th>ids</th>\n",
              "      <th></th>\n",
              "      <th></th>\n",
              "      <th></th>\n",
              "      <th></th>\n",
              "      <th></th>\n",
              "      <th></th>\n",
              "      <th></th>\n",
              "      <th></th>\n",
              "      <th></th>\n",
              "      <th></th>\n",
              "      <th></th>\n",
              "      <th></th>\n",
              "      <th></th>\n",
              "      <th></th>\n",
              "      <th></th>\n",
              "      <th></th>\n",
              "      <th></th>\n",
              "      <th></th>\n",
              "      <th></th>\n",
              "      <th></th>\n",
              "      <th></th>\n",
              "      <th></th>\n",
              "      <th></th>\n",
              "      <th></th>\n",
              "      <th></th>\n",
              "      <th></th>\n",
              "      <th></th>\n",
              "      <th></th>\n",
              "      <th></th>\n",
              "      <th></th>\n",
              "      <th></th>\n",
              "      <th></th>\n",
              "      <th></th>\n",
              "      <th></th>\n",
              "      <th></th>\n",
              "      <th></th>\n",
              "      <th></th>\n",
              "      <th></th>\n",
              "      <th></th>\n",
              "      <th></th>\n",
              "      <th></th>\n",
              "      <th></th>\n",
              "    </tr>\n",
              "  </thead>\n",
              "  <tbody>\n",
              "    <tr>\n",
              "      <th>343b7e7b-2cf8-e508-b8fd-0a0285af30aa</th>\n",
              "      <td>False</td>\n",
              "      <td>1Rk8w4Ucd5yR3KcqZzLdow==</td>\n",
              "      <td>IOVu8au3ISbo6+zmfnYwMg==</td>\n",
              "      <td>350.0</td>\n",
              "      <td>101.800832</td>\n",
              "      <td>0.259555</td>\n",
              "      <td>108.427273</td>\n",
              "      <td>0.40</td>\n",
              "      <td>25033.92</td>\n",
              "      <td>36.0</td>\n",
              "      <td>0.0</td>\n",
              "      <td>mLVIVxoGY7TUDJ1FyFoSIZi1SFcaBmO01AydRchaEiGYtU...</td>\n",
              "      <td>65014.12</td>\n",
              "      <td>True</td>\n",
              "      <td>sjJbkqJS7cXalHLBFA+EOQ==</td>\n",
              "      <td>Ernn+uVXCMq/6ARrBCcd+A==</td>\n",
              "      <td>NCqL3QBx0pscDnx3ixKwXg==</td>\n",
              "      <td>mLVIVxoGY7TUDJ1FyFoSIZi1SFcaBmO01AydRchaEiGYtU...</td>\n",
              "      <td>N5/CE7lSkAfB04hVFFwllw==</td>\n",
              "      <td>NaN</td>\n",
              "      <td>0.0</td>\n",
              "      <td>0.0</td>\n",
              "      <td>18.0</td>\n",
              "      <td>18.0</td>\n",
              "      <td>07:52:34</td>\n",
              "      <td>444</td>\n",
              "      <td>outlook.com</td>\n",
              "      <td>NaN</td>\n",
              "      <td>2</td>\n",
              "      <td>0.0</td>\n",
              "      <td>51.0</td>\n",
              "      <td>leidelaura</td>\n",
              "      <td>645</td>\n",
              "      <td>(-29.151545708122246, -51.1386461804385)</td>\n",
              "      <td>Invite-email</td>\n",
              "      <td>514-9840782</td>\n",
              "      <td>57849.0</td>\n",
              "      <td>BR-MT</td>\n",
              "      <td>17528</td>\n",
              "      <td>{'tags': ['n19', 'n8']}</td>\n",
              "      <td>Mozilla/5.0 (Linux; Android 6.0.1; SGP771 Buil...</td>\n",
              "      <td>NaN</td>\n",
              "    </tr>\n",
              "    <tr>\n",
              "      <th>bc2c7502-bbad-0f8c-39c3-94e881967124</th>\n",
              "      <td>False</td>\n",
              "      <td>DGCQep2AE5QRkNCshIAlFQ==</td>\n",
              "      <td>SaamrHMo23l/3TwXOWgVzw==</td>\n",
              "      <td>370.0</td>\n",
              "      <td>97.062615</td>\n",
              "      <td>0.942655</td>\n",
              "      <td>92.002546</td>\n",
              "      <td>0.24</td>\n",
              "      <td>NaN</td>\n",
              "      <td>NaN</td>\n",
              "      <td>39726.0</td>\n",
              "      <td>mLVIVxoGY7TUDJ1FyFoSIZi1SFcaBmO01AydRchaEiGYtU...</td>\n",
              "      <td>100018.91</td>\n",
              "      <td>False</td>\n",
              "      <td>xsd3ZdsI3356I3xMxZeiqQ==</td>\n",
              "      <td>rlWIXTBO+VOa34+SpGyhlQ==</td>\n",
              "      <td>NCqL3QBx0pscDnx3ixKwXg==</td>\n",
              "      <td>mLVIVxoGY7TUDJ1FyFoSIZi1SFcaBmO01AydRchaEiGYtU...</td>\n",
              "      <td>N5/CE7lSkAfB04hVFFwllw==</td>\n",
              "      <td>50.0</td>\n",
              "      <td>0.0</td>\n",
              "      <td>0.0</td>\n",
              "      <td>14.0</td>\n",
              "      <td>14.0</td>\n",
              "      <td>02:34:29</td>\n",
              "      <td>346</td>\n",
              "      <td>gmail.com</td>\n",
              "      <td>0.0</td>\n",
              "      <td>1</td>\n",
              "      <td>0.0</td>\n",
              "      <td>17.0</td>\n",
              "      <td>diocezio</td>\n",
              "      <td>243</td>\n",
              "      <td>(-19.687710705798963, -47.94151536525154)</td>\n",
              "      <td>Radio-commercial</td>\n",
              "      <td>251-3659293</td>\n",
              "      <td>4902.0</td>\n",
              "      <td>BR-RS</td>\n",
              "      <td>40933</td>\n",
              "      <td>{'tags': ['n6', 'n7', 'nim']}</td>\n",
              "      <td>Mozilla/5.0 (Linux; Android 5.0.2; SAMSUNG SM-...</td>\n",
              "      <td>NaN</td>\n",
              "    </tr>\n",
              "  </tbody>\n",
              "</table>\n",
              "</div>\n",
              "      <button class=\"colab-df-convert\" onclick=\"convertToInteractive('df-6e33a5ba-e274-41dc-8e04-7fc48839a261')\"\n",
              "              title=\"Convert this dataframe to an interactive table.\"\n",
              "              style=\"display:none;\">\n",
              "        \n",
              "  <svg xmlns=\"http://www.w3.org/2000/svg\" height=\"24px\"viewBox=\"0 0 24 24\"\n",
              "       width=\"24px\">\n",
              "    <path d=\"M0 0h24v24H0V0z\" fill=\"none\"/>\n",
              "    <path d=\"M18.56 5.44l.94 2.06.94-2.06 2.06-.94-2.06-.94-.94-2.06-.94 2.06-2.06.94zm-11 1L8.5 8.5l.94-2.06 2.06-.94-2.06-.94L8.5 2.5l-.94 2.06-2.06.94zm10 10l.94 2.06.94-2.06 2.06-.94-2.06-.94-.94-2.06-.94 2.06-2.06.94z\"/><path d=\"M17.41 7.96l-1.37-1.37c-.4-.4-.92-.59-1.43-.59-.52 0-1.04.2-1.43.59L10.3 9.45l-7.72 7.72c-.78.78-.78 2.05 0 2.83L4 21.41c.39.39.9.59 1.41.59.51 0 1.02-.2 1.41-.59l7.78-7.78 2.81-2.81c.8-.78.8-2.07 0-2.86zM5.41 20L4 18.59l7.72-7.72 1.47 1.35L5.41 20z\"/>\n",
              "  </svg>\n",
              "      </button>\n",
              "      \n",
              "  <style>\n",
              "    .colab-df-container {\n",
              "      display:flex;\n",
              "      flex-wrap:wrap;\n",
              "      gap: 12px;\n",
              "    }\n",
              "\n",
              "    .colab-df-convert {\n",
              "      background-color: #E8F0FE;\n",
              "      border: none;\n",
              "      border-radius: 50%;\n",
              "      cursor: pointer;\n",
              "      display: none;\n",
              "      fill: #1967D2;\n",
              "      height: 32px;\n",
              "      padding: 0 0 0 0;\n",
              "      width: 32px;\n",
              "    }\n",
              "\n",
              "    .colab-df-convert:hover {\n",
              "      background-color: #E2EBFA;\n",
              "      box-shadow: 0px 1px 2px rgba(60, 64, 67, 0.3), 0px 1px 3px 1px rgba(60, 64, 67, 0.15);\n",
              "      fill: #174EA6;\n",
              "    }\n",
              "\n",
              "    [theme=dark] .colab-df-convert {\n",
              "      background-color: #3B4455;\n",
              "      fill: #D2E3FC;\n",
              "    }\n",
              "\n",
              "    [theme=dark] .colab-df-convert:hover {\n",
              "      background-color: #434B5C;\n",
              "      box-shadow: 0px 1px 3px 1px rgba(0, 0, 0, 0.15);\n",
              "      filter: drop-shadow(0px 1px 2px rgba(0, 0, 0, 0.3));\n",
              "      fill: #FFFFFF;\n",
              "    }\n",
              "  </style>\n",
              "\n",
              "      <script>\n",
              "        const buttonEl =\n",
              "          document.querySelector('#df-6e33a5ba-e274-41dc-8e04-7fc48839a261 button.colab-df-convert');\n",
              "        buttonEl.style.display =\n",
              "          google.colab.kernel.accessAllowed ? 'block' : 'none';\n",
              "\n",
              "        async function convertToInteractive(key) {\n",
              "          const element = document.querySelector('#df-6e33a5ba-e274-41dc-8e04-7fc48839a261');\n",
              "          const dataTable =\n",
              "            await google.colab.kernel.invokeFunction('convertToInteractive',\n",
              "                                                     [key], {});\n",
              "          if (!dataTable) return;\n",
              "\n",
              "          const docLinkHtml = 'Like what you see? Visit the ' +\n",
              "            '<a target=\"_blank\" href=https://colab.research.google.com/notebooks/data_table.ipynb>data table notebook</a>'\n",
              "            + ' to learn more about interactive tables.';\n",
              "          element.innerHTML = '';\n",
              "          dataTable['output_type'] = 'display_data';\n",
              "          await google.colab.output.renderOutput(dataTable, element);\n",
              "          const docLink = document.createElement('div');\n",
              "          docLink.innerHTML = docLinkHtml;\n",
              "          element.appendChild(docLink);\n",
              "        }\n",
              "      </script>\n",
              "    </div>\n",
              "  </div>\n",
              "  "
            ],
            "text/plain": [
              "                                     target_default  ... target_fraud\n",
              "ids                                                  ...             \n",
              "343b7e7b-2cf8-e508-b8fd-0a0285af30aa          False  ...          NaN\n",
              "bc2c7502-bbad-0f8c-39c3-94e881967124          False  ...          NaN\n",
              "\n",
              "[2 rows x 42 columns]"
            ]
          },
          "metadata": {},
          "execution_count": 3
        }
      ]
    },
    {
      "cell_type": "code",
      "source": [
        "#quantidade de registros e variáveis\n",
        "print('Este dataset contém:')\n",
        "print('{:,} registros.'.format(df.shape[0]).replace(',','.'))\n",
        "print('{} variáveis.'.format(df.shape[1]))"
      ],
      "metadata": {
        "colab": {
          "base_uri": "https://localhost:8080/"
        },
        "id": "Iaq85Lo6b1zn",
        "outputId": "8ffa76fd-150e-4faa-a337-f80e22aaf1e4"
      },
      "execution_count": 4,
      "outputs": [
        {
          "output_type": "stream",
          "name": "stdout",
          "text": [
            "Este dataset contém:\n",
            "45.000 registros.\n",
            "42 variáveis.\n"
          ]
        }
      ]
    },
    {
      "cell_type": "code",
      "source": [
        "#avaliar os nomes de cada variável\n",
        "df.columns"
      ],
      "metadata": {
        "colab": {
          "base_uri": "https://localhost:8080/"
        },
        "id": "mH4fOseKchr1",
        "outputId": "80488aa1-7f1e-4e4a-c3c0-0451314bc8b2"
      },
      "execution_count": 5,
      "outputs": [
        {
          "output_type": "execute_result",
          "data": {
            "text/plain": [
              "Index(['target_default', 'score_1', 'score_2', 'score_3', 'score_4', 'score_5',\n",
              "       'score_6', 'risk_rate', 'last_amount_borrowed',\n",
              "       'last_borrowed_in_months', 'credit_limit', 'reason', 'income',\n",
              "       'facebook_profile', 'state', 'zip', 'channel', 'job_name', 'real_state',\n",
              "       'ok_since', 'n_bankruptcies', 'n_defaulted_loans', 'n_accounts',\n",
              "       'n_issues', 'application_time_applied', 'application_time_in_funnel',\n",
              "       'email', 'external_data_provider_credit_checks_last_2_year',\n",
              "       'external_data_provider_credit_checks_last_month',\n",
              "       'external_data_provider_credit_checks_last_year',\n",
              "       'external_data_provider_email_seen_before',\n",
              "       'external_data_provider_first_name',\n",
              "       'external_data_provider_fraud_score', 'lat_lon', 'marketing_channel',\n",
              "       'profile_phone_number', 'reported_income', 'shipping_state',\n",
              "       'shipping_zip_code', 'profile_tags', 'user_agent', 'target_fraud'],\n",
              "      dtype='object')"
            ]
          },
          "metadata": {},
          "execution_count": 5
        }
      ]
    },
    {
      "cell_type": "markdown",
      "source": [
        "Agora, vamos avaliar quantos registros **únicos** temos em **cada** variável. Isto é importante, porque variáveis com valores únicos não irão **alterar** nosso modelo e registros que apresentam **muitos** valores devem ser **analisados** separadamente."
      ],
      "metadata": {
        "id": "_8lDptfNHi-D"
      }
    },
    {
      "cell_type": "code",
      "source": [
        "#verificando a quantidade de valres únicos\n",
        "df.nunique().sort_values(ascending=True)"
      ],
      "metadata": {
        "colab": {
          "base_uri": "https://localhost:8080/"
        },
        "id": "PACBh8RLG-lL",
        "outputId": "d752d335-86ca-447b-a6c1-90e06934f395"
      },
      "execution_count": 6,
      "outputs": [
        {
          "output_type": "execute_result",
          "data": {
            "text/plain": [
              "external_data_provider_credit_checks_last_2_year        1\n",
              "channel                                                 1\n",
              "target_default                                          2\n",
              "external_data_provider_credit_checks_last_year          2\n",
              "facebook_profile                                        2\n",
              "last_borrowed_in_months                                 2\n",
              "target_fraud                                            2\n",
              "external_data_provider_credit_checks_last_month         4\n",
              "real_state                                              5\n",
              "n_defaulted_loans                                       5\n",
              "n_bankruptcies                                          6\n",
              "email                                                   6\n",
              "score_1                                                 7\n",
              "marketing_channel                                       9\n",
              "shipping_state                                         25\n",
              "score_2                                                35\n",
              "n_issues                                               44\n",
              "n_accounts                                             44\n",
              "state                                                  50\n",
              "external_data_provider_email_seen_before               62\n",
              "risk_rate                                              82\n",
              "score_3                                                88\n",
              "ok_since                                              100\n",
              "user_agent                                            297\n",
              "application_time_in_funnel                            501\n",
              "zip                                                   823\n",
              "external_data_provider_fraud_score                   1001\n",
              "last_amount_borrowed                                14325\n",
              "reason                                              14874\n",
              "credit_limit                                        20928\n",
              "lat_lon                                             22412\n",
              "profile_tags                                        26131\n",
              "shipping_zip_code                                   28263\n",
              "job_name                                            32265\n",
              "external_data_provider_first_name                   32886\n",
              "application_time_applied                            35543\n",
              "reported_income                                     40025\n",
              "income                                              41211\n",
              "profile_phone_number                                45000\n",
              "score_4                                             45000\n",
              "score_6                                             45000\n",
              "score_5                                             45000\n",
              "dtype: int64"
            ]
          },
          "metadata": {},
          "execution_count": 6
        }
      ]
    },
    {
      "cell_type": "markdown",
      "source": [
        "<h1 align='center'>Variáveis com apenas uma categoria</h1>\n",
        "<table> \n",
        "<tr><td>Variável</td><td>Quantidade</td></tr>\n",
        "<tr><td align='center'>external_data_provider_credit_checks_last_2_year</td><td align='center'>1</td></tr>\n",
        "<tr><td align='center'>channel</td><td align='center'>1</td></tr>\n",
        "</table>"
      ],
      "metadata": {
        "id": "2RbEbLI2eXMQ"
      }
    },
    {
      "cell_type": "code",
      "source": [
        "#imprimindo os valores únicos das variáveis sem repetição\n",
        "print('Valores Únicos da variável external_data_provider_credit_checks_last_2_year:',df.external_data_provider_credit_checks_last_2_year.unique())\n",
        "print('Valores Únicos da variável channel:',df.channel.unique())"
      ],
      "metadata": {
        "colab": {
          "base_uri": "https://localhost:8080/"
        },
        "id": "fT1z3P6SeYSd",
        "outputId": "063bc9db-46d3-4f6f-d6a0-2f1f2eb15d35"
      },
      "execution_count": 7,
      "outputs": [
        {
          "output_type": "stream",
          "name": "stdout",
          "text": [
            "Valores Únicos da variável external_data_provider_credit_checks_last_2_year: [nan  0.]\n",
            "Valores Únicos da variável channel: ['NCqL3QBx0pscDnx3ixKwXg==' nan]\n"
          ]
        }
      ]
    },
    {
      "cell_type": "code",
      "source": [
        "#criando uma lista com as variáveis para dropar\n",
        "dropar = ['external_data_provider_credit_checks_last_2_year','channel']\n",
        "\n",
        "#dropando estas variáveis do dataset\n",
        "df.drop(labels=dropar,axis=1,inplace=True)"
      ],
      "metadata": {
        "id": "kkeAzWBefHIo"
      },
      "execution_count": 8,
      "outputs": []
    },
    {
      "cell_type": "markdown",
      "source": [
        "profile_phone_number                                45000 <- valor aleatório\n",
        "\n",
        "score_4                                             45000\n",
        "\n",
        "score_6                                             45000\n",
        "\n",
        "score_5                                             45000"
      ],
      "metadata": {
        "id": "033l7wgpftrl"
      }
    },
    {
      "cell_type": "code",
      "source": [
        "#visualizando os valores da profile_phone_number\n",
        "df.profile_phone_number[:5]"
      ],
      "metadata": {
        "colab": {
          "base_uri": "https://localhost:8080/"
        },
        "id": "KNCeRP-lfvdj",
        "outputId": "0c05b565-aa1c-4b1f-8fa7-db896f50f92a"
      },
      "execution_count": 9,
      "outputs": [
        {
          "output_type": "execute_result",
          "data": {
            "text/plain": [
              "ids\n",
              "343b7e7b-2cf8-e508-b8fd-0a0285af30aa    514-9840782\n",
              "bc2c7502-bbad-0f8c-39c3-94e881967124    251-3659293\n",
              "669630dd-2e6a-0396-84bf-455e5009c922    230-6097993\n",
              "d235609e-b6cb-0ccc-a329-d4f12e7ebdc1    261-3543751\n",
              "9e0eb880-e8f4-3faa-67d8-f5cdd2b3932b    102-3660162\n",
              "Name: profile_phone_number, dtype: object"
            ]
          },
          "metadata": {},
          "execution_count": 9
        }
      ]
    },
    {
      "cell_type": "code",
      "source": [
        "#dropando esta variável\n",
        "df.drop(labels='profile_phone_number',axis=1,inplace=True)"
      ],
      "metadata": {
        "id": "A11DRrjAf4_e"
      },
      "execution_count": 10,
      "outputs": []
    },
    {
      "cell_type": "markdown",
      "source": [
        "visualizar o dataset"
      ],
      "metadata": {
        "id": "92kqOxqygT3u"
      }
    },
    {
      "cell_type": "code",
      "source": [
        "#visualizando 2 entradas do dataset\n",
        "df.head(2)"
      ],
      "metadata": {
        "colab": {
          "base_uri": "https://localhost:8080/",
          "height": 381
        },
        "id": "QO-9BXqAgVaa",
        "outputId": "04ad92a4-c6fa-4b11-f69a-7f73a6df7df3"
      },
      "execution_count": 11,
      "outputs": [
        {
          "output_type": "execute_result",
          "data": {
            "text/html": [
              "\n",
              "  <div id=\"df-145cb41f-fa09-4d0c-bbcf-7623cd4893aa\">\n",
              "    <div class=\"colab-df-container\">\n",
              "      <div>\n",
              "<style scoped>\n",
              "    .dataframe tbody tr th:only-of-type {\n",
              "        vertical-align: middle;\n",
              "    }\n",
              "\n",
              "    .dataframe tbody tr th {\n",
              "        vertical-align: top;\n",
              "    }\n",
              "\n",
              "    .dataframe thead th {\n",
              "        text-align: right;\n",
              "    }\n",
              "</style>\n",
              "<table border=\"1\" class=\"dataframe\">\n",
              "  <thead>\n",
              "    <tr style=\"text-align: right;\">\n",
              "      <th></th>\n",
              "      <th>target_default</th>\n",
              "      <th>score_1</th>\n",
              "      <th>score_2</th>\n",
              "      <th>score_3</th>\n",
              "      <th>score_4</th>\n",
              "      <th>score_5</th>\n",
              "      <th>score_6</th>\n",
              "      <th>risk_rate</th>\n",
              "      <th>last_amount_borrowed</th>\n",
              "      <th>last_borrowed_in_months</th>\n",
              "      <th>credit_limit</th>\n",
              "      <th>reason</th>\n",
              "      <th>income</th>\n",
              "      <th>facebook_profile</th>\n",
              "      <th>state</th>\n",
              "      <th>zip</th>\n",
              "      <th>job_name</th>\n",
              "      <th>real_state</th>\n",
              "      <th>ok_since</th>\n",
              "      <th>n_bankruptcies</th>\n",
              "      <th>n_defaulted_loans</th>\n",
              "      <th>n_accounts</th>\n",
              "      <th>n_issues</th>\n",
              "      <th>application_time_applied</th>\n",
              "      <th>application_time_in_funnel</th>\n",
              "      <th>email</th>\n",
              "      <th>external_data_provider_credit_checks_last_month</th>\n",
              "      <th>external_data_provider_credit_checks_last_year</th>\n",
              "      <th>external_data_provider_email_seen_before</th>\n",
              "      <th>external_data_provider_first_name</th>\n",
              "      <th>external_data_provider_fraud_score</th>\n",
              "      <th>lat_lon</th>\n",
              "      <th>marketing_channel</th>\n",
              "      <th>reported_income</th>\n",
              "      <th>shipping_state</th>\n",
              "      <th>shipping_zip_code</th>\n",
              "      <th>profile_tags</th>\n",
              "      <th>user_agent</th>\n",
              "      <th>target_fraud</th>\n",
              "    </tr>\n",
              "    <tr>\n",
              "      <th>ids</th>\n",
              "      <th></th>\n",
              "      <th></th>\n",
              "      <th></th>\n",
              "      <th></th>\n",
              "      <th></th>\n",
              "      <th></th>\n",
              "      <th></th>\n",
              "      <th></th>\n",
              "      <th></th>\n",
              "      <th></th>\n",
              "      <th></th>\n",
              "      <th></th>\n",
              "      <th></th>\n",
              "      <th></th>\n",
              "      <th></th>\n",
              "      <th></th>\n",
              "      <th></th>\n",
              "      <th></th>\n",
              "      <th></th>\n",
              "      <th></th>\n",
              "      <th></th>\n",
              "      <th></th>\n",
              "      <th></th>\n",
              "      <th></th>\n",
              "      <th></th>\n",
              "      <th></th>\n",
              "      <th></th>\n",
              "      <th></th>\n",
              "      <th></th>\n",
              "      <th></th>\n",
              "      <th></th>\n",
              "      <th></th>\n",
              "      <th></th>\n",
              "      <th></th>\n",
              "      <th></th>\n",
              "      <th></th>\n",
              "      <th></th>\n",
              "      <th></th>\n",
              "      <th></th>\n",
              "    </tr>\n",
              "  </thead>\n",
              "  <tbody>\n",
              "    <tr>\n",
              "      <th>343b7e7b-2cf8-e508-b8fd-0a0285af30aa</th>\n",
              "      <td>False</td>\n",
              "      <td>1Rk8w4Ucd5yR3KcqZzLdow==</td>\n",
              "      <td>IOVu8au3ISbo6+zmfnYwMg==</td>\n",
              "      <td>350.0</td>\n",
              "      <td>101.800832</td>\n",
              "      <td>0.259555</td>\n",
              "      <td>108.427273</td>\n",
              "      <td>0.40</td>\n",
              "      <td>25033.92</td>\n",
              "      <td>36.0</td>\n",
              "      <td>0.0</td>\n",
              "      <td>mLVIVxoGY7TUDJ1FyFoSIZi1SFcaBmO01AydRchaEiGYtU...</td>\n",
              "      <td>65014.12</td>\n",
              "      <td>True</td>\n",
              "      <td>sjJbkqJS7cXalHLBFA+EOQ==</td>\n",
              "      <td>Ernn+uVXCMq/6ARrBCcd+A==</td>\n",
              "      <td>mLVIVxoGY7TUDJ1FyFoSIZi1SFcaBmO01AydRchaEiGYtU...</td>\n",
              "      <td>N5/CE7lSkAfB04hVFFwllw==</td>\n",
              "      <td>NaN</td>\n",
              "      <td>0.0</td>\n",
              "      <td>0.0</td>\n",
              "      <td>18.0</td>\n",
              "      <td>18.0</td>\n",
              "      <td>07:52:34</td>\n",
              "      <td>444</td>\n",
              "      <td>outlook.com</td>\n",
              "      <td>2</td>\n",
              "      <td>0.0</td>\n",
              "      <td>51.0</td>\n",
              "      <td>leidelaura</td>\n",
              "      <td>645</td>\n",
              "      <td>(-29.151545708122246, -51.1386461804385)</td>\n",
              "      <td>Invite-email</td>\n",
              "      <td>57849.0</td>\n",
              "      <td>BR-MT</td>\n",
              "      <td>17528</td>\n",
              "      <td>{'tags': ['n19', 'n8']}</td>\n",
              "      <td>Mozilla/5.0 (Linux; Android 6.0.1; SGP771 Buil...</td>\n",
              "      <td>NaN</td>\n",
              "    </tr>\n",
              "    <tr>\n",
              "      <th>bc2c7502-bbad-0f8c-39c3-94e881967124</th>\n",
              "      <td>False</td>\n",
              "      <td>DGCQep2AE5QRkNCshIAlFQ==</td>\n",
              "      <td>SaamrHMo23l/3TwXOWgVzw==</td>\n",
              "      <td>370.0</td>\n",
              "      <td>97.062615</td>\n",
              "      <td>0.942655</td>\n",
              "      <td>92.002546</td>\n",
              "      <td>0.24</td>\n",
              "      <td>NaN</td>\n",
              "      <td>NaN</td>\n",
              "      <td>39726.0</td>\n",
              "      <td>mLVIVxoGY7TUDJ1FyFoSIZi1SFcaBmO01AydRchaEiGYtU...</td>\n",
              "      <td>100018.91</td>\n",
              "      <td>False</td>\n",
              "      <td>xsd3ZdsI3356I3xMxZeiqQ==</td>\n",
              "      <td>rlWIXTBO+VOa34+SpGyhlQ==</td>\n",
              "      <td>mLVIVxoGY7TUDJ1FyFoSIZi1SFcaBmO01AydRchaEiGYtU...</td>\n",
              "      <td>N5/CE7lSkAfB04hVFFwllw==</td>\n",
              "      <td>50.0</td>\n",
              "      <td>0.0</td>\n",
              "      <td>0.0</td>\n",
              "      <td>14.0</td>\n",
              "      <td>14.0</td>\n",
              "      <td>02:34:29</td>\n",
              "      <td>346</td>\n",
              "      <td>gmail.com</td>\n",
              "      <td>1</td>\n",
              "      <td>0.0</td>\n",
              "      <td>17.0</td>\n",
              "      <td>diocezio</td>\n",
              "      <td>243</td>\n",
              "      <td>(-19.687710705798963, -47.94151536525154)</td>\n",
              "      <td>Radio-commercial</td>\n",
              "      <td>4902.0</td>\n",
              "      <td>BR-RS</td>\n",
              "      <td>40933</td>\n",
              "      <td>{'tags': ['n6', 'n7', 'nim']}</td>\n",
              "      <td>Mozilla/5.0 (Linux; Android 5.0.2; SAMSUNG SM-...</td>\n",
              "      <td>NaN</td>\n",
              "    </tr>\n",
              "  </tbody>\n",
              "</table>\n",
              "</div>\n",
              "      <button class=\"colab-df-convert\" onclick=\"convertToInteractive('df-145cb41f-fa09-4d0c-bbcf-7623cd4893aa')\"\n",
              "              title=\"Convert this dataframe to an interactive table.\"\n",
              "              style=\"display:none;\">\n",
              "        \n",
              "  <svg xmlns=\"http://www.w3.org/2000/svg\" height=\"24px\"viewBox=\"0 0 24 24\"\n",
              "       width=\"24px\">\n",
              "    <path d=\"M0 0h24v24H0V0z\" fill=\"none\"/>\n",
              "    <path d=\"M18.56 5.44l.94 2.06.94-2.06 2.06-.94-2.06-.94-.94-2.06-.94 2.06-2.06.94zm-11 1L8.5 8.5l.94-2.06 2.06-.94-2.06-.94L8.5 2.5l-.94 2.06-2.06.94zm10 10l.94 2.06.94-2.06 2.06-.94-2.06-.94-.94-2.06-.94 2.06-2.06.94z\"/><path d=\"M17.41 7.96l-1.37-1.37c-.4-.4-.92-.59-1.43-.59-.52 0-1.04.2-1.43.59L10.3 9.45l-7.72 7.72c-.78.78-.78 2.05 0 2.83L4 21.41c.39.39.9.59 1.41.59.51 0 1.02-.2 1.41-.59l7.78-7.78 2.81-2.81c.8-.78.8-2.07 0-2.86zM5.41 20L4 18.59l7.72-7.72 1.47 1.35L5.41 20z\"/>\n",
              "  </svg>\n",
              "      </button>\n",
              "      \n",
              "  <style>\n",
              "    .colab-df-container {\n",
              "      display:flex;\n",
              "      flex-wrap:wrap;\n",
              "      gap: 12px;\n",
              "    }\n",
              "\n",
              "    .colab-df-convert {\n",
              "      background-color: #E8F0FE;\n",
              "      border: none;\n",
              "      border-radius: 50%;\n",
              "      cursor: pointer;\n",
              "      display: none;\n",
              "      fill: #1967D2;\n",
              "      height: 32px;\n",
              "      padding: 0 0 0 0;\n",
              "      width: 32px;\n",
              "    }\n",
              "\n",
              "    .colab-df-convert:hover {\n",
              "      background-color: #E2EBFA;\n",
              "      box-shadow: 0px 1px 2px rgba(60, 64, 67, 0.3), 0px 1px 3px 1px rgba(60, 64, 67, 0.15);\n",
              "      fill: #174EA6;\n",
              "    }\n",
              "\n",
              "    [theme=dark] .colab-df-convert {\n",
              "      background-color: #3B4455;\n",
              "      fill: #D2E3FC;\n",
              "    }\n",
              "\n",
              "    [theme=dark] .colab-df-convert:hover {\n",
              "      background-color: #434B5C;\n",
              "      box-shadow: 0px 1px 3px 1px rgba(0, 0, 0, 0.15);\n",
              "      filter: drop-shadow(0px 1px 2px rgba(0, 0, 0, 0.3));\n",
              "      fill: #FFFFFF;\n",
              "    }\n",
              "  </style>\n",
              "\n",
              "      <script>\n",
              "        const buttonEl =\n",
              "          document.querySelector('#df-145cb41f-fa09-4d0c-bbcf-7623cd4893aa button.colab-df-convert');\n",
              "        buttonEl.style.display =\n",
              "          google.colab.kernel.accessAllowed ? 'block' : 'none';\n",
              "\n",
              "        async function convertToInteractive(key) {\n",
              "          const element = document.querySelector('#df-145cb41f-fa09-4d0c-bbcf-7623cd4893aa');\n",
              "          const dataTable =\n",
              "            await google.colab.kernel.invokeFunction('convertToInteractive',\n",
              "                                                     [key], {});\n",
              "          if (!dataTable) return;\n",
              "\n",
              "          const docLinkHtml = 'Like what you see? Visit the ' +\n",
              "            '<a target=\"_blank\" href=https://colab.research.google.com/notebooks/data_table.ipynb>data table notebook</a>'\n",
              "            + ' to learn more about interactive tables.';\n",
              "          element.innerHTML = '';\n",
              "          dataTable['output_type'] = 'display_data';\n",
              "          await google.colab.output.renderOutput(dataTable, element);\n",
              "          const docLink = document.createElement('div');\n",
              "          docLink.innerHTML = docLinkHtml;\n",
              "          element.appendChild(docLink);\n",
              "        }\n",
              "      </script>\n",
              "    </div>\n",
              "  </div>\n",
              "  "
            ],
            "text/plain": [
              "                                     target_default  ... target_fraud\n",
              "ids                                                  ...             \n",
              "343b7e7b-2cf8-e508-b8fd-0a0285af30aa          False  ...          NaN\n",
              "bc2c7502-bbad-0f8c-39c3-94e881967124          False  ...          NaN\n",
              "\n",
              "[2 rows x 39 columns]"
            ]
          },
          "metadata": {},
          "execution_count": 11
        }
      ]
    },
    {
      "cell_type": "markdown",
      "source": [
        "flar das que charam atenção"
      ],
      "metadata": {
        "id": "ITv_nydUYJfL"
      }
    },
    {
      "cell_type": "code",
      "source": [
        "#verificando valores únicos de variáveis que chamaram a atenção\n",
        "print('Valores únicos da variável reason:',df.reason.nunique())\n",
        "print('Valores únicos da variável state:',df.state.nunique())\n",
        "print('Valores únicos da variável zip:',df.zip.nunique())\n",
        "print('Valores únicos da variável job_name:',df.job_name.nunique())\n",
        "print('Valores únicos da variável real_state:',df.real_state.nunique())\n",
        "print('Valores únicos da variável shipping_zip_code:',df.shipping_zip_code.nunique())\n",
        "print('Valores únicos da variável external_data_provider_first_name:',df.external_data_provider_first_name.nunique())\n",
        "print('Valores únicos da variável user_agent:',df.user_agent.nunique())"
      ],
      "metadata": {
        "colab": {
          "base_uri": "https://localhost:8080/"
        },
        "id": "LaotAu4nggCu",
        "outputId": "aa0e70ec-d9c0-4d5f-9d51-1f72f02cf121"
      },
      "execution_count": 12,
      "outputs": [
        {
          "output_type": "stream",
          "name": "stdout",
          "text": [
            "Valores únicos da variável reason: 14874\n",
            "Valores únicos da variável state: 50\n",
            "Valores únicos da variável zip: 823\n",
            "Valores únicos da variável job_name: 32265\n",
            "Valores únicos da variável real_state: 5\n",
            "Valores únicos da variável shipping_zip_code: 28263\n",
            "Valores únicos da variável external_data_provider_first_name: 32886\n",
            "Valores únicos da variável user_agent: 297\n"
          ]
        }
      ]
    },
    {
      "cell_type": "markdown",
      "source": [
        "job name / reason / zip / shipping_zip_code\n",
        "\n",
        "são variáveis boas, mas que precisam de um melhor tratamento"
      ],
      "metadata": {
        "id": "l42t3M0VhXsi"
      }
    },
    {
      "cell_type": "code",
      "source": [
        "#lista de variáveis que serão dropadas\n",
        "drop_apos_unique = ['reason','zip','job_name','state','shipping_zip_code','external_data_provider_first_name']\n",
        "\n",
        "#dropando estas variáveis do dataset\n",
        "df.drop(labels=drop_apos_unique,axis=1,inplace=True)"
      ],
      "metadata": {
        "id": "_UHNpIl4hcxr"
      },
      "execution_count": 13,
      "outputs": []
    },
    {
      "cell_type": "code",
      "source": [
        "#verificando tamanho do dataset\n",
        "df.shape"
      ],
      "metadata": {
        "colab": {
          "base_uri": "https://localhost:8080/"
        },
        "id": "ct0ZyOPShzjQ",
        "outputId": "711c35fa-e3c4-4696-f311-4a687192fe7e"
      },
      "execution_count": 14,
      "outputs": [
        {
          "output_type": "execute_result",
          "data": {
            "text/plain": [
              "(45000, 33)"
            ]
          },
          "metadata": {},
          "execution_count": 14
        }
      ]
    },
    {
      "cell_type": "markdown",
      "source": [
        "texto sobre o formato dos dados"
      ],
      "metadata": {
        "id": "95PoN7V37ZrQ"
      }
    },
    {
      "cell_type": "code",
      "source": [
        "#formato dos dados do dataset\n",
        "df.info()"
      ],
      "metadata": {
        "colab": {
          "base_uri": "https://localhost:8080/"
        },
        "id": "1Ws3LJq7fdW1",
        "outputId": "32756230-0eb2-485a-fc60-40d416211925"
      },
      "execution_count": 15,
      "outputs": [
        {
          "output_type": "stream",
          "name": "stdout",
          "text": [
            "<class 'pandas.core.frame.DataFrame'>\n",
            "Index: 45000 entries, 343b7e7b-2cf8-e508-b8fd-0a0285af30aa to a7504e93-123a-f965-70c6-ab01a0d475f7\n",
            "Data columns (total 33 columns):\n",
            " #   Column                                           Non-Null Count  Dtype  \n",
            "---  ------                                           --------------  -----  \n",
            " 0   target_default                                   41741 non-null  object \n",
            " 1   score_1                                          44438 non-null  object \n",
            " 2   score_2                                          44438 non-null  object \n",
            " 3   score_3                                          44438 non-null  float64\n",
            " 4   score_4                                          45000 non-null  float64\n",
            " 5   score_5                                          45000 non-null  float64\n",
            " 6   score_6                                          45000 non-null  float64\n",
            " 7   risk_rate                                        44438 non-null  float64\n",
            " 8   last_amount_borrowed                             15044 non-null  float64\n",
            " 9   last_borrowed_in_months                          15044 non-null  float64\n",
            " 10  credit_limit                                     31200 non-null  float64\n",
            " 11  income                                           44438 non-null  float64\n",
            " 12  facebook_profile                                 40542 non-null  object \n",
            " 13  real_state                                       44438 non-null  object \n",
            " 14  ok_since                                         18455 non-null  float64\n",
            " 15  n_bankruptcies                                   44303 non-null  float64\n",
            " 16  n_defaulted_loans                                44426 non-null  float64\n",
            " 17  n_accounts                                       44438 non-null  float64\n",
            " 18  n_issues                                         33456 non-null  float64\n",
            " 19  application_time_applied                         45000 non-null  object \n",
            " 20  application_time_in_funnel                       45000 non-null  int64  \n",
            " 21  email                                            45000 non-null  object \n",
            " 22  external_data_provider_credit_checks_last_month  45000 non-null  int64  \n",
            " 23  external_data_provider_credit_checks_last_year   29876 non-null  float64\n",
            " 24  external_data_provider_email_seen_before         42767 non-null  float64\n",
            " 25  external_data_provider_fraud_score               45000 non-null  int64  \n",
            " 26  lat_lon                                          43637 non-null  object \n",
            " 27  marketing_channel                                41422 non-null  object \n",
            " 28  reported_income                                  45000 non-null  float64\n",
            " 29  shipping_state                                   45000 non-null  object \n",
            " 30  profile_tags                                     45000 non-null  object \n",
            " 31  user_agent                                       44278 non-null  object \n",
            " 32  target_fraud                                     1522 non-null   object \n",
            "dtypes: float64(17), int64(3), object(13)\n",
            "memory usage: 11.7+ MB\n"
          ]
        }
      ]
    },
    {
      "cell_type": "markdown",
      "source": [
        "falar dos valores ausentes\n",
        "\n",
        "* target_fraud, onde está não será considerado que não houve nenhum tipo de fraude\n",
        "* last_amount_borrowed será considerado que não houve empréstimo\n",
        "* last_borrowed_in_months será considerado que não houve empréstimo\n",
        "* external_data_provider_credit_checks_last_2_year é ausente ou zero\n",
        "* credit_limit ver com os outliers\n",
        "* targert_default 7% com valores ausentes, eliminar"
      ],
      "metadata": {
        "id": "_R8RiS-L7WfT"
      }
    },
    {
      "cell_type": "code",
      "source": [
        "#quantidade de valores ausentes\n",
        "(df.isnull().sum() / df.shape[0]).sort_values(ascending=False).round(2)"
      ],
      "metadata": {
        "colab": {
          "base_uri": "https://localhost:8080/"
        },
        "id": "YjV_fsuygBGs",
        "outputId": "e8c7a68c-c7d8-4bf7-dc3c-dd59169f9c8a"
      },
      "execution_count": 16,
      "outputs": [
        {
          "output_type": "execute_result",
          "data": {
            "text/plain": [
              "target_fraud                                       0.97\n",
              "last_amount_borrowed                               0.67\n",
              "last_borrowed_in_months                            0.67\n",
              "ok_since                                           0.59\n",
              "external_data_provider_credit_checks_last_year     0.34\n",
              "credit_limit                                       0.31\n",
              "n_issues                                           0.26\n",
              "facebook_profile                                   0.10\n",
              "marketing_channel                                  0.08\n",
              "target_default                                     0.07\n",
              "external_data_provider_email_seen_before           0.05\n",
              "lat_lon                                            0.03\n",
              "user_agent                                         0.02\n",
              "n_bankruptcies                                     0.02\n",
              "n_defaulted_loans                                  0.01\n",
              "score_1                                            0.01\n",
              "score_2                                            0.01\n",
              "score_3                                            0.01\n",
              "risk_rate                                          0.01\n",
              "income                                             0.01\n",
              "real_state                                         0.01\n",
              "n_accounts                                         0.01\n",
              "email                                              0.00\n",
              "reported_income                                    0.00\n",
              "shipping_state                                     0.00\n",
              "profile_tags                                       0.00\n",
              "external_data_provider_fraud_score                 0.00\n",
              "score_6                                            0.00\n",
              "score_5                                            0.00\n",
              "score_4                                            0.00\n",
              "application_time_applied                           0.00\n",
              "application_time_in_funnel                         0.00\n",
              "external_data_provider_credit_checks_last_month    0.00\n",
              "dtype: float64"
            ]
          },
          "metadata": {},
          "execution_count": 16
        }
      ]
    },
    {
      "cell_type": "markdown",
      "source": [
        "criar tabela em thml\n",
        "\n",
        "target_fraud                                       0.97\n",
        "\n",
        "last_amount_borrowed                               0.67\n",
        "\n",
        "last_borrowed_in_months                            0.67\n",
        "\n",
        "ok_since                                           0.59\n",
        "\n",
        "external_data_provider_credit_checks_last_year     0.34\n",
        "\n",
        "credit_limit                                       0.31\n",
        "\n",
        "n_issues                                           0.26"
      ],
      "metadata": {
        "id": "g6VtvA9Si4j2"
      }
    },
    {
      "cell_type": "code",
      "source": [
        "#verificando valores únicos da target_fraud\n",
        "print('Valores únicos da target_fraud:',df.target_fraud.unique())\n",
        "\n",
        "#considerando que não houve fraude\n",
        "df.target_fraud.fillna(value='Nenhuma',inplace=True)"
      ],
      "metadata": {
        "colab": {
          "base_uri": "https://localhost:8080/"
        },
        "id": "UAXgAKHIjCj-",
        "outputId": "c70a2ce6-8ff1-42e2-c49e-4baaedd211bc"
      },
      "execution_count": 17,
      "outputs": [
        {
          "output_type": "stream",
          "name": "stdout",
          "text": [
            "Valores únicos da target_fraud: [nan 'fraud_friends_family' 'fraud_id']\n"
          ]
        }
      ]
    },
    {
      "cell_type": "markdown",
      "source": [
        "last_amount_borrowed 0.67\n",
        "\n",
        "last_borrowed_in_months 0.67\n"
      ],
      "metadata": {
        "id": "8sM73QeZjlAZ"
      }
    },
    {
      "cell_type": "code",
      "source": [
        "#lista de variáveis com muitos valores ausentes\n",
        "lista_verificar = ['last_amount_borrowed','last_borrowed_in_months']\n",
        "\n",
        "#avaliando as variáveis\n",
        "df[lista_verificar].sort_values(by='last_amount_borrowed',ascending=True)"
      ],
      "metadata": {
        "colab": {
          "base_uri": "https://localhost:8080/",
          "height": 454
        },
        "id": "4yyDFjEMjqe-",
        "outputId": "11fea564-cf1e-443f-b873-2e5fa6c9f766"
      },
      "execution_count": 18,
      "outputs": [
        {
          "output_type": "execute_result",
          "data": {
            "text/html": [
              "\n",
              "  <div id=\"df-aa8326e7-07ac-4ab5-894b-2d70fdd62c62\">\n",
              "    <div class=\"colab-df-container\">\n",
              "      <div>\n",
              "<style scoped>\n",
              "    .dataframe tbody tr th:only-of-type {\n",
              "        vertical-align: middle;\n",
              "    }\n",
              "\n",
              "    .dataframe tbody tr th {\n",
              "        vertical-align: top;\n",
              "    }\n",
              "\n",
              "    .dataframe thead th {\n",
              "        text-align: right;\n",
              "    }\n",
              "</style>\n",
              "<table border=\"1\" class=\"dataframe\">\n",
              "  <thead>\n",
              "    <tr style=\"text-align: right;\">\n",
              "      <th></th>\n",
              "      <th>last_amount_borrowed</th>\n",
              "      <th>last_borrowed_in_months</th>\n",
              "    </tr>\n",
              "    <tr>\n",
              "      <th>ids</th>\n",
              "      <th></th>\n",
              "      <th></th>\n",
              "    </tr>\n",
              "  </thead>\n",
              "  <tbody>\n",
              "    <tr>\n",
              "      <th>a6d2afc2-9383-2486-7c07-086ad11710bf</th>\n",
              "      <td>1005.18</td>\n",
              "      <td>36.0</td>\n",
              "    </tr>\n",
              "    <tr>\n",
              "      <th>9946a70a-a1f9-dae0-885e-91255e6044b1</th>\n",
              "      <td>1005.92</td>\n",
              "      <td>36.0</td>\n",
              "    </tr>\n",
              "    <tr>\n",
              "      <th>bba309ef-47dc-7cba-7d9b-272a6255f37b</th>\n",
              "      <td>1007.08</td>\n",
              "      <td>36.0</td>\n",
              "    </tr>\n",
              "    <tr>\n",
              "      <th>789ad211-50f3-1cfb-cbaf-a5c74cbf66b1</th>\n",
              "      <td>1011.13</td>\n",
              "      <td>36.0</td>\n",
              "    </tr>\n",
              "    <tr>\n",
              "      <th>aa7da6f1-dcb6-5ef7-8656-461af4fc86ec</th>\n",
              "      <td>1011.22</td>\n",
              "      <td>36.0</td>\n",
              "    </tr>\n",
              "    <tr>\n",
              "      <th>...</th>\n",
              "      <td>...</td>\n",
              "      <td>...</td>\n",
              "    </tr>\n",
              "    <tr>\n",
              "      <th>bdf18d6f-02a4-7d46-0e50-dfa6b9a8cd89</th>\n",
              "      <td>NaN</td>\n",
              "      <td>NaN</td>\n",
              "    </tr>\n",
              "    <tr>\n",
              "      <th>6c45042a-bbfe-b7c6-782c-7999ed505fd4</th>\n",
              "      <td>NaN</td>\n",
              "      <td>NaN</td>\n",
              "    </tr>\n",
              "    <tr>\n",
              "      <th>92cd9b1a-9a8e-43ad-5d96-8e999128b472</th>\n",
              "      <td>NaN</td>\n",
              "      <td>NaN</td>\n",
              "    </tr>\n",
              "    <tr>\n",
              "      <th>febdd174-cf18-0be1-feb8-38399dd67d9e</th>\n",
              "      <td>NaN</td>\n",
              "      <td>NaN</td>\n",
              "    </tr>\n",
              "    <tr>\n",
              "      <th>a0a5a872-6165-b939-b711-37d045a0b5a8</th>\n",
              "      <td>NaN</td>\n",
              "      <td>NaN</td>\n",
              "    </tr>\n",
              "  </tbody>\n",
              "</table>\n",
              "<p>45000 rows × 2 columns</p>\n",
              "</div>\n",
              "      <button class=\"colab-df-convert\" onclick=\"convertToInteractive('df-aa8326e7-07ac-4ab5-894b-2d70fdd62c62')\"\n",
              "              title=\"Convert this dataframe to an interactive table.\"\n",
              "              style=\"display:none;\">\n",
              "        \n",
              "  <svg xmlns=\"http://www.w3.org/2000/svg\" height=\"24px\"viewBox=\"0 0 24 24\"\n",
              "       width=\"24px\">\n",
              "    <path d=\"M0 0h24v24H0V0z\" fill=\"none\"/>\n",
              "    <path d=\"M18.56 5.44l.94 2.06.94-2.06 2.06-.94-2.06-.94-.94-2.06-.94 2.06-2.06.94zm-11 1L8.5 8.5l.94-2.06 2.06-.94-2.06-.94L8.5 2.5l-.94 2.06-2.06.94zm10 10l.94 2.06.94-2.06 2.06-.94-2.06-.94-.94-2.06-.94 2.06-2.06.94z\"/><path d=\"M17.41 7.96l-1.37-1.37c-.4-.4-.92-.59-1.43-.59-.52 0-1.04.2-1.43.59L10.3 9.45l-7.72 7.72c-.78.78-.78 2.05 0 2.83L4 21.41c.39.39.9.59 1.41.59.51 0 1.02-.2 1.41-.59l7.78-7.78 2.81-2.81c.8-.78.8-2.07 0-2.86zM5.41 20L4 18.59l7.72-7.72 1.47 1.35L5.41 20z\"/>\n",
              "  </svg>\n",
              "      </button>\n",
              "      \n",
              "  <style>\n",
              "    .colab-df-container {\n",
              "      display:flex;\n",
              "      flex-wrap:wrap;\n",
              "      gap: 12px;\n",
              "    }\n",
              "\n",
              "    .colab-df-convert {\n",
              "      background-color: #E8F0FE;\n",
              "      border: none;\n",
              "      border-radius: 50%;\n",
              "      cursor: pointer;\n",
              "      display: none;\n",
              "      fill: #1967D2;\n",
              "      height: 32px;\n",
              "      padding: 0 0 0 0;\n",
              "      width: 32px;\n",
              "    }\n",
              "\n",
              "    .colab-df-convert:hover {\n",
              "      background-color: #E2EBFA;\n",
              "      box-shadow: 0px 1px 2px rgba(60, 64, 67, 0.3), 0px 1px 3px 1px rgba(60, 64, 67, 0.15);\n",
              "      fill: #174EA6;\n",
              "    }\n",
              "\n",
              "    [theme=dark] .colab-df-convert {\n",
              "      background-color: #3B4455;\n",
              "      fill: #D2E3FC;\n",
              "    }\n",
              "\n",
              "    [theme=dark] .colab-df-convert:hover {\n",
              "      background-color: #434B5C;\n",
              "      box-shadow: 0px 1px 3px 1px rgba(0, 0, 0, 0.15);\n",
              "      filter: drop-shadow(0px 1px 2px rgba(0, 0, 0, 0.3));\n",
              "      fill: #FFFFFF;\n",
              "    }\n",
              "  </style>\n",
              "\n",
              "      <script>\n",
              "        const buttonEl =\n",
              "          document.querySelector('#df-aa8326e7-07ac-4ab5-894b-2d70fdd62c62 button.colab-df-convert');\n",
              "        buttonEl.style.display =\n",
              "          google.colab.kernel.accessAllowed ? 'block' : 'none';\n",
              "\n",
              "        async function convertToInteractive(key) {\n",
              "          const element = document.querySelector('#df-aa8326e7-07ac-4ab5-894b-2d70fdd62c62');\n",
              "          const dataTable =\n",
              "            await google.colab.kernel.invokeFunction('convertToInteractive',\n",
              "                                                     [key], {});\n",
              "          if (!dataTable) return;\n",
              "\n",
              "          const docLinkHtml = 'Like what you see? Visit the ' +\n",
              "            '<a target=\"_blank\" href=https://colab.research.google.com/notebooks/data_table.ipynb>data table notebook</a>'\n",
              "            + ' to learn more about interactive tables.';\n",
              "          element.innerHTML = '';\n",
              "          dataTable['output_type'] = 'display_data';\n",
              "          await google.colab.output.renderOutput(dataTable, element);\n",
              "          const docLink = document.createElement('div');\n",
              "          docLink.innerHTML = docLinkHtml;\n",
              "          element.appendChild(docLink);\n",
              "        }\n",
              "      </script>\n",
              "    </div>\n",
              "  </div>\n",
              "  "
            ],
            "text/plain": [
              "                                      last_amount_borrowed  last_borrowed_in_months\n",
              "ids                                                                                \n",
              "a6d2afc2-9383-2486-7c07-086ad11710bf               1005.18                     36.0\n",
              "9946a70a-a1f9-dae0-885e-91255e6044b1               1005.92                     36.0\n",
              "bba309ef-47dc-7cba-7d9b-272a6255f37b               1007.08                     36.0\n",
              "789ad211-50f3-1cfb-cbaf-a5c74cbf66b1               1011.13                     36.0\n",
              "aa7da6f1-dcb6-5ef7-8656-461af4fc86ec               1011.22                     36.0\n",
              "...                                                    ...                      ...\n",
              "bdf18d6f-02a4-7d46-0e50-dfa6b9a8cd89                   NaN                      NaN\n",
              "6c45042a-bbfe-b7c6-782c-7999ed505fd4                   NaN                      NaN\n",
              "92cd9b1a-9a8e-43ad-5d96-8e999128b472                   NaN                      NaN\n",
              "febdd174-cf18-0be1-feb8-38399dd67d9e                   NaN                      NaN\n",
              "a0a5a872-6165-b939-b711-37d045a0b5a8                   NaN                      NaN\n",
              "\n",
              "[45000 rows x 2 columns]"
            ]
          },
          "metadata": {},
          "execution_count": 18
        }
      ]
    },
    {
      "cell_type": "code",
      "source": [
        "#SUPOSIÇÃO: QUANDO NÃO HOUVE EMPRÉSTIMO VOLTA COMO AUSENTE\n",
        "values = {'last_amount_borrowed':0.0, 'last_borrowed_in_months':0.0}\n",
        "df.fillna(value=values,inplace=True,axis=0)"
      ],
      "metadata": {
        "id": "EKEVoIZZlLbS"
      },
      "execution_count": 19,
      "outputs": []
    },
    {
      "cell_type": "markdown",
      "source": [
        "ok_since 0.59"
      ],
      "metadata": {
        "id": "Tgw3r57Dlv4h"
      }
    },
    {
      "cell_type": "code",
      "source": [
        "#verificando a variável ok_since\n",
        "df.ok_since.unique()"
      ],
      "metadata": {
        "colab": {
          "base_uri": "https://localhost:8080/"
        },
        "id": "miM6pVqjlLho",
        "outputId": "58278c19-f120-4df9-b722-2d432d6725cf"
      },
      "execution_count": 20,
      "outputs": [
        {
          "output_type": "execute_result",
          "data": {
            "text/plain": [
              "array([ nan,  50.,  41.,  11.,  35.,  16.,  19.,  23.,  43.,  17.,  29.,\n",
              "        18.,   8.,  56.,  38.,  93.,  27.,  44.,  13.,  66.,  33.,  68.,\n",
              "        12.,  30.,  24.,  21.,   7.,  63.,  51.,  31.,  73.,  49.,   4.,\n",
              "        75.,  48.,  14.,  76.,  36.,   5.,  46.,  34.,  59.,  61.,  55.,\n",
              "        84.,  28.,   6.,  67.,  39.,  52.,  72.,  10.,  45.,  32.,  62.,\n",
              "         0.,  58.,  15.,  78.,  70.,   9.,  22.,  80.,  20.,  37.,   3.,\n",
              "        53.,  60.,  74.,  26.,  47.,   1.,  42.,  57.,  40.,  54.,  65.,\n",
              "        81.,  69.,  25.,  77.,  71.,  64.,  86.,  79.,  82.,   2.,  83.,\n",
              "        85., 103., 135.,  97., 101.,  90., 130., 141., 108.,  88.,  95.,\n",
              "       122.,  87.])"
            ]
          },
          "metadata": {},
          "execution_count": 20
        }
      ]
    },
    {
      "cell_type": "code",
      "source": [
        "#verificando a variável external_data_provider_credit_checks_last_year\n",
        "df.external_data_provider_credit_checks_last_year.unique()"
      ],
      "metadata": {
        "colab": {
          "base_uri": "https://localhost:8080/"
        },
        "id": "rSWOqL8insem",
        "outputId": "3e504cdb-c5a2-41ba-cc5d-089d43d0cdcf"
      },
      "execution_count": 21,
      "outputs": [
        {
          "output_type": "execute_result",
          "data": {
            "text/plain": [
              "array([ 0., nan,  1.])"
            ]
          },
          "metadata": {},
          "execution_count": 21
        }
      ]
    },
    {
      "cell_type": "code",
      "source": [
        "#dropando a variável\n",
        "df.drop(labels=['ok_since','external_data_provider_credit_checks_last_year'],axis=1,inplace=True)"
      ],
      "metadata": {
        "id": "GBwHsAFblLju"
      },
      "execution_count": 22,
      "outputs": []
    },
    {
      "cell_type": "markdown",
      "source": [
        "credit_limit 0.31"
      ],
      "metadata": {
        "id": "Ex2chSr-mk6F"
      }
    },
    {
      "cell_type": "code",
      "source": [
        "#verificando alguns valores da variável credit_limit\n",
        "df.credit_limit.unique()"
      ],
      "metadata": {
        "colab": {
          "base_uri": "https://localhost:8080/"
        },
        "id": "LU5R3iQPlLlu",
        "outputId": "004b3b80-ee55-4093-9adb-2a2eaea1d3e8"
      },
      "execution_count": 23,
      "outputs": [
        {
          "output_type": "execute_result",
          "data": {
            "text/plain": [
              "array([    0., 39726.,    nan, ..., 10431., 36262., 17942.])"
            ]
          },
          "metadata": {},
          "execution_count": 23
        }
      ]
    },
    {
      "cell_type": "code",
      "source": [
        "#preenchendo com a mediana\n",
        "df.credit_limit.fillna(value=df.credit_limit.median(),inplace=True)"
      ],
      "metadata": {
        "id": "nqaf5SNBlLn8"
      },
      "execution_count": 24,
      "outputs": []
    },
    {
      "cell_type": "markdown",
      "source": [
        "n_issues 0.26"
      ],
      "metadata": {
        "id": "kcj18GnQnTi1"
      }
    },
    {
      "cell_type": "code",
      "source": [
        "#verificando alguns valores da variável n_issues\n",
        "df.n_issues.unique()"
      ],
      "metadata": {
        "colab": {
          "base_uri": "https://localhost:8080/"
        },
        "id": "-KX5N56cmwdB",
        "outputId": "223d4a03-fdfb-4624-9f4f-70bdd1cda775"
      },
      "execution_count": 25,
      "outputs": [
        {
          "output_type": "execute_result",
          "data": {
            "text/plain": [
              "array([18., 14., nan, 19.,  9.,  7.,  8., 16., 20.,  5., 13., 12., 23.,\n",
              "        6., 22., 11., 15., 17., 21.,  4., 10.,  3., 24., 25., 30.,  2.,\n",
              "       27., 37., 26.,  1., 29., 28., 40., 34., 49., 31., 32., 39., 42.,\n",
              "       33., 36., 35.,  0., 41., 38.])"
            ]
          },
          "metadata": {},
          "execution_count": 25
        }
      ]
    },
    {
      "cell_type": "code",
      "source": [
        "#preenchendo com a mediana\n",
        "df.n_issues.fillna(value=df.n_issues.median(),inplace=True)"
      ],
      "metadata": {
        "id": "HVLw-_CZmwfS"
      },
      "execution_count": 26,
      "outputs": []
    },
    {
      "cell_type": "markdown",
      "source": [
        "os demais\n",
        "\n",
        "pensar melhor"
      ],
      "metadata": {
        "id": "DKT-qQzmoOc3"
      }
    },
    {
      "cell_type": "code",
      "source": [
        "#avaliando a quantidade de nulos\n",
        "df.isnull().sum().sort_values(ascending=False)"
      ],
      "metadata": {
        "colab": {
          "base_uri": "https://localhost:8080/"
        },
        "id": "CucTJPNPd5CH",
        "outputId": "50c1ece6-3d53-45dc-acae-08c77475e657"
      },
      "execution_count": 27,
      "outputs": [
        {
          "output_type": "execute_result",
          "data": {
            "text/plain": [
              "facebook_profile                                   4458\n",
              "marketing_channel                                  3578\n",
              "target_default                                     3259\n",
              "external_data_provider_email_seen_before           2233\n",
              "lat_lon                                            1363\n",
              "user_agent                                          722\n",
              "n_bankruptcies                                      697\n",
              "n_defaulted_loans                                   574\n",
              "income                                              562\n",
              "score_1                                             562\n",
              "score_2                                             562\n",
              "score_3                                             562\n",
              "n_accounts                                          562\n",
              "real_state                                          562\n",
              "risk_rate                                           562\n",
              "last_borrowed_in_months                               0\n",
              "score_4                                               0\n",
              "score_5                                               0\n",
              "score_6                                               0\n",
              "last_amount_borrowed                                  0\n",
              "external_data_provider_fraud_score                    0\n",
              "credit_limit                                          0\n",
              "external_data_provider_credit_checks_last_month       0\n",
              "profile_tags                                          0\n",
              "shipping_state                                        0\n",
              "reported_income                                       0\n",
              "n_issues                                              0\n",
              "application_time_applied                              0\n",
              "application_time_in_funnel                            0\n",
              "email                                                 0\n",
              "target_fraud                                          0\n",
              "dtype: int64"
            ]
          },
          "metadata": {},
          "execution_count": 27
        }
      ]
    },
    {
      "cell_type": "markdown",
      "source": [
        "target_default e lat-long"
      ],
      "metadata": {
        "id": "riMgwThJgw49"
      }
    },
    {
      "cell_type": "code",
      "source": [
        "#retirando valores vazios do dataset\n",
        "df.dropna(axis=0,inplace=True,subset=['target_default'])\n",
        "\n",
        "#dropando a coluna da latitude-longitude\n",
        "df.drop(labels=['lat_lon'],axis=1,inplace=True)"
      ],
      "metadata": {
        "id": "_xSEE-Q9e8bI"
      },
      "execution_count": 28,
      "outputs": []
    },
    {
      "cell_type": "markdown",
      "source": [
        "avaliando a quantidade de target_default"
      ],
      "metadata": {
        "id": "wHKX5V4X6Y4H"
      }
    },
    {
      "cell_type": "code",
      "source": [
        "#avaliando a quantidade de target_default\n",
        "df.target_default.value_counts().to_frame()"
      ],
      "metadata": {
        "colab": {
          "base_uri": "https://localhost:8080/",
          "height": 112
        },
        "id": "XDZgkesp6UaI",
        "outputId": "5f6d6cb9-2fde-41f3-f40d-0d2e0d816268"
      },
      "execution_count": 29,
      "outputs": [
        {
          "output_type": "execute_result",
          "data": {
            "text/html": [
              "\n",
              "  <div id=\"df-6c7d8bf7-598f-44aa-8068-30762a9d0f43\">\n",
              "    <div class=\"colab-df-container\">\n",
              "      <div>\n",
              "<style scoped>\n",
              "    .dataframe tbody tr th:only-of-type {\n",
              "        vertical-align: middle;\n",
              "    }\n",
              "\n",
              "    .dataframe tbody tr th {\n",
              "        vertical-align: top;\n",
              "    }\n",
              "\n",
              "    .dataframe thead th {\n",
              "        text-align: right;\n",
              "    }\n",
              "</style>\n",
              "<table border=\"1\" class=\"dataframe\">\n",
              "  <thead>\n",
              "    <tr style=\"text-align: right;\">\n",
              "      <th></th>\n",
              "      <th>target_default</th>\n",
              "    </tr>\n",
              "  </thead>\n",
              "  <tbody>\n",
              "    <tr>\n",
              "      <th>False</th>\n",
              "      <td>35080</td>\n",
              "    </tr>\n",
              "    <tr>\n",
              "      <th>True</th>\n",
              "      <td>6661</td>\n",
              "    </tr>\n",
              "  </tbody>\n",
              "</table>\n",
              "</div>\n",
              "      <button class=\"colab-df-convert\" onclick=\"convertToInteractive('df-6c7d8bf7-598f-44aa-8068-30762a9d0f43')\"\n",
              "              title=\"Convert this dataframe to an interactive table.\"\n",
              "              style=\"display:none;\">\n",
              "        \n",
              "  <svg xmlns=\"http://www.w3.org/2000/svg\" height=\"24px\"viewBox=\"0 0 24 24\"\n",
              "       width=\"24px\">\n",
              "    <path d=\"M0 0h24v24H0V0z\" fill=\"none\"/>\n",
              "    <path d=\"M18.56 5.44l.94 2.06.94-2.06 2.06-.94-2.06-.94-.94-2.06-.94 2.06-2.06.94zm-11 1L8.5 8.5l.94-2.06 2.06-.94-2.06-.94L8.5 2.5l-.94 2.06-2.06.94zm10 10l.94 2.06.94-2.06 2.06-.94-2.06-.94-.94-2.06-.94 2.06-2.06.94z\"/><path d=\"M17.41 7.96l-1.37-1.37c-.4-.4-.92-.59-1.43-.59-.52 0-1.04.2-1.43.59L10.3 9.45l-7.72 7.72c-.78.78-.78 2.05 0 2.83L4 21.41c.39.39.9.59 1.41.59.51 0 1.02-.2 1.41-.59l7.78-7.78 2.81-2.81c.8-.78.8-2.07 0-2.86zM5.41 20L4 18.59l7.72-7.72 1.47 1.35L5.41 20z\"/>\n",
              "  </svg>\n",
              "      </button>\n",
              "      \n",
              "  <style>\n",
              "    .colab-df-container {\n",
              "      display:flex;\n",
              "      flex-wrap:wrap;\n",
              "      gap: 12px;\n",
              "    }\n",
              "\n",
              "    .colab-df-convert {\n",
              "      background-color: #E8F0FE;\n",
              "      border: none;\n",
              "      border-radius: 50%;\n",
              "      cursor: pointer;\n",
              "      display: none;\n",
              "      fill: #1967D2;\n",
              "      height: 32px;\n",
              "      padding: 0 0 0 0;\n",
              "      width: 32px;\n",
              "    }\n",
              "\n",
              "    .colab-df-convert:hover {\n",
              "      background-color: #E2EBFA;\n",
              "      box-shadow: 0px 1px 2px rgba(60, 64, 67, 0.3), 0px 1px 3px 1px rgba(60, 64, 67, 0.15);\n",
              "      fill: #174EA6;\n",
              "    }\n",
              "\n",
              "    [theme=dark] .colab-df-convert {\n",
              "      background-color: #3B4455;\n",
              "      fill: #D2E3FC;\n",
              "    }\n",
              "\n",
              "    [theme=dark] .colab-df-convert:hover {\n",
              "      background-color: #434B5C;\n",
              "      box-shadow: 0px 1px 3px 1px rgba(0, 0, 0, 0.15);\n",
              "      filter: drop-shadow(0px 1px 2px rgba(0, 0, 0, 0.3));\n",
              "      fill: #FFFFFF;\n",
              "    }\n",
              "  </style>\n",
              "\n",
              "      <script>\n",
              "        const buttonEl =\n",
              "          document.querySelector('#df-6c7d8bf7-598f-44aa-8068-30762a9d0f43 button.colab-df-convert');\n",
              "        buttonEl.style.display =\n",
              "          google.colab.kernel.accessAllowed ? 'block' : 'none';\n",
              "\n",
              "        async function convertToInteractive(key) {\n",
              "          const element = document.querySelector('#df-6c7d8bf7-598f-44aa-8068-30762a9d0f43');\n",
              "          const dataTable =\n",
              "            await google.colab.kernel.invokeFunction('convertToInteractive',\n",
              "                                                     [key], {});\n",
              "          if (!dataTable) return;\n",
              "\n",
              "          const docLinkHtml = 'Like what you see? Visit the ' +\n",
              "            '<a target=\"_blank\" href=https://colab.research.google.com/notebooks/data_table.ipynb>data table notebook</a>'\n",
              "            + ' to learn more about interactive tables.';\n",
              "          element.innerHTML = '';\n",
              "          dataTable['output_type'] = 'display_data';\n",
              "          await google.colab.output.renderOutput(dataTable, element);\n",
              "          const docLink = document.createElement('div');\n",
              "          docLink.innerHTML = docLinkHtml;\n",
              "          element.appendChild(docLink);\n",
              "        }\n",
              "      </script>\n",
              "    </div>\n",
              "  </div>\n",
              "  "
            ],
            "text/plain": [
              "       target_default\n",
              "False           35080\n",
              "True             6661"
            ]
          },
          "metadata": {},
          "execution_count": 29
        }
      ]
    },
    {
      "cell_type": "markdown",
      "source": [
        "analisar fb e marketing_channel e external_data_provider_email_seen_before"
      ],
      "metadata": {
        "id": "8Lni_O6bhDbz"
      }
    },
    {
      "cell_type": "code",
      "source": [
        "#visualizando os valores únicos\n",
        "print('facebook_profile:',df.facebook_profile.unique(),'\\n')\n",
        "print('marketing_channel:',df.marketing_channel.unique(),'\\n')\n",
        "print('external_data_provider_email_seen_before:',df.external_data_provider_email_seen_before.unique())"
      ],
      "metadata": {
        "colab": {
          "base_uri": "https://localhost:8080/"
        },
        "id": "LwsESlJxarrp",
        "outputId": "aa8fb16d-21a2-4906-d59a-fa60419e2b77"
      },
      "execution_count": 30,
      "outputs": [
        {
          "output_type": "stream",
          "name": "stdout",
          "text": [
            "facebook_profile: [True False nan] \n",
            "\n",
            "marketing_channel: ['Invite-email' 'Radio-commercial' 'Waiting-list' 'Website' 'Twitter'\n",
            " 'Facebook' nan 'Instagram' 'Invite-web' 'LinkedIn'] \n",
            "\n",
            "external_data_provider_email_seen_before: [  51.   17.    9.   38.   46.   21.   16.   37.    6.   nan   10.   29.\n",
            "   43.   59.   54.   13.   52.    4.   31.   40.   -1. -999.   26.   48.\n",
            "   50.    5.    3.   39.   11.    0.   58.   55.    2.    1.   53.   15.\n",
            "   23.   24.   44.   14.   25.   34.   35.   12.   27.   49.    7.   36.\n",
            "   47.   57.   20.    8.   18.   30.   42.   28.   41.   56.   32.   33.\n",
            "   19.   22.   45.]\n"
          ]
        }
      ]
    },
    {
      "cell_type": "markdown",
      "source": [
        "verificar a quantidade"
      ],
      "metadata": {
        "id": "6LcfIfNjbe3-"
      }
    },
    {
      "cell_type": "code",
      "source": [
        "#criando o fig e o ax no matplotlib\n",
        "fig,ax = plt.subplots(figsize=(15,12),nrows=3)\n",
        "\n",
        "#criando o gráfico do facebook_profile\n",
        "facebook_comparacao  = df[df.facebook_profile.isnull()].target_default.value_counts()\n",
        "facebook_comparacao.plot(kind='bar',ax=ax[0])\n",
        "ajuste_layout(ax=ax[0],titulo='Avaliando os valores ausentes de facebook_profile',\n",
        "              addlabels=True,y=list(facebook_comparacao),distancia=100,\n",
        "              xlabels=True,lista_para_o_x=['em dia','inadimplente'])\n",
        "\n",
        "#criando o gráfico do marketing_channel\n",
        "marketing_comparacao  = df[df.marketing_channel.isnull()].target_default.value_counts()\n",
        "marketing_comparacao.plot(kind='bar',ax=ax[1])\n",
        "ajuste_layout(ax=ax[1],titulo='Avaliando os valores ausentes de marketing_channel',\n",
        "              addlabels=True,y=list(marketing_comparacao),distancia=100,\n",
        "              xlabels=True,lista_para_o_x=['em dia','inadimplente'])\n",
        "\n",
        "#criando o gráfico do external_data_provider_email_seen_before\n",
        "email_comparacao  = df[df.external_data_provider_email_seen_before.isnull()].target_default.value_counts()\n",
        "email_comparacao.plot(kind='bar',ax=ax[2])\n",
        "ajuste_layout(ax=ax[2],titulo='Avaliando os valores ausentes de external_data_provider_email_seen_before',\n",
        "              addlabels=True,y=list(email_comparacao),distancia=100,\n",
        "              xlabels=True,lista_para_o_x=['em dia','inadimplente'])\n",
        "\n",
        "#plotando o gráfico\n",
        "plt.tight_layout(pad=2.5);"
      ],
      "metadata": {
        "colab": {
          "base_uri": "https://localhost:8080/",
          "height": 844
        },
        "id": "dTkhQdV83F2L",
        "outputId": "1721b5ad-9f10-4a0f-bd4b-538bd793a19c"
      },
      "execution_count": 31,
      "outputs": [
        {
          "output_type": "display_data",
          "data": {
            "image/png": "[encoded data removed]",
            "text/plain": [
              "<Figure size 1080x864 with 3 Axes>"
            ]
          },
          "metadata": {}
        }
      ]
    },
    {
      "cell_type": "markdown",
      "source": [
        "fb : perder 10% da variável alvo por algo que nem sei se vale a pena,\n",
        "colocar flecha com o valor da variável alvo"
      ],
      "metadata": {
        "id": "-fCFX3aA6rbH"
      }
    },
    {
      "cell_type": "code",
      "source": [
        "#dropando a variável facebook_profile\n",
        "df.drop(labels=['facebook_profile'],axis=1,inplace=True)\n",
        "\n",
        "#preenchendo com a mediana\n",
        "df.external_data_provider_email_seen_before.fillna(value=df.external_data_provider_email_seen_before.median(),inplace=True)\n",
        "\n",
        "#retirando os demais valores nulos\n",
        "df.dropna(axis=0,inplace=True)"
      ],
      "metadata": {
        "id": "4rvY16js5XDP"
      },
      "execution_count": 32,
      "outputs": []
    },
    {
      "cell_type": "markdown",
      "source": [
        "## Avaliando os Outliers\n",
        "\n",
        "texto texto texto\n",
        "\n",
        "[link](https://machinelearningmastery.com/model-based-outlier-detection-and-removal-in-python/)\n",
        "\n",
        "* credit_limit não tem distribuição normal"
      ],
      "metadata": {
        "id": "_aIop3tYLEvB"
      }
    },
    {
      "cell_type": "code",
      "source": [
        "#visualizando as estatísticas descritivas\n",
        "df.describe().round(2)"
      ],
      "metadata": {
        "colab": {
          "base_uri": "https://localhost:8080/",
          "height": 364
        },
        "id": "R8yxkzGXWlJW",
        "outputId": "455cd4ff-cf17-422a-e96b-3d65b4dd7d85"
      },
      "execution_count": 33,
      "outputs": [
        {
          "output_type": "execute_result",
          "data": {
            "text/html": [
              "\n",
              "  <div id=\"df-8049c895-aad7-4ed2-bba9-e4d4c88d9383\">\n",
              "    <div class=\"colab-df-container\">\n",
              "      <div>\n",
              "<style scoped>\n",
              "    .dataframe tbody tr th:only-of-type {\n",
              "        vertical-align: middle;\n",
              "    }\n",
              "\n",
              "    .dataframe tbody tr th {\n",
              "        vertical-align: top;\n",
              "    }\n",
              "\n",
              "    .dataframe thead th {\n",
              "        text-align: right;\n",
              "    }\n",
              "</style>\n",
              "<table border=\"1\" class=\"dataframe\">\n",
              "  <thead>\n",
              "    <tr style=\"text-align: right;\">\n",
              "      <th></th>\n",
              "      <th>score_3</th>\n",
              "      <th>score_4</th>\n",
              "      <th>score_5</th>\n",
              "      <th>score_6</th>\n",
              "      <th>risk_rate</th>\n",
              "      <th>last_amount_borrowed</th>\n",
              "      <th>last_borrowed_in_months</th>\n",
              "      <th>credit_limit</th>\n",
              "      <th>income</th>\n",
              "      <th>n_bankruptcies</th>\n",
              "      <th>n_defaulted_loans</th>\n",
              "      <th>n_accounts</th>\n",
              "      <th>n_issues</th>\n",
              "      <th>application_time_in_funnel</th>\n",
              "      <th>external_data_provider_credit_checks_last_month</th>\n",
              "      <th>external_data_provider_email_seen_before</th>\n",
              "      <th>external_data_provider_fraud_score</th>\n",
              "      <th>reported_income</th>\n",
              "    </tr>\n",
              "  </thead>\n",
              "  <tbody>\n",
              "    <tr>\n",
              "      <th>count</th>\n",
              "      <td>37698.00</td>\n",
              "      <td>37698.00</td>\n",
              "      <td>37698.00</td>\n",
              "      <td>37698.00</td>\n",
              "      <td>37698.00</td>\n",
              "      <td>37698.00</td>\n",
              "      <td>37698.00</td>\n",
              "      <td>37698.00</td>\n",
              "      <td>37698.00</td>\n",
              "      <td>37698.00</td>\n",
              "      <td>37698.00</td>\n",
              "      <td>37698.00</td>\n",
              "      <td>37698.00</td>\n",
              "      <td>37698.00</td>\n",
              "      <td>37698.00</td>\n",
              "      <td>37698.00</td>\n",
              "      <td>37698.00</td>\n",
              "      <td>37698.00</td>\n",
              "    </tr>\n",
              "    <tr>\n",
              "      <th>mean</th>\n",
              "      <td>346.56</td>\n",
              "      <td>100.01</td>\n",
              "      <td>0.50</td>\n",
              "      <td>99.92</td>\n",
              "      <td>0.29</td>\n",
              "      <td>4510.95</td>\n",
              "      <td>13.76</td>\n",
              "      <td>31300.25</td>\n",
              "      <td>71118.73</td>\n",
              "      <td>0.08</td>\n",
              "      <td>0.00</td>\n",
              "      <td>10.63</td>\n",
              "      <td>10.75</td>\n",
              "      <td>248.04</td>\n",
              "      <td>1.51</td>\n",
              "      <td>13.47</td>\n",
              "      <td>500.02</td>\n",
              "      <td>inf</td>\n",
              "    </tr>\n",
              "    <tr>\n",
              "      <th>std</th>\n",
              "      <td>110.09</td>\n",
              "      <td>3.18</td>\n",
              "      <td>0.29</td>\n",
              "      <td>10.02</td>\n",
              "      <td>0.10</td>\n",
              "      <td>7803.65</td>\n",
              "      <td>20.00</td>\n",
              "      <td>30312.48</td>\n",
              "      <td>53073.44</td>\n",
              "      <td>0.27</td>\n",
              "      <td>0.08</td>\n",
              "      <td>4.57</td>\n",
              "      <td>3.96</td>\n",
              "      <td>146.61</td>\n",
              "      <td>1.11</td>\n",
              "      <td>122.37</td>\n",
              "      <td>288.08</td>\n",
              "      <td>NaN</td>\n",
              "    </tr>\n",
              "    <tr>\n",
              "      <th>min</th>\n",
              "      <td>0.00</td>\n",
              "      <td>87.12</td>\n",
              "      <td>0.00</td>\n",
              "      <td>60.66</td>\n",
              "      <td>0.00</td>\n",
              "      <td>0.00</td>\n",
              "      <td>0.00</td>\n",
              "      <td>0.00</td>\n",
              "      <td>4821.18</td>\n",
              "      <td>0.00</td>\n",
              "      <td>0.00</td>\n",
              "      <td>1.00</td>\n",
              "      <td>1.00</td>\n",
              "      <td>0.00</td>\n",
              "      <td>0.00</td>\n",
              "      <td>-999.00</td>\n",
              "      <td>0.00</td>\n",
              "      <td>403.00</td>\n",
              "    </tr>\n",
              "    <tr>\n",
              "      <th>25%</th>\n",
              "      <td>270.00</td>\n",
              "      <td>97.87</td>\n",
              "      <td>0.25</td>\n",
              "      <td>93.18</td>\n",
              "      <td>0.22</td>\n",
              "      <td>0.00</td>\n",
              "      <td>0.00</td>\n",
              "      <td>17187.25</td>\n",
              "      <td>44025.89</td>\n",
              "      <td>0.00</td>\n",
              "      <td>0.00</td>\n",
              "      <td>7.00</td>\n",
              "      <td>9.00</td>\n",
              "      <td>120.00</td>\n",
              "      <td>1.00</td>\n",
              "      <td>12.00</td>\n",
              "      <td>252.00</td>\n",
              "      <td>50761.50</td>\n",
              "    </tr>\n",
              "    <tr>\n",
              "      <th>50%</th>\n",
              "      <td>340.00</td>\n",
              "      <td>100.02</td>\n",
              "      <td>0.50</td>\n",
              "      <td>99.96</td>\n",
              "      <td>0.29</td>\n",
              "      <td>0.00</td>\n",
              "      <td>0.00</td>\n",
              "      <td>25647.00</td>\n",
              "      <td>60049.48</td>\n",
              "      <td>0.00</td>\n",
              "      <td>0.00</td>\n",
              "      <td>10.00</td>\n",
              "      <td>10.00</td>\n",
              "      <td>248.00</td>\n",
              "      <td>2.00</td>\n",
              "      <td>27.00</td>\n",
              "      <td>501.50</td>\n",
              "      <td>101376.00</td>\n",
              "    </tr>\n",
              "    <tr>\n",
              "      <th>75%</th>\n",
              "      <td>420.00</td>\n",
              "      <td>102.15</td>\n",
              "      <td>0.75</td>\n",
              "      <td>106.63</td>\n",
              "      <td>0.36</td>\n",
              "      <td>7511.99</td>\n",
              "      <td>36.00</td>\n",
              "      <td>34977.50</td>\n",
              "      <td>85032.66</td>\n",
              "      <td>0.00</td>\n",
              "      <td>0.00</td>\n",
              "      <td>13.00</td>\n",
              "      <td>12.00</td>\n",
              "      <td>376.00</td>\n",
              "      <td>2.00</td>\n",
              "      <td>43.00</td>\n",
              "      <td>747.75</td>\n",
              "      <td>151108.75</td>\n",
              "    </tr>\n",
              "    <tr>\n",
              "      <th>max</th>\n",
              "      <td>910.00</td>\n",
              "      <td>113.98</td>\n",
              "      <td>1.00</td>\n",
              "      <td>142.19</td>\n",
              "      <td>0.81</td>\n",
              "      <td>35059.60</td>\n",
              "      <td>60.00</td>\n",
              "      <td>448269.00</td>\n",
              "      <td>5000027.83</td>\n",
              "      <td>5.00</td>\n",
              "      <td>5.00</td>\n",
              "      <td>42.00</td>\n",
              "      <td>42.00</td>\n",
              "      <td>500.00</td>\n",
              "      <td>3.00</td>\n",
              "      <td>59.00</td>\n",
              "      <td>1000.00</td>\n",
              "      <td>inf</td>\n",
              "    </tr>\n",
              "  </tbody>\n",
              "</table>\n",
              "</div>\n",
              "      <button class=\"colab-df-convert\" onclick=\"convertToInteractive('df-8049c895-aad7-4ed2-bba9-e4d4c88d9383')\"\n",
              "              title=\"Convert this dataframe to an interactive table.\"\n",
              "              style=\"display:none;\">\n",
              "        \n",
              "  <svg xmlns=\"http://www.w3.org/2000/svg\" height=\"24px\"viewBox=\"0 0 24 24\"\n",
              "       width=\"24px\">\n",
              "    <path d=\"M0 0h24v24H0V0z\" fill=\"none\"/>\n",
              "    <path d=\"M18.56 5.44l.94 2.06.94-2.06 2.06-.94-2.06-.94-.94-2.06-.94 2.06-2.06.94zm-11 1L8.5 8.5l.94-2.06 2.06-.94-2.06-.94L8.5 2.5l-.94 2.06-2.06.94zm10 10l.94 2.06.94-2.06 2.06-.94-2.06-.94-.94-2.06-.94 2.06-2.06.94z\"/><path d=\"M17.41 7.96l-1.37-1.37c-.4-.4-.92-.59-1.43-.59-.52 0-1.04.2-1.43.59L10.3 9.45l-7.72 7.72c-.78.78-.78 2.05 0 2.83L4 21.41c.39.39.9.59 1.41.59.51 0 1.02-.2 1.41-.59l7.78-7.78 2.81-2.81c.8-.78.8-2.07 0-2.86zM5.41 20L4 18.59l7.72-7.72 1.47 1.35L5.41 20z\"/>\n",
              "  </svg>\n",
              "      </button>\n",
              "      \n",
              "  <style>\n",
              "    .colab-df-container {\n",
              "      display:flex;\n",
              "      flex-wrap:wrap;\n",
              "      gap: 12px;\n",
              "    }\n",
              "\n",
              "    .colab-df-convert {\n",
              "      background-color: #E8F0FE;\n",
              "      border: none;\n",
              "      border-radius: 50%;\n",
              "      cursor: pointer;\n",
              "      display: none;\n",
              "      fill: #1967D2;\n",
              "      height: 32px;\n",
              "      padding: 0 0 0 0;\n",
              "      width: 32px;\n",
              "    }\n",
              "\n",
              "    .colab-df-convert:hover {\n",
              "      background-color: #E2EBFA;\n",
              "      box-shadow: 0px 1px 2px rgba(60, 64, 67, 0.3), 0px 1px 3px 1px rgba(60, 64, 67, 0.15);\n",
              "      fill: #174EA6;\n",
              "    }\n",
              "\n",
              "    [theme=dark] .colab-df-convert {\n",
              "      background-color: #3B4455;\n",
              "      fill: #D2E3FC;\n",
              "    }\n",
              "\n",
              "    [theme=dark] .colab-df-convert:hover {\n",
              "      background-color: #434B5C;\n",
              "      box-shadow: 0px 1px 3px 1px rgba(0, 0, 0, 0.15);\n",
              "      filter: drop-shadow(0px 1px 2px rgba(0, 0, 0, 0.3));\n",
              "      fill: #FFFFFF;\n",
              "    }\n",
              "  </style>\n",
              "\n",
              "      <script>\n",
              "        const buttonEl =\n",
              "          document.querySelector('#df-8049c895-aad7-4ed2-bba9-e4d4c88d9383 button.colab-df-convert');\n",
              "        buttonEl.style.display =\n",
              "          google.colab.kernel.accessAllowed ? 'block' : 'none';\n",
              "\n",
              "        async function convertToInteractive(key) {\n",
              "          const element = document.querySelector('#df-8049c895-aad7-4ed2-bba9-e4d4c88d9383');\n",
              "          const dataTable =\n",
              "            await google.colab.kernel.invokeFunction('convertToInteractive',\n",
              "                                                     [key], {});\n",
              "          if (!dataTable) return;\n",
              "\n",
              "          const docLinkHtml = 'Like what you see? Visit the ' +\n",
              "            '<a target=\"_blank\" href=https://colab.research.google.com/notebooks/data_table.ipynb>data table notebook</a>'\n",
              "            + ' to learn more about interactive tables.';\n",
              "          element.innerHTML = '';\n",
              "          dataTable['output_type'] = 'display_data';\n",
              "          await google.colab.output.renderOutput(dataTable, element);\n",
              "          const docLink = document.createElement('div');\n",
              "          docLink.innerHTML = docLinkHtml;\n",
              "          element.appendChild(docLink);\n",
              "        }\n",
              "      </script>\n",
              "    </div>\n",
              "  </div>\n",
              "  "
            ],
            "text/plain": [
              "        score_3   score_4  ...  external_data_provider_fraud_score  reported_income\n",
              "count  37698.00  37698.00  ...                            37698.00         37698.00\n",
              "mean     346.56    100.01  ...                              500.02              inf\n",
              "std      110.09      3.18  ...                              288.08              NaN\n",
              "min        0.00     87.12  ...                                0.00           403.00\n",
              "25%      270.00     97.87  ...                              252.00         50761.50\n",
              "50%      340.00    100.02  ...                              501.50        101376.00\n",
              "75%      420.00    102.15  ...                              747.75        151108.75\n",
              "max      910.00    113.98  ...                             1000.00              inf\n",
              "\n",
              "[8 rows x 18 columns]"
            ]
          },
          "metadata": {},
          "execution_count": 33
        }
      ]
    },
    {
      "cell_type": "markdown",
      "source": [
        "falar dos infinitos"
      ],
      "metadata": {
        "id": "Ud8oG4Nmk0Zb"
      }
    },
    {
      "cell_type": "code",
      "source": [
        "#selecionando os infinitos\n",
        "infinitos = np.isinf(df.reported_income)\n",
        "\n",
        "#quantidade de valores infinitos\n",
        "print('A variável reported_income possui {} valores infinitos.'.format(infinitos.sum()))\n",
        "\n",
        "#retirando os infinitos do dataset\n",
        "df = df[~infinitos]\n",
        "\n",
        "#retirando a external_data_provider_email_seen_before negativa\n",
        "df = df[df.external_data_provider_email_seen_before >= 0]"
      ],
      "metadata": {
        "colab": {
          "base_uri": "https://localhost:8080/"
        },
        "id": "mWOL2VTihKCo",
        "outputId": "76feb768-2be0-4235-a29c-e5a46047b223"
      },
      "execution_count": 34,
      "outputs": [
        {
          "output_type": "stream",
          "name": "stdout",
          "text": [
            "A variável reported_income possui 58 valores infinitos.\n"
          ]
        }
      ]
    },
    {
      "cell_type": "markdown",
      "source": [
        "falar de algumas variáveis que estão estranhas"
      ],
      "metadata": {
        "id": "NiWCHCkhk4Y4"
      }
    },
    {
      "cell_type": "code",
      "source": [
        "#lista  de 3 variáveis a serem analisadas\n",
        "lista_primeira_linha = ['score_3','score_4','score_5']\n",
        "lista_segunda_linha = ['score_6','risk_rate','last_amount_borrowed']\n",
        "lista_terceira_linha = ['external_data_provider_email_seen_before','credit_limit','income']\n",
        "lista_quarta_linha = ['n_accounts','n_issues','reported_income']\n",
        "\n",
        "#criando o ax e o fig no matplotlib\n",
        "fig, ax = plt.subplots(figsize=(18,15),ncols=3,nrows=4)\n",
        "\n",
        "#criando os histogramas da primeira linha\n",
        "for i,variavel in enumerate(lista_primeira_linha):\n",
        "  sns.boxplot(data=df,x=variavel,linewidth=0.35,ax=ax[0][i])\n",
        "  ajuste_layout(ax=ax[0][i],grid=True,titulo=variavel,location='center',x_milhares=True)\n",
        "\n",
        "#criando os histogramas da segunda linha\n",
        "for i,variavel in enumerate(lista_segunda_linha):\n",
        "  sns.boxplot(data=df,x=variavel,linewidth=0.35,ax=ax[1][i],color='#0A1172')\n",
        "  ajuste_layout(ax=ax[1][i],grid=True,titulo=variavel,location='center',x_milhares=True)\n",
        "\n",
        "#criando os histogramas da terceira linha\n",
        "for i,variavel in enumerate(lista_terceira_linha):\n",
        "  sns.boxplot(data=df,x=variavel,linewidth=0.35,ax=ax[2][i],color='#281e5d')\n",
        "  ajuste_layout(ax=ax[2][i],grid=True,titulo=variavel,location='center',x_milhares=True)\n",
        "\n",
        "#criando os histogramas da quarta linha\n",
        "for i,variavel in enumerate(lista_quarta_linha):\n",
        "  sns.boxplot(data=df,x=variavel,linewidth=0.35,ax=ax[3][i],color='#151e3d')\n",
        "  ajuste_layout(ax=ax[3][i],grid=True,titulo=variavel,location='center',x_milhares=True)\n",
        "\n",
        "\n",
        "#plotando os gráficos\n",
        "plt.tight_layout(pad=2.0);"
      ],
      "metadata": {
        "colab": {
          "base_uri": "https://localhost:8080/",
          "height": 1000
        },
        "id": "ky_KyvDNWlLn",
        "outputId": "edbcb19d-c079-4508-850b-5944ea3a884f"
      },
      "execution_count": 35,
      "outputs": [
        {
          "output_type": "display_data",
          "data": {
            "image/png": "[encoded data removed]",
            "text/plain": [
              "<Figure size 1296x1080 with 12 Axes>"
            ]
          },
          "metadata": {
            "needs_background": "dark"
          }
        }
      ]
    },
    {
      "cell_type": "markdown",
      "source": [
        "tratamento do outliers\n",
        "\n",
        "dbscan"
      ],
      "metadata": {
        "id": "LITEO7Ugj6wJ"
      }
    },
    {
      "cell_type": "code",
      "source": [
        "#listagem das variáveis que apresentaram um comportamento incomum nos boxplots\n",
        "lista = ['last_amount_borrowed','credit_limit','income','reported_income']\n",
        "\n",
        "#visualziando as estatísticas descritivas apenas destas variáveis\n",
        "df[lista].describe().round(2)"
      ],
      "metadata": {
        "colab": {
          "base_uri": "https://localhost:8080/",
          "height": 300
        },
        "id": "_7teQ_EsxsOV",
        "outputId": "ee2fc28c-d520-4456-eb4c-0912f99a31c9"
      },
      "execution_count": 36,
      "outputs": [
        {
          "output_type": "execute_result",
          "data": {
            "text/html": [
              "\n",
              "  <div id=\"df-62d25116-70a5-486b-93fe-0b73100eca61\">\n",
              "    <div class=\"colab-df-container\">\n",
              "      <div>\n",
              "<style scoped>\n",
              "    .dataframe tbody tr th:only-of-type {\n",
              "        vertical-align: middle;\n",
              "    }\n",
              "\n",
              "    .dataframe tbody tr th {\n",
              "        vertical-align: top;\n",
              "    }\n",
              "\n",
              "    .dataframe thead th {\n",
              "        text-align: right;\n",
              "    }\n",
              "</style>\n",
              "<table border=\"1\" class=\"dataframe\">\n",
              "  <thead>\n",
              "    <tr style=\"text-align: right;\">\n",
              "      <th></th>\n",
              "      <th>last_amount_borrowed</th>\n",
              "      <th>credit_limit</th>\n",
              "      <th>income</th>\n",
              "      <th>reported_income</th>\n",
              "    </tr>\n",
              "  </thead>\n",
              "  <tbody>\n",
              "    <tr>\n",
              "      <th>count</th>\n",
              "      <td>36563.00</td>\n",
              "      <td>36563.00</td>\n",
              "      <td>36563.00</td>\n",
              "      <td>3.656300e+04</td>\n",
              "    </tr>\n",
              "    <tr>\n",
              "      <th>mean</th>\n",
              "      <td>4520.54</td>\n",
              "      <td>31318.93</td>\n",
              "      <td>71176.14</td>\n",
              "      <td>1.129852e+13</td>\n",
              "    </tr>\n",
              "    <tr>\n",
              "      <th>std</th>\n",
              "      <td>7815.36</td>\n",
              "      <td>30353.56</td>\n",
              "      <td>53370.40</td>\n",
              "      <td>2.677349e+14</td>\n",
              "    </tr>\n",
              "    <tr>\n",
              "      <th>min</th>\n",
              "      <td>0.00</td>\n",
              "      <td>0.00</td>\n",
              "      <td>4821.18</td>\n",
              "      <td>4.030000e+02</td>\n",
              "    </tr>\n",
              "    <tr>\n",
              "      <th>25%</th>\n",
              "      <td>0.00</td>\n",
              "      <td>17206.50</td>\n",
              "      <td>44027.27</td>\n",
              "      <td>5.070500e+04</td>\n",
              "    </tr>\n",
              "    <tr>\n",
              "      <th>50%</th>\n",
              "      <td>0.00</td>\n",
              "      <td>25647.00</td>\n",
              "      <td>60171.75</td>\n",
              "      <td>1.013850e+05</td>\n",
              "    </tr>\n",
              "    <tr>\n",
              "      <th>75%</th>\n",
              "      <td>7515.85</td>\n",
              "      <td>35002.00</td>\n",
              "      <td>85034.21</td>\n",
              "      <td>1.509245e+05</td>\n",
              "    </tr>\n",
              "    <tr>\n",
              "      <th>max</th>\n",
              "      <td>35059.60</td>\n",
              "      <td>448269.00</td>\n",
              "      <td>5000027.83</td>\n",
              "      <td>6.355500e+15</td>\n",
              "    </tr>\n",
              "  </tbody>\n",
              "</table>\n",
              "</div>\n",
              "      <button class=\"colab-df-convert\" onclick=\"convertToInteractive('df-62d25116-70a5-486b-93fe-0b73100eca61')\"\n",
              "              title=\"Convert this dataframe to an interactive table.\"\n",
              "              style=\"display:none;\">\n",
              "        \n",
              "  <svg xmlns=\"http://www.w3.org/2000/svg\" height=\"24px\"viewBox=\"0 0 24 24\"\n",
              "       width=\"24px\">\n",
              "    <path d=\"M0 0h24v24H0V0z\" fill=\"none\"/>\n",
              "    <path d=\"M18.56 5.44l.94 2.06.94-2.06 2.06-.94-2.06-.94-.94-2.06-.94 2.06-2.06.94zm-11 1L8.5 8.5l.94-2.06 2.06-.94-2.06-.94L8.5 2.5l-.94 2.06-2.06.94zm10 10l.94 2.06.94-2.06 2.06-.94-2.06-.94-.94-2.06-.94 2.06-2.06.94z\"/><path d=\"M17.41 7.96l-1.37-1.37c-.4-.4-.92-.59-1.43-.59-.52 0-1.04.2-1.43.59L10.3 9.45l-7.72 7.72c-.78.78-.78 2.05 0 2.83L4 21.41c.39.39.9.59 1.41.59.51 0 1.02-.2 1.41-.59l7.78-7.78 2.81-2.81c.8-.78.8-2.07 0-2.86zM5.41 20L4 18.59l7.72-7.72 1.47 1.35L5.41 20z\"/>\n",
              "  </svg>\n",
              "      </button>\n",
              "      \n",
              "  <style>\n",
              "    .colab-df-container {\n",
              "      display:flex;\n",
              "      flex-wrap:wrap;\n",
              "      gap: 12px;\n",
              "    }\n",
              "\n",
              "    .colab-df-convert {\n",
              "      background-color: #E8F0FE;\n",
              "      border: none;\n",
              "      border-radius: 50%;\n",
              "      cursor: pointer;\n",
              "      display: none;\n",
              "      fill: #1967D2;\n",
              "      height: 32px;\n",
              "      padding: 0 0 0 0;\n",
              "      width: 32px;\n",
              "    }\n",
              "\n",
              "    .colab-df-convert:hover {\n",
              "      background-color: #E2EBFA;\n",
              "      box-shadow: 0px 1px 2px rgba(60, 64, 67, 0.3), 0px 1px 3px 1px rgba(60, 64, 67, 0.15);\n",
              "      fill: #174EA6;\n",
              "    }\n",
              "\n",
              "    [theme=dark] .colab-df-convert {\n",
              "      background-color: #3B4455;\n",
              "      fill: #D2E3FC;\n",
              "    }\n",
              "\n",
              "    [theme=dark] .colab-df-convert:hover {\n",
              "      background-color: #434B5C;\n",
              "      box-shadow: 0px 1px 3px 1px rgba(0, 0, 0, 0.15);\n",
              "      filter: drop-shadow(0px 1px 2px rgba(0, 0, 0, 0.3));\n",
              "      fill: #FFFFFF;\n",
              "    }\n",
              "  </style>\n",
              "\n",
              "      <script>\n",
              "        const buttonEl =\n",
              "          document.querySelector('#df-62d25116-70a5-486b-93fe-0b73100eca61 button.colab-df-convert');\n",
              "        buttonEl.style.display =\n",
              "          google.colab.kernel.accessAllowed ? 'block' : 'none';\n",
              "\n",
              "        async function convertToInteractive(key) {\n",
              "          const element = document.querySelector('#df-62d25116-70a5-486b-93fe-0b73100eca61');\n",
              "          const dataTable =\n",
              "            await google.colab.kernel.invokeFunction('convertToInteractive',\n",
              "                                                     [key], {});\n",
              "          if (!dataTable) return;\n",
              "\n",
              "          const docLinkHtml = 'Like what you see? Visit the ' +\n",
              "            '<a target=\"_blank\" href=https://colab.research.google.com/notebooks/data_table.ipynb>data table notebook</a>'\n",
              "            + ' to learn more about interactive tables.';\n",
              "          element.innerHTML = '';\n",
              "          dataTable['output_type'] = 'display_data';\n",
              "          await google.colab.output.renderOutput(dataTable, element);\n",
              "          const docLink = document.createElement('div');\n",
              "          docLink.innerHTML = docLinkHtml;\n",
              "          element.appendChild(docLink);\n",
              "        }\n",
              "      </script>\n",
              "    </div>\n",
              "  </div>\n",
              "  "
            ],
            "text/plain": [
              "       last_amount_borrowed  credit_limit      income  reported_income\n",
              "count              36563.00      36563.00    36563.00     3.656300e+04\n",
              "mean                4520.54      31318.93    71176.14     1.129852e+13\n",
              "std                 7815.36      30353.56    53370.40     2.677349e+14\n",
              "min                    0.00          0.00     4821.18     4.030000e+02\n",
              "25%                    0.00      17206.50    44027.27     5.070500e+04\n",
              "50%                    0.00      25647.00    60171.75     1.013850e+05\n",
              "75%                 7515.85      35002.00    85034.21     1.509245e+05\n",
              "max                35059.60     448269.00  5000027.83     6.355500e+15"
            ]
          },
          "metadata": {},
          "execution_count": 36
        }
      ]
    },
    {
      "cell_type": "code",
      "source": [
        "#criando lista vazias\n",
        "limite_superior = []\n",
        "limite_inferior = []\n",
        "\n",
        "#calculando o IQR de cada variável\n",
        "for variavel in lista:\n",
        "  Q3 = df[variavel].quantile(0.75)\n",
        "  Q1 = df[variavel].quantile(0.25)\n",
        "  IQR = Q3 - Q1\n",
        "  limite_inferior.append(Q1 - (IQR*1.5))\n",
        "  limite_superior.append(Q3 + (IQR*1.5))\n",
        "\n",
        "#visualizando um DataFrame com os limites\n",
        "pd.DataFrame({'Limite Inferior':limite_inferior,\n",
        "              'Limite Superior':limite_superior},\n",
        "                index=lista)"
      ],
      "metadata": {
        "colab": {
          "base_uri": "https://localhost:8080/",
          "height": 174
        },
        "id": "NvI9l_s5YNyT",
        "outputId": "70dc6027-d5f7-410c-f48e-16dfc92c4e83"
      },
      "execution_count": 37,
      "outputs": [
        {
          "output_type": "execute_result",
          "data": {
            "text/html": [
              "\n",
              "  <div id=\"df-9562e04c-09b6-46dd-99af-e1b9003d695c\">\n",
              "    <div class=\"colab-df-container\">\n",
              "      <div>\n",
              "<style scoped>\n",
              "    .dataframe tbody tr th:only-of-type {\n",
              "        vertical-align: middle;\n",
              "    }\n",
              "\n",
              "    .dataframe tbody tr th {\n",
              "        vertical-align: top;\n",
              "    }\n",
              "\n",
              "    .dataframe thead th {\n",
              "        text-align: right;\n",
              "    }\n",
              "</style>\n",
              "<table border=\"1\" class=\"dataframe\">\n",
              "  <thead>\n",
              "    <tr style=\"text-align: right;\">\n",
              "      <th></th>\n",
              "      <th>Limite Inferior</th>\n",
              "      <th>Limite Superior</th>\n",
              "    </tr>\n",
              "  </thead>\n",
              "  <tbody>\n",
              "    <tr>\n",
              "      <th>last_amount_borrowed</th>\n",
              "      <td>-11273.775</td>\n",
              "      <td>18789.625</td>\n",
              "    </tr>\n",
              "    <tr>\n",
              "      <th>credit_limit</th>\n",
              "      <td>-9486.750</td>\n",
              "      <td>61695.250</td>\n",
              "    </tr>\n",
              "    <tr>\n",
              "      <th>income</th>\n",
              "      <td>-17483.140</td>\n",
              "      <td>146544.620</td>\n",
              "    </tr>\n",
              "    <tr>\n",
              "      <th>reported_income</th>\n",
              "      <td>-99624.250</td>\n",
              "      <td>301253.750</td>\n",
              "    </tr>\n",
              "  </tbody>\n",
              "</table>\n",
              "</div>\n",
              "      <button class=\"colab-df-convert\" onclick=\"convertToInteractive('df-9562e04c-09b6-46dd-99af-e1b9003d695c')\"\n",
              "              title=\"Convert this dataframe to an interactive table.\"\n",
              "              style=\"display:none;\">\n",
              "        \n",
              "  <svg xmlns=\"http://www.w3.org/2000/svg\" height=\"24px\"viewBox=\"0 0 24 24\"\n",
              "       width=\"24px\">\n",
              "    <path d=\"M0 0h24v24H0V0z\" fill=\"none\"/>\n",
              "    <path d=\"M18.56 5.44l.94 2.06.94-2.06 2.06-.94-2.06-.94-.94-2.06-.94 2.06-2.06.94zm-11 1L8.5 8.5l.94-2.06 2.06-.94-2.06-.94L8.5 2.5l-.94 2.06-2.06.94zm10 10l.94 2.06.94-2.06 2.06-.94-2.06-.94-.94-2.06-.94 2.06-2.06.94z\"/><path d=\"M17.41 7.96l-1.37-1.37c-.4-.4-.92-.59-1.43-.59-.52 0-1.04.2-1.43.59L10.3 9.45l-7.72 7.72c-.78.78-.78 2.05 0 2.83L4 21.41c.39.39.9.59 1.41.59.51 0 1.02-.2 1.41-.59l7.78-7.78 2.81-2.81c.8-.78.8-2.07 0-2.86zM5.41 20L4 18.59l7.72-7.72 1.47 1.35L5.41 20z\"/>\n",
              "  </svg>\n",
              "      </button>\n",
              "      \n",
              "  <style>\n",
              "    .colab-df-container {\n",
              "      display:flex;\n",
              "      flex-wrap:wrap;\n",
              "      gap: 12px;\n",
              "    }\n",
              "\n",
              "    .colab-df-convert {\n",
              "      background-color: #E8F0FE;\n",
              "      border: none;\n",
              "      border-radius: 50%;\n",
              "      cursor: pointer;\n",
              "      display: none;\n",
              "      fill: #1967D2;\n",
              "      height: 32px;\n",
              "      padding: 0 0 0 0;\n",
              "      width: 32px;\n",
              "    }\n",
              "\n",
              "    .colab-df-convert:hover {\n",
              "      background-color: #E2EBFA;\n",
              "      box-shadow: 0px 1px 2px rgba(60, 64, 67, 0.3), 0px 1px 3px 1px rgba(60, 64, 67, 0.15);\n",
              "      fill: #174EA6;\n",
              "    }\n",
              "\n",
              "    [theme=dark] .colab-df-convert {\n",
              "      background-color: #3B4455;\n",
              "      fill: #D2E3FC;\n",
              "    }\n",
              "\n",
              "    [theme=dark] .colab-df-convert:hover {\n",
              "      background-color: #434B5C;\n",
              "      box-shadow: 0px 1px 3px 1px rgba(0, 0, 0, 0.15);\n",
              "      filter: drop-shadow(0px 1px 2px rgba(0, 0, 0, 0.3));\n",
              "      fill: #FFFFFF;\n",
              "    }\n",
              "  </style>\n",
              "\n",
              "      <script>\n",
              "        const buttonEl =\n",
              "          document.querySelector('#df-9562e04c-09b6-46dd-99af-e1b9003d695c button.colab-df-convert');\n",
              "        buttonEl.style.display =\n",
              "          google.colab.kernel.accessAllowed ? 'block' : 'none';\n",
              "\n",
              "        async function convertToInteractive(key) {\n",
              "          const element = document.querySelector('#df-9562e04c-09b6-46dd-99af-e1b9003d695c');\n",
              "          const dataTable =\n",
              "            await google.colab.kernel.invokeFunction('convertToInteractive',\n",
              "                                                     [key], {});\n",
              "          if (!dataTable) return;\n",
              "\n",
              "          const docLinkHtml = 'Like what you see? Visit the ' +\n",
              "            '<a target=\"_blank\" href=https://colab.research.google.com/notebooks/data_table.ipynb>data table notebook</a>'\n",
              "            + ' to learn more about interactive tables.';\n",
              "          element.innerHTML = '';\n",
              "          dataTable['output_type'] = 'display_data';\n",
              "          await google.colab.output.renderOutput(dataTable, element);\n",
              "          const docLink = document.createElement('div');\n",
              "          docLink.innerHTML = docLinkHtml;\n",
              "          element.appendChild(docLink);\n",
              "        }\n",
              "      </script>\n",
              "    </div>\n",
              "  </div>\n",
              "  "
            ],
            "text/plain": [
              "                      Limite Inferior  Limite Superior\n",
              "last_amount_borrowed       -11273.775        18789.625\n",
              "credit_limit                -9486.750        61695.250\n",
              "income                     -17483.140       146544.620\n",
              "reported_income            -99624.250       301253.750"
            ]
          },
          "metadata": {},
          "execution_count": 37
        }
      ]
    },
    {
      "cell_type": "code",
      "source": [
        "for i,var in enumerate(lista):\n",
        "  verificar = df[df[var] > limite_superior[i]]\n",
        "  print('-'*80)\n",
        "  print('A variável',var,'tem',verificar.shape[0],'registros maiores que o limite superior.')\n",
        "  print('Sendo',verificar.target_default.value_counts()[1],'de clientes inadimplentes.')"
      ],
      "metadata": {
        "colab": {
          "base_uri": "https://localhost:8080/"
        },
        "id": "wSWRNZ6WreHg",
        "outputId": "61fcfa50-c347-4c75-eb99-98edeaea7141"
      },
      "execution_count": 38,
      "outputs": [
        {
          "output_type": "stream",
          "name": "stdout",
          "text": [
            "--------------------------------------------------------------------------------\n",
            "A variável last_amount_borrowed tem 2939 registros maiores que o limite superior.\n",
            "Sendo 579 de clientes inadimplentes.\n",
            "--------------------------------------------------------------------------------\n",
            "A variável credit_limit tem 3893 registros maiores que o limite superior.\n",
            "Sendo 578 de clientes inadimplentes.\n",
            "--------------------------------------------------------------------------------\n",
            "A variável income tem 1718 registros maiores que o limite superior.\n",
            "Sendo 199 de clientes inadimplentes.\n",
            "--------------------------------------------------------------------------------\n",
            "A variável reported_income tem 279 registros maiores que o limite superior.\n",
            "Sendo 37 de clientes inadimplentes.\n"
          ]
        }
      ]
    },
    {
      "cell_type": "markdown",
      "source": [
        "## Correlação dos Dados e algumas visualizações interessantes\n",
        "texto texto\n",
        "\n",
        "[imagem fundo do pais](https://github.com/ageron/handson-ml2/blob/master/02_end_to_end_machine_learning_project.ipynb)"
      ],
      "metadata": {
        "id": "TH2ZiI2uihOq"
      }
    },
    {
      "cell_type": "code",
      "source": [
        "df.head(2)"
      ],
      "metadata": {
        "colab": {
          "base_uri": "https://localhost:8080/",
          "height": 381
        },
        "id": "yFKVdjAu-TOl",
        "outputId": "8060a7f8-3736-43bb-90de-b45e4df1e0f2"
      },
      "execution_count": 39,
      "outputs": [
        {
          "output_type": "execute_result",
          "data": {
            "text/html": [
              "\n",
              "  <div id=\"df-1e299cbf-181a-4168-986c-400ec3d5bfe5\">\n",
              "    <div class=\"colab-df-container\">\n",
              "      <div>\n",
              "<style scoped>\n",
              "    .dataframe tbody tr th:only-of-type {\n",
              "        vertical-align: middle;\n",
              "    }\n",
              "\n",
              "    .dataframe tbody tr th {\n",
              "        vertical-align: top;\n",
              "    }\n",
              "\n",
              "    .dataframe thead th {\n",
              "        text-align: right;\n",
              "    }\n",
              "</style>\n",
              "<table border=\"1\" class=\"dataframe\">\n",
              "  <thead>\n",
              "    <tr style=\"text-align: right;\">\n",
              "      <th></th>\n",
              "      <th>target_default</th>\n",
              "      <th>score_1</th>\n",
              "      <th>score_2</th>\n",
              "      <th>score_3</th>\n",
              "      <th>score_4</th>\n",
              "      <th>score_5</th>\n",
              "      <th>score_6</th>\n",
              "      <th>risk_rate</th>\n",
              "      <th>last_amount_borrowed</th>\n",
              "      <th>last_borrowed_in_months</th>\n",
              "      <th>credit_limit</th>\n",
              "      <th>income</th>\n",
              "      <th>real_state</th>\n",
              "      <th>n_bankruptcies</th>\n",
              "      <th>n_defaulted_loans</th>\n",
              "      <th>n_accounts</th>\n",
              "      <th>n_issues</th>\n",
              "      <th>application_time_applied</th>\n",
              "      <th>application_time_in_funnel</th>\n",
              "      <th>email</th>\n",
              "      <th>external_data_provider_credit_checks_last_month</th>\n",
              "      <th>external_data_provider_email_seen_before</th>\n",
              "      <th>external_data_provider_fraud_score</th>\n",
              "      <th>marketing_channel</th>\n",
              "      <th>reported_income</th>\n",
              "      <th>shipping_state</th>\n",
              "      <th>profile_tags</th>\n",
              "      <th>user_agent</th>\n",
              "      <th>target_fraud</th>\n",
              "    </tr>\n",
              "    <tr>\n",
              "      <th>ids</th>\n",
              "      <th></th>\n",
              "      <th></th>\n",
              "      <th></th>\n",
              "      <th></th>\n",
              "      <th></th>\n",
              "      <th></th>\n",
              "      <th></th>\n",
              "      <th></th>\n",
              "      <th></th>\n",
              "      <th></th>\n",
              "      <th></th>\n",
              "      <th></th>\n",
              "      <th></th>\n",
              "      <th></th>\n",
              "      <th></th>\n",
              "      <th></th>\n",
              "      <th></th>\n",
              "      <th></th>\n",
              "      <th></th>\n",
              "      <th></th>\n",
              "      <th></th>\n",
              "      <th></th>\n",
              "      <th></th>\n",
              "      <th></th>\n",
              "      <th></th>\n",
              "      <th></th>\n",
              "      <th></th>\n",
              "      <th></th>\n",
              "      <th></th>\n",
              "    </tr>\n",
              "  </thead>\n",
              "  <tbody>\n",
              "    <tr>\n",
              "      <th>343b7e7b-2cf8-e508-b8fd-0a0285af30aa</th>\n",
              "      <td>False</td>\n",
              "      <td>1Rk8w4Ucd5yR3KcqZzLdow==</td>\n",
              "      <td>IOVu8au3ISbo6+zmfnYwMg==</td>\n",
              "      <td>350.0</td>\n",
              "      <td>101.800832</td>\n",
              "      <td>0.259555</td>\n",
              "      <td>108.427273</td>\n",
              "      <td>0.40</td>\n",
              "      <td>25033.92</td>\n",
              "      <td>36.0</td>\n",
              "      <td>0.0</td>\n",
              "      <td>65014.12</td>\n",
              "      <td>N5/CE7lSkAfB04hVFFwllw==</td>\n",
              "      <td>0.0</td>\n",
              "      <td>0.0</td>\n",
              "      <td>18.0</td>\n",
              "      <td>18.0</td>\n",
              "      <td>07:52:34</td>\n",
              "      <td>444</td>\n",
              "      <td>outlook.com</td>\n",
              "      <td>2</td>\n",
              "      <td>51.0</td>\n",
              "      <td>645</td>\n",
              "      <td>Invite-email</td>\n",
              "      <td>57849.0</td>\n",
              "      <td>BR-MT</td>\n",
              "      <td>{'tags': ['n19', 'n8']}</td>\n",
              "      <td>Mozilla/5.0 (Linux; Android 6.0.1; SGP771 Buil...</td>\n",
              "      <td>Nenhuma</td>\n",
              "    </tr>\n",
              "    <tr>\n",
              "      <th>bc2c7502-bbad-0f8c-39c3-94e881967124</th>\n",
              "      <td>False</td>\n",
              "      <td>DGCQep2AE5QRkNCshIAlFQ==</td>\n",
              "      <td>SaamrHMo23l/3TwXOWgVzw==</td>\n",
              "      <td>370.0</td>\n",
              "      <td>97.062615</td>\n",
              "      <td>0.942655</td>\n",
              "      <td>92.002546</td>\n",
              "      <td>0.24</td>\n",
              "      <td>0.00</td>\n",
              "      <td>0.0</td>\n",
              "      <td>39726.0</td>\n",
              "      <td>100018.91</td>\n",
              "      <td>N5/CE7lSkAfB04hVFFwllw==</td>\n",
              "      <td>0.0</td>\n",
              "      <td>0.0</td>\n",
              "      <td>14.0</td>\n",
              "      <td>14.0</td>\n",
              "      <td>02:34:29</td>\n",
              "      <td>346</td>\n",
              "      <td>gmail.com</td>\n",
              "      <td>1</td>\n",
              "      <td>17.0</td>\n",
              "      <td>243</td>\n",
              "      <td>Radio-commercial</td>\n",
              "      <td>4902.0</td>\n",
              "      <td>BR-RS</td>\n",
              "      <td>{'tags': ['n6', 'n7', 'nim']}</td>\n",
              "      <td>Mozilla/5.0 (Linux; Android 5.0.2; SAMSUNG SM-...</td>\n",
              "      <td>Nenhuma</td>\n",
              "    </tr>\n",
              "  </tbody>\n",
              "</table>\n",
              "</div>\n",
              "      <button class=\"colab-df-convert\" onclick=\"convertToInteractive('df-1e299cbf-181a-4168-986c-400ec3d5bfe5')\"\n",
              "              title=\"Convert this dataframe to an interactive table.\"\n",
              "              style=\"display:none;\">\n",
              "        \n",
              "  <svg xmlns=\"http://www.w3.org/2000/svg\" height=\"24px\"viewBox=\"0 0 24 24\"\n",
              "       width=\"24px\">\n",
              "    <path d=\"M0 0h24v24H0V0z\" fill=\"none\"/>\n",
              "    <path d=\"M18.56 5.44l.94 2.06.94-2.06 2.06-.94-2.06-.94-.94-2.06-.94 2.06-2.06.94zm-11 1L8.5 8.5l.94-2.06 2.06-.94-2.06-.94L8.5 2.5l-.94 2.06-2.06.94zm10 10l.94 2.06.94-2.06 2.06-.94-2.06-.94-.94-2.06-.94 2.06-2.06.94z\"/><path d=\"M17.41 7.96l-1.37-1.37c-.4-.4-.92-.59-1.43-.59-.52 0-1.04.2-1.43.59L10.3 9.45l-7.72 7.72c-.78.78-.78 2.05 0 2.83L4 21.41c.39.39.9.59 1.41.59.51 0 1.02-.2 1.41-.59l7.78-7.78 2.81-2.81c.8-.78.8-2.07 0-2.86zM5.41 20L4 18.59l7.72-7.72 1.47 1.35L5.41 20z\"/>\n",
              "  </svg>\n",
              "      </button>\n",
              "      \n",
              "  <style>\n",
              "    .colab-df-container {\n",
              "      display:flex;\n",
              "      flex-wrap:wrap;\n",
              "      gap: 12px;\n",
              "    }\n",
              "\n",
              "    .colab-df-convert {\n",
              "      background-color: #E8F0FE;\n",
              "      border: none;\n",
              "      border-radius: 50%;\n",
              "      cursor: pointer;\n",
              "      display: none;\n",
              "      fill: #1967D2;\n",
              "      height: 32px;\n",
              "      padding: 0 0 0 0;\n",
              "      width: 32px;\n",
              "    }\n",
              "\n",
              "    .colab-df-convert:hover {\n",
              "      background-color: #E2EBFA;\n",
              "      box-shadow: 0px 1px 2px rgba(60, 64, 67, 0.3), 0px 1px 3px 1px rgba(60, 64, 67, 0.15);\n",
              "      fill: #174EA6;\n",
              "    }\n",
              "\n",
              "    [theme=dark] .colab-df-convert {\n",
              "      background-color: #3B4455;\n",
              "      fill: #D2E3FC;\n",
              "    }\n",
              "\n",
              "    [theme=dark] .colab-df-convert:hover {\n",
              "      background-color: #434B5C;\n",
              "      box-shadow: 0px 1px 3px 1px rgba(0, 0, 0, 0.15);\n",
              "      filter: drop-shadow(0px 1px 2px rgba(0, 0, 0, 0.3));\n",
              "      fill: #FFFFFF;\n",
              "    }\n",
              "  </style>\n",
              "\n",
              "      <script>\n",
              "        const buttonEl =\n",
              "          document.querySelector('#df-1e299cbf-181a-4168-986c-400ec3d5bfe5 button.colab-df-convert');\n",
              "        buttonEl.style.display =\n",
              "          google.colab.kernel.accessAllowed ? 'block' : 'none';\n",
              "\n",
              "        async function convertToInteractive(key) {\n",
              "          const element = document.querySelector('#df-1e299cbf-181a-4168-986c-400ec3d5bfe5');\n",
              "          const dataTable =\n",
              "            await google.colab.kernel.invokeFunction('convertToInteractive',\n",
              "                                                     [key], {});\n",
              "          if (!dataTable) return;\n",
              "\n",
              "          const docLinkHtml = 'Like what you see? Visit the ' +\n",
              "            '<a target=\"_blank\" href=https://colab.research.google.com/notebooks/data_table.ipynb>data table notebook</a>'\n",
              "            + ' to learn more about interactive tables.';\n",
              "          element.innerHTML = '';\n",
              "          dataTable['output_type'] = 'display_data';\n",
              "          await google.colab.output.renderOutput(dataTable, element);\n",
              "          const docLink = document.createElement('div');\n",
              "          docLink.innerHTML = docLinkHtml;\n",
              "          element.appendChild(docLink);\n",
              "        }\n",
              "      </script>\n",
              "    </div>\n",
              "  </div>\n",
              "  "
            ],
            "text/plain": [
              "                                     target_default  ... target_fraud\n",
              "ids                                                  ...             \n",
              "343b7e7b-2cf8-e508-b8fd-0a0285af30aa          False  ...      Nenhuma\n",
              "bc2c7502-bbad-0f8c-39c3-94e881967124          False  ...      Nenhuma\n",
              "\n",
              "[2 rows x 29 columns]"
            ]
          },
          "metadata": {},
          "execution_count": 39
        }
      ]
    },
    {
      "cell_type": "code",
      "source": [
        "#ajustando o application time\n",
        "df.application_time_applied = df.application_time_applied.str[:2].astype('int32')"
      ],
      "metadata": {
        "id": "7bQA5aKx_cPt"
      },
      "execution_count": 40,
      "outputs": []
    },
    {
      "cell_type": "code",
      "source": [
        ""
      ],
      "metadata": {
        "id": "Wmq9pnjjSbwO"
      },
      "execution_count": 40,
      "outputs": []
    },
    {
      "cell_type": "code",
      "source": [
        ""
      ],
      "metadata": {
        "id": "hbEnz2ElSb5Y"
      },
      "execution_count": 40,
      "outputs": []
    },
    {
      "cell_type": "markdown",
      "source": [
        "##Avaliando a distribuição através de Histogramas\n",
        "\n",
        "texto texto texto\n",
        "\n",
        "\n",
        "> Primeira Linha\n",
        "\n",
        "> Seguda Linha\n",
        "\n",
        "> Terceira Linha\n",
        "\n",
        "* atenção income\n",
        "* credit_limit\n",
        "\n",
        "> Quarta Linha\n",
        "\n",
        "> Quinta Linha\n"
      ],
      "metadata": {
        "id": "zHMBqX3hLbF2"
      }
    },
    {
      "cell_type": "code",
      "source": [
        "#lista  de 3 variáveis a serem analisadas\n",
        "lista_primeira_linha = ['score_3','score_4','score_5']\n",
        "lista_segunda_linha = ['score_6','risk_rate','last_amount_borrowed']\n",
        "lista_terceira_linha = ['external_data_provider_email_seen_before','credit_limit','income']\n",
        "lista_quarta_linha = ['n_accounts','n_issues','reported_income']\n",
        "\n",
        "#criando o ax e o fig no matplotlib\n",
        "fig, ax = plt.subplots(figsize=(20,15),ncols=3,nrows=4)\n",
        "\n",
        "#criando os histogramas da primeira linha\n",
        "for i,variavel in enumerate(lista_primeira_linha):\n",
        "  df[variavel].hist(ax=ax[0][i],rwidth=0.9)\n",
        "  ajuste_layout(ax=ax[0][i],grid=True,titulo=variavel,location='center',y_milhares=True)\n",
        "\n",
        "#criando os histogramas da segunda linha\n",
        "for i,variavel in enumerate(lista_segunda_linha):\n",
        "  df[variavel].hist(ax=ax[1][i],rwidth=0.9,color='#0A1172')\n",
        "  ajuste_layout(ax=ax[1][i],grid=True,titulo=variavel,location='center',y_milhares=True)\n",
        "\n",
        "#criando os histogramas da terceira linha\n",
        "for i,variavel in enumerate(lista_terceira_linha):\n",
        "  df[variavel].hist(ax=ax[2][i],rwidth=0.9,color='#281e5d')\n",
        "  ajuste_layout(ax=ax[2][i],grid=True,titulo=variavel,location='center',y_milhares=True)\n",
        "\n",
        "#criando os histogramas da quarta linha\n",
        "for i,variavel in enumerate(lista_quarta_linha):\n",
        "  df[variavel].hist(ax=ax[3][i],rwidth=0.9,color='#151e3d')\n",
        "  ajuste_layout(ax=ax[3][i],grid=True,titulo=variavel,location='center',y_milhares=True)\n",
        "\n",
        "#plotando os gráficos\n",
        "plt.tight_layout(pad=2);"
      ],
      "metadata": {
        "colab": {
          "base_uri": "https://localhost:8080/",
          "height": 1000
        },
        "id": "Ce3bCa4oN48H",
        "outputId": "714e87c0-0f38-447f-b05c-3c49643533c0"
      },
      "execution_count": 71,
      "outputs": [
        {
          "output_type": "display_data",
          "data": {
            "image/png": "[encoded data removed]",
            "text/plain": [
              "<Figure size 1440x1080 with 12 Axes>"
            ]
          },
          "metadata": {
            "needs_background": "dark"
          }
        }
      ]
    },
    {
      "cell_type": "markdown",
      "source": [
        "# Modelo Baseline\n",
        "\n",
        "- arrumar profile_tags,arrumar shipping state, arrumar target_default,normalizar\n",
        "- definir uma métrica -> recall\n",
        "- treino e teste\n",
        "- fitar modelo"
      ],
      "metadata": {
        "id": "_1xIzuvFTIO-"
      }
    },
    {
      "cell_type": "markdown",
      "source": [
        "features que serão utilizadas"
      ],
      "metadata": {
        "id": "r0uUPjXlOvND"
      }
    },
    {
      "cell_type": "code",
      "source": [
        "#definir as features utilizadas\n",
        "mask = df.columns[1:]\n",
        "\n",
        "#aplicando a mascára no dataset\n",
        "df_model = df[mask]\n",
        "\n",
        "#definindo um dataset limpo\n",
        "df_limpo = pd.DataFrame(index=df_model.index)\n",
        "\n",
        "#visualizando a primeira entrada\n",
        "df_model.head(1)"
      ],
      "metadata": {
        "colab": {
          "base_uri": "https://localhost:8080/",
          "height": 263
        },
        "id": "wZUXD6fvVJ8z",
        "outputId": "64978466-3eda-45e7-bea7-942122aed827"
      },
      "execution_count": 42,
      "outputs": [
        {
          "output_type": "execute_result",
          "data": {
            "text/html": [
              "\n",
              "  <div id=\"df-b91d7257-d459-4ea8-a2e1-594daef32b01\">\n",
              "    <div class=\"colab-df-container\">\n",
              "      <div>\n",
              "<style scoped>\n",
              "    .dataframe tbody tr th:only-of-type {\n",
              "        vertical-align: middle;\n",
              "    }\n",
              "\n",
              "    .dataframe tbody tr th {\n",
              "        vertical-align: top;\n",
              "    }\n",
              "\n",
              "    .dataframe thead th {\n",
              "        text-align: right;\n",
              "    }\n",
              "</style>\n",
              "<table border=\"1\" class=\"dataframe\">\n",
              "  <thead>\n",
              "    <tr style=\"text-align: right;\">\n",
              "      <th></th>\n",
              "      <th>score_1</th>\n",
              "      <th>score_2</th>\n",
              "      <th>score_3</th>\n",
              "      <th>score_4</th>\n",
              "      <th>score_5</th>\n",
              "      <th>score_6</th>\n",
              "      <th>risk_rate</th>\n",
              "      <th>last_amount_borrowed</th>\n",
              "      <th>last_borrowed_in_months</th>\n",
              "      <th>credit_limit</th>\n",
              "      <th>income</th>\n",
              "      <th>real_state</th>\n",
              "      <th>n_bankruptcies</th>\n",
              "      <th>n_defaulted_loans</th>\n",
              "      <th>n_accounts</th>\n",
              "      <th>n_issues</th>\n",
              "      <th>application_time_applied</th>\n",
              "      <th>application_time_in_funnel</th>\n",
              "      <th>email</th>\n",
              "      <th>external_data_provider_credit_checks_last_month</th>\n",
              "      <th>external_data_provider_email_seen_before</th>\n",
              "      <th>external_data_provider_fraud_score</th>\n",
              "      <th>marketing_channel</th>\n",
              "      <th>reported_income</th>\n",
              "      <th>shipping_state</th>\n",
              "      <th>profile_tags</th>\n",
              "      <th>user_agent</th>\n",
              "      <th>target_fraud</th>\n",
              "    </tr>\n",
              "    <tr>\n",
              "      <th>ids</th>\n",
              "      <th></th>\n",
              "      <th></th>\n",
              "      <th></th>\n",
              "      <th></th>\n",
              "      <th></th>\n",
              "      <th></th>\n",
              "      <th></th>\n",
              "      <th></th>\n",
              "      <th></th>\n",
              "      <th></th>\n",
              "      <th></th>\n",
              "      <th></th>\n",
              "      <th></th>\n",
              "      <th></th>\n",
              "      <th></th>\n",
              "      <th></th>\n",
              "      <th></th>\n",
              "      <th></th>\n",
              "      <th></th>\n",
              "      <th></th>\n",
              "      <th></th>\n",
              "      <th></th>\n",
              "      <th></th>\n",
              "      <th></th>\n",
              "      <th></th>\n",
              "      <th></th>\n",
              "      <th></th>\n",
              "      <th></th>\n",
              "    </tr>\n",
              "  </thead>\n",
              "  <tbody>\n",
              "    <tr>\n",
              "      <th>343b7e7b-2cf8-e508-b8fd-0a0285af30aa</th>\n",
              "      <td>1Rk8w4Ucd5yR3KcqZzLdow==</td>\n",
              "      <td>IOVu8au3ISbo6+zmfnYwMg==</td>\n",
              "      <td>350.0</td>\n",
              "      <td>101.800832</td>\n",
              "      <td>0.259555</td>\n",
              "      <td>108.427273</td>\n",
              "      <td>0.4</td>\n",
              "      <td>25033.92</td>\n",
              "      <td>36.0</td>\n",
              "      <td>0.0</td>\n",
              "      <td>65014.12</td>\n",
              "      <td>N5/CE7lSkAfB04hVFFwllw==</td>\n",
              "      <td>0.0</td>\n",
              "      <td>0.0</td>\n",
              "      <td>18.0</td>\n",
              "      <td>18.0</td>\n",
              "      <td>7</td>\n",
              "      <td>444</td>\n",
              "      <td>outlook.com</td>\n",
              "      <td>2</td>\n",
              "      <td>51.0</td>\n",
              "      <td>645</td>\n",
              "      <td>Invite-email</td>\n",
              "      <td>57849.0</td>\n",
              "      <td>BR-MT</td>\n",
              "      <td>{'tags': ['n19', 'n8']}</td>\n",
              "      <td>Mozilla/5.0 (Linux; Android 6.0.1; SGP771 Buil...</td>\n",
              "      <td>Nenhuma</td>\n",
              "    </tr>\n",
              "  </tbody>\n",
              "</table>\n",
              "</div>\n",
              "      <button class=\"colab-df-convert\" onclick=\"convertToInteractive('df-b91d7257-d459-4ea8-a2e1-594daef32b01')\"\n",
              "              title=\"Convert this dataframe to an interactive table.\"\n",
              "              style=\"display:none;\">\n",
              "        \n",
              "  <svg xmlns=\"http://www.w3.org/2000/svg\" height=\"24px\"viewBox=\"0 0 24 24\"\n",
              "       width=\"24px\">\n",
              "    <path d=\"M0 0h24v24H0V0z\" fill=\"none\"/>\n",
              "    <path d=\"M18.56 5.44l.94 2.06.94-2.06 2.06-.94-2.06-.94-.94-2.06-.94 2.06-2.06.94zm-11 1L8.5 8.5l.94-2.06 2.06-.94-2.06-.94L8.5 2.5l-.94 2.06-2.06.94zm10 10l.94 2.06.94-2.06 2.06-.94-2.06-.94-.94-2.06-.94 2.06-2.06.94z\"/><path d=\"M17.41 7.96l-1.37-1.37c-.4-.4-.92-.59-1.43-.59-.52 0-1.04.2-1.43.59L10.3 9.45l-7.72 7.72c-.78.78-.78 2.05 0 2.83L4 21.41c.39.39.9.59 1.41.59.51 0 1.02-.2 1.41-.59l7.78-7.78 2.81-2.81c.8-.78.8-2.07 0-2.86zM5.41 20L4 18.59l7.72-7.72 1.47 1.35L5.41 20z\"/>\n",
              "  </svg>\n",
              "      </button>\n",
              "      \n",
              "  <style>\n",
              "    .colab-df-container {\n",
              "      display:flex;\n",
              "      flex-wrap:wrap;\n",
              "      gap: 12px;\n",
              "    }\n",
              "\n",
              "    .colab-df-convert {\n",
              "      background-color: #E8F0FE;\n",
              "      border: none;\n",
              "      border-radius: 50%;\n",
              "      cursor: pointer;\n",
              "      display: none;\n",
              "      fill: #1967D2;\n",
              "      height: 32px;\n",
              "      padding: 0 0 0 0;\n",
              "      width: 32px;\n",
              "    }\n",
              "\n",
              "    .colab-df-convert:hover {\n",
              "      background-color: #E2EBFA;\n",
              "      box-shadow: 0px 1px 2px rgba(60, 64, 67, 0.3), 0px 1px 3px 1px rgba(60, 64, 67, 0.15);\n",
              "      fill: #174EA6;\n",
              "    }\n",
              "\n",
              "    [theme=dark] .colab-df-convert {\n",
              "      background-color: #3B4455;\n",
              "      fill: #D2E3FC;\n",
              "    }\n",
              "\n",
              "    [theme=dark] .colab-df-convert:hover {\n",
              "      background-color: #434B5C;\n",
              "      box-shadow: 0px 1px 3px 1px rgba(0, 0, 0, 0.15);\n",
              "      filter: drop-shadow(0px 1px 2px rgba(0, 0, 0, 0.3));\n",
              "      fill: #FFFFFF;\n",
              "    }\n",
              "  </style>\n",
              "\n",
              "      <script>\n",
              "        const buttonEl =\n",
              "          document.querySelector('#df-b91d7257-d459-4ea8-a2e1-594daef32b01 button.colab-df-convert');\n",
              "        buttonEl.style.display =\n",
              "          google.colab.kernel.accessAllowed ? 'block' : 'none';\n",
              "\n",
              "        async function convertToInteractive(key) {\n",
              "          const element = document.querySelector('#df-b91d7257-d459-4ea8-a2e1-594daef32b01');\n",
              "          const dataTable =\n",
              "            await google.colab.kernel.invokeFunction('convertToInteractive',\n",
              "                                                     [key], {});\n",
              "          if (!dataTable) return;\n",
              "\n",
              "          const docLinkHtml = 'Like what you see? Visit the ' +\n",
              "            '<a target=\"_blank\" href=https://colab.research.google.com/notebooks/data_table.ipynb>data table notebook</a>'\n",
              "            + ' to learn more about interactive tables.';\n",
              "          element.innerHTML = '';\n",
              "          dataTable['output_type'] = 'display_data';\n",
              "          await google.colab.output.renderOutput(dataTable, element);\n",
              "          const docLink = document.createElement('div');\n",
              "          docLink.innerHTML = docLinkHtml;\n",
              "          element.appendChild(docLink);\n",
              "        }\n",
              "      </script>\n",
              "    </div>\n",
              "  </div>\n",
              "  "
            ],
            "text/plain": [
              "                                                       score_1  ... target_fraud\n",
              "ids                                                             ...             \n",
              "343b7e7b-2cf8-e508-b8fd-0a0285af30aa  1Rk8w4Ucd5yR3KcqZzLdow==  ...      Nenhuma\n",
              "\n",
              "[1 rows x 28 columns]"
            ]
          },
          "metadata": {},
          "execution_count": 42
        }
      ]
    },
    {
      "cell_type": "markdown",
      "source": [
        "normalizar"
      ],
      "metadata": {
        "id": "AGSReMIMy4Lo"
      }
    },
    {
      "cell_type": "code",
      "source": [
        "#variáveis que serão normalizadas\n",
        "lista_para_normalizar = ['score_3','score_4','score_5','score_6','risk_rate',\n",
        "        'last_amount_borrowed','last_borrowed_in_months','credit_limit','income',\n",
        "        'n_bankruptcies','n_defaulted_loans','n_accounts','n_issues','application_time_in_funnel',\n",
        "        'external_data_provider_credit_checks_last_month',\n",
        "        'external_data_provider_fraud_score','reported_income']\n",
        "\n",
        "#instanciando o StandardScaler\n",
        "ss_norm = StandardScaler()\n",
        "\n",
        "#criando um DataFrame\n",
        "df_normalizado = pd.DataFrame(ss_norm.fit_transform(df_model[lista_para_normalizar]),\n",
        "                              columns= lista_para_normalizar,\n",
        "                              index = df_model.index)\n",
        "\n",
        "#adicionando ao DataFrame Limpo\n",
        "df_limpo  = pd.concat([df_limpo,df_normalizado],axis=1)\n",
        "\n",
        "#verificando o tamanho do df_limpo\n",
        "df_limpo.shape"
      ],
      "metadata": {
        "colab": {
          "base_uri": "https://localhost:8080/"
        },
        "id": "bzl59aCywSDf",
        "outputId": "37a89063-9a29-4348-9a9d-87d195b740d7"
      },
      "execution_count": 43,
      "outputs": [
        {
          "output_type": "execute_result",
          "data": {
            "text/plain": [
              "(36563, 17)"
            ]
          },
          "metadata": {},
          "execution_count": 43
        }
      ]
    },
    {
      "cell_type": "markdown",
      "source": [
        "shipping_state,\n",
        "\n",
        "sparsas"
      ],
      "metadata": {
        "id": "XCH71xQny5gI"
      }
    },
    {
      "cell_type": "code",
      "source": [
        "#instanciando o One Hot Enconder\n",
        "ohe = OneHotEncoder(sparse=True)\n",
        "\n",
        "#separando os valores da variável\n",
        "df_model.user_agent = df_model.user_agent.str.extract(r'[()](.*?)[;]')\n",
        "\n",
        "#fitando e transformando\n",
        "ohe_score_state =  ohe.fit_transform(df_model[['score_1','score_2','shipping_state','real_state','application_time_applied',\n",
        "                                               'email','marketing_channel','shipping_state','user_agent','target_fraud']])\n",
        "#adicionando ao DataFrame Limpo\n",
        "df_limpo = hstack([df_limpo,ohe_score_state])\n",
        "\n",
        "#verificando o tamanho do df_limpo\n",
        "df_limpo.shape"
      ],
      "metadata": {
        "colab": {
          "base_uri": "https://localhost:8080/"
        },
        "id": "rSXAeDC8wSSt",
        "outputId": "cd654207-5a34-41b6-d506-d5325b2a0b21"
      },
      "execution_count": 44,
      "outputs": [
        {
          "output_type": "execute_result",
          "data": {
            "text/plain": [
              "(36563, 166)"
            ]
          },
          "metadata": {},
          "execution_count": 44
        }
      ]
    },
    {
      "cell_type": "markdown",
      "source": [
        "profile_tags,\n",
        "é passado como lista"
      ],
      "metadata": {
        "id": "XVQ2AWkc1C5_"
      }
    },
    {
      "cell_type": "code",
      "source": [
        "#a variável está em string, transformar em lista\n",
        "dicionarizar = [eval(x) for x in df_model.profile_tags]\n",
        "\n",
        "#criar um DataFrame com esta lista e selecionar a coluna tags\n",
        "df_tags  = pd.DataFrame(dicionarizar).tags\n",
        "\n",
        "#instanciar o MultiLabelBinazer\n",
        "mlb = MultiLabelBinarizer(sparse_output=True)\n",
        "\n",
        "#fitando e transformando com o mlb\n",
        "mlb_profile_tags = mlb.fit_transform(df_tags)\n",
        "\n",
        "#adicionando ao DataFrame Limpo\n",
        "df_limpo = hstack([df_limpo,mlb_profile_tags])\n",
        "\n",
        "#verificando o tamanho do df_limpo\n",
        "df_limpo.shape"
      ],
      "metadata": {
        "colab": {
          "base_uri": "https://localhost:8080/"
        },
        "id": "bZx9S_T60_Wm",
        "outputId": "5ac17edf-1692-486e-9285-7250262446a9"
      },
      "execution_count": 45,
      "outputs": [
        {
          "output_type": "execute_result",
          "data": {
            "text/plain": [
              "(36563, 195)"
            ]
          },
          "metadata": {},
          "execution_count": 45
        }
      ]
    },
    {
      "cell_type": "markdown",
      "source": [
        "arrumar target_default"
      ],
      "metadata": {
        "id": "i6HsofnQfaUZ"
      }
    },
    {
      "cell_type": "code",
      "source": [
        "#dicionario para a troca\n",
        "dic = {False:0,True:1}\n",
        "\n",
        "#mudar os valores\n",
        "df.target_default = df.target_default.replace(dic)\n",
        "\n",
        "#visualizar as 3 primeiras entradas\n",
        "df.target_default[:3]"
      ],
      "metadata": {
        "id": "oLLZK01binWc",
        "colab": {
          "base_uri": "https://localhost:8080/"
        },
        "outputId": "d20103d8-c7d2-4d7f-9b6b-527113a3e107"
      },
      "execution_count": 46,
      "outputs": [
        {
          "output_type": "execute_result",
          "data": {
            "text/plain": [
              "ids\n",
              "343b7e7b-2cf8-e508-b8fd-0a0285af30aa    0\n",
              "bc2c7502-bbad-0f8c-39c3-94e881967124    0\n",
              "669630dd-2e6a-0396-84bf-455e5009c922    1\n",
              "Name: target_default, dtype: int64"
            ]
          },
          "metadata": {},
          "execution_count": 46
        }
      ]
    },
    {
      "cell_type": "markdown",
      "source": [
        "separar em treino e teste"
      ],
      "metadata": {
        "id": "CvQuWN76tEHq"
      }
    },
    {
      "cell_type": "code",
      "source": [
        "#separando os dados em x e y\n",
        "x = df_limpo\n",
        "y = df.target_default\n",
        "\n",
        "#separando os dados em treino e validação\n",
        "x_train, x_validation, y_train, y_validation =  train_test_split(x, y, stratify  = y, random_state = 42,test_size = 0.1)\n",
        "\n",
        "#separando os dados em treino e teste\n",
        "x_train, x_test, y_train, y_test =  train_test_split(x_train, y_train, stratify = y_train, random_state = 42,test_size = 0.1)"
      ],
      "metadata": {
        "id": "IbI-Smmy358b"
      },
      "execution_count": 47,
      "outputs": []
    },
    {
      "cell_type": "markdown",
      "source": [
        "testar um modelo"
      ],
      "metadata": {
        "id": "gCAAvB-xnuMu"
      }
    },
    {
      "cell_type": "code",
      "source": [
        "#instanciando o Random Forest Classifier\n",
        "rf_clf =  RandomForestClassifier(random_state = 42,n_estimators = 100)\n",
        "\n",
        "#realizando o fit nos dados de treino\n",
        "rf_clf.fit(x_train,y_train)\n",
        "\n",
        "#fazendo as previsoes\n",
        "y_pred_rfc = rf_clf.predict(x_test)\n",
        "\n",
        "#criando a matriz de confusão\n",
        "cm = confusion_matrix(y_test,y_pred_rfc,normalize='true')\n",
        "\n",
        "#criando o fig, ax\n",
        "fig,ax = plt.subplots(figsize=(8,6))\n",
        "\n",
        "#plotando a matriz de confusão\n",
        "ConfusionMatrixDisplay(confusion_matrix=cm).plot(ax=ax,colorbar=False,cmap='Blues');\n",
        "ajuste_layout(ax=ax,titulo='Random Forest',location='center', xlabel='Previsão',ylabel='Real',\n",
        "              xlabels=True,lista_para_o_x=['em dia','inadimplente'],\n",
        "              ylabels=True,lista_para_o_y=['em dia','inadimplente'])\n",
        "\n",
        "#plotando o gráfico\n",
        "plt.tight_layout();"
      ],
      "metadata": {
        "id": "dxRYfhoh36Ay",
        "colab": {
          "base_uri": "https://localhost:8080/",
          "height": 441
        },
        "outputId": "108eb58c-0eee-4ff5-9753-029995ac3e87"
      },
      "execution_count": 96,
      "outputs": [
        {
          "output_type": "display_data",
          "data": {
            "image/png": "[encoded data removed]",
            "text/plain": [
              "<Figure size 576x432 with 1 Axes>"
            ]
          },
          "metadata": {
            "needs_background": "light"
          }
        }
      ]
    },
    {
      "cell_type": "markdown",
      "source": [
        "Nossa! Nosso algoritmo foi muito mal. Ele só acertou uma **pequena** parcela dos que eram **inadimplentes**. No entanto, acertou **bastante** para os clientes que pagam em dia. 🤔\n",
        "\n",
        "Este erro provavelmente se deve aos dados estarem **desbalanceados**, já que existem muito mais pessoas que pagam em dia em comparação com as inadimplentes. Temos que mudar isso utilizando uma técnica de [Under Sampling](https://imbalanced-learn.org/stable/under_sampling.html).\n",
        "\n",
        "Um fato que é importante ressaltar é que só aplicamos esta mudança nos dados de **treino**, que é o momento em que o algoritmo aprende sobre o problema. Os dados de teste e de validação são pra valer!"
      ],
      "metadata": {
        "id": "41uLSo8EmuIT"
      }
    },
    {
      "cell_type": "code",
      "source": [
        "#instanciando o Random Under Sampler\n",
        "rus = RandomUnderSampler(random_state = 42)\n",
        "\n",
        "# aplicando o rus nos dados de teste\n",
        "x_rus, y_rus = rus.fit_resample(x_train,y_train)"
      ],
      "metadata": {
        "id": "cgIq3ftj4r4o"
      },
      "execution_count": 49,
      "outputs": []
    },
    {
      "cell_type": "markdown",
      "source": [
        "Pronto. Técnica **aplicada**. Agora vamos dar uma olhada na **figura** abaixo para verificar como ficaram os dados **após** essa mudança.\n",
        "\n",
        "Os registros de inadimplentes que antes representavam apenas 16% dos dados de treino, agora passam a representar 50%. Meio a meio. Nosso algoritmo vai buscar entender o que torna um cliente inadimplente."
      ],
      "metadata": {
        "id": "YwJ3AFazmUOG"
      }
    },
    {
      "cell_type": "code",
      "source": [
        "#criação do fig e ax no matplotlib\n",
        "fig,ax = plt.subplots(figsize=(16,6),ncols=2)\n",
        "\n",
        "#criação do gráfico antes do balanceamento\n",
        "y_train.value_counts().plot(kind='bar',ax=ax[0])\n",
        "ajuste_layout(ax=ax[0],titulo='Dados de treino antes do balanceamento',\n",
        "              addlabels=True,y=list(y_train.value_counts()),distancia = 10**3,\n",
        "              xlabels=True,lista_para_o_x=['paga em dia','inadimplente'])\n",
        "\n",
        "porcentagem = y_train.sum() / y_train.shape[0]\n",
        "ax[0].annotate('{:.2%}'.format(porcentagem),\n",
        "            xy=(1, 7600), xycoords='data',\n",
        "            xytext=(0.78, 0.42), textcoords='axes fraction',\n",
        "            arrowprops=dict(facecolor='grey',arrowstyle=\"->\"),\n",
        "            horizontalalignment='right', verticalalignment='top')\n",
        "\n",
        "#criação do gráfico\n",
        "y_rus.value_counts().plot(kind='bar',ax=ax[1])\n",
        "ajuste_layout(ax=ax[1],titulo='Dados de treino depois do balanceamento',\n",
        "              addlabels=True,y=list(y_rus.value_counts()),distancia = 10**2,\n",
        "              xlabels=True,lista_para_o_x=['paga em dia','inadimplente'])\n",
        "\n",
        "porcentagem = y_rus.sum() / y_rus.shape[0]\n",
        "ax[1].annotate('{:.2%}'.format(porcentagem),\n",
        "            xy=(1, 4680), xycoords='data',color='white',\n",
        "            xytext=(0.78, 0.8), textcoords='axes fraction',\n",
        "            arrowprops=dict(arrowstyle=\"->\",color='white'),\n",
        "            horizontalalignment='right', verticalalignment='top')\n",
        "\n",
        "#plotando o gráfico\n",
        "plt.tight_layout(pad=2.0);"
      ],
      "metadata": {
        "id": "38Hp4o6xMp12",
        "colab": {
          "base_uri": "https://localhost:8080/",
          "height": 423
        },
        "outputId": "a0fd3cdf-90ee-4e0d-f667-4cda8a86c3e8"
      },
      "execution_count": 87,
      "outputs": [
        {
          "output_type": "display_data",
          "data": {
            "image/png": "[encoded data removed]",
            "text/plain": [
              "<Figure size 1152x432 with 2 Axes>"
            ]
          },
          "metadata": {}
        }
      ]
    },
    {
      "cell_type": "markdown",
      "source": [
        "#Modelos e suas Métricas de Performance\n",
        "usar random forest classifer, xgboost e alguma rede neural de classificação.\n",
        "\n",
        "[métricas](https://papers.ssrn.com/sol3/papers.cfm?abstract_id=3435104)\n",
        "\n",
        "\n",
        "métricas: Our application is clearly one in which there are very few observations of the class that\n",
        "we are aiming to predict (in this case defaults), compared to the other class (non-defaults).\n",
        "In some models, this could lead the algorithm towards ignoring one class altogether. In other\n",
        "words, the model may not have sufficient data to learn what actual defaults look like. In such\n",
        "a situation it might treat the defaulting loans as outliers or totally random events.5\n",
        "In such a\n",
        "situation, it might be useful to have an additional metric that focusses on how good the classifier\n",
        "is at making sure that most of the mortgages identified as defaulting actually defaulted. The\n",
        "ratio between true positives and all positively-classified observations (true and false positives)\n",
        "is defined as ‘precision’. The precision-recall curve identifies the trade-offs in datasets with rare\n",
        "events"
      ],
      "metadata": {
        "id": "J9sBsYPwi7yd"
      }
    },
    {
      "cell_type": "code",
      "source": [
        "#instanciando os modelos\n",
        "rf_clf =  RandomForestClassifier(random_state = 42,n_estimators = 100)\n",
        "xgb_clf = XGBClassifier(random_state=42,n_estimators=100)\n",
        "lgbm_clf = LGBMClassifier(random_state=42)\n",
        "\n",
        "#prevendo com os dados balanceados\n",
        "rf_clf.fit(x_rus,y_rus)\n",
        "xgb_clf.fit(x_rus,y_rus)\n",
        "lgbm_clf.fit(x_rus,y_rus)\n",
        "\n",
        "#fazendo as previsoes\n",
        "y_pred_rfc = rf_clf.predict(x_test)\n",
        "y_pred_xgb = xgb_clf.predict(x_test)\n",
        "y_pred_lgbm = lgbm_clf.predict(x_test)"
      ],
      "metadata": {
        "id": "LGF8y0b364Hb"
      },
      "execution_count": 106,
      "outputs": []
    },
    {
      "cell_type": "code",
      "source": [
        "#criando a matriz de confusão\n",
        "cm_rfc = confusion_matrix(y_test,y_pred_rfc,normalize='true')\n",
        "cm_xgb = confusion_matrix(y_test,y_pred_xgb,normalize='true')\n",
        "cm_lgbm = confusion_matrix(y_test,y_pred_lgbm,normalize='true')\n",
        "\n",
        "#criando o figure e o ax no maptlotlib\n",
        "fig, ax = plt.subplots(figsize=(12,12),ncols=3)\n",
        "\n",
        "#plotando a matriz de confusão do Random Forest Classifier\n",
        "ConfusionMatrixDisplay(confusion_matrix=cm_rfc).plot(ax=ax[0],colorbar=False,cmap='Blues')\n",
        "ajuste_layout(ax=ax[0],titulo='Random Forest Classifier',\n",
        "              xlabel='Previsão',ylabel='Real',\n",
        "              xlabels=True,lista_para_o_x=['em dia','inadimplente'],\n",
        "              ylabels=True,lista_para_o_y=['em dia','inadimplente'])\n",
        "\n",
        "#plotando a matriz de confusão do XGBoost Classifier\n",
        "ConfusionMatrixDisplay(confusion_matrix=cm_xgb).plot(ax=ax[1],colorbar=False,cmap='Greys')\n",
        "ajuste_layout(ax=ax[1],titulo='XGBoost Classifier',\n",
        "              xlabel='Previsão',ylabel='Real',\n",
        "              xlabels=True,lista_para_o_x=['em dia','inadimplente'],\n",
        "              ylabels=True,lista_para_o_y=['em dia','inadimplente'])\n",
        "\n",
        "#plotando a matriz de confusão do LGBM Classifier\n",
        "ConfusionMatrixDisplay(confusion_matrix=cm_lgbm).plot(ax=ax[2],colorbar=False,cmap='Greens')\n",
        "ajuste_layout(ax=ax[2],titulo='LGBM Classifier',\n",
        "              xlabel='Previsão',ylabel='Real',\n",
        "              xlabels=True,lista_para_o_x=['em dia','inadimplente'],\n",
        "              ylabels=True,lista_para_o_y=['em dia','inadimplente'])\n",
        "\n",
        "#plotando os gráficos\n",
        "plt.tight_layout(pad=2.0);"
      ],
      "metadata": {
        "id": "1BA9obE1Sth2",
        "colab": {
          "base_uri": "https://localhost:8080/",
          "height": 303
        },
        "outputId": "a1723519-97e4-44d9-e0ae-ec78a957f58f"
      },
      "execution_count": 107,
      "outputs": [
        {
          "output_type": "display_data",
          "data": {
            "image/png": "[encoded data removed]",
            "text/plain": [
              "<Figure size 864x864 with 3 Axes>"
            ]
          },
          "metadata": {
            "needs_background": "light"
          }
        }
      ]
    },
    {
      "cell_type": "markdown",
      "source": [
        "#Tuning dos Modelos\n",
        "\n",
        "grid search ou ver o video do mario\n",
        "\n",
        "Bayesian Optimization"
      ],
      "metadata": {
        "id": "4DNUABT1i_Q4"
      }
    },
    {
      "cell_type": "code",
      "source": [
        "!pip install scikit-optimize -q"
      ],
      "metadata": {
        "id": "mdN9QU_NjAra"
      },
      "execution_count": 53,
      "outputs": []
    },
    {
      "cell_type": "code",
      "source": [
        "#importar o forest_minimize\n",
        "from skopt import forest_minimize"
      ],
      "metadata": {
        "id": "3Sdz_3SrCyiD"
      },
      "execution_count": 54,
      "outputs": []
    },
    {
      "cell_type": "markdown",
      "source": [
        "##Random Forest\n",
        "\n",
        "falar em definir a funçãO"
      ],
      "metadata": {
        "id": "6LyuctTIHuRU"
      }
    },
    {
      "cell_type": "code",
      "source": [
        "def tune_rfc(params):\n",
        "    n_estimators = params[0]\n",
        "    min_samples_leaf = params[1]\n",
        "    \n",
        "    mdl = RandomForestClassifier(random_state=42,\n",
        "                                 n_estimators=n_estimators,\n",
        "                                 min_samples_leaf=min_samples_leaf)\n",
        "                                 \n",
        "    mdl.fit(x_rus, y_rus)\n",
        "    \n",
        "    p = mdl.predict(x_test)\n",
        "    \n",
        "    return -recall_score(y_test,p)"
      ],
      "metadata": {
        "id": "pakIelV4Hz9c"
      },
      "execution_count": 55,
      "outputs": []
    },
    {
      "cell_type": "markdown",
      "source": [
        "aplicação da função"
      ],
      "metadata": {
        "id": "YiMi_YdDs7YE"
      }
    },
    {
      "cell_type": "code",
      "source": [
        "space = [(100,1000), # n_estimators\n",
        "          (1, 10)] # min_samples_leaf\n",
        "\n",
        "res_rfc = forest_minimize(tune_rfc, space, random_state=42, n_random_starts=20, n_calls=25, verbose=True)"
      ],
      "metadata": {
        "colab": {
          "base_uri": "https://localhost:8080/"
        },
        "id": "zbjYueqAHz_l",
        "outputId": "10f8d3bf-aebc-4ce7-9d26-f79b9144f3dc"
      },
      "execution_count": 56,
      "outputs": [
        {
          "output_type": "stream",
          "name": "stdout",
          "text": [
            "Iteration No: 1 started. Evaluating function at random point.\n",
            "Iteration No: 1 ended. Evaluation done at random point.\n",
            "Time taken: 57.3591\n",
            "Function value obtained: -0.6259\n",
            "Current minimum: -0.6259\n",
            "Iteration No: 2 started. Evaluating function at random point.\n",
            "Iteration No: 2 ended. Evaluation done at random point.\n",
            "Time taken: 64.0025\n",
            "Function value obtained: -0.6259\n",
            "Current minimum: -0.6259\n",
            "Iteration No: 3 started. Evaluating function at random point.\n",
            "Iteration No: 3 ended. Evaluation done at random point.\n",
            "Time taken: 32.8119\n",
            "Function value obtained: -0.6353\n",
            "Current minimum: -0.6353\n",
            "Iteration No: 4 started. Evaluating function at random point.\n",
            "Iteration No: 4 ended. Evaluation done at random point.\n",
            "Time taken: 30.3090\n",
            "Function value obtained: -0.6353\n",
            "Current minimum: -0.6353\n",
            "Iteration No: 5 started. Evaluating function at random point.\n",
            "Iteration No: 5 ended. Evaluation done at random point.\n",
            "Time taken: 21.1959\n",
            "Function value obtained: -0.6297\n",
            "Current minimum: -0.6353\n",
            "Iteration No: 6 started. Evaluating function at random point.\n",
            "Iteration No: 6 ended. Evaluation done at random point.\n",
            "Time taken: 32.7657\n",
            "Function value obtained: -0.6278\n",
            "Current minimum: -0.6353\n",
            "Iteration No: 7 started. Evaluating function at random point.\n",
            "Iteration No: 7 ended. Evaluation done at random point.\n",
            "Time taken: 48.8616\n",
            "Function value obtained: -0.6297\n",
            "Current minimum: -0.6353\n",
            "Iteration No: 8 started. Evaluating function at random point.\n",
            "Iteration No: 8 ended. Evaluation done at random point.\n",
            "Time taken: 13.1353\n",
            "Function value obtained: -0.6203\n",
            "Current minimum: -0.6353\n",
            "Iteration No: 9 started. Evaluating function at random point.\n",
            "Iteration No: 9 ended. Evaluation done at random point.\n",
            "Time taken: 34.6137\n",
            "Function value obtained: -0.6410\n",
            "Current minimum: -0.6410\n",
            "Iteration No: 10 started. Evaluating function at random point.\n",
            "Iteration No: 10 ended. Evaluation done at random point.\n",
            "Time taken: 24.9744\n",
            "Function value obtained: -0.6241\n",
            "Current minimum: -0.6410\n",
            "Iteration No: 11 started. Evaluating function at random point.\n",
            "Iteration No: 11 ended. Evaluation done at random point.\n",
            "Time taken: 30.0693\n",
            "Function value obtained: -0.6241\n",
            "Current minimum: -0.6410\n",
            "Iteration No: 12 started. Evaluating function at random point.\n",
            "Iteration No: 12 ended. Evaluation done at random point.\n",
            "Time taken: 11.3586\n",
            "Function value obtained: -0.6203\n",
            "Current minimum: -0.6410\n",
            "Iteration No: 13 started. Evaluating function at random point.\n",
            "Iteration No: 13 ended. Evaluation done at random point.\n",
            "Time taken: 5.5329\n",
            "Function value obtained: -0.6147\n",
            "Current minimum: -0.6410\n",
            "Iteration No: 14 started. Evaluating function at random point.\n",
            "Iteration No: 14 ended. Evaluation done at random point.\n",
            "Time taken: 28.8280\n",
            "Function value obtained: -0.6372\n",
            "Current minimum: -0.6410\n",
            "Iteration No: 15 started. Evaluating function at random point.\n",
            "Iteration No: 15 ended. Evaluation done at random point.\n",
            "Time taken: 42.8108\n",
            "Function value obtained: -0.6259\n",
            "Current minimum: -0.6410\n",
            "Iteration No: 16 started. Evaluating function at random point.\n",
            "Iteration No: 16 ended. Evaluation done at random point.\n",
            "Time taken: 50.5715\n",
            "Function value obtained: -0.6316\n",
            "Current minimum: -0.6410\n",
            "Iteration No: 17 started. Evaluating function at random point.\n",
            "Iteration No: 17 ended. Evaluation done at random point.\n",
            "Time taken: 15.7330\n",
            "Function value obtained: -0.6259\n",
            "Current minimum: -0.6410\n",
            "Iteration No: 18 started. Evaluating function at random point.\n",
            "Iteration No: 18 ended. Evaluation done at random point.\n",
            "Time taken: 13.9510\n",
            "Function value obtained: -0.6316\n",
            "Current minimum: -0.6410\n",
            "Iteration No: 19 started. Evaluating function at random point.\n",
            "Iteration No: 19 ended. Evaluation done at random point.\n",
            "Time taken: 47.6038\n",
            "Function value obtained: -0.6278\n",
            "Current minimum: -0.6410\n",
            "Iteration No: 20 started. Evaluating function at random point.\n",
            "Iteration No: 20 ended. Evaluation done at random point.\n",
            "Time taken: 5.7755\n",
            "Function value obtained: -0.6184\n",
            "Current minimum: -0.6410\n",
            "Iteration No: 21 started. Searching for the next optimal point.\n",
            "Iteration No: 21 ended. Search finished for the next optimal point.\n",
            "Time taken: 25.0034\n",
            "Function value obtained: -0.6278\n",
            "Current minimum: -0.6410\n",
            "Iteration No: 22 started. Searching for the next optimal point.\n",
            "Iteration No: 22 ended. Search finished for the next optimal point.\n",
            "Time taken: 29.9955\n",
            "Function value obtained: -0.6335\n",
            "Current minimum: -0.6410\n",
            "Iteration No: 23 started. Searching for the next optimal point.\n",
            "Iteration No: 23 ended. Search finished for the next optimal point.\n",
            "Time taken: 26.5727\n",
            "Function value obtained: -0.6372\n",
            "Current minimum: -0.6410\n",
            "Iteration No: 24 started. Searching for the next optimal point.\n",
            "Iteration No: 24 ended. Search finished for the next optimal point.\n",
            "Time taken: 18.4473\n",
            "Function value obtained: -0.6372\n",
            "Current minimum: -0.6410\n",
            "Iteration No: 25 started. Searching for the next optimal point.\n",
            "Iteration No: 25 ended. Search finished for the next optimal point.\n",
            "Time taken: 16.6380\n",
            "Function value obtained: -0.6335\n",
            "Current minimum: -0.6410\n"
          ]
        }
      ]
    },
    {
      "cell_type": "markdown",
      "source": [
        "guardando valores ótimos"
      ],
      "metadata": {
        "id": "MAcbiVgQ1EgW"
      }
    },
    {
      "cell_type": "code",
      "source": [
        "#guardando os valores ótimos\n",
        "params_rfc = {'n_estimators':res_rfc.x[0],\n",
        "          'min_samples_leaf':res_rfc.x[1]}"
      ],
      "metadata": {
        "id": "aO5PyGVIH0Br"
      },
      "execution_count": 57,
      "outputs": []
    },
    {
      "cell_type": "markdown",
      "source": [
        "#XGBoost\n",
        "\n",
        "definir a função"
      ],
      "metadata": {
        "id": "7hYjvU1wHwLJ"
      }
    },
    {
      "cell_type": "code",
      "source": [
        "def tune_xgb(params):\n",
        "    lr = params[0]\n",
        "    max_depth = params[1]\n",
        "    subsample = params[2]\n",
        "    colsample_bytree = params[3]\n",
        "    n_estimators = params[4]\n",
        "    \n",
        "    mdl = XGBClassifier(random_state=42,n_estimators=n_estimators,learning_rate=lr,max_depth = max_depth, \n",
        "                        subsample = subsample, colsample_bytree = colsample_bytree)\n",
        "\n",
        "    mdl.fit(x_rus, y_rus)\n",
        "    \n",
        "    p = mdl.predict(x_test)\n",
        "    \n",
        "    return -recall_score(y_test,p)"
      ],
      "metadata": {
        "id": "CR4dtTFaHzkh"
      },
      "execution_count": 58,
      "outputs": []
    },
    {
      "cell_type": "markdown",
      "source": [
        "aplicar a função"
      ],
      "metadata": {
        "id": "4Z9_U1x_tBGl"
      }
    },
    {
      "cell_type": "code",
      "source": [
        "space = [(1e-3, 1e-1, 'log-uniform'), # lr\n",
        "          (1, 10), # max_depth\n",
        "          (0.05, 1.), # subsample\n",
        "          (0.05, 1.), # colsample_bytree\n",
        "          (100,1000)] # n_estimators\n",
        "\n",
        "res_xgb = forest_minimize(tune_xgb, space, random_state=42, n_random_starts=20, n_calls=25, verbose=True)"
      ],
      "metadata": {
        "id": "tIat1PQGHzmn",
        "colab": {
          "base_uri": "https://localhost:8080/"
        },
        "outputId": "7b31ef69-239d-4ca5-c0f9-ff61a2c93cba"
      },
      "execution_count": 59,
      "outputs": [
        {
          "output_type": "stream",
          "name": "stdout",
          "text": [
            "Iteration No: 1 started. Evaluating function at random point.\n",
            "Iteration No: 1 ended. Evaluation done at random point.\n",
            "Time taken: 6.5517\n",
            "Function value obtained: -0.6128\n",
            "Current minimum: -0.6128\n",
            "Iteration No: 2 started. Evaluating function at random point.\n",
            "Iteration No: 2 ended. Evaluation done at random point.\n",
            "Time taken: 4.0694\n",
            "Function value obtained: -0.6184\n",
            "Current minimum: -0.6184\n",
            "Iteration No: 3 started. Evaluating function at random point.\n",
            "Iteration No: 3 ended. Evaluation done at random point.\n",
            "Time taken: 7.1923\n",
            "Function value obtained: -0.6165\n",
            "Current minimum: -0.6184\n",
            "Iteration No: 4 started. Evaluating function at random point.\n",
            "Iteration No: 4 ended. Evaluation done at random point.\n",
            "Time taken: 10.0180\n",
            "Function value obtained: -0.6335\n",
            "Current minimum: -0.6335\n",
            "Iteration No: 5 started. Evaluating function at random point.\n",
            "Iteration No: 5 ended. Evaluation done at random point.\n",
            "Time taken: 4.3339\n",
            "Function value obtained: -0.6241\n",
            "Current minimum: -0.6335\n",
            "Iteration No: 6 started. Evaluating function at random point.\n",
            "Iteration No: 6 ended. Evaluation done at random point.\n",
            "Time taken: 8.5618\n",
            "Function value obtained: -0.6222\n",
            "Current minimum: -0.6335\n",
            "Iteration No: 7 started. Evaluating function at random point.\n",
            "Iteration No: 7 ended. Evaluation done at random point.\n",
            "Time taken: 2.4898\n",
            "Function value obtained: -0.6485\n",
            "Current minimum: -0.6485\n",
            "Iteration No: 8 started. Evaluating function at random point.\n",
            "Iteration No: 8 ended. Evaluation done at random point.\n",
            "Time taken: 2.7524\n",
            "Function value obtained: -0.6241\n",
            "Current minimum: -0.6485\n",
            "Iteration No: 9 started. Evaluating function at random point.\n",
            "Iteration No: 9 ended. Evaluation done at random point.\n",
            "Time taken: 3.2141\n",
            "Function value obtained: -0.6222\n",
            "Current minimum: -0.6485\n",
            "Iteration No: 10 started. Evaluating function at random point.\n",
            "Iteration No: 10 ended. Evaluation done at random point.\n",
            "Time taken: 4.3249\n",
            "Function value obtained: -0.6222\n",
            "Current minimum: -0.6485\n",
            "Iteration No: 11 started. Evaluating function at random point.\n",
            "Iteration No: 11 ended. Evaluation done at random point.\n",
            "Time taken: 8.3343\n",
            "Function value obtained: -0.6410\n",
            "Current minimum: -0.6485\n",
            "Iteration No: 12 started. Evaluating function at random point.\n",
            "Iteration No: 12 ended. Evaluation done at random point.\n",
            "Time taken: 23.7145\n",
            "Function value obtained: -0.6184\n",
            "Current minimum: -0.6485\n",
            "Iteration No: 13 started. Evaluating function at random point.\n",
            "Iteration No: 13 ended. Evaluation done at random point.\n",
            "Time taken: 21.1177\n",
            "Function value obtained: -0.6316\n",
            "Current minimum: -0.6485\n",
            "Iteration No: 14 started. Evaluating function at random point.\n",
            "Iteration No: 14 ended. Evaluation done at random point.\n",
            "Time taken: 1.8749\n",
            "Function value obtained: -0.6579\n",
            "Current minimum: -0.6579\n",
            "Iteration No: 15 started. Evaluating function at random point.\n",
            "Iteration No: 15 ended. Evaluation done at random point.\n",
            "Time taken: 10.3360\n",
            "Function value obtained: -0.6184\n",
            "Current minimum: -0.6579\n",
            "Iteration No: 16 started. Evaluating function at random point.\n",
            "Iteration No: 16 ended. Evaluation done at random point.\n",
            "Time taken: 2.3212\n",
            "Function value obtained: -0.6109\n",
            "Current minimum: -0.6579\n",
            "Iteration No: 17 started. Evaluating function at random point.\n",
            "Iteration No: 17 ended. Evaluation done at random point.\n",
            "Time taken: 2.0265\n",
            "Function value obtained: -0.5921\n",
            "Current minimum: -0.6579\n",
            "Iteration No: 18 started. Evaluating function at random point.\n",
            "Iteration No: 18 ended. Evaluation done at random point.\n",
            "Time taken: 7.5309\n",
            "Function value obtained: -0.6391\n",
            "Current minimum: -0.6579\n",
            "Iteration No: 19 started. Evaluating function at random point.\n",
            "Iteration No: 19 ended. Evaluation done at random point.\n",
            "Time taken: 2.3896\n",
            "Function value obtained: -0.6278\n",
            "Current minimum: -0.6579\n",
            "Iteration No: 20 started. Evaluating function at random point.\n",
            "Iteration No: 20 ended. Evaluation done at random point.\n",
            "Time taken: 3.7976\n",
            "Function value obtained: -0.6203\n",
            "Current minimum: -0.6579\n",
            "Iteration No: 21 started. Searching for the next optimal point.\n",
            "Iteration No: 21 ended. Search finished for the next optimal point.\n",
            "Time taken: 2.4182\n",
            "Function value obtained: -0.2895\n",
            "Current minimum: -0.6579\n",
            "Iteration No: 22 started. Searching for the next optimal point.\n",
            "Iteration No: 22 ended. Search finished for the next optimal point.\n",
            "Time taken: 3.5538\n",
            "Function value obtained: -0.6222\n",
            "Current minimum: -0.6579\n",
            "Iteration No: 23 started. Searching for the next optimal point.\n",
            "Iteration No: 23 ended. Search finished for the next optimal point.\n",
            "Time taken: 1.9575\n",
            "Function value obtained: -0.6297\n",
            "Current minimum: -0.6579\n",
            "Iteration No: 24 started. Searching for the next optimal point.\n",
            "Iteration No: 24 ended. Search finished for the next optimal point.\n",
            "Time taken: 2.6676\n",
            "Function value obtained: -0.5376\n",
            "Current minimum: -0.6579\n",
            "Iteration No: 25 started. Searching for the next optimal point.\n",
            "Iteration No: 25 ended. Search finished for the next optimal point.\n",
            "Time taken: 5.7828\n",
            "Function value obtained: -0.6372\n",
            "Current minimum: -0.6579\n"
          ]
        }
      ]
    },
    {
      "cell_type": "markdown",
      "source": [
        "valores ótimos"
      ],
      "metadata": {
        "id": "eJfMT8f20FGk"
      }
    },
    {
      "cell_type": "code",
      "source": [
        "#guardando os valores ótimos\n",
        "params_xgb = {'learning_rate':res_xgb.x[0],\n",
        "          'max_depth':res_xgb.x[1],\n",
        "          'subsample':res_xgb.x[2],\n",
        "          'colsample_bytree':res_xgb.x[3],\n",
        "          'n_estimators':res_xgb.x[4]}"
      ],
      "metadata": {
        "id": "UidDl0nutTH6"
      },
      "execution_count": 60,
      "outputs": []
    },
    {
      "cell_type": "markdown",
      "source": [
        "##LGBM Classifier"
      ],
      "metadata": {
        "id": "JG8VNvOKHx23"
      }
    },
    {
      "cell_type": "markdown",
      "source": [
        "aplicando a função"
      ],
      "metadata": {
        "id": "NQ-Ng0hx1HGb"
      }
    },
    {
      "cell_type": "code",
      "source": [
        "def tune_lgbm(params):\n",
        "    lr = params[0]\n",
        "    max_depth = params[1]\n",
        "    min_child_samples = params[2]\n",
        "    subsample = params[3]\n",
        "    colsample_bytree = params[4]\n",
        "    n_estimators = params[5]\n",
        "    \n",
        "    mdl = LGBMClassifier(learning_rate=lr, num_leaves=2 ** max_depth, max_depth=max_depth, \n",
        "                         min_child_samples=min_child_samples, subsample=subsample,\n",
        "                         colsample_bytree=colsample_bytree, bagging_freq=1,n_estimators=n_estimators, random_state=42,n_jobs=6)\n",
        "    mdl.fit(x_rus, y_rus)\n",
        "    \n",
        "    p = mdl.predict(x_test)\n",
        "    \n",
        "    return -recall_score(y_test,p)"
      ],
      "metadata": {
        "id": "_mRqXVcXCykS"
      },
      "execution_count": 61,
      "outputs": []
    },
    {
      "cell_type": "markdown",
      "source": [
        "definindo intervalo"
      ],
      "metadata": {
        "id": "VA1ucgSG1JV6"
      }
    },
    {
      "cell_type": "code",
      "source": [
        "space = [(1e-3, 1e-1, 'log-uniform'), # lr\n",
        "          (1, 10), # max_depth\n",
        "          (1, 20), # min_child_samples\n",
        "          (0.05, 1.), # subsample\n",
        "          (0.05, 1.), # colsample_bytree\n",
        "          (100,1000)] # n_estimators\n",
        "\n",
        "res_lgbm = forest_minimize(tune_lgbm, space, random_state=42, n_random_starts=20, n_calls=25, verbose=True)"
      ],
      "metadata": {
        "colab": {
          "base_uri": "https://localhost:8080/"
        },
        "id": "al7Dz_7QCkps",
        "outputId": "b8c5c646-2f47-4a1e-9701-102da8647987"
      },
      "execution_count": 62,
      "outputs": [
        {
          "output_type": "stream",
          "name": "stdout",
          "text": [
            "Iteration No: 1 started. Evaluating function at random point.\n",
            "Iteration No: 1 ended. Evaluation done at random point.\n",
            "Time taken: 13.1822\n",
            "Function value obtained: -0.6128\n",
            "Current minimum: -0.6128\n",
            "Iteration No: 2 started. Evaluating function at random point.\n",
            "Iteration No: 2 ended. Evaluation done at random point.\n",
            "Time taken: 3.2740\n",
            "Function value obtained: -0.6090\n",
            "Current minimum: -0.6128\n",
            "Iteration No: 3 started. Evaluating function at random point.\n",
            "Iteration No: 3 ended. Evaluation done at random point.\n",
            "Time taken: 4.6629\n",
            "Function value obtained: -0.6034\n",
            "Current minimum: -0.6128\n",
            "Iteration No: 4 started. Evaluating function at random point.\n",
            "Iteration No: 4 ended. Evaluation done at random point.\n",
            "Time taken: 8.6115\n",
            "Function value obtained: -0.6259\n",
            "Current minimum: -0.6259\n",
            "Iteration No: 5 started. Evaluating function at random point.\n",
            "Iteration No: 5 ended. Evaluation done at random point.\n",
            "Time taken: 0.7269\n",
            "Function value obtained: -0.6165\n",
            "Current minimum: -0.6259\n",
            "Iteration No: 6 started. Evaluating function at random point.\n",
            "Iteration No: 6 ended. Evaluation done at random point.\n",
            "Time taken: 3.4614\n",
            "Function value obtained: -0.6090\n",
            "Current minimum: -0.6259\n",
            "Iteration No: 7 started. Evaluating function at random point.\n",
            "Iteration No: 7 ended. Evaluation done at random point.\n",
            "Time taken: 1.7057\n",
            "Function value obtained: -0.5902\n",
            "Current minimum: -0.6259\n",
            "Iteration No: 8 started. Evaluating function at random point.\n",
            "Iteration No: 8 ended. Evaluation done at random point.\n",
            "Time taken: 2.4619\n",
            "Function value obtained: -0.6372\n",
            "Current minimum: -0.6372\n",
            "Iteration No: 9 started. Evaluating function at random point.\n",
            "Iteration No: 9 ended. Evaluation done at random point.\n",
            "Time taken: 1.4614\n",
            "Function value obtained: -0.6335\n",
            "Current minimum: -0.6372\n",
            "Iteration No: 10 started. Evaluating function at random point.\n",
            "Iteration No: 10 ended. Evaluation done at random point.\n",
            "Time taken: 3.6671\n",
            "Function value obtained: -0.6335\n",
            "Current minimum: -0.6372\n",
            "Iteration No: 11 started. Evaluating function at random point.\n",
            "Iteration No: 11 ended. Evaluation done at random point.\n",
            "Time taken: 3.1001\n",
            "Function value obtained: -0.6109\n",
            "Current minimum: -0.6372\n",
            "Iteration No: 12 started. Evaluating function at random point.\n",
            "Iteration No: 12 ended. Evaluation done at random point.\n",
            "Time taken: 1.8126\n",
            "Function value obtained: -0.6335\n",
            "Current minimum: -0.6372\n",
            "Iteration No: 13 started. Evaluating function at random point.\n",
            "Iteration No: 13 ended. Evaluation done at random point.\n",
            "Time taken: 4.7918\n",
            "Function value obtained: -0.6109\n",
            "Current minimum: -0.6372\n",
            "Iteration No: 14 started. Evaluating function at random point.\n",
            "Iteration No: 14 ended. Evaluation done at random point.\n",
            "Time taken: 6.0711\n",
            "Function value obtained: -0.6109\n",
            "Current minimum: -0.6372\n",
            "Iteration No: 15 started. Evaluating function at random point.\n",
            "Iteration No: 15 ended. Evaluation done at random point.\n",
            "Time taken: 1.3554\n",
            "Function value obtained: -0.6165\n",
            "Current minimum: -0.6372\n",
            "Iteration No: 16 started. Evaluating function at random point.\n",
            "Iteration No: 16 ended. Evaluation done at random point.\n",
            "Time taken: 1.5804\n",
            "Function value obtained: -0.6034\n",
            "Current minimum: -0.6372\n",
            "Iteration No: 17 started. Evaluating function at random point.\n",
            "Iteration No: 17 ended. Evaluation done at random point.\n",
            "Time taken: 10.0525\n",
            "Function value obtained: -0.6015\n",
            "Current minimum: -0.6372\n",
            "Iteration No: 18 started. Evaluating function at random point.\n",
            "Iteration No: 18 ended. Evaluation done at random point.\n",
            "Time taken: 0.7178\n",
            "Function value obtained: -0.6278\n",
            "Current minimum: -0.6372\n",
            "Iteration No: 19 started. Evaluating function at random point.\n",
            "Iteration No: 19 ended. Evaluation done at random point.\n",
            "Time taken: 2.9998\n",
            "Function value obtained: -0.6673\n",
            "Current minimum: -0.6673\n",
            "Iteration No: 20 started. Evaluating function at random point.\n",
            "Iteration No: 20 ended. Evaluation done at random point.\n",
            "Time taken: 1.9713\n",
            "Function value obtained: -0.6184\n",
            "Current minimum: -0.6673\n",
            "Iteration No: 21 started. Searching for the next optimal point.\n",
            "Iteration No: 21 ended. Search finished for the next optimal point.\n",
            "Time taken: 4.0300\n",
            "Function value obtained: -0.6297\n",
            "Current minimum: -0.6673\n",
            "Iteration No: 22 started. Searching for the next optimal point.\n",
            "Iteration No: 22 ended. Search finished for the next optimal point.\n",
            "Time taken: 3.1826\n",
            "Function value obtained: -0.6241\n",
            "Current minimum: -0.6673\n",
            "Iteration No: 23 started. Searching for the next optimal point.\n",
            "Iteration No: 23 ended. Search finished for the next optimal point.\n",
            "Time taken: 4.3859\n",
            "Function value obtained: -0.6410\n",
            "Current minimum: -0.6673\n",
            "Iteration No: 24 started. Searching for the next optimal point.\n",
            "Iteration No: 24 ended. Search finished for the next optimal point.\n",
            "Time taken: 2.7416\n",
            "Function value obtained: -0.5940\n",
            "Current minimum: -0.6673\n",
            "Iteration No: 25 started. Searching for the next optimal point.\n",
            "Iteration No: 25 ended. Search finished for the next optimal point.\n",
            "Time taken: 3.3639\n",
            "Function value obtained: -0.6729\n",
            "Current minimum: -0.6729\n"
          ]
        }
      ]
    },
    {
      "cell_type": "markdown",
      "source": [
        "verificando os valores ótimos"
      ],
      "metadata": {
        "id": "9cvlUYKdH_TT"
      }
    },
    {
      "cell_type": "code",
      "source": [
        "#guardando os valores ótimos\n",
        "params_lgbm = {'learning_rate':res_lgbm.x[0],\n",
        "          'max_depth':res_lgbm.x[1],\n",
        "          'min_child_samples':res_lgbm.x[2],\n",
        "          'subsample':res_lgbm.x[3],\n",
        "          'colsample_bytree':res_lgbm.x[4],\n",
        "          'n_estimators':res_lgbm.x[5]}"
      ],
      "metadata": {
        "id": "ueHsIvmhI5mg"
      },
      "execution_count": 63,
      "outputs": []
    },
    {
      "cell_type": "code",
      "source": [
        "#instanciando os modelos\n",
        "rfc_clf = RandomForestClassifier(random_state=42,**params_rfc)\n",
        "xgb_clf = XGBClassifier(random_state=42,**params_xgb)\n",
        "lgbm_clf = LGBMClassifier(random_state=42,**params_lgbm)\n",
        "\n",
        "#prevendo com os dados balanceados\n",
        "rfc_clf.fit(x_rus,y_rus)\n",
        "xgb_clf.fit(x_rus,y_rus)\n",
        "lgbm_clf.fit(x_rus,y_rus)\n",
        "\n",
        "#fazendo as previsoes\n",
        "y_pred_rfc = rfc_clf.predict(x_validation)\n",
        "y_pred_xgb = xgb_clf.predict(x_validation)\n",
        "y_pred_lgbm = lgbm_clf.predict(x_validation)"
      ],
      "metadata": {
        "id": "DUAE97FICkuR"
      },
      "execution_count": 108,
      "outputs": []
    },
    {
      "cell_type": "code",
      "source": [
        "#criando a matriz de confusão\n",
        "cm_rfc = confusion_matrix(y_validation,y_pred_rfc,normalize='true')\n",
        "cm_xgb = confusion_matrix(y_validation,y_pred_xgb,normalize='true')\n",
        "cm_lgbm = confusion_matrix(y_validation,y_pred_lgbm,normalize='true')\n",
        "\n",
        "#criando o figure e o ax no maptlotlib\n",
        "fig, ax = plt.subplots(figsize=(12,12),ncols=3)\n",
        "\n",
        "#plotando a matriz de confusão do Random Forest Classifier\n",
        "ConfusionMatrixDisplay(confusion_matrix=cm_rfc).plot(ax=ax[0],colorbar=False,cmap='Blues')\n",
        "ajuste_layout(ax=ax[0],titulo='Random Forest Classifier',\n",
        "              xlabel='Previsão',ylabel='Real',\n",
        "              xlabels=True,lista_para_o_x=['em dia','inadimplente'],\n",
        "              ylabels=True,lista_para_o_y=['em dia','inadimplente'])\n",
        "\n",
        "#plotando a matriz de confusão do LGBM Classifier\n",
        "ConfusionMatrixDisplay(confusion_matrix=cm_xgb).plot(ax=ax[1],colorbar=False,cmap='Greys')\n",
        "ajuste_layout(ax=ax[1],titulo='XGBoost Classifier',\n",
        "              xlabel='Previsão',ylabel='Real',\n",
        "              xlabels=True,lista_para_o_x=['em dia','inadimplente'],\n",
        "              ylabels=True,lista_para_o_y=['em dia','inadimplente'])\n",
        "\n",
        "#plotando a matriz de confusão do LGBM Classifier\n",
        "ConfusionMatrixDisplay(confusion_matrix=cm_lgbm).plot(ax=ax[2],colorbar=False,cmap='Greens')\n",
        "ajuste_layout(ax=ax[2],titulo='LGBM Classifier',\n",
        "              xlabel='Previsão',ylabel='Real',\n",
        "              xlabels=True,lista_para_o_x=['em dia','inadimplente'],\n",
        "              ylabels=True,lista_para_o_y=['em dia','inadimplente'])\n",
        "\n",
        "#plotando os gráficos\n",
        "plt.tight_layout(pad=2.0);"
      ],
      "metadata": {
        "colab": {
          "base_uri": "https://localhost:8080/",
          "height": 303
        },
        "id": "OR76i349Ckwc",
        "outputId": "b3ed2c43-0896-473c-f15f-36c3ea96d26f"
      },
      "execution_count": 110,
      "outputs": [
        {
          "output_type": "display_data",
          "data": {
            "image/png": "[encoded data removed]",
            "text/plain": [
              "<Figure size 864x864 with 3 Axes>"
            ]
          },
          "metadata": {
            "needs_background": "light"
          }
        }
      ]
    },
    {
      "cell_type": "markdown",
      "source": [
        "avaliando o trade-off precision e recall"
      ],
      "metadata": {
        "id": "xhq9V5MVCbSZ"
      }
    },
    {
      "cell_type": "code",
      "source": [
        "#fazendo as predicoes com o melhor modelo\n",
        "predicoes_prob = lgbm_clf.predict_proba(x_validation)[:,1]\n",
        "recall_modelo = recall_score(y_validation,lgbm_clf.predict(x_validation))\n",
        "precision_modelo = precision_score(y_validation,lgbm_clf.predict(x_validation))\n",
        "\n",
        "#avaliando as métricas no trade-off precision e recall\n",
        "precision, recall, thresholds = precision_recall_curve(y_validation,predicoes_prob)\n",
        "\n",
        "#criando o fig e o ax no matplotlib\n",
        "fig, ax = plt.subplots(figsize=(8,6),dpi=72)\n",
        "\n",
        "#criando o gráfico\n",
        "ax.plot(precision,recall)\n",
        "ax.plot([precision_modelo],[recall_modelo],'ro')\n",
        "ax.plot([0.,precision_modelo],[recall_modelo,recall_modelo],'r:')\n",
        "ax.plot([precision_modelo,precision_modelo],[0.,recall_modelo],'r:')\n",
        "ajuste_layout(ax=ax,titulo='Trade-off Precision x Recall',\n",
        "              xlabel='Precision',ylabel='Recall',\n",
        "              grid=True,grid_lw=0.38)\n",
        "\n",
        "#plotando o gráfico\n",
        "plt.tight_layout();"
      ],
      "metadata": {
        "colab": {
          "base_uri": "https://localhost:8080/",
          "height": 441
        },
        "id": "r1DP1w6UCqNm",
        "outputId": "fd5e0780-1a6f-4ab3-9150-c017d069936f"
      },
      "execution_count": 66,
      "outputs": [
        {
          "output_type": "display_data",
          "data": {
            "image/png": "[encoded data removed]",
            "text/plain": [
              "<Figure size 576x432 with 1 Axes>"
            ]
          },
          "metadata": {
            "needs_background": "dark"
          }
        }
      ]
    },
    {
      "cell_type": "markdown",
      "source": [
        "#Considerações finais\n",
        "\n",
        "* Este dataset contém muitos valores **ausentes**. Além disso, alguns outliers estão presentes nos dados de **interesse** - clientes inadimplentes. Neste tipo de situação devemos buscar a área de **negócios** para entender se estas informações são **anomalias** ou fazem parte do processo.\n",
        "* Trabalhar com variáveis **categóricas** sempre exigem muito cuidado. É importante verificar se há uma hierarquia entre as categorias.\n",
        "* Ciência de Dados é **experimentar**. Foram feitos vários testes e os modelos se saíram **melhor** quando o dataset continha os outliers.\n",
        "* Em uma situação de **competição** ou trabalho valeria a pena **varias** os parâmetros de **otimização** e rodar algumas vezes o algoritmo para ir **afinando** o melhor **intervalo** possível.\n",
        "* O modelo que teve melhor **recall** foi o Lightgbm. Geralmente, este é o modelo que consegue melhores resultados em problemas de classificação.\n",
        "* Aumentar o *recall* diminui a *precision*. Nossa busca é por dados de maior **qualidade**, para quando acertarmos... acertarmos em cheio!. Ou seja, quando descobrirmos um cliente inadimplente, ele seja de fato inadimplente e não um alarme falso.\n"
      ],
      "metadata": {
        "id": "hytAkgX6jBFt"
      }
    }
  ]
}