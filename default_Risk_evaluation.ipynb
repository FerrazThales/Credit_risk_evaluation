{
  "nbformat": 4,
  "nbformat_minor": 0,
  "metadata": {
    "colab": {
      "provenance": [],
      "include_colab_link": true
    },
    "kernelspec": {
      "name": "python3",
      "display_name": "Python 3"
    }
  },
  "cells": [
    {
      "cell_type": "markdown",
      "metadata": {
        "id": "view-in-github",
        "colab_type": "text"
      },
      "source": [
        "<a href=\"https://colab.research.google.com/github/FerrazThales/default_risk_evaluation/blob/main/default_Risk_evaluation.ipynb\" target=\"_parent\"><img src=\"https://colab.research.google.com/assets/colab-badge.svg\" alt=\"Open In Colab\"/></a>"
      ]
    },
    {
      "cell_type": "markdown",
      "metadata": {
        "id": "X2k0C9ObFWpR"
      },
      "source": [
        "<h1 align=\"center\"><b>Encontre eu e meus projetos nas redes sociais!</b></h1>\n",
        "<table>\n",
        "  <tr>\n",
        "  <td><a href=\"https://thalesferraz.medium.com/\">\n",
        "  <img src=\"https://github.com/FerrazThales/FerrazThales/blob/main/logo_gif.gif?raw=true\" width=\"900\" title=\"Olá, Meu nome é Thales e sou cientista de Dados!\"/>\n",
        "  </a>\n",
        "  </td>\n",
        "  <td><a href=\"https://github.com/FerrazThales\">\n",
        "  <img vspace=110 src=\"https://github.com/FerrazThales/FerrazThales/blob/main/GitHub.jpg?raw=true\" width=\"80%\" title=\"Entre em meu Github e veja mais projetos!\" /> \n",
        "  </a>\n",
        "  </td>\n",
        "  <td>\n",
        "  <a href=\"https://thalesferraz.medium.com/default-prediction-prevendo-a-inadimpl%C3%AAncia-em-institui%C3%A7%C3%B5es-financeiras-f16ab7126381\">\n",
        "  <img vspace=110 src=\"https://download.logo.wine/logo/Medium_(website)/Medium_(website)-Logo.wine.png\" width=\"800\" title=\"Veja este meu projeto no Medium!\"/>\n",
        "  </a>\n",
        "  </td>\n",
        "  <td><a href=\"https://www.linkedin.com/in/thalesdefreitasferraz/\"><img vspace=150 src=\"https://cdn-icons-png.flaticon.com/512/174/174857.png\" width=\"40%\" title=\"Vamos trocar uma idéia sobre Data Science no LinkedIn?\" />\n",
        "  </a>\n",
        "  </td>\n",
        "  </tr>\n",
        "</table>"
      ]
    },
    {
      "cell_type": "markdown",
      "source": [
        "# O que você vai aprender neste projeto:\n",
        "\n",
        "* As **Fintechs** e suas perspectivas.\n",
        "* Técnicas para lidar com variáveis **categóricas**.\n",
        "* Modelos de classificação: *RandomForest*, *XGBoost* e *Lightgbm*.\n",
        "* Otimizador Bayesiano para **tunar** os hiperparâmetros.\n",
        "\n"
      ],
      "metadata": {
        "id": "opYrW1XaWKAV"
      }
    },
    {
      "cell_type": "markdown",
      "metadata": {
        "id": "ZNvmL_lMsAqU"
      },
      "source": [
        "# As crises e as Oportunidades\n",
        "\n",
        "No Brasil, as **fintechs** estão regulamentadas desde abril de **2018** pelo *Conselho Monetário Nacional* (CMN). Estas empresas buscam **facilitar** serviços financeiros por meio da **tecnologia**. Há diferentes **categorias** de *fintechs* que atuam em nosso país, as **principais** são de crédito, pagamento, empréstimo ou negociação de dívidas.\n",
        "\n",
        "No mundo, as *fintechs* surgiram em **resposta** à [crise financeira de 2008](https://www.politize.com.br/crise-financeira-de-2008/). Nesta época, as instituições **tradicionais** perderam grande parte de sua **credibilidade** e ainda o [governo americano](https://economia.uol.com.br/noticias/redacao/2018/09/15/crise-financeira-de-2008-10-anos-resgate-revolta-populacao.htm) teve que **arcar** com alguns custos para **salvar** o sistema financeiro. Por conta disso, surgiram inúmeras **penalidades** e **regulamentações** para evitar novas crises, o que **burocratizou** e encareceu os processos.\n",
        "\n",
        "Foi nesta **brecha** que as empresas que utilizaram **tecnologia** para oferecer produtos mais **baratos** e **flexíveis** ganharam mercado. Além disso, elas puderam se **aproveitar** da [mão-de-obra](https://fintech.com.br/blog/fintech/crescimento-das-fintechs/) com grande expertise que havia sido **demitida** dos bancos tradicionais durante a crise.\n",
        "\n",
        "Mas nem tudo é um mar de rosas. [A quebra da fintech inglesa de crédito Greensill](https://www.nytimes.com/2021/03/28/business/greensill-capital-collapse.html) trouxe novas **reflexões** sobre os **riscos** de algumas operações financeiras e da atuação **intensiva** da tecnologia neste segmento de **mercado**.\n",
        "\n",
        "<center><img src=\"https://image.freepik.com/free-vector/hand-drawn-bankruptcy-concept_52683-36194.jpg\" width=\"50%\"></center>\n",
        "\n",
        "Uma das área que causa mais **problemas** para bancos, financiadoras e empresários é a taxa de **inadimplência** por parte da sua carteira de clientes.\n",
        "\n",
        "Avaliar se uma pessoa irá **deixar** de cumprir com suas **obrigações** *financeiras* é de extrema **importância** e pode causar um grande impacto no **balanço** da instituição. Por conta disso, cada vez mais estão surgindo soluções que visam **minimizar** o risco de *default*. \n",
        "\n",
        "*Default* é um termo utilizado para indicar o **não** cumprimento das obrigações ou condições de um **empréstimo** (como financiamentos ou dívidas de cartão de crédito). Geralmente, o **principal** motivo para o **descumprimento** das condições de pagamento é **incapacidade** financeira do cliente. \n",
        "\n",
        "O maior [default privado da história](https://www.suno.com.br/artigos/default/) é o do banco *Lehman Brothers*. Motivado pela **falência** da instituição durante a crise financeira de 2008, o banco **deixou** de pagar 600 bilhões de **dólares** para seus credores e investidores.\n",
        "\n",
        "<center><img src=\"https://image.freepik.com/fotos-gratis/feminino-contribuinte-esqueceu-de-enviar-declaracao-de-imposto_1163-3865.jpg\" width=\"50%\"></center>\n",
        "\n",
        "Por causa disso, bancos tradicionais e Fintechs têm **apostado** cada vez mais em modelos de *Machine Learning* para prevenir a **inadimplência** de alguns clientes.\n",
        "\n",
        "*Default prediction* é o nome dado para técnicas que utilizam **inteligência artificial** para tentar mitigar os riscos de **calote** se baseando em **dados** cadastrais e movimentações financeiras dos clientes.\n",
        "\n",
        "# Avaliação de Risco de Inadimplência\n",
        "\n",
        "<p align='center'>\n",
        "<img src=\"https://www.datocms-assets.com/39397/1614171395-open-graph-logo-large-br.png\" width=\"40%\"></p>\n",
        "\n",
        "Dentre as **principais** instituições financeira que utilizam estas técnicas, o [Nubank](https://nubank.com.br/sobre-nos) é uma das que mais tem se **destacado** com seus times de *Data Science*.\n",
        "\n",
        "Neste problema, o objetivo é prever qual a **probabilidade** de um cliente da Startup Nubank **não** cumprir com suas obrigações financeiras e **deixar** de pagar a sua fatura do Cartão de Crédito. Ou seja, prever com alto índice de acerto a **inadimplência** na operação de crédito.\n",
        "  \n",
        "Vale ressaltar que se considerou que **avaliação** deve ser realizada no **momento** em que o cliente **solicita** o cartão - frequentemente é o **primeiro** contato com a instituição.\n",
        "\n",
        "Espera-se que o modelo seja capaz de **minimizar** as perdas financeiras do empresa. Além disso, que também consiga **diminuir** a incidência de **falsos** positivos. Uma vez que este tipo de erro traz grandes **transtornos** aos clientes.\n",
        "\n"
      ]
    },
    {
      "cell_type": "code",
      "source": [
        "#módulo para remover os warnings\n",
        "import warnings\n",
        "warnings.filterwarnings('ignore')\n",
        "\n",
        "#importando as bibliotecas necessárias\n",
        "import pandas as pd\n",
        "import numpy as np\n",
        "import matplotlib.pyplot as plt\n",
        "import matplotlib\n",
        "%matplotlib inline\n",
        "import seaborn as sns\n",
        "\n",
        "#módulos de pré-processamento\n",
        "from sklearn.preprocessing import MultiLabelBinarizer, OneHotEncoder, StandardScaler\n",
        "\n",
        "#separar em treino e teste\n",
        "from sklearn.model_selection import train_test_split, cross_val_score\n",
        "\n",
        "#algoritmo para under sampling (balanceamento dos dados)\n",
        "from imblearn.under_sampling import RandomUnderSampler\n",
        "\n",
        "#modelo classificador Random Forest\n",
        "from sklearn.ensemble import RandomForestClassifier\n",
        "\n",
        "#Classificador XGBoost\n",
        "from xgboost import XGBClassifier\n",
        "\n",
        "#classificador LightGBM\n",
        "from lightgbm import LGBMClassifier\n",
        "\n",
        "#métrica de classificação utilizada\n",
        "from sklearn.metrics import recall_score, precision_score, precision_recall_curve,confusion_matrix\n",
        "from sklearn.metrics import ConfusionMatrixDisplay,roc_auc_score,f1_score\n",
        "\n",
        "#agrupar matrizes esparsas\n",
        "from scipy.sparse import hstack"
      ],
      "metadata": {
        "id": "L93RUIh_XdGM"
      },
      "execution_count": null,
      "outputs": []
    },
    {
      "cell_type": "markdown",
      "source": [
        "Neste projeto abusaremos de visualizações **gráficas**. Para evitar a fadiga gerada por **reescrever** cada código, já deixaremos uma função de ajuste dos gráficos pronta para fazer este **serviço**."
      ],
      "metadata": {
        "id": "dk3STh_Xccyh"
      }
    },
    {
      "cell_type": "code",
      "source": [
        "#defindo uma função de ajuste para o layout dos gráficos\n",
        "def ajuste_layout(ax,titulo=None,location='left',xlabel=None,rotacao=0,\n",
        "                  ylabel=None,addlabels=False,\n",
        "                  y=None,distancia=0,dinheiro=False,\n",
        "                  grid=False,grid_lw=0.25,grid_style='--',\n",
        "                  y_milhares=False,x_milhares=False,\n",
        "                  xlabels = False,lista_para_o_x=None,\n",
        "                  ylabels = False,lista_para_o_y=None):\n",
        "\n",
        "  ax.set_frame_on(False)\n",
        "  ax.tick_params(axis='both',rotation=rotacao,colors='grey',length=0,labelsize=12)\n",
        "  ax.set_xlabel(xlabel,labelpad=20,fontdict={'fontsize':12},color='#4c4c4c')\n",
        "  ax.set_ylabel(ylabel,labelpad=20,fontdict={'fontsize':12},color='#4c4c4c')\n",
        "  ax.set_title(titulo,loc=location,pad=30,fontdict={'fontsize':20},color='#474747')\n",
        "\n",
        "  if addlabels:\n",
        "\n",
        "    ax.get_yaxis().set_visible(False)\n",
        "    if dinheiro:\n",
        "      for i in range(len(y)):\n",
        "        ax.text(i,y[i] + distancia,'${:,}'.format(int(y[i])).replace(',','.'),ha='center',fontsize=16,color='grey')\n",
        "    else:\n",
        "      for i in range(len(y)):\n",
        "        ax.text(i,y[i] + distancia,'{:,}'.format(int(y[i])).replace(',','.'),ha='center',fontsize=16,color='grey')\n",
        "  \n",
        "  if grid:\n",
        "    ax.grid(linestyle=grid_style,lw=grid_lw,aa=True)\n",
        "\n",
        "  if y_milhares:\n",
        "    ax.get_yaxis().set_major_formatter(matplotlib.ticker.FuncFormatter(lambda x, p: format(int(x), ',').replace(',','.')))\n",
        "  \n",
        "  if x_milhares:\n",
        "    ax.get_xaxis().set_major_formatter(matplotlib.ticker.FuncFormatter(lambda x, p: format(int(x), ',').replace(',','.')))\n",
        "  \n",
        "  if xlabels:\n",
        "    ax.set_xticklabels(lista_para_o_x,fontdict={'fontsize':12,'horizontalalignment':'center'},color='#6a6a6f',rotation=0)\n",
        "  \n",
        "  if ylabels:\n",
        "    ax.set_yticklabels(lista_para_o_y,fontdict={'fontsize':12,'verticalalignment':'center'},color='#6a6a6f',rotation=90)"
      ],
      "metadata": {
        "id": "Qzl9mxTe3-zb"
      },
      "execution_count": null,
      "outputs": []
    },
    {
      "cell_type": "markdown",
      "metadata": {
        "id": "5PCK4RxLpqd8"
      },
      "source": [
        "# Preparação dos Dados e Análise Exploratória\n",
        "\n",
        "O conjunto de **dados** empregado neste projeto parte de uma **competição** realizada pela Startup [Nubank](https://nubank.com.br/sobre-nos) a fim de revelar talentos e potenciais contratações desta *fintech*.\n",
        "\n",
        "As informações que serão utilizadas na análise estão **disponíveis** [neste link](http://dl.dropboxusercontent.com/s/xn2a4kzf0zer0xu/acquisition_train.csv?dl=0). Este *link*, contém basicamente um arquivo `csv` com 45.000 **registros** e 43 **variáveis** que pertencem a clientes [anonimizados](https://www.serpro.gov.br/lgpd/menu/protecao-de-dados/dados-anonimizados-lgpd) da empresa.\n",
        "\n",
        "Neste *dataset* cada linha representa uma **aplicação** para crédito, com diversas variáveis contendo os dados da aplicação e uma variável **alvo**, a `target_default`. Que informa se houve ou não **inadimplência** na operação.\n",
        "\n",
        "\n",
        "## Dicionário das Variáveis\n",
        "\n",
        "* `ids`: número **identificador** do cliente.\n",
        "* `target_default`: se a aplicação de crédito resultou no **descumprimento** das obrigações legais e condições do empréstimo.\n",
        "* `score_1` & `score_2`: são **codificações** alfa-numéricas internas da empresa.\n",
        "* `score_3` & `score_4` & `score_5` & `score_6`: pontuações **numéricas** dadas pela empresa.\n",
        "* `risk_rate`: taxa de risco associada ao cliente.\n",
        "* `last_amount_borrowed`: quantidade de dinheiro conferida no último empréstimo.\n",
        "* `last_borrowed_in_months`: em quantos meses deveria ser pago o último empréstimo.\n",
        "* `credit_limit`: **limite** de crédito do cartão.\n",
        "* `income`: **renda** do cliente.\n",
        "* `facebook_profile`: *analisando apenas o dataset não fica claro o significado desta variável.*\n",
        "* `reason` & `state` & `zip` & `channel`&`job_name`& `real_state`: são variáveis com **codificações** internas utilizadas apenas na empresa.\n",
        "* `ok_since`: *não foi encontrado **nenhum** significado relevante para esta variável. Além disso, metade dela está nula.*\n",
        "* `n_bankruptcies`: número que vezes que o cliente declarou **falência**.\n",
        "* `n_defaulted_loans`: número de vezes em que não cumpriu corretamente as condições de um **empréstimo**.\n",
        "* `n_accounts`: *Analisando apenas o dataset não fica claro o significado desta variável.*\n",
        "* `n_issues`: quantidade de **pendências** que o cliente ainda tem.\n",
        "* `application_time_applied`: **horário** em que a aplicação foi realizada.\n",
        "* `application_time_in_funnel`: *Analisando apenas o dataset não fica claro o significado desta variável.*\n",
        "* `email`: serviço de **e-mail** utilizado.\n",
        "* `external_data_provider_credit_checks_last_2_year` & `external_data_provider_credit_checks_last_month` & `external_data_provider_credit_checks_last_year`&`external_data_provider_email_seen_before` & `external_data_provider_first_name` & `external_data_provider_fraud_score`: informações obtidas por meios externos.\n",
        "* `lat_lon`: latitude-longitude **onde** a aplicação de crédito foi realizada.\n",
        "* `marketing_channel`: canal de **marketing** que proporcionou o cadastro do cliente.\n",
        "* `profile_phone_number`: número de **telefone** pessoal.\n",
        "* `reported_income`: **Renda** declarada.\n",
        "* `shipping_state`: **estado** para onde o cartão foi enviado.\n",
        "* `shipping_zip_code`: código **postal** para onde o cartão foi enviado.\n",
        "* `user_agent`: **software** que o usuário estava utilizando no cadastro.\n",
        "* `profile_tags`:tags atribuídas pela empresa.\n",
        "* `target_fraud`: se o cliente, amigos do cliente ou familiares sofreram algum tipo de **fraude**.\n",
        "\n"
      ]
    },
    {
      "cell_type": "code",
      "metadata": {
        "id": "PqMaG41qo1Y4",
        "colab": {
          "base_uri": "https://localhost:8080/",
          "height": 381
        },
        "outputId": "e0c6e945-4c73-42b2-96ec-d9ecdca6c051"
      },
      "source": [
        "#endereco dos dados\n",
        "path = 'http://dl.dropboxusercontent.com/s/xn2a4kzf0zer0xu/acquisition_train.csv?dl=0'\n",
        "\n",
        "#importando os dados\n",
        "df = pd.read_csv(path,index_col='ids')\n",
        "\n",
        "#exibindo as 2 primeiras entradas\n",
        "df.head(2)"
      ],
      "execution_count": null,
      "outputs": [
        {
          "output_type": "execute_result",
          "data": {
            "text/html": [
              "\n",
              "  <div id=\"df-7d34af39-e5ff-440f-bb4c-e7bf389a879b\">\n",
              "    <div class=\"colab-df-container\">\n",
              "      <div>\n",
              "<style scoped>\n",
              "    .dataframe tbody tr th:only-of-type {\n",
              "        vertical-align: middle;\n",
              "    }\n",
              "\n",
              "    .dataframe tbody tr th {\n",
              "        vertical-align: top;\n",
              "    }\n",
              "\n",
              "    .dataframe thead th {\n",
              "        text-align: right;\n",
              "    }\n",
              "</style>\n",
              "<table border=\"1\" class=\"dataframe\">\n",
              "  <thead>\n",
              "    <tr style=\"text-align: right;\">\n",
              "      <th></th>\n",
              "      <th>target_default</th>\n",
              "      <th>score_1</th>\n",
              "      <th>score_2</th>\n",
              "      <th>score_3</th>\n",
              "      <th>score_4</th>\n",
              "      <th>score_5</th>\n",
              "      <th>score_6</th>\n",
              "      <th>risk_rate</th>\n",
              "      <th>last_amount_borrowed</th>\n",
              "      <th>last_borrowed_in_months</th>\n",
              "      <th>credit_limit</th>\n",
              "      <th>reason</th>\n",
              "      <th>income</th>\n",
              "      <th>facebook_profile</th>\n",
              "      <th>state</th>\n",
              "      <th>zip</th>\n",
              "      <th>channel</th>\n",
              "      <th>job_name</th>\n",
              "      <th>real_state</th>\n",
              "      <th>ok_since</th>\n",
              "      <th>n_bankruptcies</th>\n",
              "      <th>n_defaulted_loans</th>\n",
              "      <th>n_accounts</th>\n",
              "      <th>n_issues</th>\n",
              "      <th>application_time_applied</th>\n",
              "      <th>application_time_in_funnel</th>\n",
              "      <th>email</th>\n",
              "      <th>external_data_provider_credit_checks_last_2_year</th>\n",
              "      <th>external_data_provider_credit_checks_last_month</th>\n",
              "      <th>external_data_provider_credit_checks_last_year</th>\n",
              "      <th>external_data_provider_email_seen_before</th>\n",
              "      <th>external_data_provider_first_name</th>\n",
              "      <th>external_data_provider_fraud_score</th>\n",
              "      <th>lat_lon</th>\n",
              "      <th>marketing_channel</th>\n",
              "      <th>profile_phone_number</th>\n",
              "      <th>reported_income</th>\n",
              "      <th>shipping_state</th>\n",
              "      <th>shipping_zip_code</th>\n",
              "      <th>profile_tags</th>\n",
              "      <th>user_agent</th>\n",
              "      <th>target_fraud</th>\n",
              "    </tr>\n",
              "    <tr>\n",
              "      <th>ids</th>\n",
              "      <th></th>\n",
              "      <th></th>\n",
              "      <th></th>\n",
              "      <th></th>\n",
              "      <th></th>\n",
              "      <th></th>\n",
              "      <th></th>\n",
              "      <th></th>\n",
              "      <th></th>\n",
              "      <th></th>\n",
              "      <th></th>\n",
              "      <th></th>\n",
              "      <th></th>\n",
              "      <th></th>\n",
              "      <th></th>\n",
              "      <th></th>\n",
              "      <th></th>\n",
              "      <th></th>\n",
              "      <th></th>\n",
              "      <th></th>\n",
              "      <th></th>\n",
              "      <th></th>\n",
              "      <th></th>\n",
              "      <th></th>\n",
              "      <th></th>\n",
              "      <th></th>\n",
              "      <th></th>\n",
              "      <th></th>\n",
              "      <th></th>\n",
              "      <th></th>\n",
              "      <th></th>\n",
              "      <th></th>\n",
              "      <th></th>\n",
              "      <th></th>\n",
              "      <th></th>\n",
              "      <th></th>\n",
              "      <th></th>\n",
              "      <th></th>\n",
              "      <th></th>\n",
              "      <th></th>\n",
              "      <th></th>\n",
              "      <th></th>\n",
              "    </tr>\n",
              "  </thead>\n",
              "  <tbody>\n",
              "    <tr>\n",
              "      <th>343b7e7b-2cf8-e508-b8fd-0a0285af30aa</th>\n",
              "      <td>False</td>\n",
              "      <td>1Rk8w4Ucd5yR3KcqZzLdow==</td>\n",
              "      <td>IOVu8au3ISbo6+zmfnYwMg==</td>\n",
              "      <td>350.0</td>\n",
              "      <td>101.800832</td>\n",
              "      <td>0.259555</td>\n",
              "      <td>108.427273</td>\n",
              "      <td>0.40</td>\n",
              "      <td>25033.92</td>\n",
              "      <td>36.0</td>\n",
              "      <td>0.0</td>\n",
              "      <td>mLVIVxoGY7TUDJ1FyFoSIZi1SFcaBmO01AydRchaEiGYtU...</td>\n",
              "      <td>65014.12</td>\n",
              "      <td>True</td>\n",
              "      <td>sjJbkqJS7cXalHLBFA+EOQ==</td>\n",
              "      <td>Ernn+uVXCMq/6ARrBCcd+A==</td>\n",
              "      <td>NCqL3QBx0pscDnx3ixKwXg==</td>\n",
              "      <td>mLVIVxoGY7TUDJ1FyFoSIZi1SFcaBmO01AydRchaEiGYtU...</td>\n",
              "      <td>N5/CE7lSkAfB04hVFFwllw==</td>\n",
              "      <td>NaN</td>\n",
              "      <td>0.0</td>\n",
              "      <td>0.0</td>\n",
              "      <td>18.0</td>\n",
              "      <td>18.0</td>\n",
              "      <td>07:52:34</td>\n",
              "      <td>444</td>\n",
              "      <td>outlook.com</td>\n",
              "      <td>NaN</td>\n",
              "      <td>2</td>\n",
              "      <td>0.0</td>\n",
              "      <td>51.0</td>\n",
              "      <td>leidelaura</td>\n",
              "      <td>645</td>\n",
              "      <td>(-29.151545708122246, -51.1386461804385)</td>\n",
              "      <td>Invite-email</td>\n",
              "      <td>514-9840782</td>\n",
              "      <td>57849.0</td>\n",
              "      <td>BR-MT</td>\n",
              "      <td>17528</td>\n",
              "      <td>{'tags': ['n19', 'n8']}</td>\n",
              "      <td>Mozilla/5.0 (Linux; Android 6.0.1; SGP771 Buil...</td>\n",
              "      <td>NaN</td>\n",
              "    </tr>\n",
              "    <tr>\n",
              "      <th>bc2c7502-bbad-0f8c-39c3-94e881967124</th>\n",
              "      <td>False</td>\n",
              "      <td>DGCQep2AE5QRkNCshIAlFQ==</td>\n",
              "      <td>SaamrHMo23l/3TwXOWgVzw==</td>\n",
              "      <td>370.0</td>\n",
              "      <td>97.062615</td>\n",
              "      <td>0.942655</td>\n",
              "      <td>92.002546</td>\n",
              "      <td>0.24</td>\n",
              "      <td>NaN</td>\n",
              "      <td>NaN</td>\n",
              "      <td>39726.0</td>\n",
              "      <td>mLVIVxoGY7TUDJ1FyFoSIZi1SFcaBmO01AydRchaEiGYtU...</td>\n",
              "      <td>100018.91</td>\n",
              "      <td>False</td>\n",
              "      <td>xsd3ZdsI3356I3xMxZeiqQ==</td>\n",
              "      <td>rlWIXTBO+VOa34+SpGyhlQ==</td>\n",
              "      <td>NCqL3QBx0pscDnx3ixKwXg==</td>\n",
              "      <td>mLVIVxoGY7TUDJ1FyFoSIZi1SFcaBmO01AydRchaEiGYtU...</td>\n",
              "      <td>N5/CE7lSkAfB04hVFFwllw==</td>\n",
              "      <td>50.0</td>\n",
              "      <td>0.0</td>\n",
              "      <td>0.0</td>\n",
              "      <td>14.0</td>\n",
              "      <td>14.0</td>\n",
              "      <td>02:34:29</td>\n",
              "      <td>346</td>\n",
              "      <td>gmail.com</td>\n",
              "      <td>0.0</td>\n",
              "      <td>1</td>\n",
              "      <td>0.0</td>\n",
              "      <td>17.0</td>\n",
              "      <td>diocezio</td>\n",
              "      <td>243</td>\n",
              "      <td>(-19.687710705798963, -47.94151536525154)</td>\n",
              "      <td>Radio-commercial</td>\n",
              "      <td>251-3659293</td>\n",
              "      <td>4902.0</td>\n",
              "      <td>BR-RS</td>\n",
              "      <td>40933</td>\n",
              "      <td>{'tags': ['n6', 'n7', 'nim']}</td>\n",
              "      <td>Mozilla/5.0 (Linux; Android 5.0.2; SAMSUNG SM-...</td>\n",
              "      <td>NaN</td>\n",
              "    </tr>\n",
              "  </tbody>\n",
              "</table>\n",
              "</div>\n",
              "      <button class=\"colab-df-convert\" onclick=\"convertToInteractive('df-7d34af39-e5ff-440f-bb4c-e7bf389a879b')\"\n",
              "              title=\"Convert this dataframe to an interactive table.\"\n",
              "              style=\"display:none;\">\n",
              "        \n",
              "  <svg xmlns=\"http://www.w3.org/2000/svg\" height=\"24px\"viewBox=\"0 0 24 24\"\n",
              "       width=\"24px\">\n",
              "    <path d=\"M0 0h24v24H0V0z\" fill=\"none\"/>\n",
              "    <path d=\"M18.56 5.44l.94 2.06.94-2.06 2.06-.94-2.06-.94-.94-2.06-.94 2.06-2.06.94zm-11 1L8.5 8.5l.94-2.06 2.06-.94-2.06-.94L8.5 2.5l-.94 2.06-2.06.94zm10 10l.94 2.06.94-2.06 2.06-.94-2.06-.94-.94-2.06-.94 2.06-2.06.94z\"/><path d=\"M17.41 7.96l-1.37-1.37c-.4-.4-.92-.59-1.43-.59-.52 0-1.04.2-1.43.59L10.3 9.45l-7.72 7.72c-.78.78-.78 2.05 0 2.83L4 21.41c.39.39.9.59 1.41.59.51 0 1.02-.2 1.41-.59l7.78-7.78 2.81-2.81c.8-.78.8-2.07 0-2.86zM5.41 20L4 18.59l7.72-7.72 1.47 1.35L5.41 20z\"/>\n",
              "  </svg>\n",
              "      </button>\n",
              "      \n",
              "  <style>\n",
              "    .colab-df-container {\n",
              "      display:flex;\n",
              "      flex-wrap:wrap;\n",
              "      gap: 12px;\n",
              "    }\n",
              "\n",
              "    .colab-df-convert {\n",
              "      background-color: #E8F0FE;\n",
              "      border: none;\n",
              "      border-radius: 50%;\n",
              "      cursor: pointer;\n",
              "      display: none;\n",
              "      fill: #1967D2;\n",
              "      height: 32px;\n",
              "      padding: 0 0 0 0;\n",
              "      width: 32px;\n",
              "    }\n",
              "\n",
              "    .colab-df-convert:hover {\n",
              "      background-color: #E2EBFA;\n",
              "      box-shadow: 0px 1px 2px rgba(60, 64, 67, 0.3), 0px 1px 3px 1px rgba(60, 64, 67, 0.15);\n",
              "      fill: #174EA6;\n",
              "    }\n",
              "\n",
              "    [theme=dark] .colab-df-convert {\n",
              "      background-color: #3B4455;\n",
              "      fill: #D2E3FC;\n",
              "    }\n",
              "\n",
              "    [theme=dark] .colab-df-convert:hover {\n",
              "      background-color: #434B5C;\n",
              "      box-shadow: 0px 1px 3px 1px rgba(0, 0, 0, 0.15);\n",
              "      filter: drop-shadow(0px 1px 2px rgba(0, 0, 0, 0.3));\n",
              "      fill: #FFFFFF;\n",
              "    }\n",
              "  </style>\n",
              "\n",
              "      <script>\n",
              "        const buttonEl =\n",
              "          document.querySelector('#df-7d34af39-e5ff-440f-bb4c-e7bf389a879b button.colab-df-convert');\n",
              "        buttonEl.style.display =\n",
              "          google.colab.kernel.accessAllowed ? 'block' : 'none';\n",
              "\n",
              "        async function convertToInteractive(key) {\n",
              "          const element = document.querySelector('#df-7d34af39-e5ff-440f-bb4c-e7bf389a879b');\n",
              "          const dataTable =\n",
              "            await google.colab.kernel.invokeFunction('convertToInteractive',\n",
              "                                                     [key], {});\n",
              "          if (!dataTable) return;\n",
              "\n",
              "          const docLinkHtml = 'Like what you see? Visit the ' +\n",
              "            '<a target=\"_blank\" href=https://colab.research.google.com/notebooks/data_table.ipynb>data table notebook</a>'\n",
              "            + ' to learn more about interactive tables.';\n",
              "          element.innerHTML = '';\n",
              "          dataTable['output_type'] = 'display_data';\n",
              "          await google.colab.output.renderOutput(dataTable, element);\n",
              "          const docLink = document.createElement('div');\n",
              "          docLink.innerHTML = docLinkHtml;\n",
              "          element.appendChild(docLink);\n",
              "        }\n",
              "      </script>\n",
              "    </div>\n",
              "  </div>\n",
              "  "
            ],
            "text/plain": [
              "                                     target_default  ... target_fraud\n",
              "ids                                                  ...             \n",
              "343b7e7b-2cf8-e508-b8fd-0a0285af30aa          False  ...          NaN\n",
              "bc2c7502-bbad-0f8c-39c3-94e881967124          False  ...          NaN\n",
              "\n",
              "[2 rows x 42 columns]"
            ]
          },
          "metadata": {},
          "execution_count": 3
        }
      ]
    },
    {
      "cell_type": "code",
      "source": [
        "#quantidade de registros e variáveis\n",
        "print('Este dataset contém:')\n",
        "print('{:,} registros.'.format(df.shape[0]).replace(',','.'))\n",
        "print('{} variáveis.'.format(df.shape[1]))"
      ],
      "metadata": {
        "colab": {
          "base_uri": "https://localhost:8080/"
        },
        "id": "Iaq85Lo6b1zn",
        "outputId": "481a1994-22d1-4f0b-8f80-528101cc7fdc"
      },
      "execution_count": null,
      "outputs": [
        {
          "output_type": "stream",
          "name": "stdout",
          "text": [
            "Este dataset contém:\n",
            "45.000 registros.\n",
            "42 variáveis.\n"
          ]
        }
      ]
    },
    {
      "cell_type": "code",
      "source": [
        "#avaliar os nomes de cada variável\n",
        "df.columns"
      ],
      "metadata": {
        "colab": {
          "base_uri": "https://localhost:8080/"
        },
        "id": "mH4fOseKchr1",
        "outputId": "a2b729d7-f281-45b9-e619-8cf6d086f6d4"
      },
      "execution_count": null,
      "outputs": [
        {
          "output_type": "execute_result",
          "data": {
            "text/plain": [
              "Index(['target_default', 'score_1', 'score_2', 'score_3', 'score_4', 'score_5',\n",
              "       'score_6', 'risk_rate', 'last_amount_borrowed',\n",
              "       'last_borrowed_in_months', 'credit_limit', 'reason', 'income',\n",
              "       'facebook_profile', 'state', 'zip', 'channel', 'job_name', 'real_state',\n",
              "       'ok_since', 'n_bankruptcies', 'n_defaulted_loans', 'n_accounts',\n",
              "       'n_issues', 'application_time_applied', 'application_time_in_funnel',\n",
              "       'email', 'external_data_provider_credit_checks_last_2_year',\n",
              "       'external_data_provider_credit_checks_last_month',\n",
              "       'external_data_provider_credit_checks_last_year',\n",
              "       'external_data_provider_email_seen_before',\n",
              "       'external_data_provider_first_name',\n",
              "       'external_data_provider_fraud_score', 'lat_lon', 'marketing_channel',\n",
              "       'profile_phone_number', 'reported_income', 'shipping_state',\n",
              "       'shipping_zip_code', 'profile_tags', 'user_agent', 'target_fraud'],\n",
              "      dtype='object')"
            ]
          },
          "metadata": {},
          "execution_count": 5
        }
      ]
    },
    {
      "cell_type": "markdown",
      "source": [
        "Agora, vamos avaliar quantos registros **únicos** temos em **cada** variável. Isto é importante, porque variáveis com valores únicos não irão **alterar** nosso modelo e registros que apresentam **muitos** valores devem ser **analisados** separadamente."
      ],
      "metadata": {
        "id": "_8lDptfNHi-D"
      }
    },
    {
      "cell_type": "code",
      "source": [
        "#verificando a quantidade de valres únicos\n",
        "df.nunique().sort_values(ascending=True)"
      ],
      "metadata": {
        "colab": {
          "base_uri": "https://localhost:8080/"
        },
        "id": "PACBh8RLG-lL",
        "outputId": "896c9655-526c-4388-8a8e-b8e1fbb5071d"
      },
      "execution_count": null,
      "outputs": [
        {
          "output_type": "execute_result",
          "data": {
            "text/plain": [
              "external_data_provider_credit_checks_last_2_year        1\n",
              "channel                                                 1\n",
              "target_default                                          2\n",
              "external_data_provider_credit_checks_last_year          2\n",
              "facebook_profile                                        2\n",
              "last_borrowed_in_months                                 2\n",
              "target_fraud                                            2\n",
              "external_data_provider_credit_checks_last_month         4\n",
              "real_state                                              5\n",
              "n_defaulted_loans                                       5\n",
              "n_bankruptcies                                          6\n",
              "email                                                   6\n",
              "score_1                                                 7\n",
              "marketing_channel                                       9\n",
              "shipping_state                                         25\n",
              "score_2                                                35\n",
              "n_issues                                               44\n",
              "n_accounts                                             44\n",
              "state                                                  50\n",
              "external_data_provider_email_seen_before               62\n",
              "risk_rate                                              82\n",
              "score_3                                                88\n",
              "ok_since                                              100\n",
              "user_agent                                            297\n",
              "application_time_in_funnel                            501\n",
              "zip                                                   823\n",
              "external_data_provider_fraud_score                   1001\n",
              "last_amount_borrowed                                14325\n",
              "reason                                              14874\n",
              "credit_limit                                        20928\n",
              "lat_lon                                             22412\n",
              "profile_tags                                        26131\n",
              "shipping_zip_code                                   28263\n",
              "job_name                                            32265\n",
              "external_data_provider_first_name                   32886\n",
              "application_time_applied                            35543\n",
              "reported_income                                     40025\n",
              "income                                              41211\n",
              "profile_phone_number                                45000\n",
              "score_4                                             45000\n",
              "score_6                                             45000\n",
              "score_5                                             45000\n",
              "dtype: int64"
            ]
          },
          "metadata": {},
          "execution_count": 6
        }
      ]
    },
    {
      "cell_type": "markdown",
      "source": [
        "<h2 align='center'>Variáveis com apenas uma categoria</h2>\n",
        "<table> \n",
        "<tr><td align='center'><b>Variável</b></td><td align='center'><b>Quantidade</b></td></tr>\n",
        "<tr><td align='center'>external_data_provider_credit_checks_last_2_year</td><td align='center'>1</td></tr>\n",
        "<tr><td align='center'>channel</td><td align='center'>1</td></tr>\n",
        "</table>"
      ],
      "metadata": {
        "id": "2RbEbLI2eXMQ"
      }
    },
    {
      "cell_type": "code",
      "source": [
        "#imprimindo os valores únicos das variáveis sem repetição\n",
        "print('Valores Únicos da variável external_data_provider_credit_checks_last_2_year:',df.external_data_provider_credit_checks_last_2_year.unique())\n",
        "print('Valores Únicos da variável channel:',df.channel.unique())"
      ],
      "metadata": {
        "colab": {
          "base_uri": "https://localhost:8080/"
        },
        "id": "fT1z3P6SeYSd",
        "outputId": "d66eddb8-5a27-498c-b566-23317b22324c"
      },
      "execution_count": null,
      "outputs": [
        {
          "output_type": "stream",
          "name": "stdout",
          "text": [
            "Valores Únicos da variável external_data_provider_credit_checks_last_2_year: [nan  0.]\n",
            "Valores Únicos da variável channel: ['NCqL3QBx0pscDnx3ixKwXg==' nan]\n"
          ]
        }
      ]
    },
    {
      "cell_type": "code",
      "source": [
        "#criando uma lista com as variáveis para dropar\n",
        "dropar = ['external_data_provider_credit_checks_last_2_year','channel']\n",
        "\n",
        "#dropando estas variáveis do dataset\n",
        "df.drop(labels=dropar,axis=1,inplace=True)"
      ],
      "metadata": {
        "id": "kkeAzWBefHIo"
      },
      "execution_count": null,
      "outputs": []
    },
    {
      "cell_type": "markdown",
      "source": [
        "<h2 align='center'>Variáveis com número de categorias iguais ao de registros</h2>\n",
        "<table> \n",
        "<tr><td align='center'><b>Variável</b></td><td align='center'><b>Quantidade</b></td><td align='center'><b>Observações</b></td></tr>\n",
        "<tr><td align='center'>profile_phone_number</td><td align='center'>45000</td><td><- telefones não caracterizam pessoas</td></tr>\n",
        "<tr><td align='center'>score_4</td><td align='center'>45000</td><td><- informação importante de cada cliente</td></tr>\n",
        "<tr><td align='center'>score_5</td><td align='center'>45000</td><td><- informação importante de cada cliente</td></tr>\n",
        "<tr><td align='center'>score_6</td><td align='center'>45000</td><td><- informação importante de cada cliente</td></tr>\n",
        "</table>\n"
      ],
      "metadata": {
        "id": "033l7wgpftrl"
      }
    },
    {
      "cell_type": "code",
      "source": [
        "#visualizando os valores da profile_phone_number\n",
        "df.profile_phone_number[:5]"
      ],
      "metadata": {
        "colab": {
          "base_uri": "https://localhost:8080/"
        },
        "id": "KNCeRP-lfvdj",
        "outputId": "3ce49700-8915-4f43-ab82-bfa51a69a0ff"
      },
      "execution_count": null,
      "outputs": [
        {
          "output_type": "execute_result",
          "data": {
            "text/plain": [
              "ids\n",
              "343b7e7b-2cf8-e508-b8fd-0a0285af30aa    514-9840782\n",
              "bc2c7502-bbad-0f8c-39c3-94e881967124    251-3659293\n",
              "669630dd-2e6a-0396-84bf-455e5009c922    230-6097993\n",
              "d235609e-b6cb-0ccc-a329-d4f12e7ebdc1    261-3543751\n",
              "9e0eb880-e8f4-3faa-67d8-f5cdd2b3932b    102-3660162\n",
              "Name: profile_phone_number, dtype: object"
            ]
          },
          "metadata": {},
          "execution_count": 9
        }
      ]
    },
    {
      "cell_type": "code",
      "source": [
        "#dropando esta variável\n",
        "df.drop(labels='profile_phone_number',axis=1,inplace=True)"
      ],
      "metadata": {
        "id": "A11DRrjAf4_e"
      },
      "execution_count": null,
      "outputs": []
    },
    {
      "cell_type": "markdown",
      "source": [
        "Após as pequenas **mudanças** que realizamos, vamos retornar e dar uma olhada em nossas colunas novamente!"
      ],
      "metadata": {
        "id": "92kqOxqygT3u"
      }
    },
    {
      "cell_type": "code",
      "source": [
        "#visualizando 2 entradas do dataset\n",
        "df.head(2)"
      ],
      "metadata": {
        "colab": {
          "base_uri": "https://localhost:8080/",
          "height": 381
        },
        "id": "QO-9BXqAgVaa",
        "outputId": "64a8b1ba-f661-48c4-9819-4b0397db7314"
      },
      "execution_count": null,
      "outputs": [
        {
          "output_type": "execute_result",
          "data": {
            "text/html": [
              "\n",
              "  <div id=\"df-b7bb87b5-d7db-41f7-9764-d7864ea424c5\">\n",
              "    <div class=\"colab-df-container\">\n",
              "      <div>\n",
              "<style scoped>\n",
              "    .dataframe tbody tr th:only-of-type {\n",
              "        vertical-align: middle;\n",
              "    }\n",
              "\n",
              "    .dataframe tbody tr th {\n",
              "        vertical-align: top;\n",
              "    }\n",
              "\n",
              "    .dataframe thead th {\n",
              "        text-align: right;\n",
              "    }\n",
              "</style>\n",
              "<table border=\"1\" class=\"dataframe\">\n",
              "  <thead>\n",
              "    <tr style=\"text-align: right;\">\n",
              "      <th></th>\n",
              "      <th>target_default</th>\n",
              "      <th>score_1</th>\n",
              "      <th>score_2</th>\n",
              "      <th>score_3</th>\n",
              "      <th>score_4</th>\n",
              "      <th>score_5</th>\n",
              "      <th>score_6</th>\n",
              "      <th>risk_rate</th>\n",
              "      <th>last_amount_borrowed</th>\n",
              "      <th>last_borrowed_in_months</th>\n",
              "      <th>credit_limit</th>\n",
              "      <th>reason</th>\n",
              "      <th>income</th>\n",
              "      <th>facebook_profile</th>\n",
              "      <th>state</th>\n",
              "      <th>zip</th>\n",
              "      <th>job_name</th>\n",
              "      <th>real_state</th>\n",
              "      <th>ok_since</th>\n",
              "      <th>n_bankruptcies</th>\n",
              "      <th>n_defaulted_loans</th>\n",
              "      <th>n_accounts</th>\n",
              "      <th>n_issues</th>\n",
              "      <th>application_time_applied</th>\n",
              "      <th>application_time_in_funnel</th>\n",
              "      <th>email</th>\n",
              "      <th>external_data_provider_credit_checks_last_month</th>\n",
              "      <th>external_data_provider_credit_checks_last_year</th>\n",
              "      <th>external_data_provider_email_seen_before</th>\n",
              "      <th>external_data_provider_first_name</th>\n",
              "      <th>external_data_provider_fraud_score</th>\n",
              "      <th>lat_lon</th>\n",
              "      <th>marketing_channel</th>\n",
              "      <th>reported_income</th>\n",
              "      <th>shipping_state</th>\n",
              "      <th>shipping_zip_code</th>\n",
              "      <th>profile_tags</th>\n",
              "      <th>user_agent</th>\n",
              "      <th>target_fraud</th>\n",
              "    </tr>\n",
              "    <tr>\n",
              "      <th>ids</th>\n",
              "      <th></th>\n",
              "      <th></th>\n",
              "      <th></th>\n",
              "      <th></th>\n",
              "      <th></th>\n",
              "      <th></th>\n",
              "      <th></th>\n",
              "      <th></th>\n",
              "      <th></th>\n",
              "      <th></th>\n",
              "      <th></th>\n",
              "      <th></th>\n",
              "      <th></th>\n",
              "      <th></th>\n",
              "      <th></th>\n",
              "      <th></th>\n",
              "      <th></th>\n",
              "      <th></th>\n",
              "      <th></th>\n",
              "      <th></th>\n",
              "      <th></th>\n",
              "      <th></th>\n",
              "      <th></th>\n",
              "      <th></th>\n",
              "      <th></th>\n",
              "      <th></th>\n",
              "      <th></th>\n",
              "      <th></th>\n",
              "      <th></th>\n",
              "      <th></th>\n",
              "      <th></th>\n",
              "      <th></th>\n",
              "      <th></th>\n",
              "      <th></th>\n",
              "      <th></th>\n",
              "      <th></th>\n",
              "      <th></th>\n",
              "      <th></th>\n",
              "      <th></th>\n",
              "    </tr>\n",
              "  </thead>\n",
              "  <tbody>\n",
              "    <tr>\n",
              "      <th>343b7e7b-2cf8-e508-b8fd-0a0285af30aa</th>\n",
              "      <td>False</td>\n",
              "      <td>1Rk8w4Ucd5yR3KcqZzLdow==</td>\n",
              "      <td>IOVu8au3ISbo6+zmfnYwMg==</td>\n",
              "      <td>350.0</td>\n",
              "      <td>101.800832</td>\n",
              "      <td>0.259555</td>\n",
              "      <td>108.427273</td>\n",
              "      <td>0.40</td>\n",
              "      <td>25033.92</td>\n",
              "      <td>36.0</td>\n",
              "      <td>0.0</td>\n",
              "      <td>mLVIVxoGY7TUDJ1FyFoSIZi1SFcaBmO01AydRchaEiGYtU...</td>\n",
              "      <td>65014.12</td>\n",
              "      <td>True</td>\n",
              "      <td>sjJbkqJS7cXalHLBFA+EOQ==</td>\n",
              "      <td>Ernn+uVXCMq/6ARrBCcd+A==</td>\n",
              "      <td>mLVIVxoGY7TUDJ1FyFoSIZi1SFcaBmO01AydRchaEiGYtU...</td>\n",
              "      <td>N5/CE7lSkAfB04hVFFwllw==</td>\n",
              "      <td>NaN</td>\n",
              "      <td>0.0</td>\n",
              "      <td>0.0</td>\n",
              "      <td>18.0</td>\n",
              "      <td>18.0</td>\n",
              "      <td>07:52:34</td>\n",
              "      <td>444</td>\n",
              "      <td>outlook.com</td>\n",
              "      <td>2</td>\n",
              "      <td>0.0</td>\n",
              "      <td>51.0</td>\n",
              "      <td>leidelaura</td>\n",
              "      <td>645</td>\n",
              "      <td>(-29.151545708122246, -51.1386461804385)</td>\n",
              "      <td>Invite-email</td>\n",
              "      <td>57849.0</td>\n",
              "      <td>BR-MT</td>\n",
              "      <td>17528</td>\n",
              "      <td>{'tags': ['n19', 'n8']}</td>\n",
              "      <td>Mozilla/5.0 (Linux; Android 6.0.1; SGP771 Buil...</td>\n",
              "      <td>NaN</td>\n",
              "    </tr>\n",
              "    <tr>\n",
              "      <th>bc2c7502-bbad-0f8c-39c3-94e881967124</th>\n",
              "      <td>False</td>\n",
              "      <td>DGCQep2AE5QRkNCshIAlFQ==</td>\n",
              "      <td>SaamrHMo23l/3TwXOWgVzw==</td>\n",
              "      <td>370.0</td>\n",
              "      <td>97.062615</td>\n",
              "      <td>0.942655</td>\n",
              "      <td>92.002546</td>\n",
              "      <td>0.24</td>\n",
              "      <td>NaN</td>\n",
              "      <td>NaN</td>\n",
              "      <td>39726.0</td>\n",
              "      <td>mLVIVxoGY7TUDJ1FyFoSIZi1SFcaBmO01AydRchaEiGYtU...</td>\n",
              "      <td>100018.91</td>\n",
              "      <td>False</td>\n",
              "      <td>xsd3ZdsI3356I3xMxZeiqQ==</td>\n",
              "      <td>rlWIXTBO+VOa34+SpGyhlQ==</td>\n",
              "      <td>mLVIVxoGY7TUDJ1FyFoSIZi1SFcaBmO01AydRchaEiGYtU...</td>\n",
              "      <td>N5/CE7lSkAfB04hVFFwllw==</td>\n",
              "      <td>50.0</td>\n",
              "      <td>0.0</td>\n",
              "      <td>0.0</td>\n",
              "      <td>14.0</td>\n",
              "      <td>14.0</td>\n",
              "      <td>02:34:29</td>\n",
              "      <td>346</td>\n",
              "      <td>gmail.com</td>\n",
              "      <td>1</td>\n",
              "      <td>0.0</td>\n",
              "      <td>17.0</td>\n",
              "      <td>diocezio</td>\n",
              "      <td>243</td>\n",
              "      <td>(-19.687710705798963, -47.94151536525154)</td>\n",
              "      <td>Radio-commercial</td>\n",
              "      <td>4902.0</td>\n",
              "      <td>BR-RS</td>\n",
              "      <td>40933</td>\n",
              "      <td>{'tags': ['n6', 'n7', 'nim']}</td>\n",
              "      <td>Mozilla/5.0 (Linux; Android 5.0.2; SAMSUNG SM-...</td>\n",
              "      <td>NaN</td>\n",
              "    </tr>\n",
              "  </tbody>\n",
              "</table>\n",
              "</div>\n",
              "      <button class=\"colab-df-convert\" onclick=\"convertToInteractive('df-b7bb87b5-d7db-41f7-9764-d7864ea424c5')\"\n",
              "              title=\"Convert this dataframe to an interactive table.\"\n",
              "              style=\"display:none;\">\n",
              "        \n",
              "  <svg xmlns=\"http://www.w3.org/2000/svg\" height=\"24px\"viewBox=\"0 0 24 24\"\n",
              "       width=\"24px\">\n",
              "    <path d=\"M0 0h24v24H0V0z\" fill=\"none\"/>\n",
              "    <path d=\"M18.56 5.44l.94 2.06.94-2.06 2.06-.94-2.06-.94-.94-2.06-.94 2.06-2.06.94zm-11 1L8.5 8.5l.94-2.06 2.06-.94-2.06-.94L8.5 2.5l-.94 2.06-2.06.94zm10 10l.94 2.06.94-2.06 2.06-.94-2.06-.94-.94-2.06-.94 2.06-2.06.94z\"/><path d=\"M17.41 7.96l-1.37-1.37c-.4-.4-.92-.59-1.43-.59-.52 0-1.04.2-1.43.59L10.3 9.45l-7.72 7.72c-.78.78-.78 2.05 0 2.83L4 21.41c.39.39.9.59 1.41.59.51 0 1.02-.2 1.41-.59l7.78-7.78 2.81-2.81c.8-.78.8-2.07 0-2.86zM5.41 20L4 18.59l7.72-7.72 1.47 1.35L5.41 20z\"/>\n",
              "  </svg>\n",
              "      </button>\n",
              "      \n",
              "  <style>\n",
              "    .colab-df-container {\n",
              "      display:flex;\n",
              "      flex-wrap:wrap;\n",
              "      gap: 12px;\n",
              "    }\n",
              "\n",
              "    .colab-df-convert {\n",
              "      background-color: #E8F0FE;\n",
              "      border: none;\n",
              "      border-radius: 50%;\n",
              "      cursor: pointer;\n",
              "      display: none;\n",
              "      fill: #1967D2;\n",
              "      height: 32px;\n",
              "      padding: 0 0 0 0;\n",
              "      width: 32px;\n",
              "    }\n",
              "\n",
              "    .colab-df-convert:hover {\n",
              "      background-color: #E2EBFA;\n",
              "      box-shadow: 0px 1px 2px rgba(60, 64, 67, 0.3), 0px 1px 3px 1px rgba(60, 64, 67, 0.15);\n",
              "      fill: #174EA6;\n",
              "    }\n",
              "\n",
              "    [theme=dark] .colab-df-convert {\n",
              "      background-color: #3B4455;\n",
              "      fill: #D2E3FC;\n",
              "    }\n",
              "\n",
              "    [theme=dark] .colab-df-convert:hover {\n",
              "      background-color: #434B5C;\n",
              "      box-shadow: 0px 1px 3px 1px rgba(0, 0, 0, 0.15);\n",
              "      filter: drop-shadow(0px 1px 2px rgba(0, 0, 0, 0.3));\n",
              "      fill: #FFFFFF;\n",
              "    }\n",
              "  </style>\n",
              "\n",
              "      <script>\n",
              "        const buttonEl =\n",
              "          document.querySelector('#df-b7bb87b5-d7db-41f7-9764-d7864ea424c5 button.colab-df-convert');\n",
              "        buttonEl.style.display =\n",
              "          google.colab.kernel.accessAllowed ? 'block' : 'none';\n",
              "\n",
              "        async function convertToInteractive(key) {\n",
              "          const element = document.querySelector('#df-b7bb87b5-d7db-41f7-9764-d7864ea424c5');\n",
              "          const dataTable =\n",
              "            await google.colab.kernel.invokeFunction('convertToInteractive',\n",
              "                                                     [key], {});\n",
              "          if (!dataTable) return;\n",
              "\n",
              "          const docLinkHtml = 'Like what you see? Visit the ' +\n",
              "            '<a target=\"_blank\" href=https://colab.research.google.com/notebooks/data_table.ipynb>data table notebook</a>'\n",
              "            + ' to learn more about interactive tables.';\n",
              "          element.innerHTML = '';\n",
              "          dataTable['output_type'] = 'display_data';\n",
              "          await google.colab.output.renderOutput(dataTable, element);\n",
              "          const docLink = document.createElement('div');\n",
              "          docLink.innerHTML = docLinkHtml;\n",
              "          element.appendChild(docLink);\n",
              "        }\n",
              "      </script>\n",
              "    </div>\n",
              "  </div>\n",
              "  "
            ],
            "text/plain": [
              "                                     target_default  ... target_fraud\n",
              "ids                                                  ...             \n",
              "343b7e7b-2cf8-e508-b8fd-0a0285af30aa          False  ...          NaN\n",
              "bc2c7502-bbad-0f8c-39c3-94e881967124          False  ...          NaN\n",
              "\n",
              "[2 rows x 39 columns]"
            ]
          },
          "metadata": {},
          "execution_count": 11
        }
      ]
    },
    {
      "cell_type": "markdown",
      "source": [
        "Ao observar apenas os registros de **cada** variável, algumas delas chamam atenção."
      ],
      "metadata": {
        "id": "ITv_nydUYJfL"
      }
    },
    {
      "cell_type": "code",
      "source": [
        "#verificando valores únicos de variáveis que chamaram a atenção\n",
        "print('Valores únicos da variável real_state:',df.real_state.nunique())\n",
        "print('Valores únicos da variável user_agent:',df.user_agent.nunique())\n",
        "print('Valores únicos da variável state:',df.state.nunique())\n",
        "print('Valores únicos da variável zip:',df.zip.nunique())\n",
        "print('Valores únicos da variável reason:',df.reason.nunique())\n",
        "print('Valores únicos da variável shipping_zip_code:',df.shipping_zip_code.nunique())\n",
        "print('Valores únicos da variável job_name:',df.job_name.nunique())\n",
        "print('Valores únicos da variável external_data_provider_first_name:',df.external_data_provider_first_name.nunique())"
      ],
      "metadata": {
        "colab": {
          "base_uri": "https://localhost:8080/"
        },
        "id": "LaotAu4nggCu",
        "outputId": "6ef8136b-3886-4b08-ad09-47108c989226"
      },
      "execution_count": null,
      "outputs": [
        {
          "output_type": "stream",
          "name": "stdout",
          "text": [
            "Valores únicos da variável real_state: 5\n",
            "Valores únicos da variável user_agent: 297\n",
            "Valores únicos da variável state: 50\n",
            "Valores únicos da variável zip: 823\n",
            "Valores únicos da variável reason: 14874\n",
            "Valores únicos da variável shipping_zip_code: 28263\n",
            "Valores únicos da variável job_name: 32265\n",
            "Valores únicos da variável external_data_provider_first_name: 32886\n"
          ]
        }
      ]
    },
    {
      "cell_type": "markdown",
      "source": [
        "A `shipping_zip_code` e `zip` são informações referente ao CEP e serão retiradas de nosso dataset. Este tipo de informação **geográfica** pode ser encontradas em outras variáveis menos específicas.\n",
        "\n",
        "Será considerado que a variável `external_data_provider_first_name` não trará nenhum valor agregado ao modelo, uma vez que apenas o **nome** de alguém não pode ser considerado uma característica de **inadimplência**.\n"
      ],
      "metadata": {
        "id": "l42t3M0VhXsi"
      }
    },
    {
      "cell_type": "code",
      "source": [
        "#lista de variáveis que serão dropadas\n",
        "drop_apos_unique = ['zip','shipping_zip_code',\n",
        "                    'external_data_provider_first_name','target_fraud']\n",
        "\n",
        "#dropando estas variáveis do dataset\n",
        "df.drop(labels=drop_apos_unique,axis=1,inplace=True)"
      ],
      "metadata": {
        "id": "p7m65wCxvOtN"
      },
      "execution_count": null,
      "outputs": []
    },
    {
      "cell_type": "code",
      "source": [
        "#verificando tamanho do dataset\n",
        "df.shape"
      ],
      "metadata": {
        "colab": {
          "base_uri": "https://localhost:8080/"
        },
        "id": "ct0ZyOPShzjQ",
        "outputId": "3842369f-e994-4e2f-ff5a-6d634fdf2990"
      },
      "execution_count": null,
      "outputs": [
        {
          "output_type": "execute_result",
          "data": {
            "text/plain": [
              "(45000, 35)"
            ]
          },
          "metadata": {},
          "execution_count": 14
        }
      ]
    },
    {
      "cell_type": "markdown",
      "source": [
        "Agora, precisamos analisar o **formato** dos dados. Ao que parece, está tudo nos conformes. Exceto nossa variável alvo, a `target_default`, e a `application_time_applied`. \n",
        "\n",
        "\n",
        "A `target_default` está expressa como `True` or `False`.Para ajustar isso, vamos substituir o *True* por **1** e o *False* por **0**.\n",
        "\n",
        "Já a `application_time_applied` está retornando o horário das aplicações, incluindo os minutos e os segundos. Nós queremos saber apenas as **horas**! Por conta disso, pegaremos apenas os dois primeiros algarismos."
      ],
      "metadata": {
        "id": "95PoN7V37ZrQ"
      }
    },
    {
      "cell_type": "code",
      "source": [
        "#formato dos dados do dataset\n",
        "df.info()"
      ],
      "metadata": {
        "colab": {
          "base_uri": "https://localhost:8080/"
        },
        "id": "1Ws3LJq7fdW1",
        "outputId": "f907baa0-10f9-4bab-9c3a-9c16dbee4146"
      },
      "execution_count": null,
      "outputs": [
        {
          "output_type": "stream",
          "name": "stdout",
          "text": [
            "<class 'pandas.core.frame.DataFrame'>\n",
            "Index: 45000 entries, 343b7e7b-2cf8-e508-b8fd-0a0285af30aa to a7504e93-123a-f965-70c6-ab01a0d475f7\n",
            "Data columns (total 35 columns):\n",
            " #   Column                                           Non-Null Count  Dtype  \n",
            "---  ------                                           --------------  -----  \n",
            " 0   target_default                                   41741 non-null  object \n",
            " 1   score_1                                          44438 non-null  object \n",
            " 2   score_2                                          44438 non-null  object \n",
            " 3   score_3                                          44438 non-null  float64\n",
            " 4   score_4                                          45000 non-null  float64\n",
            " 5   score_5                                          45000 non-null  float64\n",
            " 6   score_6                                          45000 non-null  float64\n",
            " 7   risk_rate                                        44438 non-null  float64\n",
            " 8   last_amount_borrowed                             15044 non-null  float64\n",
            " 9   last_borrowed_in_months                          15044 non-null  float64\n",
            " 10  credit_limit                                     31200 non-null  float64\n",
            " 11  reason                                           44434 non-null  object \n",
            " 12  income                                           44438 non-null  float64\n",
            " 13  facebook_profile                                 40542 non-null  object \n",
            " 14  state                                            44438 non-null  object \n",
            " 15  job_name                                         41664 non-null  object \n",
            " 16  real_state                                       44438 non-null  object \n",
            " 17  ok_since                                         18455 non-null  float64\n",
            " 18  n_bankruptcies                                   44303 non-null  float64\n",
            " 19  n_defaulted_loans                                44426 non-null  float64\n",
            " 20  n_accounts                                       44438 non-null  float64\n",
            " 21  n_issues                                         33456 non-null  float64\n",
            " 22  application_time_applied                         45000 non-null  object \n",
            " 23  application_time_in_funnel                       45000 non-null  int64  \n",
            " 24  email                                            45000 non-null  object \n",
            " 25  external_data_provider_credit_checks_last_month  45000 non-null  int64  \n",
            " 26  external_data_provider_credit_checks_last_year   29876 non-null  float64\n",
            " 27  external_data_provider_email_seen_before         42767 non-null  float64\n",
            " 28  external_data_provider_fraud_score               45000 non-null  int64  \n",
            " 29  lat_lon                                          43637 non-null  object \n",
            " 30  marketing_channel                                41422 non-null  object \n",
            " 31  reported_income                                  45000 non-null  float64\n",
            " 32  shipping_state                                   45000 non-null  object \n",
            " 33  profile_tags                                     45000 non-null  object \n",
            " 34  user_agent                                       44278 non-null  object \n",
            "dtypes: float64(17), int64(3), object(15)\n",
            "memory usage: 12.4+ MB\n"
          ]
        }
      ]
    },
    {
      "cell_type": "code",
      "source": [
        "#dicionario para a troca\n",
        "dic = {False:0,True:1}\n",
        "\n",
        "#mudar os valores\n",
        "df.target_default = df.target_default.replace(dic)\n",
        "\n",
        "#visualizar as 3 primeiras entradas\n",
        "df.target_default[:3]"
      ],
      "metadata": {
        "colab": {
          "base_uri": "https://localhost:8080/"
        },
        "id": "W02aM1vg9hk4",
        "outputId": "7a9c2728-5703-48e4-8bd3-9dbe9d264461"
      },
      "execution_count": null,
      "outputs": [
        {
          "output_type": "execute_result",
          "data": {
            "text/plain": [
              "ids\n",
              "343b7e7b-2cf8-e508-b8fd-0a0285af30aa    0.0\n",
              "bc2c7502-bbad-0f8c-39c3-94e881967124    0.0\n",
              "669630dd-2e6a-0396-84bf-455e5009c922    1.0\n",
              "Name: target_default, dtype: float64"
            ]
          },
          "metadata": {},
          "execution_count": 16
        }
      ]
    },
    {
      "cell_type": "code",
      "source": [
        "#visualizando a application_time_applied\n",
        "df.application_time_applied[:3]"
      ],
      "metadata": {
        "colab": {
          "base_uri": "https://localhost:8080/"
        },
        "id": "xPhhw88Z-MjP",
        "outputId": "ae8a61b3-1b96-475d-e2b7-2896ece5535d"
      },
      "execution_count": null,
      "outputs": [
        {
          "output_type": "execute_result",
          "data": {
            "text/plain": [
              "ids\n",
              "343b7e7b-2cf8-e508-b8fd-0a0285af30aa    07:52:34\n",
              "bc2c7502-bbad-0f8c-39c3-94e881967124    02:34:29\n",
              "669630dd-2e6a-0396-84bf-455e5009c922    00:60:02\n",
              "Name: application_time_applied, dtype: object"
            ]
          },
          "metadata": {},
          "execution_count": 17
        }
      ]
    },
    {
      "cell_type": "code",
      "source": [
        "#ajustando o application time\n",
        "df.application_time_applied = df.application_time_applied.str[:2].astype('int32')\n",
        "\n",
        "#visualizar as 3 primeiras entradas\n",
        "df.application_time_applied[:3]"
      ],
      "metadata": {
        "colab": {
          "base_uri": "https://localhost:8080/"
        },
        "id": "SkeTsGjn-MlJ",
        "outputId": "7c5b08ad-fe4a-4509-f3ff-65d33bf565b8"
      },
      "execution_count": null,
      "outputs": [
        {
          "output_type": "execute_result",
          "data": {
            "text/plain": [
              "ids\n",
              "343b7e7b-2cf8-e508-b8fd-0a0285af30aa    7\n",
              "bc2c7502-bbad-0f8c-39c3-94e881967124    2\n",
              "669630dd-2e6a-0396-84bf-455e5009c922    0\n",
              "Name: application_time_applied, dtype: int32"
            ]
          },
          "metadata": {},
          "execution_count": 18
        }
      ]
    },
    {
      "cell_type": "markdown",
      "source": [
        "Agora é hora de avaliar um pouco a qualidade de nossos dados. Vamos verificar a fração de dados **ausentes** de nosso dataset."
      ],
      "metadata": {
        "id": "_R8RiS-L7WfT"
      }
    },
    {
      "cell_type": "code",
      "source": [
        "#quantidade de valores ausentes\n",
        "(df.isnull().sum() / df.shape[0]).sort_values(ascending=False).round(2)"
      ],
      "metadata": {
        "colab": {
          "base_uri": "https://localhost:8080/"
        },
        "id": "YjV_fsuygBGs",
        "outputId": "821534fe-7308-49de-cba2-9c196fb4f081"
      },
      "execution_count": null,
      "outputs": [
        {
          "output_type": "execute_result",
          "data": {
            "text/plain": [
              "last_amount_borrowed                               0.67\n",
              "last_borrowed_in_months                            0.67\n",
              "ok_since                                           0.59\n",
              "external_data_provider_credit_checks_last_year     0.34\n",
              "credit_limit                                       0.31\n",
              "n_issues                                           0.26\n",
              "facebook_profile                                   0.10\n",
              "marketing_channel                                  0.08\n",
              "job_name                                           0.07\n",
              "target_default                                     0.07\n",
              "external_data_provider_email_seen_before           0.05\n",
              "lat_lon                                            0.03\n",
              "user_agent                                         0.02\n",
              "n_bankruptcies                                     0.02\n",
              "n_defaulted_loans                                  0.01\n",
              "reason                                             0.01\n",
              "score_1                                            0.01\n",
              "score_2                                            0.01\n",
              "score_3                                            0.01\n",
              "risk_rate                                          0.01\n",
              "income                                             0.01\n",
              "state                                              0.01\n",
              "real_state                                         0.01\n",
              "n_accounts                                         0.01\n",
              "external_data_provider_fraud_score                 0.00\n",
              "application_time_in_funnel                         0.00\n",
              "reported_income                                    0.00\n",
              "shipping_state                                     0.00\n",
              "profile_tags                                       0.00\n",
              "score_6                                            0.00\n",
              "score_5                                            0.00\n",
              "score_4                                            0.00\n",
              "external_data_provider_credit_checks_last_month    0.00\n",
              "application_time_applied                           0.00\n",
              "email                                              0.00\n",
              "dtype: float64"
            ]
          },
          "metadata": {},
          "execution_count": 19
        }
      ]
    },
    {
      "cell_type": "markdown",
      "source": [
        "<h2 align='center'>Analisando as principais variáveis ausentes</h2>\n",
        "<table> \n",
        "<tr><td align='center'><b>Variável</b></td><td align='center'><b>Fração Ausente</b></td></tr>\n",
        "<tr><td align='center'>last_amount_borrowed</td><td align='center'>0.67</td><td><- o ausente será considerado que não houve empréstimo</td></tr>\n",
        "<tr><td align='center'>last_borrowed_in_months</td><td align='center'>0.67</td><td><- o ausente será considerado que não houve empréstimo</td></tr>\n",
        "<tr><td align='center'>ok_since</td><td align='center'>0.59</td><td><- não foi encontrado significado para esta variável, será retirada do dataset</td></tr>\n",
        "<tr><td align='center'>external_data_provider_credit_checks_last_year</td><td align='center'>0.34</td><td><- será retirado do dataset, não é possível prever se devemos substituir os ausentes por zero ou um</td></tr>\n",
        "<tr><td align='center'>credit_limit</td><td align='center'>0.31</td><td><- valores ausentes serão substituídas pela mediana</td></tr>\n",
        "<tr><td align='center'>n_issues</td><td align='center'>0.26</td><td><- valores ausentes serão substituídas pela mediana</td></tr>\n",
        "</table>"
      ],
      "metadata": {
        "id": "g6VtvA9Si4j2"
      }
    },
    {
      "cell_type": "code",
      "source": [
        "#lista de variáveis com muitos valores ausentes\n",
        "lista_verificar = ['last_amount_borrowed','last_borrowed_in_months']\n",
        "\n",
        "#avaliando as variáveis\n",
        "df[lista_verificar].sort_values(by='last_amount_borrowed',ascending=True)"
      ],
      "metadata": {
        "colab": {
          "base_uri": "https://localhost:8080/",
          "height": 454
        },
        "id": "4yyDFjEMjqe-",
        "outputId": "f00b3eb9-00b8-4e0b-f3d6-d30ac077378a"
      },
      "execution_count": null,
      "outputs": [
        {
          "output_type": "execute_result",
          "data": {
            "text/html": [
              "\n",
              "  <div id=\"df-0665d069-360f-4afc-8644-76dc43a591fe\">\n",
              "    <div class=\"colab-df-container\">\n",
              "      <div>\n",
              "<style scoped>\n",
              "    .dataframe tbody tr th:only-of-type {\n",
              "        vertical-align: middle;\n",
              "    }\n",
              "\n",
              "    .dataframe tbody tr th {\n",
              "        vertical-align: top;\n",
              "    }\n",
              "\n",
              "    .dataframe thead th {\n",
              "        text-align: right;\n",
              "    }\n",
              "</style>\n",
              "<table border=\"1\" class=\"dataframe\">\n",
              "  <thead>\n",
              "    <tr style=\"text-align: right;\">\n",
              "      <th></th>\n",
              "      <th>last_amount_borrowed</th>\n",
              "      <th>last_borrowed_in_months</th>\n",
              "    </tr>\n",
              "    <tr>\n",
              "      <th>ids</th>\n",
              "      <th></th>\n",
              "      <th></th>\n",
              "    </tr>\n",
              "  </thead>\n",
              "  <tbody>\n",
              "    <tr>\n",
              "      <th>a6d2afc2-9383-2486-7c07-086ad11710bf</th>\n",
              "      <td>1005.18</td>\n",
              "      <td>36.0</td>\n",
              "    </tr>\n",
              "    <tr>\n",
              "      <th>9946a70a-a1f9-dae0-885e-91255e6044b1</th>\n",
              "      <td>1005.92</td>\n",
              "      <td>36.0</td>\n",
              "    </tr>\n",
              "    <tr>\n",
              "      <th>bba309ef-47dc-7cba-7d9b-272a6255f37b</th>\n",
              "      <td>1007.08</td>\n",
              "      <td>36.0</td>\n",
              "    </tr>\n",
              "    <tr>\n",
              "      <th>789ad211-50f3-1cfb-cbaf-a5c74cbf66b1</th>\n",
              "      <td>1011.13</td>\n",
              "      <td>36.0</td>\n",
              "    </tr>\n",
              "    <tr>\n",
              "      <th>aa7da6f1-dcb6-5ef7-8656-461af4fc86ec</th>\n",
              "      <td>1011.22</td>\n",
              "      <td>36.0</td>\n",
              "    </tr>\n",
              "    <tr>\n",
              "      <th>...</th>\n",
              "      <td>...</td>\n",
              "      <td>...</td>\n",
              "    </tr>\n",
              "    <tr>\n",
              "      <th>bdf18d6f-02a4-7d46-0e50-dfa6b9a8cd89</th>\n",
              "      <td>NaN</td>\n",
              "      <td>NaN</td>\n",
              "    </tr>\n",
              "    <tr>\n",
              "      <th>6c45042a-bbfe-b7c6-782c-7999ed505fd4</th>\n",
              "      <td>NaN</td>\n",
              "      <td>NaN</td>\n",
              "    </tr>\n",
              "    <tr>\n",
              "      <th>92cd9b1a-9a8e-43ad-5d96-8e999128b472</th>\n",
              "      <td>NaN</td>\n",
              "      <td>NaN</td>\n",
              "    </tr>\n",
              "    <tr>\n",
              "      <th>febdd174-cf18-0be1-feb8-38399dd67d9e</th>\n",
              "      <td>NaN</td>\n",
              "      <td>NaN</td>\n",
              "    </tr>\n",
              "    <tr>\n",
              "      <th>a0a5a872-6165-b939-b711-37d045a0b5a8</th>\n",
              "      <td>NaN</td>\n",
              "      <td>NaN</td>\n",
              "    </tr>\n",
              "  </tbody>\n",
              "</table>\n",
              "<p>45000 rows × 2 columns</p>\n",
              "</div>\n",
              "      <button class=\"colab-df-convert\" onclick=\"convertToInteractive('df-0665d069-360f-4afc-8644-76dc43a591fe')\"\n",
              "              title=\"Convert this dataframe to an interactive table.\"\n",
              "              style=\"display:none;\">\n",
              "        \n",
              "  <svg xmlns=\"http://www.w3.org/2000/svg\" height=\"24px\"viewBox=\"0 0 24 24\"\n",
              "       width=\"24px\">\n",
              "    <path d=\"M0 0h24v24H0V0z\" fill=\"none\"/>\n",
              "    <path d=\"M18.56 5.44l.94 2.06.94-2.06 2.06-.94-2.06-.94-.94-2.06-.94 2.06-2.06.94zm-11 1L8.5 8.5l.94-2.06 2.06-.94-2.06-.94L8.5 2.5l-.94 2.06-2.06.94zm10 10l.94 2.06.94-2.06 2.06-.94-2.06-.94-.94-2.06-.94 2.06-2.06.94z\"/><path d=\"M17.41 7.96l-1.37-1.37c-.4-.4-.92-.59-1.43-.59-.52 0-1.04.2-1.43.59L10.3 9.45l-7.72 7.72c-.78.78-.78 2.05 0 2.83L4 21.41c.39.39.9.59 1.41.59.51 0 1.02-.2 1.41-.59l7.78-7.78 2.81-2.81c.8-.78.8-2.07 0-2.86zM5.41 20L4 18.59l7.72-7.72 1.47 1.35L5.41 20z\"/>\n",
              "  </svg>\n",
              "      </button>\n",
              "      \n",
              "  <style>\n",
              "    .colab-df-container {\n",
              "      display:flex;\n",
              "      flex-wrap:wrap;\n",
              "      gap: 12px;\n",
              "    }\n",
              "\n",
              "    .colab-df-convert {\n",
              "      background-color: #E8F0FE;\n",
              "      border: none;\n",
              "      border-radius: 50%;\n",
              "      cursor: pointer;\n",
              "      display: none;\n",
              "      fill: #1967D2;\n",
              "      height: 32px;\n",
              "      padding: 0 0 0 0;\n",
              "      width: 32px;\n",
              "    }\n",
              "\n",
              "    .colab-df-convert:hover {\n",
              "      background-color: #E2EBFA;\n",
              "      box-shadow: 0px 1px 2px rgba(60, 64, 67, 0.3), 0px 1px 3px 1px rgba(60, 64, 67, 0.15);\n",
              "      fill: #174EA6;\n",
              "    }\n",
              "\n",
              "    [theme=dark] .colab-df-convert {\n",
              "      background-color: #3B4455;\n",
              "      fill: #D2E3FC;\n",
              "    }\n",
              "\n",
              "    [theme=dark] .colab-df-convert:hover {\n",
              "      background-color: #434B5C;\n",
              "      box-shadow: 0px 1px 3px 1px rgba(0, 0, 0, 0.15);\n",
              "      filter: drop-shadow(0px 1px 2px rgba(0, 0, 0, 0.3));\n",
              "      fill: #FFFFFF;\n",
              "    }\n",
              "  </style>\n",
              "\n",
              "      <script>\n",
              "        const buttonEl =\n",
              "          document.querySelector('#df-0665d069-360f-4afc-8644-76dc43a591fe button.colab-df-convert');\n",
              "        buttonEl.style.display =\n",
              "          google.colab.kernel.accessAllowed ? 'block' : 'none';\n",
              "\n",
              "        async function convertToInteractive(key) {\n",
              "          const element = document.querySelector('#df-0665d069-360f-4afc-8644-76dc43a591fe');\n",
              "          const dataTable =\n",
              "            await google.colab.kernel.invokeFunction('convertToInteractive',\n",
              "                                                     [key], {});\n",
              "          if (!dataTable) return;\n",
              "\n",
              "          const docLinkHtml = 'Like what you see? Visit the ' +\n",
              "            '<a target=\"_blank\" href=https://colab.research.google.com/notebooks/data_table.ipynb>data table notebook</a>'\n",
              "            + ' to learn more about interactive tables.';\n",
              "          element.innerHTML = '';\n",
              "          dataTable['output_type'] = 'display_data';\n",
              "          await google.colab.output.renderOutput(dataTable, element);\n",
              "          const docLink = document.createElement('div');\n",
              "          docLink.innerHTML = docLinkHtml;\n",
              "          element.appendChild(docLink);\n",
              "        }\n",
              "      </script>\n",
              "    </div>\n",
              "  </div>\n",
              "  "
            ],
            "text/plain": [
              "                                      last_amount_borrowed  last_borrowed_in_months\n",
              "ids                                                                                \n",
              "a6d2afc2-9383-2486-7c07-086ad11710bf               1005.18                     36.0\n",
              "9946a70a-a1f9-dae0-885e-91255e6044b1               1005.92                     36.0\n",
              "bba309ef-47dc-7cba-7d9b-272a6255f37b               1007.08                     36.0\n",
              "789ad211-50f3-1cfb-cbaf-a5c74cbf66b1               1011.13                     36.0\n",
              "aa7da6f1-dcb6-5ef7-8656-461af4fc86ec               1011.22                     36.0\n",
              "...                                                    ...                      ...\n",
              "bdf18d6f-02a4-7d46-0e50-dfa6b9a8cd89                   NaN                      NaN\n",
              "6c45042a-bbfe-b7c6-782c-7999ed505fd4                   NaN                      NaN\n",
              "92cd9b1a-9a8e-43ad-5d96-8e999128b472                   NaN                      NaN\n",
              "febdd174-cf18-0be1-feb8-38399dd67d9e                   NaN                      NaN\n",
              "a0a5a872-6165-b939-b711-37d045a0b5a8                   NaN                      NaN\n",
              "\n",
              "[45000 rows x 2 columns]"
            ]
          },
          "metadata": {},
          "execution_count": 20
        }
      ]
    },
    {
      "cell_type": "code",
      "source": [
        "#SUPOSIÇÃO: QUANDO NÃO HOUVE EMPRÉSTIMO VOLTA COMO AUSENTE\n",
        "values = {'last_amount_borrowed':0.0, 'last_borrowed_in_months':0.0}\n",
        "df.fillna(value=values,inplace=True,axis=0)"
      ],
      "metadata": {
        "id": "EKEVoIZZlLbS"
      },
      "execution_count": null,
      "outputs": []
    },
    {
      "cell_type": "code",
      "source": [
        "#verificando a variável ok_since\n",
        "df.ok_since.unique()"
      ],
      "metadata": {
        "colab": {
          "base_uri": "https://localhost:8080/"
        },
        "id": "miM6pVqjlLho",
        "outputId": "eace122d-fc30-4783-84b3-ab996ca6b354"
      },
      "execution_count": null,
      "outputs": [
        {
          "output_type": "execute_result",
          "data": {
            "text/plain": [
              "array([ nan,  50.,  41.,  11.,  35.,  16.,  19.,  23.,  43.,  17.,  29.,\n",
              "        18.,   8.,  56.,  38.,  93.,  27.,  44.,  13.,  66.,  33.,  68.,\n",
              "        12.,  30.,  24.,  21.,   7.,  63.,  51.,  31.,  73.,  49.,   4.,\n",
              "        75.,  48.,  14.,  76.,  36.,   5.,  46.,  34.,  59.,  61.,  55.,\n",
              "        84.,  28.,   6.,  67.,  39.,  52.,  72.,  10.,  45.,  32.,  62.,\n",
              "         0.,  58.,  15.,  78.,  70.,   9.,  22.,  80.,  20.,  37.,   3.,\n",
              "        53.,  60.,  74.,  26.,  47.,   1.,  42.,  57.,  40.,  54.,  65.,\n",
              "        81.,  69.,  25.,  77.,  71.,  64.,  86.,  79.,  82.,   2.,  83.,\n",
              "        85., 103., 135.,  97., 101.,  90., 130., 141., 108.,  88.,  95.,\n",
              "       122.,  87.])"
            ]
          },
          "metadata": {},
          "execution_count": 22
        }
      ]
    },
    {
      "cell_type": "code",
      "source": [
        "#verificando a variável external_data_provider_credit_checks_last_year\n",
        "df.external_data_provider_credit_checks_last_year.unique()"
      ],
      "metadata": {
        "colab": {
          "base_uri": "https://localhost:8080/"
        },
        "id": "rSWOqL8insem",
        "outputId": "a70d073f-7e2b-45cf-b3ce-f2eeb0155efb"
      },
      "execution_count": null,
      "outputs": [
        {
          "output_type": "execute_result",
          "data": {
            "text/plain": [
              "array([ 0., nan,  1.])"
            ]
          },
          "metadata": {},
          "execution_count": 23
        }
      ]
    },
    {
      "cell_type": "code",
      "source": [
        "#dropando a variável\n",
        "df.drop(labels=['ok_since','external_data_provider_credit_checks_last_year'],axis=1,inplace=True)"
      ],
      "metadata": {
        "id": "GBwHsAFblLju"
      },
      "execution_count": null,
      "outputs": []
    },
    {
      "cell_type": "code",
      "source": [
        "#verificando alguns valores da variável credit_limit\n",
        "df.credit_limit.unique()"
      ],
      "metadata": {
        "colab": {
          "base_uri": "https://localhost:8080/"
        },
        "id": "LU5R3iQPlLlu",
        "outputId": "43ee89c1-d64f-4a7c-ac36-16b7d79c84bc"
      },
      "execution_count": null,
      "outputs": [
        {
          "output_type": "execute_result",
          "data": {
            "text/plain": [
              "array([    0., 39726.,    nan, ..., 10431., 36262., 17942.])"
            ]
          },
          "metadata": {},
          "execution_count": 25
        }
      ]
    },
    {
      "cell_type": "code",
      "source": [
        "#preenchendo com a mediana\n",
        "df.credit_limit.fillna(value=df.credit_limit.median(),inplace=True)"
      ],
      "metadata": {
        "id": "nqaf5SNBlLn8"
      },
      "execution_count": null,
      "outputs": []
    },
    {
      "cell_type": "code",
      "source": [
        "#verificando alguns valores da variável n_issues\n",
        "df.n_issues.unique()"
      ],
      "metadata": {
        "colab": {
          "base_uri": "https://localhost:8080/"
        },
        "id": "-KX5N56cmwdB",
        "outputId": "b92307f9-8b31-4f20-c62a-083d4219554e"
      },
      "execution_count": null,
      "outputs": [
        {
          "output_type": "execute_result",
          "data": {
            "text/plain": [
              "array([18., 14., nan, 19.,  9.,  7.,  8., 16., 20.,  5., 13., 12., 23.,\n",
              "        6., 22., 11., 15., 17., 21.,  4., 10.,  3., 24., 25., 30.,  2.,\n",
              "       27., 37., 26.,  1., 29., 28., 40., 34., 49., 31., 32., 39., 42.,\n",
              "       33., 36., 35.,  0., 41., 38.])"
            ]
          },
          "metadata": {},
          "execution_count": 27
        }
      ]
    },
    {
      "cell_type": "code",
      "source": [
        "#preenchendo com a mediana\n",
        "df.n_issues.fillna(value=df.n_issues.median(),inplace=True)"
      ],
      "metadata": {
        "id": "HVLw-_CZmwfS"
      },
      "execution_count": null,
      "outputs": []
    },
    {
      "cell_type": "markdown",
      "source": [
        "Pronto. Fizemos uma limpeza interessante em nosso dataset. Agora vamos avaliar a **quantidade** de registros ausentes, não mais em porcentagem dos dados."
      ],
      "metadata": {
        "id": "DKT-qQzmoOc3"
      }
    },
    {
      "cell_type": "code",
      "source": [
        "#avaliando a quantidade de nulos\n",
        "df.isnull().sum().sort_values(ascending=False)"
      ],
      "metadata": {
        "colab": {
          "base_uri": "https://localhost:8080/"
        },
        "id": "CucTJPNPd5CH",
        "outputId": "aa208799-d635-4b7d-ac32-0023154a3582"
      },
      "execution_count": null,
      "outputs": [
        {
          "output_type": "execute_result",
          "data": {
            "text/plain": [
              "facebook_profile                                   4458\n",
              "marketing_channel                                  3578\n",
              "job_name                                           3336\n",
              "target_default                                     3259\n",
              "external_data_provider_email_seen_before           2233\n",
              "lat_lon                                            1363\n",
              "user_agent                                          722\n",
              "n_bankruptcies                                      697\n",
              "n_defaulted_loans                                   574\n",
              "reason                                              566\n",
              "income                                              562\n",
              "state                                               562\n",
              "score_1                                             562\n",
              "score_2                                             562\n",
              "score_3                                             562\n",
              "risk_rate                                           562\n",
              "real_state                                          562\n",
              "n_accounts                                          562\n",
              "reported_income                                       0\n",
              "profile_tags                                          0\n",
              "shipping_state                                        0\n",
              "external_data_provider_credit_checks_last_month       0\n",
              "credit_limit                                          0\n",
              "last_borrowed_in_months                               0\n",
              "last_amount_borrowed                                  0\n",
              "n_issues                                              0\n",
              "score_6                                               0\n",
              "score_5                                               0\n",
              "score_4                                               0\n",
              "application_time_applied                              0\n",
              "application_time_in_funnel                            0\n",
              "email                                                 0\n",
              "external_data_provider_fraud_score                    0\n",
              "dtype: int64"
            ]
          },
          "metadata": {},
          "execution_count": 29
        }
      ]
    },
    {
      "cell_type": "markdown",
      "source": [
        "A `target_default` é a nossa **principal** variável de análise. O mais correto neste instante é remover os registros quando esta coluna está ausente.\n",
        "\n",
        "Já a `lat_lon` não será utilizada em nossa análise. Para características geográficas será utilizada a variável `shipping_state`."
      ],
      "metadata": {
        "id": "riMgwThJgw49"
      }
    },
    {
      "cell_type": "code",
      "source": [
        "#retirando valores vazios do dataset\n",
        "df.dropna(axis=0,inplace=True,subset=['target_default'])\n",
        "\n",
        "#dropando a coluna da latitude-longitude\n",
        "df.drop(labels=['lat_lon'],axis=1,inplace=True)"
      ],
      "metadata": {
        "id": "_xSEE-Q9e8bI"
      },
      "execution_count": null,
      "outputs": []
    },
    {
      "cell_type": "markdown",
      "source": [
        "Até agora, colocamos a mão na massa e fizemos várias mudanças em nossa base de dados. É importante dar uma olhada em como está os registros de inadimplência para verificar se ainda temos dados depois de todos estes cortes 😆😆😆😆\n",
        "\n",
        "**Obs: Lembra que lá em cima trocamos True por 1 e 0 por False?**"
      ],
      "metadata": {
        "id": "wHKX5V4X6Y4H"
      }
    },
    {
      "cell_type": "code",
      "source": [
        "#avaliando a quantidade de target_default\n",
        "df.target_default.value_counts().to_frame()"
      ],
      "metadata": {
        "colab": {
          "base_uri": "https://localhost:8080/",
          "height": 112
        },
        "id": "XDZgkesp6UaI",
        "outputId": "9d7e4f62-4acf-4690-f017-8afbf99d911b"
      },
      "execution_count": null,
      "outputs": [
        {
          "output_type": "execute_result",
          "data": {
            "text/html": [
              "\n",
              "  <div id=\"df-bc572747-4c12-4d96-9e44-554c6fce7d07\">\n",
              "    <div class=\"colab-df-container\">\n",
              "      <div>\n",
              "<style scoped>\n",
              "    .dataframe tbody tr th:only-of-type {\n",
              "        vertical-align: middle;\n",
              "    }\n",
              "\n",
              "    .dataframe tbody tr th {\n",
              "        vertical-align: top;\n",
              "    }\n",
              "\n",
              "    .dataframe thead th {\n",
              "        text-align: right;\n",
              "    }\n",
              "</style>\n",
              "<table border=\"1\" class=\"dataframe\">\n",
              "  <thead>\n",
              "    <tr style=\"text-align: right;\">\n",
              "      <th></th>\n",
              "      <th>target_default</th>\n",
              "    </tr>\n",
              "  </thead>\n",
              "  <tbody>\n",
              "    <tr>\n",
              "      <th>0.0</th>\n",
              "      <td>35080</td>\n",
              "    </tr>\n",
              "    <tr>\n",
              "      <th>1.0</th>\n",
              "      <td>6661</td>\n",
              "    </tr>\n",
              "  </tbody>\n",
              "</table>\n",
              "</div>\n",
              "      <button class=\"colab-df-convert\" onclick=\"convertToInteractive('df-bc572747-4c12-4d96-9e44-554c6fce7d07')\"\n",
              "              title=\"Convert this dataframe to an interactive table.\"\n",
              "              style=\"display:none;\">\n",
              "        \n",
              "  <svg xmlns=\"http://www.w3.org/2000/svg\" height=\"24px\"viewBox=\"0 0 24 24\"\n",
              "       width=\"24px\">\n",
              "    <path d=\"M0 0h24v24H0V0z\" fill=\"none\"/>\n",
              "    <path d=\"M18.56 5.44l.94 2.06.94-2.06 2.06-.94-2.06-.94-.94-2.06-.94 2.06-2.06.94zm-11 1L8.5 8.5l.94-2.06 2.06-.94-2.06-.94L8.5 2.5l-.94 2.06-2.06.94zm10 10l.94 2.06.94-2.06 2.06-.94-2.06-.94-.94-2.06-.94 2.06-2.06.94z\"/><path d=\"M17.41 7.96l-1.37-1.37c-.4-.4-.92-.59-1.43-.59-.52 0-1.04.2-1.43.59L10.3 9.45l-7.72 7.72c-.78.78-.78 2.05 0 2.83L4 21.41c.39.39.9.59 1.41.59.51 0 1.02-.2 1.41-.59l7.78-7.78 2.81-2.81c.8-.78.8-2.07 0-2.86zM5.41 20L4 18.59l7.72-7.72 1.47 1.35L5.41 20z\"/>\n",
              "  </svg>\n",
              "      </button>\n",
              "      \n",
              "  <style>\n",
              "    .colab-df-container {\n",
              "      display:flex;\n",
              "      flex-wrap:wrap;\n",
              "      gap: 12px;\n",
              "    }\n",
              "\n",
              "    .colab-df-convert {\n",
              "      background-color: #E8F0FE;\n",
              "      border: none;\n",
              "      border-radius: 50%;\n",
              "      cursor: pointer;\n",
              "      display: none;\n",
              "      fill: #1967D2;\n",
              "      height: 32px;\n",
              "      padding: 0 0 0 0;\n",
              "      width: 32px;\n",
              "    }\n",
              "\n",
              "    .colab-df-convert:hover {\n",
              "      background-color: #E2EBFA;\n",
              "      box-shadow: 0px 1px 2px rgba(60, 64, 67, 0.3), 0px 1px 3px 1px rgba(60, 64, 67, 0.15);\n",
              "      fill: #174EA6;\n",
              "    }\n",
              "\n",
              "    [theme=dark] .colab-df-convert {\n",
              "      background-color: #3B4455;\n",
              "      fill: #D2E3FC;\n",
              "    }\n",
              "\n",
              "    [theme=dark] .colab-df-convert:hover {\n",
              "      background-color: #434B5C;\n",
              "      box-shadow: 0px 1px 3px 1px rgba(0, 0, 0, 0.15);\n",
              "      filter: drop-shadow(0px 1px 2px rgba(0, 0, 0, 0.3));\n",
              "      fill: #FFFFFF;\n",
              "    }\n",
              "  </style>\n",
              "\n",
              "      <script>\n",
              "        const buttonEl =\n",
              "          document.querySelector('#df-bc572747-4c12-4d96-9e44-554c6fce7d07 button.colab-df-convert');\n",
              "        buttonEl.style.display =\n",
              "          google.colab.kernel.accessAllowed ? 'block' : 'none';\n",
              "\n",
              "        async function convertToInteractive(key) {\n",
              "          const element = document.querySelector('#df-bc572747-4c12-4d96-9e44-554c6fce7d07');\n",
              "          const dataTable =\n",
              "            await google.colab.kernel.invokeFunction('convertToInteractive',\n",
              "                                                     [key], {});\n",
              "          if (!dataTable) return;\n",
              "\n",
              "          const docLinkHtml = 'Like what you see? Visit the ' +\n",
              "            '<a target=\"_blank\" href=https://colab.research.google.com/notebooks/data_table.ipynb>data table notebook</a>'\n",
              "            + ' to learn more about interactive tables.';\n",
              "          element.innerHTML = '';\n",
              "          dataTable['output_type'] = 'display_data';\n",
              "          await google.colab.output.renderOutput(dataTable, element);\n",
              "          const docLink = document.createElement('div');\n",
              "          docLink.innerHTML = docLinkHtml;\n",
              "          element.appendChild(docLink);\n",
              "        }\n",
              "      </script>\n",
              "    </div>\n",
              "  </div>\n",
              "  "
            ],
            "text/plain": [
              "     target_default\n",
              "0.0           35080\n",
              "1.0            6661"
            ]
          },
          "metadata": {},
          "execution_count": 31
        }
      ]
    },
    {
      "cell_type": "markdown",
      "source": [
        "Se voltar um pouquinho para cima e analisar a lista de registros com quantidades ausentes novamente, irá observar que temos algumas variáveis que podem impactar na inadimplência com muitos registros ausentes:\n",
        "* `facebook_profile`\n",
        "* `marketing_channel`\n",
        "* `external_data_provider_email_seen_before`\n",
        "\n",
        "Vamos investigá-las em separado!"
      ],
      "metadata": {
        "id": "8Lni_O6bhDbz"
      }
    },
    {
      "cell_type": "code",
      "source": [
        "#visualizando os valores únicos\n",
        "print('facebook_profile:',df.facebook_profile.unique(),'\\n')\n",
        "print('marketing_channel:',df.marketing_channel.unique(),'\\n')\n",
        "print('external_data_provider_email_seen_before:',df.external_data_provider_email_seen_before.unique())"
      ],
      "metadata": {
        "colab": {
          "base_uri": "https://localhost:8080/"
        },
        "id": "LwsESlJxarrp",
        "outputId": "3754c0b2-e784-487c-f1e4-e74b6639b058"
      },
      "execution_count": null,
      "outputs": [
        {
          "output_type": "stream",
          "name": "stdout",
          "text": [
            "facebook_profile: [True False nan] \n",
            "\n",
            "marketing_channel: ['Invite-email' 'Radio-commercial' 'Waiting-list' 'Website' 'Twitter'\n",
            " 'Facebook' nan 'Instagram' 'Invite-web' 'LinkedIn'] \n",
            "\n",
            "external_data_provider_email_seen_before: [  51.   17.    9.   38.   46.   21.   16.   37.    6.   nan   10.   29.\n",
            "   43.   59.   54.   13.   52.    4.   31.   40.   -1. -999.   26.   48.\n",
            "   50.    5.    3.   39.   11.    0.   58.   55.    2.    1.   53.   15.\n",
            "   23.   24.   44.   14.   25.   34.   35.   12.   27.   49.    7.   36.\n",
            "   47.   57.   20.    8.   18.   30.   42.   28.   41.   56.   32.   33.\n",
            "   19.   22.   45.]\n"
          ]
        }
      ]
    },
    {
      "cell_type": "code",
      "source": [
        "#criando o fig e o ax no matplotlib\n",
        "fig,ax = plt.subplots(figsize=(14,12),nrows=3)\n",
        "\n",
        "#criando o gráfico do facebook_profile\n",
        "facebook_comparacao  = df[df.facebook_profile.isnull()].target_default.value_counts()\n",
        "facebook_comparacao.plot(kind='bar',ax=ax[0])\n",
        "ajuste_layout(ax=ax[0],titulo='Avaliando os valores ausentes de facebook_profile',\n",
        "              addlabels=True,y=list(facebook_comparacao),distancia=100,\n",
        "              xlabels=True,lista_para_o_x=['em dia','inadimplente'])\n",
        "\n",
        "#criando o gráfico do marketing_channel\n",
        "marketing_comparacao  = df[df.marketing_channel.isnull()].target_default.value_counts()\n",
        "marketing_comparacao.plot(kind='bar',ax=ax[1])\n",
        "ajuste_layout(ax=ax[1],titulo='Avaliando os valores ausentes de marketing_channel',\n",
        "              addlabels=True,y=list(marketing_comparacao),distancia=100,\n",
        "              xlabels=True,lista_para_o_x=['em dia','inadimplente'])\n",
        "\n",
        "#criando o gráfico do external_data_provider_email_seen_before\n",
        "email_comparacao  = df[df.external_data_provider_email_seen_before.isnull()].target_default.value_counts()\n",
        "email_comparacao.plot(kind='bar',ax=ax[2])\n",
        "ajuste_layout(ax=ax[2],titulo='Avaliando os valores ausentes de external_data_provider_email_seen_before',\n",
        "              addlabels=True,y=list(email_comparacao),distancia=100,\n",
        "              xlabels=True,lista_para_o_x=['em dia','inadimplente'])\n",
        "\n",
        "#plotando o gráfico\n",
        "plt.tight_layout(pad=2.5);"
      ],
      "metadata": {
        "colab": {
          "base_uri": "https://localhost:8080/",
          "height": 844
        },
        "id": "dTkhQdV83F2L",
        "outputId": "f494f727-7f4f-416c-8c23-4c806d863381"
      },
      "execution_count": null,
      "outputs": [
        {
          "output_type": "display_data",
          "data": {
            "image/png": "[encoded data removed]",
            "text/plain": [
              "<Figure size 1008x864 with 3 Axes>"
            ]
          },
          "metadata": {}
        }
      ]
    },
    {
      "cell_type": "markdown",
      "source": [
        "A variável `facebook_profile` parece um pouquinho vantajosa. Mas perder aproximadamente 10% (*650/6.661*) dos dados só por conta desta variável não me parece fazer sentido. Portanto, iremos **dropar** esta variável de nosso dataset.\n",
        "\n",
        "Outra variável que parece interessante é a `marketing_channel`. Mas para ela não vamos excluir nada! Vamos apenas mudar os valores vazios para os registros que **aparecem mais vezes** neste coluna.\n",
        "\n",
        "Já na `external_data_provider_email_seen_before` os valores ausentes e negativos serão substituídos pela **mediana** desta variável.\n",
        "\n",
        "As demais variáveis, terão seus registros ausentes retirados do dataset."
      ],
      "metadata": {
        "id": "-fCFX3aA6rbH"
      }
    },
    {
      "cell_type": "code",
      "source": [
        "#dropando a variável facebook_profile\n",
        "df.drop(labels=['facebook_profile'],axis=1,inplace=True)\n",
        "\n",
        "#preenchendo com a moda\n",
        "df.marketing_channel.fillna(value=df.marketing_channel.mode()[0],inplace=True)\n",
        "\n",
        "#preenchendo com a mediana\n",
        "df.external_data_provider_email_seen_before.fillna(value=df.external_data_provider_email_seen_before.median(),inplace=True)\n",
        "\n",
        "#substituindo os valores de external_data_provider_email_seen_before negativos\n",
        "df.loc[df.external_data_provider_email_seen_before < 0, 'external_data_provider_email_seen_before'] = df.external_data_provider_email_seen_before.median()\n",
        "\n",
        "#retirando os demais valores nulos\n",
        "df.dropna(axis=0,inplace=True)"
      ],
      "metadata": {
        "id": "4rvY16js5XDP"
      },
      "execution_count": null,
      "outputs": []
    },
    {
      "cell_type": "markdown",
      "source": [
        "## Avaliando os Outliers\n",
        "\n",
        "Outliers são observações que distoam muito dos demais registros. Esse distoar muito é um pouco **subjetivo**, sim.\n",
        "\n",
        "Por isso, existem algumas **técnicas** para identificação de *outliers*: *Boxplot*, IQR, DBSCAN e o *Isolation Forest*.\n",
        "\n",
        "Mas antes de aplicar alguma técnica, vamos avaliar como estão as **estatísticas** **descritivas** de nossa base de dados."
      ],
      "metadata": {
        "id": "_aIop3tYLEvB"
      }
    },
    {
      "cell_type": "code",
      "source": [
        "#visualizando as estatísticas descritivas\n",
        "df.describe().round(2)"
      ],
      "metadata": {
        "colab": {
          "base_uri": "https://localhost:8080/",
          "height": 364
        },
        "id": "R8yxkzGXWlJW",
        "outputId": "c6b4970d-309f-4e03-8fe9-2c8d262da2e2"
      },
      "execution_count": null,
      "outputs": [
        {
          "output_type": "execute_result",
          "data": {
            "text/html": [
              "\n",
              "  <div id=\"df-70ea8742-f037-457e-b7bd-87d63c8acbd4\">\n",
              "    <div class=\"colab-df-container\">\n",
              "      <div>\n",
              "<style scoped>\n",
              "    .dataframe tbody tr th:only-of-type {\n",
              "        vertical-align: middle;\n",
              "    }\n",
              "\n",
              "    .dataframe tbody tr th {\n",
              "        vertical-align: top;\n",
              "    }\n",
              "\n",
              "    .dataframe thead th {\n",
              "        text-align: right;\n",
              "    }\n",
              "</style>\n",
              "<table border=\"1\" class=\"dataframe\">\n",
              "  <thead>\n",
              "    <tr style=\"text-align: right;\">\n",
              "      <th></th>\n",
              "      <th>target_default</th>\n",
              "      <th>score_3</th>\n",
              "      <th>score_4</th>\n",
              "      <th>score_5</th>\n",
              "      <th>score_6</th>\n",
              "      <th>risk_rate</th>\n",
              "      <th>last_amount_borrowed</th>\n",
              "      <th>last_borrowed_in_months</th>\n",
              "      <th>credit_limit</th>\n",
              "      <th>income</th>\n",
              "      <th>n_bankruptcies</th>\n",
              "      <th>n_defaulted_loans</th>\n",
              "      <th>n_accounts</th>\n",
              "      <th>n_issues</th>\n",
              "      <th>application_time_applied</th>\n",
              "      <th>application_time_in_funnel</th>\n",
              "      <th>external_data_provider_credit_checks_last_month</th>\n",
              "      <th>external_data_provider_email_seen_before</th>\n",
              "      <th>external_data_provider_fraud_score</th>\n",
              "      <th>reported_income</th>\n",
              "    </tr>\n",
              "  </thead>\n",
              "  <tbody>\n",
              "    <tr>\n",
              "      <th>count</th>\n",
              "      <td>38377.00</td>\n",
              "      <td>38377.00</td>\n",
              "      <td>38377.00</td>\n",
              "      <td>38377.00</td>\n",
              "      <td>38377.00</td>\n",
              "      <td>38377.00</td>\n",
              "      <td>38377.00</td>\n",
              "      <td>38377.00</td>\n",
              "      <td>38377.00</td>\n",
              "      <td>38377.00</td>\n",
              "      <td>38377.00</td>\n",
              "      <td>38377.00</td>\n",
              "      <td>38377.00</td>\n",
              "      <td>38377.00</td>\n",
              "      <td>38377.00</td>\n",
              "      <td>38377.00</td>\n",
              "      <td>38377.00</td>\n",
              "      <td>38377.00</td>\n",
              "      <td>38377.00</td>\n",
              "      <td>38377.0</td>\n",
              "    </tr>\n",
              "    <tr>\n",
              "      <th>mean</th>\n",
              "      <td>0.16</td>\n",
              "      <td>346.72</td>\n",
              "      <td>100.01</td>\n",
              "      <td>0.50</td>\n",
              "      <td>99.91</td>\n",
              "      <td>0.29</td>\n",
              "      <td>4529.25</td>\n",
              "      <td>13.75</td>\n",
              "      <td>31823.75</td>\n",
              "      <td>71577.15</td>\n",
              "      <td>0.07</td>\n",
              "      <td>0.00</td>\n",
              "      <td>10.70</td>\n",
              "      <td>10.80</td>\n",
              "      <td>11.54</td>\n",
              "      <td>247.89</td>\n",
              "      <td>1.50</td>\n",
              "      <td>28.31</td>\n",
              "      <td>499.60</td>\n",
              "      <td>inf</td>\n",
              "    </tr>\n",
              "    <tr>\n",
              "      <th>std</th>\n",
              "      <td>0.36</td>\n",
              "      <td>109.86</td>\n",
              "      <td>3.18</td>\n",
              "      <td>0.29</td>\n",
              "      <td>10.03</td>\n",
              "      <td>0.10</td>\n",
              "      <td>7823.28</td>\n",
              "      <td>20.04</td>\n",
              "      <td>30330.86</td>\n",
              "      <td>52291.40</td>\n",
              "      <td>0.27</td>\n",
              "      <td>0.08</td>\n",
              "      <td>4.58</td>\n",
              "      <td>3.99</td>\n",
              "      <td>7.30</td>\n",
              "      <td>146.45</td>\n",
              "      <td>1.11</td>\n",
              "      <td>17.01</td>\n",
              "      <td>287.82</td>\n",
              "      <td>NaN</td>\n",
              "    </tr>\n",
              "    <tr>\n",
              "      <th>min</th>\n",
              "      <td>0.00</td>\n",
              "      <td>0.00</td>\n",
              "      <td>86.19</td>\n",
              "      <td>0.00</td>\n",
              "      <td>60.66</td>\n",
              "      <td>0.00</td>\n",
              "      <td>0.00</td>\n",
              "      <td>0.00</td>\n",
              "      <td>0.00</td>\n",
              "      <td>4821.18</td>\n",
              "      <td>0.00</td>\n",
              "      <td>0.00</td>\n",
              "      <td>0.00</td>\n",
              "      <td>0.00</td>\n",
              "      <td>0.00</td>\n",
              "      <td>0.00</td>\n",
              "      <td>0.00</td>\n",
              "      <td>0.00</td>\n",
              "      <td>0.00</td>\n",
              "      <td>403.0</td>\n",
              "    </tr>\n",
              "    <tr>\n",
              "      <th>25%</th>\n",
              "      <td>0.00</td>\n",
              "      <td>270.00</td>\n",
              "      <td>97.87</td>\n",
              "      <td>0.25</td>\n",
              "      <td>93.16</td>\n",
              "      <td>0.22</td>\n",
              "      <td>0.00</td>\n",
              "      <td>0.00</td>\n",
              "      <td>18086.00</td>\n",
              "      <td>45014.54</td>\n",
              "      <td>0.00</td>\n",
              "      <td>0.00</td>\n",
              "      <td>7.00</td>\n",
              "      <td>9.00</td>\n",
              "      <td>5.00</td>\n",
              "      <td>120.00</td>\n",
              "      <td>1.00</td>\n",
              "      <td>14.00</td>\n",
              "      <td>252.00</td>\n",
              "      <td>50969.0</td>\n",
              "    </tr>\n",
              "    <tr>\n",
              "      <th>50%</th>\n",
              "      <td>0.00</td>\n",
              "      <td>340.00</td>\n",
              "      <td>100.02</td>\n",
              "      <td>0.50</td>\n",
              "      <td>99.97</td>\n",
              "      <td>0.29</td>\n",
              "      <td>0.00</td>\n",
              "      <td>0.00</td>\n",
              "      <td>25647.00</td>\n",
              "      <td>62011.82</td>\n",
              "      <td>0.00</td>\n",
              "      <td>0.00</td>\n",
              "      <td>10.00</td>\n",
              "      <td>10.00</td>\n",
              "      <td>11.00</td>\n",
              "      <td>248.00</td>\n",
              "      <td>2.00</td>\n",
              "      <td>27.00</td>\n",
              "      <td>501.00</td>\n",
              "      <td>101630.0</td>\n",
              "    </tr>\n",
              "    <tr>\n",
              "      <th>75%</th>\n",
              "      <td>0.00</td>\n",
              "      <td>420.00</td>\n",
              "      <td>102.14</td>\n",
              "      <td>0.75</td>\n",
              "      <td>106.64</td>\n",
              "      <td>0.36</td>\n",
              "      <td>7528.90</td>\n",
              "      <td>36.00</td>\n",
              "      <td>35778.00</td>\n",
              "      <td>86014.66</td>\n",
              "      <td>0.00</td>\n",
              "      <td>0.00</td>\n",
              "      <td>13.00</td>\n",
              "      <td>12.00</td>\n",
              "      <td>18.00</td>\n",
              "      <td>376.00</td>\n",
              "      <td>2.00</td>\n",
              "      <td>43.00</td>\n",
              "      <td>746.00</td>\n",
              "      <td>151220.0</td>\n",
              "    </tr>\n",
              "    <tr>\n",
              "      <th>max</th>\n",
              "      <td>1.00</td>\n",
              "      <td>990.00</td>\n",
              "      <td>113.98</td>\n",
              "      <td>1.00</td>\n",
              "      <td>137.83</td>\n",
              "      <td>0.90</td>\n",
              "      <td>35059.60</td>\n",
              "      <td>60.00</td>\n",
              "      <td>448269.00</td>\n",
              "      <td>5000027.83</td>\n",
              "      <td>5.00</td>\n",
              "      <td>5.00</td>\n",
              "      <td>49.00</td>\n",
              "      <td>49.00</td>\n",
              "      <td>24.00</td>\n",
              "      <td>500.00</td>\n",
              "      <td>3.00</td>\n",
              "      <td>59.00</td>\n",
              "      <td>1000.00</td>\n",
              "      <td>inf</td>\n",
              "    </tr>\n",
              "  </tbody>\n",
              "</table>\n",
              "</div>\n",
              "      <button class=\"colab-df-convert\" onclick=\"convertToInteractive('df-70ea8742-f037-457e-b7bd-87d63c8acbd4')\"\n",
              "              title=\"Convert this dataframe to an interactive table.\"\n",
              "              style=\"display:none;\">\n",
              "        \n",
              "  <svg xmlns=\"http://www.w3.org/2000/svg\" height=\"24px\"viewBox=\"0 0 24 24\"\n",
              "       width=\"24px\">\n",
              "    <path d=\"M0 0h24v24H0V0z\" fill=\"none\"/>\n",
              "    <path d=\"M18.56 5.44l.94 2.06.94-2.06 2.06-.94-2.06-.94-.94-2.06-.94 2.06-2.06.94zm-11 1L8.5 8.5l.94-2.06 2.06-.94-2.06-.94L8.5 2.5l-.94 2.06-2.06.94zm10 10l.94 2.06.94-2.06 2.06-.94-2.06-.94-.94-2.06-.94 2.06-2.06.94z\"/><path d=\"M17.41 7.96l-1.37-1.37c-.4-.4-.92-.59-1.43-.59-.52 0-1.04.2-1.43.59L10.3 9.45l-7.72 7.72c-.78.78-.78 2.05 0 2.83L4 21.41c.39.39.9.59 1.41.59.51 0 1.02-.2 1.41-.59l7.78-7.78 2.81-2.81c.8-.78.8-2.07 0-2.86zM5.41 20L4 18.59l7.72-7.72 1.47 1.35L5.41 20z\"/>\n",
              "  </svg>\n",
              "      </button>\n",
              "      \n",
              "  <style>\n",
              "    .colab-df-container {\n",
              "      display:flex;\n",
              "      flex-wrap:wrap;\n",
              "      gap: 12px;\n",
              "    }\n",
              "\n",
              "    .colab-df-convert {\n",
              "      background-color: #E8F0FE;\n",
              "      border: none;\n",
              "      border-radius: 50%;\n",
              "      cursor: pointer;\n",
              "      display: none;\n",
              "      fill: #1967D2;\n",
              "      height: 32px;\n",
              "      padding: 0 0 0 0;\n",
              "      width: 32px;\n",
              "    }\n",
              "\n",
              "    .colab-df-convert:hover {\n",
              "      background-color: #E2EBFA;\n",
              "      box-shadow: 0px 1px 2px rgba(60, 64, 67, 0.3), 0px 1px 3px 1px rgba(60, 64, 67, 0.15);\n",
              "      fill: #174EA6;\n",
              "    }\n",
              "\n",
              "    [theme=dark] .colab-df-convert {\n",
              "      background-color: #3B4455;\n",
              "      fill: #D2E3FC;\n",
              "    }\n",
              "\n",
              "    [theme=dark] .colab-df-convert:hover {\n",
              "      background-color: #434B5C;\n",
              "      box-shadow: 0px 1px 3px 1px rgba(0, 0, 0, 0.15);\n",
              "      filter: drop-shadow(0px 1px 2px rgba(0, 0, 0, 0.3));\n",
              "      fill: #FFFFFF;\n",
              "    }\n",
              "  </style>\n",
              "\n",
              "      <script>\n",
              "        const buttonEl =\n",
              "          document.querySelector('#df-70ea8742-f037-457e-b7bd-87d63c8acbd4 button.colab-df-convert');\n",
              "        buttonEl.style.display =\n",
              "          google.colab.kernel.accessAllowed ? 'block' : 'none';\n",
              "\n",
              "        async function convertToInteractive(key) {\n",
              "          const element = document.querySelector('#df-70ea8742-f037-457e-b7bd-87d63c8acbd4');\n",
              "          const dataTable =\n",
              "            await google.colab.kernel.invokeFunction('convertToInteractive',\n",
              "                                                     [key], {});\n",
              "          if (!dataTable) return;\n",
              "\n",
              "          const docLinkHtml = 'Like what you see? Visit the ' +\n",
              "            '<a target=\"_blank\" href=https://colab.research.google.com/notebooks/data_table.ipynb>data table notebook</a>'\n",
              "            + ' to learn more about interactive tables.';\n",
              "          element.innerHTML = '';\n",
              "          dataTable['output_type'] = 'display_data';\n",
              "          await google.colab.output.renderOutput(dataTable, element);\n",
              "          const docLink = document.createElement('div');\n",
              "          docLink.innerHTML = docLinkHtml;\n",
              "          element.appendChild(docLink);\n",
              "        }\n",
              "      </script>\n",
              "    </div>\n",
              "  </div>\n",
              "  "
            ],
            "text/plain": [
              "       target_default  ...  reported_income\n",
              "count        38377.00  ...          38377.0\n",
              "mean             0.16  ...              inf\n",
              "std              0.36  ...              NaN\n",
              "min              0.00  ...            403.0\n",
              "25%              0.00  ...          50969.0\n",
              "50%              0.00  ...         101630.0\n",
              "75%              0.00  ...         151220.0\n",
              "max              1.00  ...              inf\n",
              "\n",
              "[8 rows x 20 columns]"
            ]
          },
          "metadata": {},
          "execution_count": 35
        }
      ]
    },
    {
      "cell_type": "markdown",
      "source": [
        "Lá na última coluna, no `reported_income`, percebemos que existem valores **infinitos** em nossa base de dados. Este tipo de registro não faz nenhum sentido! Por conta disso, iremos substituir os valores infinitos pela mediana desta variável."
      ],
      "metadata": {
        "id": "Ud8oG4Nmk0Zb"
      }
    },
    {
      "cell_type": "code",
      "source": [
        "#selecionando os infinitos\n",
        "infinitos = df[np.isinf(df.reported_income)]\n",
        "\n",
        "#quantidade de valores infinitos\n",
        "print('A variável reported_income possui {} valores infinitos.'.format(infinitos.shape[0]))\n",
        "\n",
        "#substituindo os valores de external_data_provider_email_seen_before negativos\n",
        "df.loc[df.reported_income == np.inf, 'reported_income'] = df.reported_income.median()"
      ],
      "metadata": {
        "colab": {
          "base_uri": "https://localhost:8080/"
        },
        "id": "FjtgdHuLUL4O",
        "outputId": "b43d4e29-53f6-4720-960f-c34bfd7f4900"
      },
      "execution_count": null,
      "outputs": [
        {
          "output_type": "stream",
          "name": "stdout",
          "text": [
            "A variável reported_income possui 58 valores infinitos.\n"
          ]
        }
      ]
    },
    {
      "cell_type": "markdown",
      "source": [
        "Show! Já lidamos com os dados **infinitos**, agora é hora de representar **visualmente** como estão se comportando algumas variáveis, por conta disso utilizaremos **boxplots**.\n",
        "<p>\n",
        "<table> \n",
        "<tr><td align='center'><b>Linha</b></td><td align='center'><b>Observação dos boxplots</b></td></tr>\n",
        "<tr><td align='center'>Primeira</td><td align='left'>São as variáveis geradas internamente pela empresa, não aparentam ter anomalias.</td></tr>\n",
        "<tr><td align='center'>Segunda</td><td align='left'>A <b>last_amount_borrowed</b> precisa ser melhor analisada, existem muitos valores bem maiores que o limite superior.</td></tr>\n",
        "<tr><td align='center'>Terceira</td><td align='left'>A variável <b>income</b> tem registros muitos distantes do limite superior.</td></tr>\n",
        "<tr><td align='center'>Quarta</td><td align='left'>O mesmo acontece com a <b>reported_income</b>, os registros distoam muito do limite superior.</td></tr>\n",
        "</table>\n",
        "</p>"
      ],
      "metadata": {
        "id": "NiWCHCkhk4Y4"
      }
    },
    {
      "cell_type": "code",
      "source": [
        "#lista  de 3 variáveis a serem analisadas\n",
        "lista_primeira_linha = ['score_3','score_4','score_5']\n",
        "lista_segunda_linha = ['score_6','risk_rate','last_amount_borrowed']\n",
        "lista_terceira_linha = ['external_data_provider_email_seen_before','credit_limit','income']\n",
        "lista_quarta_linha = ['n_accounts','n_issues','reported_income']\n",
        "\n",
        "#criando o ax e o fig no matplotlib\n",
        "fig, ax = plt.subplots(figsize=(18,15),ncols=3,nrows=4)\n",
        "\n",
        "#criando os histogramas da primeira linha\n",
        "for i,variavel in enumerate(lista_primeira_linha):\n",
        "  sns.boxplot(data=df,x=variavel,linewidth=0.35,ax=ax[0][i])\n",
        "  ajuste_layout(ax=ax[0][i],grid=True,titulo=variavel,location='center',x_milhares=True)\n",
        "\n",
        "#criando os histogramas da segunda linha\n",
        "for i,variavel in enumerate(lista_segunda_linha):\n",
        "  sns.boxplot(data=df,x=variavel,linewidth=0.35,ax=ax[1][i],color='#0A1172')\n",
        "  ajuste_layout(ax=ax[1][i],grid=True,titulo=variavel,location='center',x_milhares=True)\n",
        "\n",
        "#criando os histogramas da terceira linha\n",
        "for i,variavel in enumerate(lista_terceira_linha):\n",
        "  sns.boxplot(data=df,x=variavel,linewidth=0.35,ax=ax[2][i],color='#281e5d')\n",
        "  ajuste_layout(ax=ax[2][i],grid=True,titulo=variavel,location='center',x_milhares=True)\n",
        "\n",
        "#criando os histogramas da quarta linha\n",
        "for i,variavel in enumerate(lista_quarta_linha):\n",
        "  sns.boxplot(data=df,x=variavel,linewidth=0.35,ax=ax[3][i],color='#151e3d')\n",
        "  ajuste_layout(ax=ax[3][i],grid=True,titulo=variavel,location='center',x_milhares=True)\n",
        "\n",
        "\n",
        "#plotando os gráficos\n",
        "plt.tight_layout(pad=2.0);"
      ],
      "metadata": {
        "colab": {
          "base_uri": "https://localhost:8080/",
          "height": 1000
        },
        "id": "ky_KyvDNWlLn",
        "outputId": "0903049c-85c2-4b01-871b-482107f9c41e"
      },
      "execution_count": null,
      "outputs": [
        {
          "output_type": "display_data",
          "data": {
            "image/png": "[encoded data removed]",
            "text/plain": [
              "<Figure size 1296x1080 with 12 Axes>"
            ]
          },
          "metadata": {
            "needs_background": "dark"
          }
        }
      ]
    },
    {
      "cell_type": "markdown",
      "source": [
        "Agora é hora de analisar estas três variáveis separadamente."
      ],
      "metadata": {
        "id": "TK0fKa7N47O3"
      }
    },
    {
      "cell_type": "code",
      "source": [
        "#listagem das variáveis que apresentaram um comportamento incomum nos boxplots\n",
        "lista = ['last_amount_borrowed','credit_limit','income','reported_income']\n",
        "\n",
        "#visualziando as estatísticas descritivas apenas destas variáveis\n",
        "df[lista].describe().round(2)"
      ],
      "metadata": {
        "colab": {
          "base_uri": "https://localhost:8080/",
          "height": 300
        },
        "id": "_7teQ_EsxsOV",
        "outputId": "a9148be4-35a5-40ac-e464-3e0d6a2b1ff3"
      },
      "execution_count": null,
      "outputs": [
        {
          "output_type": "execute_result",
          "data": {
            "text/html": [
              "\n",
              "  <div id=\"df-7860a462-273c-4212-b3ee-8ab1c2b085d3\">\n",
              "    <div class=\"colab-df-container\">\n",
              "      <div>\n",
              "<style scoped>\n",
              "    .dataframe tbody tr th:only-of-type {\n",
              "        vertical-align: middle;\n",
              "    }\n",
              "\n",
              "    .dataframe tbody tr th {\n",
              "        vertical-align: top;\n",
              "    }\n",
              "\n",
              "    .dataframe thead th {\n",
              "        text-align: right;\n",
              "    }\n",
              "</style>\n",
              "<table border=\"1\" class=\"dataframe\">\n",
              "  <thead>\n",
              "    <tr style=\"text-align: right;\">\n",
              "      <th></th>\n",
              "      <th>last_amount_borrowed</th>\n",
              "      <th>credit_limit</th>\n",
              "      <th>income</th>\n",
              "      <th>reported_income</th>\n",
              "    </tr>\n",
              "  </thead>\n",
              "  <tbody>\n",
              "    <tr>\n",
              "      <th>count</th>\n",
              "      <td>38377.00</td>\n",
              "      <td>38377.00</td>\n",
              "      <td>38377.00</td>\n",
              "      <td>3.837700e+04</td>\n",
              "    </tr>\n",
              "    <tr>\n",
              "      <th>mean</th>\n",
              "      <td>4529.25</td>\n",
              "      <td>31823.75</td>\n",
              "      <td>71577.15</td>\n",
              "      <td>1.043325e+13</td>\n",
              "    </tr>\n",
              "    <tr>\n",
              "      <th>std</th>\n",
              "      <td>7823.28</td>\n",
              "      <td>30330.86</td>\n",
              "      <td>52291.40</td>\n",
              "      <td>2.572962e+14</td>\n",
              "    </tr>\n",
              "    <tr>\n",
              "      <th>min</th>\n",
              "      <td>0.00</td>\n",
              "      <td>0.00</td>\n",
              "      <td>4821.18</td>\n",
              "      <td>4.030000e+02</td>\n",
              "    </tr>\n",
              "    <tr>\n",
              "      <th>25%</th>\n",
              "      <td>0.00</td>\n",
              "      <td>18086.00</td>\n",
              "      <td>45014.54</td>\n",
              "      <td>5.096900e+04</td>\n",
              "    </tr>\n",
              "    <tr>\n",
              "      <th>50%</th>\n",
              "      <td>0.00</td>\n",
              "      <td>25647.00</td>\n",
              "      <td>62011.82</td>\n",
              "      <td>1.016300e+05</td>\n",
              "    </tr>\n",
              "    <tr>\n",
              "      <th>75%</th>\n",
              "      <td>7528.90</td>\n",
              "      <td>35778.00</td>\n",
              "      <td>86014.66</td>\n",
              "      <td>1.510160e+05</td>\n",
              "    </tr>\n",
              "    <tr>\n",
              "      <th>max</th>\n",
              "      <td>35059.60</td>\n",
              "      <td>448269.00</td>\n",
              "      <td>5000027.83</td>\n",
              "      <td>6.355500e+15</td>\n",
              "    </tr>\n",
              "  </tbody>\n",
              "</table>\n",
              "</div>\n",
              "      <button class=\"colab-df-convert\" onclick=\"convertToInteractive('df-7860a462-273c-4212-b3ee-8ab1c2b085d3')\"\n",
              "              title=\"Convert this dataframe to an interactive table.\"\n",
              "              style=\"display:none;\">\n",
              "        \n",
              "  <svg xmlns=\"http://www.w3.org/2000/svg\" height=\"24px\"viewBox=\"0 0 24 24\"\n",
              "       width=\"24px\">\n",
              "    <path d=\"M0 0h24v24H0V0z\" fill=\"none\"/>\n",
              "    <path d=\"M18.56 5.44l.94 2.06.94-2.06 2.06-.94-2.06-.94-.94-2.06-.94 2.06-2.06.94zm-11 1L8.5 8.5l.94-2.06 2.06-.94-2.06-.94L8.5 2.5l-.94 2.06-2.06.94zm10 10l.94 2.06.94-2.06 2.06-.94-2.06-.94-.94-2.06-.94 2.06-2.06.94z\"/><path d=\"M17.41 7.96l-1.37-1.37c-.4-.4-.92-.59-1.43-.59-.52 0-1.04.2-1.43.59L10.3 9.45l-7.72 7.72c-.78.78-.78 2.05 0 2.83L4 21.41c.39.39.9.59 1.41.59.51 0 1.02-.2 1.41-.59l7.78-7.78 2.81-2.81c.8-.78.8-2.07 0-2.86zM5.41 20L4 18.59l7.72-7.72 1.47 1.35L5.41 20z\"/>\n",
              "  </svg>\n",
              "      </button>\n",
              "      \n",
              "  <style>\n",
              "    .colab-df-container {\n",
              "      display:flex;\n",
              "      flex-wrap:wrap;\n",
              "      gap: 12px;\n",
              "    }\n",
              "\n",
              "    .colab-df-convert {\n",
              "      background-color: #E8F0FE;\n",
              "      border: none;\n",
              "      border-radius: 50%;\n",
              "      cursor: pointer;\n",
              "      display: none;\n",
              "      fill: #1967D2;\n",
              "      height: 32px;\n",
              "      padding: 0 0 0 0;\n",
              "      width: 32px;\n",
              "    }\n",
              "\n",
              "    .colab-df-convert:hover {\n",
              "      background-color: #E2EBFA;\n",
              "      box-shadow: 0px 1px 2px rgba(60, 64, 67, 0.3), 0px 1px 3px 1px rgba(60, 64, 67, 0.15);\n",
              "      fill: #174EA6;\n",
              "    }\n",
              "\n",
              "    [theme=dark] .colab-df-convert {\n",
              "      background-color: #3B4455;\n",
              "      fill: #D2E3FC;\n",
              "    }\n",
              "\n",
              "    [theme=dark] .colab-df-convert:hover {\n",
              "      background-color: #434B5C;\n",
              "      box-shadow: 0px 1px 3px 1px rgba(0, 0, 0, 0.15);\n",
              "      filter: drop-shadow(0px 1px 2px rgba(0, 0, 0, 0.3));\n",
              "      fill: #FFFFFF;\n",
              "    }\n",
              "  </style>\n",
              "\n",
              "      <script>\n",
              "        const buttonEl =\n",
              "          document.querySelector('#df-7860a462-273c-4212-b3ee-8ab1c2b085d3 button.colab-df-convert');\n",
              "        buttonEl.style.display =\n",
              "          google.colab.kernel.accessAllowed ? 'block' : 'none';\n",
              "\n",
              "        async function convertToInteractive(key) {\n",
              "          const element = document.querySelector('#df-7860a462-273c-4212-b3ee-8ab1c2b085d3');\n",
              "          const dataTable =\n",
              "            await google.colab.kernel.invokeFunction('convertToInteractive',\n",
              "                                                     [key], {});\n",
              "          if (!dataTable) return;\n",
              "\n",
              "          const docLinkHtml = 'Like what you see? Visit the ' +\n",
              "            '<a target=\"_blank\" href=https://colab.research.google.com/notebooks/data_table.ipynb>data table notebook</a>'\n",
              "            + ' to learn more about interactive tables.';\n",
              "          element.innerHTML = '';\n",
              "          dataTable['output_type'] = 'display_data';\n",
              "          await google.colab.output.renderOutput(dataTable, element);\n",
              "          const docLink = document.createElement('div');\n",
              "          docLink.innerHTML = docLinkHtml;\n",
              "          element.appendChild(docLink);\n",
              "        }\n",
              "      </script>\n",
              "    </div>\n",
              "  </div>\n",
              "  "
            ],
            "text/plain": [
              "       last_amount_borrowed  credit_limit      income  reported_income\n",
              "count              38377.00      38377.00    38377.00     3.837700e+04\n",
              "mean                4529.25      31823.75    71577.15     1.043325e+13\n",
              "std                 7823.28      30330.86    52291.40     2.572962e+14\n",
              "min                    0.00          0.00     4821.18     4.030000e+02\n",
              "25%                    0.00      18086.00    45014.54     5.096900e+04\n",
              "50%                    0.00      25647.00    62011.82     1.016300e+05\n",
              "75%                 7528.90      35778.00    86014.66     1.510160e+05\n",
              "max                35059.60     448269.00  5000027.83     6.355500e+15"
            ]
          },
          "metadata": {},
          "execution_count": 38
        }
      ]
    },
    {
      "cell_type": "markdown",
      "source": [
        "Vamos utilizar o [Método IQR](https://aprendendogestao.com.br/2016/08/26/identificacao-de-outliers/) para explorar quais são os **limites**, tanto inferior e superior, que definem um *outlier*."
      ],
      "metadata": {
        "id": "HHPbk7B7ZwDv"
      }
    },
    {
      "cell_type": "code",
      "source": [
        "#criando lista vazias\n",
        "limite_superior = []\n",
        "limite_inferior = []\n",
        "\n",
        "#calculando o IQR de cada variável\n",
        "for variavel in lista:\n",
        "  Q3 = df[variavel].quantile(0.75)\n",
        "  Q1 = df[variavel].quantile(0.25)\n",
        "  IQR = Q3 - Q1\n",
        "  limite_inferior.append(Q1 - (IQR*1.5))\n",
        "  limite_superior.append(Q3 + (IQR*1.5))\n",
        "\n",
        "#visualizando um DataFrame com os limites\n",
        "pd.DataFrame({'Limite Inferior':limite_inferior,\n",
        "              'Limite Superior':limite_superior},\n",
        "                index=lista).style.set_precision(2)"
      ],
      "metadata": {
        "colab": {
          "base_uri": "https://localhost:8080/",
          "height": 174
        },
        "id": "NvI9l_s5YNyT",
        "outputId": "c5761994-eaac-4f03-860f-6767d48ba1dd"
      },
      "execution_count": null,
      "outputs": [
        {
          "output_type": "execute_result",
          "data": {
            "text/html": [
              "<style  type=\"text/css\" >\n",
              "</style><table id=\"T_d5e88bc8_7d59_11ec_aea0_0242ac1c0002\" class=\"dataframe\"><thead>    <tr>        <th class=\"blank level0\" ></th>        <th class=\"col_heading level0 col0\" >Limite Inferior</th>        <th class=\"col_heading level0 col1\" >Limite Superior</th>    </tr></thead><tbody>\n",
              "                <tr>\n",
              "                        <th id=\"T_d5e88bc8_7d59_11ec_aea0_0242ac1c0002level0_row0\" class=\"row_heading level0 row0\" >last_amount_borrowed</th>\n",
              "                        <td id=\"T_d5e88bc8_7d59_11ec_aea0_0242ac1c0002row0_col0\" class=\"data row0 col0\" >-11293.35</td>\n",
              "                        <td id=\"T_d5e88bc8_7d59_11ec_aea0_0242ac1c0002row0_col1\" class=\"data row0 col1\" >18822.25</td>\n",
              "            </tr>\n",
              "            <tr>\n",
              "                        <th id=\"T_d5e88bc8_7d59_11ec_aea0_0242ac1c0002level0_row1\" class=\"row_heading level0 row1\" >credit_limit</th>\n",
              "                        <td id=\"T_d5e88bc8_7d59_11ec_aea0_0242ac1c0002row1_col0\" class=\"data row1 col0\" >-8452.00</td>\n",
              "                        <td id=\"T_d5e88bc8_7d59_11ec_aea0_0242ac1c0002row1_col1\" class=\"data row1 col1\" >62316.00</td>\n",
              "            </tr>\n",
              "            <tr>\n",
              "                        <th id=\"T_d5e88bc8_7d59_11ec_aea0_0242ac1c0002level0_row2\" class=\"row_heading level0 row2\" >income</th>\n",
              "                        <td id=\"T_d5e88bc8_7d59_11ec_aea0_0242ac1c0002row2_col0\" class=\"data row2 col0\" >-16485.64</td>\n",
              "                        <td id=\"T_d5e88bc8_7d59_11ec_aea0_0242ac1c0002row2_col1\" class=\"data row2 col1\" >147514.84</td>\n",
              "            </tr>\n",
              "            <tr>\n",
              "                        <th id=\"T_d5e88bc8_7d59_11ec_aea0_0242ac1c0002level0_row3\" class=\"row_heading level0 row3\" >reported_income</th>\n",
              "                        <td id=\"T_d5e88bc8_7d59_11ec_aea0_0242ac1c0002row3_col0\" class=\"data row3 col0\" >-99101.50</td>\n",
              "                        <td id=\"T_d5e88bc8_7d59_11ec_aea0_0242ac1c0002row3_col1\" class=\"data row3 col1\" >301086.50</td>\n",
              "            </tr>\n",
              "    </tbody></table>"
            ],
            "text/plain": [
              "<pandas.io.formats.style.Styler at 0x7f54292d97d0>"
            ]
          },
          "metadata": {},
          "execution_count": 39
        }
      ]
    },
    {
      "cell_type": "code",
      "source": [
        "for i,var in enumerate(lista):\n",
        "  verificar = df[df[var] > limite_superior[i]]\n",
        "  print('-'*80)\n",
        "  print('A variável',var,'tem',verificar.shape[0],'registros maiores que o limite superior.')\n",
        "  print('Sendo',verificar.target_default.value_counts()[1],'de clientes inadimplentes.')"
      ],
      "metadata": {
        "colab": {
          "base_uri": "https://localhost:8080/"
        },
        "id": "wSWRNZ6WreHg",
        "outputId": "a2d5a4e2-d08d-4653-e9f8-4f2370f2f381"
      },
      "execution_count": null,
      "outputs": [
        {
          "output_type": "stream",
          "name": "stdout",
          "text": [
            "--------------------------------------------------------------------------------\n",
            "A variável last_amount_borrowed tem 3080 registros maiores que o limite superior.\n",
            "Sendo 587 de clientes inadimplentes.\n",
            "--------------------------------------------------------------------------------\n",
            "A variável credit_limit tem 4113 registros maiores que o limite superior.\n",
            "Sendo 588 de clientes inadimplentes.\n",
            "--------------------------------------------------------------------------------\n",
            "A variável income tem 1756 registros maiores que o limite superior.\n",
            "Sendo 209 de clientes inadimplentes.\n",
            "--------------------------------------------------------------------------------\n",
            "A variável reported_income tem 296 registros maiores que o limite superior.\n",
            "Sendo 40 de clientes inadimplentes.\n"
          ]
        }
      ]
    },
    {
      "cell_type": "code",
      "source": [
        "#retirando os registros que estão fora do limite superior e inferior\n",
        "for i,var in enumerate(lista):\n",
        "  df = df[(df[var] > limite_inferior[i]) & (df[var] < limite_superior[i])]"
      ],
      "metadata": {
        "id": "EJxVNhy6a_Ff"
      },
      "execution_count": null,
      "outputs": []
    },
    {
      "cell_type": "markdown",
      "source": [
        "# Modelo Baseline\n",
        "\n",
        "Chegou a hora de começar a **aplicar** o Machine Learning. Para isso, escolheremos o *Random Forest* como modelo **baseline**. Ao contrário do que prega muita gente, acredito que obtemos melhores resultados já utilizando um bom modelo ao invés de perder tempo com modelos *naives*, ou seja, modelos que chutam 50% | 50%.\n",
        "\n",
        "Como existem muitas classes nas variáveis **categóricas**, provavelmente utilizaremos [matrizes esparsas](http://www.btechsmartclass.com/data_structures/sparse-matrix.html#:~:text=Sparse%20matrix%20is%20a%20matrix,very%20few%20non%2Dzero%20elements.&text=For%20example%2C%20consider%20a%20matrix,matrix%20are%20filled%20with%20zero.) para melhorar o desempenho do modelo. Além disso, vamos criar um dataset **limpo** com as variáveis **não**-alvo para ir inserindo as informações de cada variável nele.\n"
      ],
      "metadata": {
        "id": "_1xIzuvFTIO-"
      }
    },
    {
      "cell_type": "code",
      "source": [
        "#definir as features utilizadas\n",
        "mask = df.columns[1:]\n",
        "\n",
        "#aplicando a mascára no dataset\n",
        "df_model = df[mask]\n",
        "\n",
        "#definindo um dataset limpo\n",
        "df_limpo = pd.DataFrame(index=df_model.index)\n",
        "\n",
        "#visualizando as duas primeiras entradas\n",
        "df_model.head(2)"
      ],
      "metadata": {
        "colab": {
          "base_uri": "https://localhost:8080/",
          "height": 381
        },
        "id": "wZUXD6fvVJ8z",
        "outputId": "383fa4f8-1ec6-4b59-c336-7aa6af701772"
      },
      "execution_count": null,
      "outputs": [
        {
          "output_type": "execute_result",
          "data": {
            "text/html": [
              "\n",
              "  <div id=\"df-3250dce6-4f13-4582-879a-c3ec366e7433\">\n",
              "    <div class=\"colab-df-container\">\n",
              "      <div>\n",
              "<style scoped>\n",
              "    .dataframe tbody tr th:only-of-type {\n",
              "        vertical-align: middle;\n",
              "    }\n",
              "\n",
              "    .dataframe tbody tr th {\n",
              "        vertical-align: top;\n",
              "    }\n",
              "\n",
              "    .dataframe thead th {\n",
              "        text-align: right;\n",
              "    }\n",
              "</style>\n",
              "<table border=\"1\" class=\"dataframe\">\n",
              "  <thead>\n",
              "    <tr style=\"text-align: right;\">\n",
              "      <th></th>\n",
              "      <th>score_1</th>\n",
              "      <th>score_2</th>\n",
              "      <th>score_3</th>\n",
              "      <th>score_4</th>\n",
              "      <th>score_5</th>\n",
              "      <th>score_6</th>\n",
              "      <th>risk_rate</th>\n",
              "      <th>last_amount_borrowed</th>\n",
              "      <th>last_borrowed_in_months</th>\n",
              "      <th>credit_limit</th>\n",
              "      <th>reason</th>\n",
              "      <th>income</th>\n",
              "      <th>state</th>\n",
              "      <th>job_name</th>\n",
              "      <th>real_state</th>\n",
              "      <th>n_bankruptcies</th>\n",
              "      <th>n_defaulted_loans</th>\n",
              "      <th>n_accounts</th>\n",
              "      <th>n_issues</th>\n",
              "      <th>application_time_applied</th>\n",
              "      <th>application_time_in_funnel</th>\n",
              "      <th>email</th>\n",
              "      <th>external_data_provider_credit_checks_last_month</th>\n",
              "      <th>external_data_provider_email_seen_before</th>\n",
              "      <th>external_data_provider_fraud_score</th>\n",
              "      <th>marketing_channel</th>\n",
              "      <th>reported_income</th>\n",
              "      <th>shipping_state</th>\n",
              "      <th>profile_tags</th>\n",
              "      <th>user_agent</th>\n",
              "    </tr>\n",
              "    <tr>\n",
              "      <th>ids</th>\n",
              "      <th></th>\n",
              "      <th></th>\n",
              "      <th></th>\n",
              "      <th></th>\n",
              "      <th></th>\n",
              "      <th></th>\n",
              "      <th></th>\n",
              "      <th></th>\n",
              "      <th></th>\n",
              "      <th></th>\n",
              "      <th></th>\n",
              "      <th></th>\n",
              "      <th></th>\n",
              "      <th></th>\n",
              "      <th></th>\n",
              "      <th></th>\n",
              "      <th></th>\n",
              "      <th></th>\n",
              "      <th></th>\n",
              "      <th></th>\n",
              "      <th></th>\n",
              "      <th></th>\n",
              "      <th></th>\n",
              "      <th></th>\n",
              "      <th></th>\n",
              "      <th></th>\n",
              "      <th></th>\n",
              "      <th></th>\n",
              "      <th></th>\n",
              "      <th></th>\n",
              "    </tr>\n",
              "  </thead>\n",
              "  <tbody>\n",
              "    <tr>\n",
              "      <th>bc2c7502-bbad-0f8c-39c3-94e881967124</th>\n",
              "      <td>DGCQep2AE5QRkNCshIAlFQ==</td>\n",
              "      <td>SaamrHMo23l/3TwXOWgVzw==</td>\n",
              "      <td>370.0</td>\n",
              "      <td>97.062615</td>\n",
              "      <td>0.942655</td>\n",
              "      <td>92.002546</td>\n",
              "      <td>0.24</td>\n",
              "      <td>0.00</td>\n",
              "      <td>0.0</td>\n",
              "      <td>39726.0</td>\n",
              "      <td>mLVIVxoGY7TUDJ1FyFoSIZi1SFcaBmO01AydRchaEiGYtU...</td>\n",
              "      <td>100018.91</td>\n",
              "      <td>xsd3ZdsI3356I3xMxZeiqQ==</td>\n",
              "      <td>mLVIVxoGY7TUDJ1FyFoSIZi1SFcaBmO01AydRchaEiGYtU...</td>\n",
              "      <td>N5/CE7lSkAfB04hVFFwllw==</td>\n",
              "      <td>0.0</td>\n",
              "      <td>0.0</td>\n",
              "      <td>14.0</td>\n",
              "      <td>14.0</td>\n",
              "      <td>2</td>\n",
              "      <td>346</td>\n",
              "      <td>gmail.com</td>\n",
              "      <td>1</td>\n",
              "      <td>17.0</td>\n",
              "      <td>243</td>\n",
              "      <td>Radio-commercial</td>\n",
              "      <td>4902.0</td>\n",
              "      <td>BR-RS</td>\n",
              "      <td>{'tags': ['n6', 'n7', 'nim']}</td>\n",
              "      <td>Mozilla/5.0 (Linux; Android 5.0.2; SAMSUNG SM-...</td>\n",
              "    </tr>\n",
              "    <tr>\n",
              "      <th>669630dd-2e6a-0396-84bf-455e5009c922</th>\n",
              "      <td>DGCQep2AE5QRkNCshIAlFQ==</td>\n",
              "      <td>Fv28Bz0YRTVAT5kl1bAV6g==</td>\n",
              "      <td>360.0</td>\n",
              "      <td>100.027073</td>\n",
              "      <td>0.351918</td>\n",
              "      <td>112.892453</td>\n",
              "      <td>0.29</td>\n",
              "      <td>7207.92</td>\n",
              "      <td>36.0</td>\n",
              "      <td>25647.0</td>\n",
              "      <td>mLVIVxoGY7TUDJ1FyFoSIZi1SFcaBmO01AydRchaEiGYtU...</td>\n",
              "      <td>65023.65</td>\n",
              "      <td>Ygq6MsM98oC8yceExr69Ig==</td>\n",
              "      <td>mLVIVxoGY7TUDJ1FyFoSIZi1SFcaBmO01AydRchaEiGYtU...</td>\n",
              "      <td>n+xK9CfX0bCn77lClTWviw==</td>\n",
              "      <td>0.0</td>\n",
              "      <td>0.0</td>\n",
              "      <td>10.0</td>\n",
              "      <td>10.0</td>\n",
              "      <td>0</td>\n",
              "      <td>6</td>\n",
              "      <td>gmail.com</td>\n",
              "      <td>2</td>\n",
              "      <td>9.0</td>\n",
              "      <td>65</td>\n",
              "      <td>Waiting-list</td>\n",
              "      <td>163679.0</td>\n",
              "      <td>BR-RR</td>\n",
              "      <td>{'tags': ['n0', 'n17', 'nim', 'da']}</td>\n",
              "      <td>Mozilla/5.0 (Linux; Android 6.0.1; SGP771 Buil...</td>\n",
              "    </tr>\n",
              "  </tbody>\n",
              "</table>\n",
              "</div>\n",
              "      <button class=\"colab-df-convert\" onclick=\"convertToInteractive('df-3250dce6-4f13-4582-879a-c3ec366e7433')\"\n",
              "              title=\"Convert this dataframe to an interactive table.\"\n",
              "              style=\"display:none;\">\n",
              "        \n",
              "  <svg xmlns=\"http://www.w3.org/2000/svg\" height=\"24px\"viewBox=\"0 0 24 24\"\n",
              "       width=\"24px\">\n",
              "    <path d=\"M0 0h24v24H0V0z\" fill=\"none\"/>\n",
              "    <path d=\"M18.56 5.44l.94 2.06.94-2.06 2.06-.94-2.06-.94-.94-2.06-.94 2.06-2.06.94zm-11 1L8.5 8.5l.94-2.06 2.06-.94-2.06-.94L8.5 2.5l-.94 2.06-2.06.94zm10 10l.94 2.06.94-2.06 2.06-.94-2.06-.94-.94-2.06-.94 2.06-2.06.94z\"/><path d=\"M17.41 7.96l-1.37-1.37c-.4-.4-.92-.59-1.43-.59-.52 0-1.04.2-1.43.59L10.3 9.45l-7.72 7.72c-.78.78-.78 2.05 0 2.83L4 21.41c.39.39.9.59 1.41.59.51 0 1.02-.2 1.41-.59l7.78-7.78 2.81-2.81c.8-.78.8-2.07 0-2.86zM5.41 20L4 18.59l7.72-7.72 1.47 1.35L5.41 20z\"/>\n",
              "  </svg>\n",
              "      </button>\n",
              "      \n",
              "  <style>\n",
              "    .colab-df-container {\n",
              "      display:flex;\n",
              "      flex-wrap:wrap;\n",
              "      gap: 12px;\n",
              "    }\n",
              "\n",
              "    .colab-df-convert {\n",
              "      background-color: #E8F0FE;\n",
              "      border: none;\n",
              "      border-radius: 50%;\n",
              "      cursor: pointer;\n",
              "      display: none;\n",
              "      fill: #1967D2;\n",
              "      height: 32px;\n",
              "      padding: 0 0 0 0;\n",
              "      width: 32px;\n",
              "    }\n",
              "\n",
              "    .colab-df-convert:hover {\n",
              "      background-color: #E2EBFA;\n",
              "      box-shadow: 0px 1px 2px rgba(60, 64, 67, 0.3), 0px 1px 3px 1px rgba(60, 64, 67, 0.15);\n",
              "      fill: #174EA6;\n",
              "    }\n",
              "\n",
              "    [theme=dark] .colab-df-convert {\n",
              "      background-color: #3B4455;\n",
              "      fill: #D2E3FC;\n",
              "    }\n",
              "\n",
              "    [theme=dark] .colab-df-convert:hover {\n",
              "      background-color: #434B5C;\n",
              "      box-shadow: 0px 1px 3px 1px rgba(0, 0, 0, 0.15);\n",
              "      filter: drop-shadow(0px 1px 2px rgba(0, 0, 0, 0.3));\n",
              "      fill: #FFFFFF;\n",
              "    }\n",
              "  </style>\n",
              "\n",
              "      <script>\n",
              "        const buttonEl =\n",
              "          document.querySelector('#df-3250dce6-4f13-4582-879a-c3ec366e7433 button.colab-df-convert');\n",
              "        buttonEl.style.display =\n",
              "          google.colab.kernel.accessAllowed ? 'block' : 'none';\n",
              "\n",
              "        async function convertToInteractive(key) {\n",
              "          const element = document.querySelector('#df-3250dce6-4f13-4582-879a-c3ec366e7433');\n",
              "          const dataTable =\n",
              "            await google.colab.kernel.invokeFunction('convertToInteractive',\n",
              "                                                     [key], {});\n",
              "          if (!dataTable) return;\n",
              "\n",
              "          const docLinkHtml = 'Like what you see? Visit the ' +\n",
              "            '<a target=\"_blank\" href=https://colab.research.google.com/notebooks/data_table.ipynb>data table notebook</a>'\n",
              "            + ' to learn more about interactive tables.';\n",
              "          element.innerHTML = '';\n",
              "          dataTable['output_type'] = 'display_data';\n",
              "          await google.colab.output.renderOutput(dataTable, element);\n",
              "          const docLink = document.createElement('div');\n",
              "          docLink.innerHTML = docLinkHtml;\n",
              "          element.appendChild(docLink);\n",
              "        }\n",
              "      </script>\n",
              "    </div>\n",
              "  </div>\n",
              "  "
            ],
            "text/plain": [
              "                                                       score_1  ...                                         user_agent\n",
              "ids                                                             ...                                                   \n",
              "bc2c7502-bbad-0f8c-39c3-94e881967124  DGCQep2AE5QRkNCshIAlFQ==  ...  Mozilla/5.0 (Linux; Android 5.0.2; SAMSUNG SM-...\n",
              "669630dd-2e6a-0396-84bf-455e5009c922  DGCQep2AE5QRkNCshIAlFQ==  ...  Mozilla/5.0 (Linux; Android 6.0.1; SGP771 Buil...\n",
              "\n",
              "[2 rows x 30 columns]"
            ]
          },
          "metadata": {},
          "execution_count": 42
        }
      ]
    },
    {
      "cell_type": "markdown",
      "source": [
        "Podemos observar que alguns valores númericos tem um grande **intervalo** entre seus registros. Desta forma, é aconselhável usar alguma técnica para diminuir esta distância entre os números.\n",
        "\n",
        "Neste projeto, utilizaremos o [Standard Scaler](https://scikit-learn.org/stable/modules/generated/sklearn.preprocessing.StandardScaler.html) do Scikit-Learn."
      ],
      "metadata": {
        "id": "AGSReMIMy4Lo"
      }
    },
    {
      "cell_type": "code",
      "source": [
        "#variáveis que serão normalizadas\n",
        "lista_para_normalizar = ['score_3','score_4','score_5','score_6','risk_rate',\n",
        "        'last_amount_borrowed','last_borrowed_in_months','credit_limit','income',\n",
        "        'n_bankruptcies','n_defaulted_loans','n_accounts','n_issues','application_time_in_funnel',\n",
        "        'external_data_provider_credit_checks_last_month',\n",
        "        'external_data_provider_fraud_score','reported_income']\n",
        "\n",
        "#instanciando o StandardScaler\n",
        "ss_norm = StandardScaler()\n",
        "\n",
        "#aplicando nos dados\n",
        "df_normalizado = pd.DataFrame(ss_norm.fit_transform(df_model[lista_para_normalizar]),\n",
        "                              columns= lista_para_normalizar,\n",
        "                              index = df_model.index)\n",
        "\n",
        "#adicionando ao DataFrame limpo \n",
        "df_limpo  = pd.concat([df_limpo,df_normalizado],axis=1)\n",
        "\n",
        "\n",
        "#verificando o tamanho do df_limpo\n",
        "df_limpo.shape"
      ],
      "metadata": {
        "colab": {
          "base_uri": "https://localhost:8080/"
        },
        "id": "bzl59aCywSDf",
        "outputId": "ec58f2ab-6179-4eca-a98e-a540b3a661ff"
      },
      "execution_count": null,
      "outputs": [
        {
          "output_type": "execute_result",
          "data": {
            "text/plain": [
              "(30529, 17)"
            ]
          },
          "metadata": {},
          "execution_count": 43
        }
      ]
    },
    {
      "cell_type": "markdown",
      "source": [
        "Show! Chegou o momento de lidarmos com algumas das variáveis **categóricas**.\n",
        "\n",
        "Inicialmente é bom dar uma olhada no `user_agent`. Esquecemos de dar um melhor tratamento para esta coluna. Talvez seja interessante pegar apenas o sistema operacional que o usuário está utilizando."
      ],
      "metadata": {
        "id": "XCH71xQny5gI"
      }
    },
    {
      "cell_type": "code",
      "source": [
        "#visualizando a variáve user_agent\n",
        "df_model.user_agent[:3]"
      ],
      "metadata": {
        "colab": {
          "base_uri": "https://localhost:8080/"
        },
        "id": "jd1htHHkyRNn",
        "outputId": "dfe4121d-f20a-4e4a-ffa1-04f3999f7c3c"
      },
      "execution_count": null,
      "outputs": [
        {
          "output_type": "execute_result",
          "data": {
            "text/plain": [
              "ids\n",
              "bc2c7502-bbad-0f8c-39c3-94e881967124    Mozilla/5.0 (Linux; Android 5.0.2; SAMSUNG SM-...\n",
              "669630dd-2e6a-0396-84bf-455e5009c922    Mozilla/5.0 (Linux; Android 6.0.1; SGP771 Buil...\n",
              "d235609e-b6cb-0ccc-a329-d4f12e7ebdc1    Mozilla/5.0 (Linux; Android 6.0; HTC One X10 B...\n",
              "Name: user_agent, dtype: object"
            ]
          },
          "metadata": {},
          "execution_count": 44
        }
      ]
    },
    {
      "cell_type": "code",
      "source": [
        "#separando os valores da variável user_agent\n",
        "df_model.user_agent = df_model.user_agent.str.extract(r'[()](.*?)[;]')\n",
        "\n",
        "#visualizando a variáve user_agent\n",
        "df_model.user_agent[:3]"
      ],
      "metadata": {
        "colab": {
          "base_uri": "https://localhost:8080/"
        },
        "id": "egtuBcI_zBRn",
        "outputId": "985d5c38-0f99-4a42-c117-06df881e597c"
      },
      "execution_count": null,
      "outputs": [
        {
          "output_type": "execute_result",
          "data": {
            "text/plain": [
              "ids\n",
              "bc2c7502-bbad-0f8c-39c3-94e881967124    Linux\n",
              "669630dd-2e6a-0396-84bf-455e5009c922    Linux\n",
              "d235609e-b6cb-0ccc-a329-d4f12e7ebdc1    Linux\n",
              "Name: user_agent, dtype: object"
            ]
          },
          "metadata": {},
          "execution_count": 45
        }
      ]
    },
    {
      "cell_type": "markdown",
      "source": [
        "Pronto! Para esta e algumas outras variáveis vamos considerar que não exista alguma diferença de **hierarquia** (nível) entre os valores de cada classe. Por conta disso, utilizaremos o [One Hot Encoder](https://scikit-learn.org/stable/modules/generated/sklearn.preprocessing.OneHotEncoder.html)."
      ],
      "metadata": {
        "id": "v8BqnnjmzM1a"
      }
    },
    {
      "cell_type": "code",
      "source": [
        "#instanciando o One Hot Enconder\n",
        "ohe = OneHotEncoder(sparse=True)\n",
        "\n",
        "#fitando e transformando os dados de treino\n",
        "ohe_score_state =  ohe.fit_transform(df_model[['score_1','score_2','reason','state','job_name','real_state','application_time_applied',\n",
        "                                               'email','marketing_channel','shipping_state','user_agent']])\n",
        "\n",
        "#adicionando ao dataFrame limpo de treino\n",
        "df_limpo = hstack([df_limpo,ohe_score_state])\n",
        "\n",
        "#verificando o tamanho do df_limpo\n",
        "df_limpo.shape"
      ],
      "metadata": {
        "colab": {
          "base_uri": "https://localhost:8080/"
        },
        "id": "QwVOPm8dvagZ",
        "outputId": "489a2e79-cc0b-41ed-964b-c336735b36f1"
      },
      "execution_count": null,
      "outputs": [
        {
          "output_type": "execute_result",
          "data": {
            "text/plain": [
              "(30529, 35976)"
            ]
          },
          "metadata": {},
          "execution_count": 46
        }
      ]
    },
    {
      "cell_type": "markdown",
      "source": [
        "Você pode ter achado que esquecemos da variável `profile_tags`. Na verdade, devido ao seu formato achei melhor por trabalhar ela em separado. \n",
        "\n",
        "Neste caso, utilizaremos a [MultiLabel Binarizer](https://scikit-learn.org/stable/modules/generated/sklearn.preprocessing.MultiLabelBinarizer.html) porque um registro pode ter várias tags e queremos transformar cada uma destas tags em uma nova coluna. O que pretendemos fazer está ilustrado na tabela abaixo:\n",
        "\n",
        "<table> \n",
        "<tr><td align='center'><b>Tag Atual</b></td><td align='center'><b>[Mudança]</b></td><td align='center'><b>n0</b></td><td align='center'><b>n4</b></td><td align='center'><b>etc</b></td></tr>\n",
        "<tr><td align='center'>{'tags': ['n6', 'n7', 'nim']}</td><td align='center'></td><td align='center'>0</td><td align='center'>0</td><td align='center'>-</td></tr>\n",
        "<tr><td align='center'>{'tags': ['n0', 'n17', 'nim', 'da']}</td><td align='center'></td><td align='center'>1</td><td align='center'>0</td><td align='center'>-</td></tr>\n",
        "<tr><td align='center'>{'tags': ['n4']}</td><td align='center'></td><td align='center'>0</td><td align='center'>1</td><td align='center'>-</td></tr>\n",
        "</table>\n"
      ],
      "metadata": {
        "id": "XVQ2AWkc1C5_"
      }
    },
    {
      "cell_type": "code",
      "source": [
        "#variável está em string, transformar em lista\n",
        "dicionarizar = [eval(x) for x in df_model.profile_tags]\n",
        "\n",
        "#criar um DataFrame com esta lista e selecionar a coluna tags\n",
        "df_tags  = pd.DataFrame(dicionarizar).tags\n",
        "\n",
        "#instanciar o MultiLabelBinazer\n",
        "mlb = MultiLabelBinarizer(sparse_output=True)\n",
        "\n",
        "#fitando e transformando com o mlb\n",
        "mlb_profile_tags = mlb.fit_transform(df_tags)\n",
        "\n",
        "#adicionando ao DataFrame Limpo\n",
        "df_limpo = hstack([df_limpo,mlb_profile_tags])\n",
        "\n",
        "#verificando o tamanho do df_limpo\n",
        "df_limpo.shape"
      ],
      "metadata": {
        "colab": {
          "base_uri": "https://localhost:8080/"
        },
        "id": "bZx9S_T60_Wm",
        "outputId": "7ff568d7-77c6-42a2-9ce5-b3e01f2c9194"
      },
      "execution_count": null,
      "outputs": [
        {
          "output_type": "execute_result",
          "data": {
            "text/plain": [
              "(30529, 36005)"
            ]
          },
          "metadata": {},
          "execution_count": 47
        }
      ]
    },
    {
      "cell_type": "markdown",
      "source": [
        "Agora, iremos separar nossos registros em dados de treino e teste usando o [train_test_split](https://scikit-learn.org/stable/modules/generated/sklearn.model_selection.train_test_split.html).\n",
        "\n",
        "No`train_test_split` vamos utilizar o parâmetro *stratify* para manter a **proporção** nos dados de treino e testes dos registros de inadimplência. Se você voltar nos códigos lá em cima, vai perceber que existem **muito** mais registros de pessoas que pagam em dia do que inadimplentes. E nós precisamos **manter** estas proporções nos dados de treino.\n",
        "\n",
        "Outra prática que iremos adotar é **tunar** os *hiperparâmetros* na base de testes e desconsiderar qualquer tipo de base de dados para validação. A validação que vale mesmo é a **prática**! É colocar o modelo em **produção**!"
      ],
      "metadata": {
        "id": "hz3LSt03v-Ce"
      }
    },
    {
      "cell_type": "code",
      "source": [
        "#separando os dados em x e y\n",
        "x = df_limpo\n",
        "y = df.target_default\n",
        "\n",
        "#separando os dados em treino e teste\n",
        "x_train, x_test, y_train, y_test =  train_test_split(x, y, stratify = y, random_state = 42)"
      ],
      "metadata": {
        "id": "IbI-Smmy358b"
      },
      "execution_count": null,
      "outputs": []
    },
    {
      "cell_type": "markdown",
      "source": [
        "Show! Vamos colocar estes dados de treino em um classificador *Random Forest* e ver como está se comportando."
      ],
      "metadata": {
        "id": "gCAAvB-xnuMu"
      }
    },
    {
      "cell_type": "code",
      "source": [
        "#instanciando o Random Forest Classifier\n",
        "rf_clf =  RandomForestClassifier(random_state = 42)\n",
        "\n",
        "#realizando o fit nos dados de treino\n",
        "rf_clf.fit(x_train,y_train)\n",
        "\n",
        "#fazendo as previsoes\n",
        "y_pred_rfc = rf_clf.predict(x_test)\n",
        "\n",
        "#criando a matriz de confusão\n",
        "cm = confusion_matrix(y_test,y_pred_rfc,normalize='true')\n",
        "\n",
        "#criando o fig, ax\n",
        "fig,ax = plt.subplots(figsize=(8,6))\n",
        "\n",
        "#plotando a matriz de confusão\n",
        "ConfusionMatrixDisplay(confusion_matrix=cm).plot(ax=ax,colorbar=False,cmap='Blues');\n",
        "ajuste_layout(ax=ax,titulo='Random Forest Classifier',location='center', xlabel='Previsão',ylabel='Real',\n",
        "              xlabels=True,lista_para_o_x=['em dia','inadimplente'],\n",
        "              ylabels=True,lista_para_o_y=['em dia','inadimplente'])\n",
        "\n",
        "#plotando o gráfico\n",
        "plt.tight_layout();"
      ],
      "metadata": {
        "id": "dxRYfhoh36Ay",
        "colab": {
          "base_uri": "https://localhost:8080/",
          "height": 441
        },
        "outputId": "43353082-6b63-4d87-f132-e6c08af4f383"
      },
      "execution_count": null,
      "outputs": [
        {
          "output_type": "display_data",
          "data": {
            "image/png": "[encoded data removed]",
            "text/plain": [
              "<Figure size 576x432 with 1 Axes>"
            ]
          },
          "metadata": {
            "needs_background": "light"
          }
        }
      ]
    },
    {
      "cell_type": "markdown",
      "source": [
        "Nossa! Nosso algoritmo foi muito mal. 🤔\n",
        "\n",
        "Este erro provavelmente se deve aos dados estarem **desbalanceados**, já que existem muito mais pessoas que pagam em dia em comparação com as inadimplentes. Temos que mudar isso utilizando uma técnica de [Under Sampling](https://imbalanced-learn.org/stable/under_sampling.html).\n",
        "\n",
        "Um fato que é importante ressaltar é que só aplicamos esta mudança nos dados de **treino**, que é o momento em que o algoritmo aprende sobre o problema."
      ],
      "metadata": {
        "id": "41uLSo8EmuIT"
      }
    },
    {
      "cell_type": "code",
      "source": [
        "#instanciando o Random Under Sampler\n",
        "rus = RandomUnderSampler(random_state = 42)\n",
        "\n",
        "# aplicando o rus nos dados de teste\n",
        "x_rus, y_rus = rus.fit_resample(x_train,y_train)"
      ],
      "metadata": {
        "id": "cgIq3ftj4r4o"
      },
      "execution_count": null,
      "outputs": []
    },
    {
      "cell_type": "markdown",
      "source": [
        "Pronto. Técnica **aplicada**. Agora vamos dar uma olhada na **figura** abaixo para verificar como ficaram os dados **após** essa mudança.\n",
        "\n",
        "Os registros de inadimplentes que antes representavam apenas 15% dos dados de treino, agora passam a representar 50%. Meio a meio. Nosso algoritmo vai buscar entender o que torna um cliente inadimplente."
      ],
      "metadata": {
        "id": "YwJ3AFazmUOG"
      }
    },
    {
      "cell_type": "code",
      "source": [
        "#criação do fig e ax no matplotlib\n",
        "fig,ax = plt.subplots(figsize=(16,6),ncols=2)\n",
        "\n",
        "#criação do gráfico antes do balanceamento\n",
        "y_train.value_counts().plot(kind='bar',ax=ax[0])\n",
        "ajuste_layout(ax=ax[0],titulo='Dados de treino antes do balanceamento',\n",
        "              addlabels=True,y=list(y_train.value_counts()),distancia = 10**3,\n",
        "              xlabels=True,lista_para_o_x=['paga em dia','inadimplente'])\n",
        "\n",
        "porcentagem = y_train.sum() / y_train.shape[0]\n",
        "ax[0].annotate('{:.2%}'.format(porcentagem),\n",
        "            xy=(1, 6000), xycoords='data',\n",
        "            xytext=(0.78, 0.42), textcoords='axes fraction',\n",
        "            arrowprops=dict(facecolor='grey',arrowstyle=\"->\"),\n",
        "            horizontalalignment='right', verticalalignment='top')\n",
        "\n",
        "#criação do gráfico\n",
        "y_rus.value_counts().plot(kind='bar',ax=ax[1])\n",
        "ajuste_layout(ax=ax[1],titulo='Dados de treino depois do balanceamento',\n",
        "              addlabels=True,y=list(y_rus.value_counts()),distancia = 10**2,\n",
        "              xlabels=True,lista_para_o_x=['paga em dia','inadimplente'])\n",
        "\n",
        "porcentagem = y_rus.sum() / y_rus.shape[0]\n",
        "ax[1].annotate('{:.2%}'.format(porcentagem),\n",
        "            xy=(1, 3500), xycoords='data',color='white',\n",
        "            xytext=(0.78, 0.8), textcoords='axes fraction',\n",
        "            arrowprops=dict(arrowstyle=\"->\",color='white'),\n",
        "            horizontalalignment='right', verticalalignment='top')\n",
        "\n",
        "#plotando o gráfico\n",
        "plt.tight_layout(pad=2.0);"
      ],
      "metadata": {
        "id": "38Hp4o6xMp12",
        "colab": {
          "base_uri": "https://localhost:8080/",
          "height": 423
        },
        "outputId": "017e5fdf-bd31-4ba1-c030-82ec506a0536"
      },
      "execution_count": null,
      "outputs": [
        {
          "output_type": "display_data",
          "data": {
            "image/png": "[encoded data removed]",
            "text/plain": [
              "<Figure size 1152x432 with 2 Axes>"
            ]
          },
          "metadata": {}
        }
      ]
    },
    {
      "cell_type": "markdown",
      "source": [
        "#Modelos e suas Métricas de Performance\n",
        "\n",
        "Neste projeto, utilizaremos três classificadores:\n",
        "* [Random Forest Classifier](https://towardsdatascience.com/understanding-random-forest-58381e0602d2)\n",
        "* [XGBoost Classifier](https://towardsdatascience.com/beginners-guide-to-xgboost-for-classification-problems-50f75aac5390)\n",
        "* [LGBM Classifier](https://medium.com/@pushkarmandot/https-medium-com-pushkarmandot-what-is-lightgbm-how-to-implement-it-how-to-fine-tune-the-parameters-60347819b7fc)\n",
        "\n",
        "\n",
        "Nosso objetivo é prever qual cliente é **inadimplente**, mesmo tendo poucos clientes nesta situação em nossa base de dados. Para este projeto, teremos como referência o seguinte paper: [An empirical comparison of classification algorithms for mortgage\n",
        "default prediction: evidence from a distressed mortgage market](https://eprints.soton.ac.uk/381624/1/1-s2.0-S0377221715008383-main.pdf__tid%253Db7f07864-6b55-11e5-9255-00000aab0f26%2526acdnat%253D1444045340_74ea767bc4f6f8d9a9423587019171e3).\n",
        "\n",
        "Geralmente, neste tipo de problema se utiliza a métrica [AUC](https://developers.google.com/machine-learning/crash-course/classification/roc-and-auc). No entanto, o professor David J. Hand da *Imperial College London* propôs uma [alternativa](https://link.springer.com/content/pdf/10.1007/s10994-009-5119-5.pdf) que melhor se adequada a este tipo de situação, a métrica [h-measure](https://www.hmeasure.net/).\n",
        "\n",
        "Desta forma, tunaremos nossos modelos pela métrica proposta pelo professor Hand e decidiremos qual o melhor modelo a partir de uma [matriz de confusão](https://en.wikipedia.org/wiki/Confusion_matrix).\n",
        "\n"
      ],
      "metadata": {
        "id": "J9sBsYPwi7yd"
      }
    },
    {
      "cell_type": "code",
      "source": [
        "#instalando a biblioteca h measure\n",
        "!pip install hmeasure -q"
      ],
      "metadata": {
        "id": "345ztHRtIEgu"
      },
      "execution_count": null,
      "outputs": []
    },
    {
      "cell_type": "code",
      "source": [
        "#importando a biblioteca\n",
        "from hmeasure import h_score"
      ],
      "metadata": {
        "id": "UrUV4JbpIEm8"
      },
      "execution_count": null,
      "outputs": []
    },
    {
      "cell_type": "code",
      "source": [
        "#instanciando os modelos\n",
        "rf_clf =  RandomForestClassifier(random_state = 42)\n",
        "xgb_clf = XGBClassifier(random_state=42)\n",
        "lgbm_clf = LGBMClassifier(random_state=42)\n",
        "\n",
        "#prevendo com os dados balanceados\n",
        "rf_clf.fit(x_rus,y_rus)\n",
        "xgb_clf.fit(x_rus,y_rus)\n",
        "lgbm_clf.fit(x_rus,y_rus)\n",
        "\n",
        "#fazendo as previsoes\n",
        "y_pred_rfc = rf_clf.predict(x_test)\n",
        "y_pred_xgb = xgb_clf.predict(x_test)\n",
        "y_pred_lgbm = lgbm_clf.predict(x_test)"
      ],
      "metadata": {
        "id": "LGF8y0b364Hb"
      },
      "execution_count": null,
      "outputs": []
    },
    {
      "cell_type": "code",
      "source": [
        "#criando a matriz de confusão\n",
        "cm_rfc = confusion_matrix(y_test,y_pred_rfc,normalize='true')\n",
        "cm_xgb = confusion_matrix(y_test,y_pred_xgb)\n",
        "cm_lgbm = confusion_matrix(y_test,y_pred_lgbm)\n",
        "\n",
        "#criando o figure e o ax no maptlotlib\n",
        "fig, ax = plt.subplots(figsize=(12,12),ncols=3)\n",
        "\n",
        "#plotando a matriz de confusão do Random Forest Classifier\n",
        "ConfusionMatrixDisplay(confusion_matrix=cm_rfc).plot(ax=ax[0],colorbar=False,cmap='Blues')\n",
        "ajuste_layout(ax=ax[0],titulo='Random Forest Classifier',\n",
        "              xlabel='Previsão',ylabel='Real',\n",
        "              xlabels=True,lista_para_o_x=['em dia','inadimplente'],\n",
        "              ylabels=True,lista_para_o_y=['em dia','inadimplente'])\n",
        "\n",
        "#plotando a matriz de confusão do XGBoost Classifier\n",
        "ConfusionMatrixDisplay(confusion_matrix=cm_xgb).plot(ax=ax[1],colorbar=False,cmap='Greys')\n",
        "ajuste_layout(ax=ax[1],titulo='XGBoost Classifier',\n",
        "              xlabel='Previsão',ylabel='Real',\n",
        "              xlabels=True,lista_para_o_x=['em dia','inadimplente'],\n",
        "              ylabels=True,lista_para_o_y=['em dia','inadimplente'])\n",
        "\n",
        "#plotando a matriz de confusão do LGBM Classifier\n",
        "ConfusionMatrixDisplay(confusion_matrix=cm_lgbm).plot(ax=ax[2],colorbar=False,cmap='Greens')\n",
        "ajuste_layout(ax=ax[2],titulo='LGBM Classifier',\n",
        "              xlabel='Previsão',ylabel='Real',\n",
        "              xlabels=True,lista_para_o_x=['em dia','inadimplente'],\n",
        "              ylabels=True,lista_para_o_y=['em dia','inadimplente'])\n",
        "\n",
        "#plotando os gráficos\n",
        "plt.tight_layout(pad=2.0);"
      ],
      "metadata": {
        "id": "1BA9obE1Sth2",
        "colab": {
          "base_uri": "https://localhost:8080/",
          "height": 303
        },
        "outputId": "795e0793-7629-4d86-819d-62a6ce2a9b6b"
      },
      "execution_count": null,
      "outputs": [
        {
          "output_type": "display_data",
          "data": {
            "image/png": "[encoded data removed]",
            "text/plain": [
              "<Figure size 864x864 with 3 Axes>"
            ]
          },
          "metadata": {
            "needs_background": "light"
          }
        }
      ]
    },
    {
      "cell_type": "markdown",
      "source": [
        "#Tuning dos Modelos\n",
        "\n",
        "O cientista de dados e Kaggle GrandMaster Mario Filho propõe [neste vídeo](https://www.youtube.com/watch?v=WhnkeasZNHI&t=16s) alternativas melhores que o Grid Search para o tuning dos hiperparâmetros. Ao invés de fazermos buscas exaustivas, podemos utilizar uma [Otimização Bayesiana](https://scikit-optimize.github.io/stable/auto_examples/bayesian-optimization.html). Esta otimização inicia com uma busca **aleatória** e depois faz uma **otimização** mais inteligente a partir do ponto escolhido.\n",
        "\n",
        "Basicamente, são passados **intervalos** de valores para os parâmetros. O modelo treina com alguns valores **aleatórios** destes intervalos pelo número de vezes **setados** através do parâmetro `n_random_starts`. A partir disso, ele passa a fazer uma **escolha** de intervalos de forma mais otimizada, buscando se aproximar ou ultrapassar do melhor valor obtido pela métrica. O máximo de iterações feitas é pautado pelo parâmetro `n_calls`."
      ],
      "metadata": {
        "id": "4DNUABT1i_Q4"
      }
    },
    {
      "cell_type": "code",
      "source": [
        "!pip install scikit-optimize -q"
      ],
      "metadata": {
        "id": "mdN9QU_NjAra",
        "colab": {
          "base_uri": "https://localhost:8080/"
        },
        "outputId": "d142c2d0-0176-4101-ccca-f782d9c9c420"
      },
      "execution_count": null,
      "outputs": [
        {
          "output_type": "stream",
          "name": "stdout",
          "text": [
            "\u001b[?25l\r\u001b[K     |███▎                            | 10 kB 22.2 MB/s eta 0:00:01\r\u001b[K     |██████▌                         | 20 kB 27.5 MB/s eta 0:00:01\r\u001b[K     |█████████▉                      | 30 kB 20.7 MB/s eta 0:00:01\r\u001b[K     |█████████████                   | 40 kB 17.0 MB/s eta 0:00:01\r\u001b[K     |████████████████▍               | 51 kB 9.6 MB/s eta 0:00:01\r\u001b[K     |███████████████████▋            | 61 kB 9.9 MB/s eta 0:00:01\r\u001b[K     |██████████████████████▉         | 71 kB 9.2 MB/s eta 0:00:01\r\u001b[K     |██████████████████████████▏     | 81 kB 10.1 MB/s eta 0:00:01\r\u001b[K     |█████████████████████████████▍  | 92 kB 10.8 MB/s eta 0:00:01\r\u001b[K     |████████████████████████████████| 100 kB 5.8 MB/s \n",
            "\u001b[?25h"
          ]
        }
      ]
    },
    {
      "cell_type": "code",
      "source": [
        "#importar o gp_minimize\n",
        "from skopt import gp_minimize"
      ],
      "metadata": {
        "id": "KMYFkZZ0Q7k6"
      },
      "execution_count": null,
      "outputs": []
    },
    {
      "cell_type": "markdown",
      "source": [
        "##Tuning Random Forest\n",
        "\n",
        "Para utilizar o `gp_minimize` temos de definir uma função que **retornará** a variável que pretendemos maximizar ou minimizar. Em nosso caso, como queremos **maximizar** o `h_score` adicionamos o símbolo de menos (-) no return.\n",
        "\n",
        "Além disso, precisamos passar os parâmetros para treinar nosso modelo em cada iteração.\n",
        "\n"
      ],
      "metadata": {
        "id": "6LyuctTIHuRU"
      }
    },
    {
      "cell_type": "code",
      "source": [
        "def tune_rfc(params):\n",
        "    n_estimators = params[0]\n",
        "    min_samples_leaf = params[1]\n",
        "    \n",
        "    mdl = RandomForestClassifier(random_state=42,\n",
        "                                 n_estimators=n_estimators,\n",
        "                                 min_samples_leaf=min_samples_leaf)\n",
        "                                 \n",
        "    mdl.fit(x_rus, y_rus)\n",
        "    \n",
        "    p = mdl.predict(x_test)\n",
        "    \n",
        "    return -h_score(np.array(y_test),p)"
      ],
      "metadata": {
        "id": "pakIelV4Hz9c"
      },
      "execution_count": null,
      "outputs": []
    },
    {
      "cell_type": "markdown",
      "source": [
        "Na variável `space` são passados os intervalos de cada **parâmetro**. Eles são passados como **tupla**, o valor da esquerda é o mínimo e o da direita o máximo. O `verbose` setado como *True* serve para **exibir** na tela os valores obtidos a cada iteração."
      ],
      "metadata": {
        "id": "YiMi_YdDs7YE"
      }
    },
    {
      "cell_type": "code",
      "source": [
        "space = [(100,1000), # n_estimators\n",
        "          (1, 10)] # min_samples_leaf\n",
        "\n",
        "res_rfc = gp_minimize(tune_rfc, space, random_state=42, n_random_starts=20, n_calls=30, verbose=True)"
      ],
      "metadata": {
        "colab": {
          "base_uri": "https://localhost:8080/"
        },
        "id": "zbjYueqAHz_l",
        "outputId": "bce53717-b12a-47d6-fd8c-9f0046ad1b36"
      },
      "execution_count": null,
      "outputs": [
        {
          "output_type": "stream",
          "name": "stdout",
          "text": [
            "Iteration No: 1 started. Evaluating function at random point.\n",
            "Iteration No: 1 ended. Evaluation done at random point.\n",
            "Time taken: 6.7024\n",
            "Function value obtained: -0.0862\n",
            "Current minimum: -0.0862\n",
            "Iteration No: 2 started. Evaluating function at random point.\n",
            "Iteration No: 2 ended. Evaluation done at random point.\n",
            "Time taken: 4.5423\n",
            "Function value obtained: -0.0791\n",
            "Current minimum: -0.0862\n",
            "Iteration No: 3 started. Evaluating function at random point.\n",
            "Iteration No: 3 ended. Evaluation done at random point.\n",
            "Time taken: 6.2853\n",
            "Function value obtained: -0.0897\n",
            "Current minimum: -0.0897\n",
            "Iteration No: 4 started. Evaluating function at random point.\n",
            "Iteration No: 4 ended. Evaluation done at random point.\n",
            "Time taken: 3.3815\n",
            "Function value obtained: -0.0881\n",
            "Current minimum: -0.0897\n",
            "Iteration No: 5 started. Evaluating function at random point.\n",
            "Iteration No: 5 ended. Evaluation done at random point.\n",
            "Time taken: 1.1946\n",
            "Function value obtained: -0.0856\n",
            "Current minimum: -0.0897\n",
            "Iteration No: 6 started. Evaluating function at random point.\n",
            "Iteration No: 6 ended. Evaluation done at random point.\n",
            "Time taken: 0.8344\n",
            "Function value obtained: -0.0762\n",
            "Current minimum: -0.0897\n",
            "Iteration No: 7 started. Evaluating function at random point.\n",
            "Iteration No: 7 ended. Evaluation done at random point.\n",
            "Time taken: 172.2483\n",
            "Function value obtained: -0.0823\n",
            "Current minimum: -0.0897\n",
            "Iteration No: 8 started. Evaluating function at random point.\n",
            "Iteration No: 8 ended. Evaluation done at random point.\n",
            "Time taken: 5.3159\n",
            "Function value obtained: -0.0827\n",
            "Current minimum: -0.0897\n",
            "Iteration No: 9 started. Evaluating function at random point.\n",
            "Iteration No: 9 ended. Evaluation done at random point.\n",
            "Time taken: 117.7733\n",
            "Function value obtained: -0.0806\n",
            "Current minimum: -0.0897\n",
            "Iteration No: 10 started. Evaluating function at random point.\n",
            "Iteration No: 10 ended. Evaluation done at random point.\n",
            "Time taken: 0.6869\n",
            "Function value obtained: -0.0689\n",
            "Current minimum: -0.0897\n",
            "Iteration No: 11 started. Evaluating function at random point.\n",
            "Iteration No: 11 ended. Evaluation done at random point.\n",
            "Time taken: 83.7076\n",
            "Function value obtained: -0.0833\n",
            "Current minimum: -0.0897\n",
            "Iteration No: 12 started. Evaluating function at random point.\n",
            "Iteration No: 12 ended. Evaluation done at random point.\n",
            "Time taken: 7.9205\n",
            "Function value obtained: -0.0832\n",
            "Current minimum: -0.0897\n",
            "Iteration No: 13 started. Evaluating function at random point.\n",
            "Iteration No: 13 ended. Evaluation done at random point.\n",
            "Time taken: 1.0038\n",
            "Function value obtained: -0.0760\n",
            "Current minimum: -0.0897\n",
            "Iteration No: 14 started. Evaluating function at random point.\n",
            "Iteration No: 14 ended. Evaluation done at random point.\n",
            "Time taken: 2.2933\n",
            "Function value obtained: -0.0898\n",
            "Current minimum: -0.0898\n",
            "Iteration No: 15 started. Evaluating function at random point.\n",
            "Iteration No: 15 ended. Evaluation done at random point.\n",
            "Time taken: 2.7443\n",
            "Function value obtained: -0.0840\n",
            "Current minimum: -0.0898\n",
            "Iteration No: 16 started. Evaluating function at random point.\n",
            "Iteration No: 16 ended. Evaluation done at random point.\n",
            "Time taken: 4.4151\n",
            "Function value obtained: -0.0841\n",
            "Current minimum: -0.0898\n",
            "Iteration No: 17 started. Evaluating function at random point.\n",
            "Iteration No: 17 ended. Evaluation done at random point.\n",
            "Time taken: 0.6211\n",
            "Function value obtained: -0.0757\n",
            "Current minimum: -0.0898\n",
            "Iteration No: 18 started. Evaluating function at random point.\n",
            "Iteration No: 18 ended. Evaluation done at random point.\n",
            "Time taken: 4.1742\n",
            "Function value obtained: -0.0882\n",
            "Current minimum: -0.0898\n",
            "Iteration No: 19 started. Evaluating function at random point.\n",
            "Iteration No: 19 ended. Evaluation done at random point.\n",
            "Time taken: 1.0213\n",
            "Function value obtained: -0.0775\n",
            "Current minimum: -0.0898\n",
            "Iteration No: 20 started. Evaluating function at random point.\n",
            "Iteration No: 20 ended. Evaluation done at random point.\n",
            "Time taken: 2.1529\n",
            "Function value obtained: -0.0862\n",
            "Current minimum: -0.0898\n",
            "Iteration No: 21 started. Searching for the next optimal point.\n",
            "Iteration No: 21 ended. Search finished for the next optimal point.\n",
            "Time taken: 2.3746\n",
            "Function value obtained: -0.0927\n",
            "Current minimum: -0.0927\n",
            "Iteration No: 22 started. Searching for the next optimal point.\n",
            "Iteration No: 22 ended. Search finished for the next optimal point.\n",
            "Time taken: 2.9217\n",
            "Function value obtained: -0.0838\n",
            "Current minimum: -0.0927\n",
            "Iteration No: 23 started. Searching for the next optimal point.\n",
            "Iteration No: 23 ended. Search finished for the next optimal point.\n",
            "Time taken: 2.2668\n",
            "Function value obtained: -0.0921\n",
            "Current minimum: -0.0927\n",
            "Iteration No: 24 started. Searching for the next optimal point.\n",
            "Iteration No: 24 ended. Search finished for the next optimal point.\n",
            "Time taken: 1.8673\n",
            "Function value obtained: -0.0832\n",
            "Current minimum: -0.0927\n",
            "Iteration No: 25 started. Searching for the next optimal point.\n",
            "Iteration No: 25 ended. Search finished for the next optimal point.\n",
            "Time taken: 2.3392\n",
            "Function value obtained: -0.0940\n",
            "Current minimum: -0.0940\n",
            "Iteration No: 26 started. Searching for the next optimal point.\n",
            "Iteration No: 26 ended. Search finished for the next optimal point.\n",
            "Time taken: 2.3732\n",
            "Function value obtained: -0.0940\n",
            "Current minimum: -0.0940\n",
            "Iteration No: 27 started. Searching for the next optimal point.\n",
            "Iteration No: 27 ended. Search finished for the next optimal point.\n",
            "Time taken: 101.4233\n",
            "Function value obtained: -0.0798\n",
            "Current minimum: -0.0940\n",
            "Iteration No: 28 started. Searching for the next optimal point.\n",
            "Iteration No: 28 ended. Search finished for the next optimal point.\n",
            "Time taken: 3.5981\n",
            "Function value obtained: -0.0867\n",
            "Current minimum: -0.0940\n",
            "Iteration No: 29 started. Searching for the next optimal point.\n",
            "Iteration No: 29 ended. Search finished for the next optimal point.\n",
            "Time taken: 3.8153\n",
            "Function value obtained: -0.0850\n",
            "Current minimum: -0.0940\n",
            "Iteration No: 30 started. Searching for the next optimal point.\n",
            "Iteration No: 30 ended. Search finished for the next optimal point.\n",
            "Time taken: 2.5522\n",
            "Function value obtained: -0.0911\n",
            "Current minimum: -0.0940\n"
          ]
        }
      ]
    },
    {
      "cell_type": "markdown",
      "source": [
        "Por fim, obtemos os **melhores** valores para os parâmetros deste modelo através do método `.x`. Onde cada **índice** (0,1,2..) representa o índice do parâmetro que colocamos na variável `space`.\n",
        "\n",
        "Ou seja, se colocamos o `n_estimators` como **primeiro** parâmetro, o valor ótimo para n_estimators estará no índice 0 (**zero**)."
      ],
      "metadata": {
        "id": "MAcbiVgQ1EgW"
      }
    },
    {
      "cell_type": "code",
      "source": [
        "#guardando os valores ótimos\n",
        "params_rfc = {'n_estimators':res_rfc.x[0],\n",
        "          'min_samples_leaf':res_rfc.x[1]}"
      ],
      "metadata": {
        "id": "aO5PyGVIH0Br"
      },
      "execution_count": null,
      "outputs": []
    },
    {
      "cell_type": "markdown",
      "source": [
        "##Tuning XGBoost\n",
        "\n",
        "Os passos feitos acima para o Random Forest serão os **mesmos** para o XGBoost.\n",
        "\n",
        "O que mudará são os parâmetros, já que cada modelo tem o seu. "
      ],
      "metadata": {
        "id": "7hYjvU1wHwLJ"
      }
    },
    {
      "cell_type": "code",
      "source": [
        "def tune_xgb(params):\n",
        "    lr = params[0]\n",
        "    max_depth = params[1]\n",
        "    subsample = params[2]\n",
        "    colsample_bytree = params[3]\n",
        "    n_estimators = params[4]\n",
        "    \n",
        "    mdl = XGBClassifier(random_state=42,n_estimators=n_estimators,learning_rate=lr,max_depth = max_depth, \n",
        "                        subsample = subsample, colsample_bytree = colsample_bytree)\n",
        "\n",
        "    mdl.fit(x_rus, y_rus)\n",
        "    \n",
        "    p = mdl.predict(x_test)\n",
        "    \n",
        "    return -h_score(np.array(y_test),p)"
      ],
      "metadata": {
        "id": "CR4dtTFaHzkh"
      },
      "execution_count": null,
      "outputs": []
    },
    {
      "cell_type": "markdown",
      "source": [
        "Um fato importante a ressaltar aqui é o `log-uniform` utilizado para demarcar o intervalo do **learning_rate**. Nós utilizamos esta distribuição porque ela favorece os **menores** valores. Uma explicação mais apurada pode ser encontrada [neste link](https://stats.stackexchange.com/questions/291552/why-do-we-sample-from-log-space-when-optimizing-learning-rate-regularization-p/414227)."
      ],
      "metadata": {
        "id": "VdKWLfZgaU7i"
      }
    },
    {
      "cell_type": "code",
      "source": [
        "space = [(1e-3, 1e-1, 'log-uniform'), # lr\n",
        "          (1, 10), # max_depth\n",
        "          (0.05, 1.), # subsample\n",
        "          (0.05, 1.), # colsample_bytree\n",
        "          (100,1000)] # n_estimators\n",
        "\n",
        "res_xgb = gp_minimize(tune_xgb, space, random_state=42, n_random_starts=20, n_calls=30, verbose=True)"
      ],
      "metadata": {
        "id": "tIat1PQGHzmn",
        "colab": {
          "base_uri": "https://localhost:8080/"
        },
        "outputId": "bf75f4f0-da38-4111-8ad0-d9dabfeed346"
      },
      "execution_count": null,
      "outputs": [
        {
          "output_type": "stream",
          "name": "stdout",
          "text": [
            "Iteration No: 1 started. Evaluating function at random point.\n",
            "Iteration No: 1 ended. Evaluation done at random point.\n",
            "Time taken: 15.7063\n",
            "Function value obtained: -0.0806\n",
            "Current minimum: -0.0806\n",
            "Iteration No: 2 started. Evaluating function at random point.\n",
            "Iteration No: 2 ended. Evaluation done at random point.\n",
            "Time taken: 12.9474\n",
            "Function value obtained: -0.0771\n",
            "Current minimum: -0.0806\n",
            "Iteration No: 3 started. Evaluating function at random point.\n",
            "Iteration No: 3 ended. Evaluation done at random point.\n",
            "Time taken: 10.4446\n",
            "Function value obtained: -0.0866\n",
            "Current minimum: -0.0866\n",
            "Iteration No: 4 started. Evaluating function at random point.\n",
            "Iteration No: 4 ended. Evaluation done at random point.\n",
            "Time taken: 6.7840\n",
            "Function value obtained: -0.0598\n",
            "Current minimum: -0.0866\n",
            "Iteration No: 5 started. Evaluating function at random point.\n",
            "Iteration No: 5 ended. Evaluation done at random point.\n",
            "Time taken: 1.5548\n",
            "Function value obtained: -0.0583\n",
            "Current minimum: -0.0866\n",
            "Iteration No: 6 started. Evaluating function at random point.\n",
            "Iteration No: 6 ended. Evaluation done at random point.\n",
            "Time taken: 28.4081\n",
            "Function value obtained: -0.0818\n",
            "Current minimum: -0.0866\n",
            "Iteration No: 7 started. Evaluating function at random point.\n",
            "Iteration No: 7 ended. Evaluation done at random point.\n",
            "Time taken: 41.6234\n",
            "Function value obtained: -0.0589\n",
            "Current minimum: -0.0866\n",
            "Iteration No: 8 started. Evaluating function at random point.\n",
            "Iteration No: 8 ended. Evaluation done at random point.\n",
            "Time taken: 5.5456\n",
            "Function value obtained: -0.0620\n",
            "Current minimum: -0.0866\n",
            "Iteration No: 9 started. Evaluating function at random point.\n",
            "Iteration No: 9 ended. Evaluation done at random point.\n",
            "Time taken: 15.2944\n",
            "Function value obtained: -0.0650\n",
            "Current minimum: -0.0866\n",
            "Iteration No: 10 started. Evaluating function at random point.\n",
            "Iteration No: 10 ended. Evaluation done at random point.\n",
            "Time taken: 6.2179\n",
            "Function value obtained: -0.0702\n",
            "Current minimum: -0.0866\n",
            "Iteration No: 11 started. Evaluating function at random point.\n",
            "Iteration No: 11 ended. Evaluation done at random point.\n",
            "Time taken: 56.0313\n",
            "Function value obtained: -0.0598\n",
            "Current minimum: -0.0866\n",
            "Iteration No: 12 started. Evaluating function at random point.\n",
            "Iteration No: 12 ended. Evaluation done at random point.\n",
            "Time taken: 83.0565\n",
            "Function value obtained: -0.0815\n",
            "Current minimum: -0.0866\n",
            "Iteration No: 13 started. Evaluating function at random point.\n",
            "Iteration No: 13 ended. Evaluation done at random point.\n",
            "Time taken: 61.2026\n",
            "Function value obtained: -0.0690\n",
            "Current minimum: -0.0866\n",
            "Iteration No: 14 started. Evaluating function at random point.\n",
            "Iteration No: 14 ended. Evaluation done at random point.\n",
            "Time taken: 3.8593\n",
            "Function value obtained: -0.0770\n",
            "Current minimum: -0.0866\n",
            "Iteration No: 15 started. Evaluating function at random point.\n",
            "Iteration No: 15 ended. Evaluation done at random point.\n",
            "Time taken: 12.5605\n",
            "Function value obtained: -0.0662\n",
            "Current minimum: -0.0866\n",
            "Iteration No: 16 started. Evaluating function at random point.\n",
            "Iteration No: 16 ended. Evaluation done at random point.\n",
            "Time taken: 60.1705\n",
            "Function value obtained: -0.0727\n",
            "Current minimum: -0.0866\n",
            "Iteration No: 17 started. Evaluating function at random point.\n",
            "Iteration No: 17 ended. Evaluation done at random point.\n",
            "Time taken: 22.7416\n",
            "Function value obtained: -0.0480\n",
            "Current minimum: -0.0866\n",
            "Iteration No: 18 started. Evaluating function at random point.\n",
            "Iteration No: 18 ended. Evaluation done at random point.\n",
            "Time taken: 25.6836\n",
            "Function value obtained: -0.0783\n",
            "Current minimum: -0.0866\n",
            "Iteration No: 19 started. Evaluating function at random point.\n",
            "Iteration No: 19 ended. Evaluation done at random point.\n",
            "Time taken: 15.9784\n",
            "Function value obtained: -0.0542\n",
            "Current minimum: -0.0866\n",
            "Iteration No: 20 started. Evaluating function at random point.\n",
            "Iteration No: 20 ended. Evaluation done at random point.\n",
            "Time taken: 15.8863\n",
            "Function value obtained: -0.0666\n",
            "Current minimum: -0.0866\n",
            "Iteration No: 21 started. Searching for the next optimal point.\n",
            "Iteration No: 21 ended. Search finished for the next optimal point.\n",
            "Time taken: 130.9686\n",
            "Function value obtained: -0.0700\n",
            "Current minimum: -0.0866\n",
            "Iteration No: 22 started. Searching for the next optimal point.\n",
            "Iteration No: 22 ended. Search finished for the next optimal point.\n",
            "Time taken: 16.5694\n",
            "Function value obtained: -0.0659\n",
            "Current minimum: -0.0866\n",
            "Iteration No: 23 started. Searching for the next optimal point.\n",
            "Iteration No: 23 ended. Search finished for the next optimal point.\n",
            "Time taken: 8.5011\n",
            "Function value obtained: -0.0828\n",
            "Current minimum: -0.0866\n",
            "Iteration No: 24 started. Searching for the next optimal point.\n",
            "Iteration No: 24 ended. Search finished for the next optimal point.\n",
            "Time taken: 8.1650\n",
            "Function value obtained: -0.0731\n",
            "Current minimum: -0.0866\n",
            "Iteration No: 25 started. Searching for the next optimal point.\n",
            "Iteration No: 25 ended. Search finished for the next optimal point.\n",
            "Time taken: 60.7179\n",
            "Function value obtained: -0.0758\n",
            "Current minimum: -0.0866\n",
            "Iteration No: 26 started. Searching for the next optimal point.\n",
            "Iteration No: 26 ended. Search finished for the next optimal point.\n",
            "Time taken: 59.3991\n",
            "Function value obtained: -0.0631\n",
            "Current minimum: -0.0866\n",
            "Iteration No: 27 started. Searching for the next optimal point.\n",
            "Iteration No: 27 ended. Search finished for the next optimal point.\n",
            "Time taken: 22.7378\n",
            "Function value obtained: -0.0813\n",
            "Current minimum: -0.0866\n",
            "Iteration No: 28 started. Searching for the next optimal point.\n",
            "Iteration No: 28 ended. Search finished for the next optimal point.\n",
            "Time taken: 44.7878\n",
            "Function value obtained: -0.0791\n",
            "Current minimum: -0.0866\n",
            "Iteration No: 29 started. Searching for the next optimal point.\n",
            "Iteration No: 29 ended. Search finished for the next optimal point.\n",
            "Time taken: 10.7572\n",
            "Function value obtained: -0.0814\n",
            "Current minimum: -0.0866\n",
            "Iteration No: 30 started. Searching for the next optimal point.\n",
            "Iteration No: 30 ended. Search finished for the next optimal point.\n",
            "Time taken: 11.4933\n",
            "Function value obtained: -0.0887\n",
            "Current minimum: -0.0887\n"
          ]
        }
      ]
    },
    {
      "cell_type": "code",
      "source": [
        "#guardando os valores ótimos\n",
        "params_xgb = {'learning_rate':res_xgb.x[0],\n",
        "          'max_depth':res_xgb.x[1],\n",
        "          'subsample':res_xgb.x[2],\n",
        "          'colsample_bytree':res_xgb.x[3],\n",
        "          'n_estimators':res_xgb.x[4]}"
      ],
      "metadata": {
        "id": "UidDl0nutTH6"
      },
      "execution_count": null,
      "outputs": []
    },
    {
      "cell_type": "markdown",
      "source": [
        "##Tuning LGBM Classifier"
      ],
      "metadata": {
        "id": "JG8VNvOKHx23"
      }
    },
    {
      "cell_type": "code",
      "source": [
        "def tune_lgbm(params):\n",
        "    lr = params[0]\n",
        "    max_depth = params[1]\n",
        "    min_child_samples = params[2]\n",
        "    subsample = params[3]\n",
        "    colsample_bytree = params[4]\n",
        "    n_estimators = params[5]\n",
        "    \n",
        "    mdl = LGBMClassifier(learning_rate=lr, num_leaves=2 ** max_depth, max_depth=max_depth, \n",
        "                         min_child_samples=min_child_samples, subsample=subsample,\n",
        "                         colsample_bytree=colsample_bytree, bagging_freq=1,n_estimators=n_estimators, random_state=42,n_jobs=6)\n",
        "    mdl.fit(x_rus, y_rus)\n",
        "    \n",
        "    p = mdl.predict(x_test)\n",
        "    \n",
        "    return -h_score(np.array(y_test),p)"
      ],
      "metadata": {
        "id": "_mRqXVcXCykS"
      },
      "execution_count": null,
      "outputs": []
    },
    {
      "cell_type": "code",
      "source": [
        "space = [(1e-3, 1e-1, 'log-uniform'), # lr\n",
        "          (1, 10), # max_depth\n",
        "          (1, 20), # min_child_samples\n",
        "          (0.05, 1.), # subsample\n",
        "          (0.05, 1.), # colsample_bytree\n",
        "          (100,1000)] # n_estimators\n",
        "\n",
        "res_lgbm = gp_minimize(tune_lgbm, space, random_state=42, n_random_starts=20, n_calls=30, verbose=True)"
      ],
      "metadata": {
        "colab": {
          "base_uri": "https://localhost:8080/"
        },
        "id": "al7Dz_7QCkps",
        "outputId": "d860f324-0e99-48e2-d7dc-af19f79b12b0"
      },
      "execution_count": null,
      "outputs": [
        {
          "output_type": "stream",
          "name": "stdout",
          "text": [
            "Iteration No: 1 started. Evaluating function at random point.\n",
            "Iteration No: 1 ended. Evaluation done at random point.\n",
            "Time taken: 0.5952\n",
            "Function value obtained: -0.0769\n",
            "Current minimum: -0.0769\n",
            "Iteration No: 2 started. Evaluating function at random point.\n",
            "Iteration No: 2 ended. Evaluation done at random point.\n",
            "Time taken: 2.8559\n",
            "Function value obtained: -0.0817\n",
            "Current minimum: -0.0817\n",
            "Iteration No: 3 started. Evaluating function at random point.\n",
            "Iteration No: 3 ended. Evaluation done at random point.\n",
            "Time taken: 0.2704\n",
            "Function value obtained: -0.0667\n",
            "Current minimum: -0.0817\n",
            "Iteration No: 4 started. Evaluating function at random point.\n",
            "Iteration No: 4 ended. Evaluation done at random point.\n",
            "Time taken: 2.3339\n",
            "Function value obtained: -0.0683\n",
            "Current minimum: -0.0817\n",
            "Iteration No: 5 started. Evaluating function at random point.\n",
            "Iteration No: 5 ended. Evaluation done at random point.\n",
            "Time taken: 13.0861\n",
            "Function value obtained: -0.0772\n",
            "Current minimum: -0.0817\n",
            "Iteration No: 6 started. Evaluating function at random point.\n",
            "Iteration No: 6 ended. Evaluation done at random point.\n",
            "Time taken: 7.1337\n",
            "Function value obtained: -0.0777\n",
            "Current minimum: -0.0817\n",
            "Iteration No: 7 started. Evaluating function at random point.\n",
            "Iteration No: 7 ended. Evaluation done at random point.\n",
            "Time taken: 2.8495\n",
            "Function value obtained: -0.0632\n",
            "Current minimum: -0.0817\n",
            "Iteration No: 8 started. Evaluating function at random point.\n",
            "Iteration No: 8 ended. Evaluation done at random point.\n",
            "Time taken: 2.2413\n",
            "Function value obtained: -0.0704\n",
            "Current minimum: -0.0817\n",
            "Iteration No: 9 started. Evaluating function at random point.\n",
            "Iteration No: 9 ended. Evaluation done at random point.\n",
            "Time taken: 1.9130\n",
            "Function value obtained: -0.0740\n",
            "Current minimum: -0.0817\n",
            "Iteration No: 10 started. Evaluating function at random point.\n",
            "Iteration No: 10 ended. Evaluation done at random point.\n",
            "Time taken: 3.8365\n",
            "Function value obtained: -0.0732\n",
            "Current minimum: -0.0817\n",
            "Iteration No: 11 started. Evaluating function at random point.\n",
            "Iteration No: 11 ended. Evaluation done at random point.\n",
            "Time taken: 3.0193\n",
            "Function value obtained: -0.0786\n",
            "Current minimum: -0.0817\n",
            "Iteration No: 12 started. Evaluating function at random point.\n",
            "Iteration No: 12 ended. Evaluation done at random point.\n",
            "Time taken: 1.5137\n",
            "Function value obtained: -0.0629\n",
            "Current minimum: -0.0817\n",
            "Iteration No: 13 started. Evaluating function at random point.\n",
            "Iteration No: 13 ended. Evaluation done at random point.\n",
            "Time taken: 2.9282\n",
            "Function value obtained: -0.0659\n",
            "Current minimum: -0.0817\n",
            "Iteration No: 14 started. Evaluating function at random point.\n",
            "Iteration No: 14 ended. Evaluation done at random point.\n",
            "Time taken: 4.9318\n",
            "Function value obtained: -0.0785\n",
            "Current minimum: -0.0817\n",
            "Iteration No: 15 started. Evaluating function at random point.\n",
            "Iteration No: 15 ended. Evaluation done at random point.\n",
            "Time taken: 4.3370\n",
            "Function value obtained: -0.0710\n",
            "Current minimum: -0.0817\n",
            "Iteration No: 16 started. Evaluating function at random point.\n",
            "Iteration No: 16 ended. Evaluation done at random point.\n",
            "Time taken: 1.5562\n",
            "Function value obtained: -0.0503\n",
            "Current minimum: -0.0817\n",
            "Iteration No: 17 started. Evaluating function at random point.\n",
            "Iteration No: 17 ended. Evaluation done at random point.\n",
            "Time taken: 1.3011\n",
            "Function value obtained: -0.0871\n",
            "Current minimum: -0.0871\n",
            "Iteration No: 18 started. Evaluating function at random point.\n",
            "Iteration No: 18 ended. Evaluation done at random point.\n",
            "Time taken: 4.4444\n",
            "Function value obtained: -0.0793\n",
            "Current minimum: -0.0871\n",
            "Iteration No: 19 started. Evaluating function at random point.\n",
            "Iteration No: 19 ended. Evaluation done at random point.\n",
            "Time taken: 2.8607\n",
            "Function value obtained: -0.0640\n",
            "Current minimum: -0.0871\n",
            "Iteration No: 20 started. Evaluating function at random point.\n",
            "Iteration No: 20 ended. Evaluation done at random point.\n",
            "Time taken: 3.8706\n",
            "Function value obtained: -0.0713\n",
            "Current minimum: -0.0871\n",
            "Iteration No: 21 started. Searching for the next optimal point.\n",
            "Iteration No: 21 ended. Search finished for the next optimal point.\n",
            "Time taken: 8.6964\n",
            "Function value obtained: -0.0673\n",
            "Current minimum: -0.0871\n",
            "Iteration No: 22 started. Searching for the next optimal point.\n",
            "Iteration No: 22 ended. Search finished for the next optimal point.\n",
            "Time taken: 4.0046\n",
            "Function value obtained: -0.0662\n",
            "Current minimum: -0.0871\n",
            "Iteration No: 23 started. Searching for the next optimal point.\n",
            "Iteration No: 23 ended. Search finished for the next optimal point.\n",
            "Time taken: 1.0379\n",
            "Function value obtained: -0.0656\n",
            "Current minimum: -0.0871\n",
            "Iteration No: 24 started. Searching for the next optimal point.\n",
            "Iteration No: 24 ended. Search finished for the next optimal point.\n",
            "Time taken: 1.6947\n",
            "Function value obtained: -0.0746\n",
            "Current minimum: -0.0871\n",
            "Iteration No: 25 started. Searching for the next optimal point.\n",
            "Iteration No: 25 ended. Search finished for the next optimal point.\n",
            "Time taken: 1.9603\n",
            "Function value obtained: -0.0745\n",
            "Current minimum: -0.0871\n",
            "Iteration No: 26 started. Searching for the next optimal point.\n",
            "Iteration No: 26 ended. Search finished for the next optimal point.\n",
            "Time taken: 8.1258\n",
            "Function value obtained: -0.0758\n",
            "Current minimum: -0.0871\n",
            "Iteration No: 27 started. Searching for the next optimal point.\n",
            "Iteration No: 27 ended. Search finished for the next optimal point.\n",
            "Time taken: 0.8792\n",
            "Function value obtained: -0.0713\n",
            "Current minimum: -0.0871\n",
            "Iteration No: 28 started. Searching for the next optimal point.\n",
            "Iteration No: 28 ended. Search finished for the next optimal point.\n",
            "Time taken: 1.2772\n",
            "Function value obtained: -0.0809\n",
            "Current minimum: -0.0871\n",
            "Iteration No: 29 started. Searching for the next optimal point.\n",
            "Iteration No: 29 ended. Search finished for the next optimal point.\n",
            "Time taken: 1.0558\n",
            "Function value obtained: -0.0772\n",
            "Current minimum: -0.0871\n",
            "Iteration No: 30 started. Searching for the next optimal point.\n",
            "Iteration No: 30 ended. Search finished for the next optimal point.\n",
            "Time taken: 1.5343\n",
            "Function value obtained: -0.0632\n",
            "Current minimum: -0.0871\n"
          ]
        }
      ]
    },
    {
      "cell_type": "code",
      "source": [
        "#guardando os valores ótimos\n",
        "params_lgbm = {'learning_rate':res_lgbm.x[0],\n",
        "          'max_depth':res_lgbm.x[1],\n",
        "          'min_child_samples':res_lgbm.x[2],\n",
        "          'subsample':res_lgbm.x[3],\n",
        "          'colsample_bytree':res_lgbm.x[4],\n",
        "          'n_estimators':res_lgbm.x[5]}"
      ],
      "metadata": {
        "id": "ueHsIvmhI5mg"
      },
      "execution_count": null,
      "outputs": []
    },
    {
      "cell_type": "markdown",
      "source": [
        "# Avaliando os modelos\n",
        "\n",
        "Após o tuning, chegou a hora de **comparar** a matriz de confusão dos três modelos. \n",
        "É importante ressaltar que não houve o tuning pela variável *recall* por **dois** motivos:\n",
        "* Se basear em **apenas** uma métrica é um erro. Além disso, utilizá-la para o tuning e posterior avaliação pode gerar grandes inconsistências.\n",
        "* O Recall representa uma taxa de detecção. Valores próximos a 100% nesta métrica podem representar um **mal** modelo, uma vez que o algoritmo pode ter feito uma **generalização** equivocada. No nosso caso, ele chamaria muitos clientes que pagam em dia de **inadimplentes** e isso seria danoso para a organização, já que ela poderia perder muito **dinheiro** não emprestando para clientes que pagam em dia!"
      ],
      "metadata": {
        "id": "E8OD-RAbcpbS"
      }
    },
    {
      "cell_type": "code",
      "source": [
        "#instanciando os modelos\n",
        "rfc_clf = RandomForestClassifier(random_state=42,**params_rfc)\n",
        "xgb_clf = XGBClassifier(random_state=42,**params_xgb)\n",
        "lgbm_clf = LGBMClassifier(learning_rate=res_lgbm.x[0], num_leaves=2 ** res_lgbm.x[1], max_depth=res_lgbm.x[1], \n",
        "                         min_child_samples=res_lgbm.x[2], subsample=res_lgbm.x[3],\n",
        "                         colsample_bytree=res_lgbm.x[4], bagging_freq=1,n_estimators=res_lgbm.x[5], random_state=42,n_jobs=6)\n",
        "\n",
        "#prevendo com os dados balanceados\n",
        "rfc_clf.fit(x_rus,y_rus)\n",
        "xgb_clf.fit(x_rus,y_rus)\n",
        "lgbm_clf.fit(x_rus,y_rus)\n",
        "\n",
        "#fazendo as previsoes\n",
        "y_pred_rfc = rfc_clf.predict(x_test)\n",
        "y_pred_xgb = xgb_clf.predict(x_test)\n",
        "y_pred_lgbm = lgbm_clf.predict(x_test)"
      ],
      "metadata": {
        "id": "DUAE97FICkuR"
      },
      "execution_count": null,
      "outputs": []
    },
    {
      "cell_type": "code",
      "source": [
        "#criando a matriz de confusão\n",
        "cm_rfc = confusion_matrix(y_test,y_pred_rfc,normalize='true')\n",
        "cm_xgb = confusion_matrix(y_test,y_pred_xgb,normalize='true')\n",
        "cm_lgbm = confusion_matrix(y_test,y_pred_lgbm,normalize='true')\n",
        "\n",
        "#criando o figure e o ax no maptlotlib\n",
        "fig, ax = plt.subplots(figsize=(12,12),ncols=3)\n",
        "\n",
        "#plotando a matriz de confusão do Random Forest Classifier\n",
        "ConfusionMatrixDisplay(confusion_matrix=cm_rfc).plot(ax=ax[0],colorbar=False,cmap='Blues')\n",
        "ajuste_layout(ax=ax[0],titulo='Random Forest Classifier',\n",
        "              xlabel='Previsão',ylabel='Real',\n",
        "              xlabels=True,lista_para_o_x=['em dia','inadimplente'],\n",
        "              ylabels=True,lista_para_o_y=['em dia','inadimplente'])\n",
        "\n",
        "#plotando a matriz de confusão do LGBM Classifier\n",
        "ConfusionMatrixDisplay(confusion_matrix=cm_xgb).plot(ax=ax[1],colorbar=False,cmap='Greys')\n",
        "ajuste_layout(ax=ax[1],titulo='XGBoost Classifier',\n",
        "              xlabel='Previsão',ylabel='Real',\n",
        "              xlabels=True,lista_para_o_x=['em dia','inadimplente'],\n",
        "              ylabels=True,lista_para_o_y=['em dia','inadimplente'])\n",
        "\n",
        "#plotando a matriz de confusão do LGBM Classifier\n",
        "ConfusionMatrixDisplay(confusion_matrix=cm_lgbm).plot(ax=ax[2],colorbar=False,cmap='Greens')\n",
        "ajuste_layout(ax=ax[2],titulo='LGBM Classifier',\n",
        "              xlabel='Previsão',ylabel='Real',\n",
        "              xlabels=True,lista_para_o_x=['em dia','inadimplente'],\n",
        "              ylabels=True,lista_para_o_y=['em dia','inadimplente'])\n",
        "\n",
        "#plotando os gráficos\n",
        "plt.tight_layout(pad=2.0);"
      ],
      "metadata": {
        "colab": {
          "base_uri": "https://localhost:8080/",
          "height": 303
        },
        "id": "OR76i349Ckwc",
        "outputId": "0d5573f6-c5ae-47c8-ae4a-0ebd1b3bc522"
      },
      "execution_count": null,
      "outputs": [
        {
          "output_type": "display_data",
          "data": {
            "image/png": "[encoded data removed]",
            "text/plain": [
              "<Figure size 864x864 with 3 Axes>"
            ]
          },
          "metadata": {
            "needs_background": "light"
          }
        }
      ]
    },
    {
      "cell_type": "markdown",
      "source": [
        "Bom, as três matrizes de confusão parecem muito **semelhantes**. No entanto, a *Random Forest* tem melhores métricas para os valores dos clientes que estão em dia. Portanto, seria este modelo que escolheríamos para a verificar a eficácia em produção!"
      ],
      "metadata": {
        "id": "xhq9V5MVCbSZ"
      }
    },
    {
      "cell_type": "markdown",
      "source": [
        "#Considerações finais\n",
        "\n",
        "* Este dataset contém muitos valores **ausentes**. Além disso, alguns outliers estão presentes nos dados de **interesse** - clientes inadimplentes. Neste tipo de situação devemos buscar a área de **negócios** para entender se estas informações são **anomalias** ou fazem parte do processo.\n",
        "* Trabalhar com variáveis **categóricas** sempre exige muito cuidado. É importante verificar se há uma hierarquia entre as categorias.\n",
        "* Em uma situação de **competição** ou trabalho valeria a pena **variar** os parâmetros de **otimização** e rodar algumas vezes o algoritmo para ir **afinando** o melhor **intervalo** possível.\n",
        "* Outra maneira de melhorar nosso modelo é encontrando o real significado de algumas variáveis que estão codificadas e provavelmente são importantes para este tipo de problema, como a `reason` e a `job_name`.\n",
        "* Geralmente o que traz mais **resultados** para o modelo é o *feature engineering*, então caso fosse necessário ter **melhores** modelos deveriam ser feitos outros experimentos iterativos com **novas** variáveis ou exclusão de algumas.\n",
        "* O modelo que teve melhor **recall** foi o Random Forest."
      ],
      "metadata": {
        "id": "hytAkgX6jBFt"
      }
    }
  ]
}